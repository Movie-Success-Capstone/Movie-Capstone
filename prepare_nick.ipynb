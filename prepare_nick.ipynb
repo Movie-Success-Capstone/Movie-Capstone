{
 "cells": [
  {
   "cell_type": "code",
   "execution_count": 16,
   "id": "75d25a45-d7c2-4684-9fbb-9cfb246ee577",
   "metadata": {},
   "outputs": [],
   "source": [
    "import pandas as pd\n",
    "import os\n",
    "import acquire_nick as get\n",
    "import prepare_nick as prep"
   ]
  },
  {
   "cell_type": "code",
   "execution_count": 69,
   "id": "38a7aea3-125e-4755-9f61-bef1a387fca9",
   "metadata": {},
   "outputs": [
    {
     "name": "stdout",
     "output_type": "stream",
     "text": [
      "Using cached CSV\n"
     ]
    }
   ],
   "source": [
    "df = get.acquire_data()"
   ]
  },
  {
   "cell_type": "code",
   "execution_count": 4,
   "id": "1b777b65-9890-4340-abcf-c88d9831d348",
   "metadata": {},
   "outputs": [
    {
     "data": {
      "text/plain": [
       "Unnamed: 0                int64\n",
       "cast                     object\n",
       "crew                     object\n",
       "id                        int64\n",
       "title                    object\n",
       "genres                   object\n",
       "budget                    int64\n",
       "overview                 object\n",
       "popularity              float64\n",
       "production_companies     object\n",
       "production_countries     object\n",
       "revenue                 float64\n",
       "runtime                 float64\n",
       "vote_average            float64\n",
       "vote_count              float64\n",
       "keywords                 object\n",
       "release_date             object\n",
       "dtype: object"
      ]
     },
     "execution_count": 4,
     "metadata": {},
     "output_type": "execute_result"
    }
   ],
   "source": [
    "df.dtypes"
   ]
  },
  {
   "cell_type": "code",
   "execution_count": 70,
   "id": "91fd5f0a-9339-40fc-9770-c56e03d62caa",
   "metadata": {},
   "outputs": [],
   "source": [
    "# Deleted columns Unnamed: 0\n",
    "df = df.drop(['Unnamed: 0'], axis=1)\n"
   ]
  },
  {
   "cell_type": "code",
   "execution_count": 14,
   "id": "f9d7bba4-4c83-4f44-a49e-a5c257b83512",
   "metadata": {},
   "outputs": [
    {
     "data": {
      "text/html": [
       "<div><div id=912fa75e-91d1-4c75-9d3b-e020868d58ed style=\"display:none; background-color:#9D6CFF; color:white; width:200px; height:30px; padding-left:5px; border-radius:4px; flex-direction:row; justify-content:space-around; align-items:center;\" onmouseover=\"this.style.backgroundColor='#BA9BF8'\" onmouseout=\"this.style.backgroundColor='#9D6CFF'\" onclick=\"window.commands?.execute('create-mitosheet-from-dataframe-output');\">See Full Dataframe in Mito</div> <script> if (window.commands?.hasCommand('create-mitosheet-from-dataframe-output')) document.getElementById('912fa75e-91d1-4c75-9d3b-e020868d58ed').style.display = 'flex' </script> <table border=\"1\" class=\"dataframe\">\n",
       "  <thead>\n",
       "    <tr style=\"text-align: right;\">\n",
       "      <th></th>\n",
       "      <th>cast</th>\n",
       "      <th>crew</th>\n",
       "      <th>id</th>\n",
       "      <th>title</th>\n",
       "      <th>genres</th>\n",
       "      <th>budget</th>\n",
       "      <th>overview</th>\n",
       "      <th>popularity</th>\n",
       "      <th>production_companies</th>\n",
       "      <th>production_countries</th>\n",
       "      <th>revenue</th>\n",
       "      <th>runtime</th>\n",
       "      <th>vote_average</th>\n",
       "      <th>vote_count</th>\n",
       "      <th>keywords</th>\n",
       "      <th>release_date</th>\n",
       "    </tr>\n",
       "  </thead>\n",
       "  <tbody>\n",
       "    <tr>\n",
       "      <th>0</th>\n",
       "      <td>TomHanks TimAllen DonRickles JimVarney WallaceShawn JohnRatzenberger AnniePotts JohnMorris ErikvonDetten LaurieMetcalf R.LeeErmey SarahFreeman PennJillette</td>\n",
       "      <td>JohnLasseter JossWhedon AndrewStanton JoelCohen AlecSokolow BonnieArnold EdCatmull RalphGuggenheim SteveJobs LeeUnkrich RalphEggleston RobertGordon MaryHelenLeasman KimBlanchette MarilynMcCoppen RandyNewman DaleE.Grahn RobinCooper JohnLasseter PeteDocter JoeRanft PatsyBouge NormDeCarlo AshBrannon RandyNewman RomanFigun DonDavis JamesFlamberg MaryBethSmith RickMackay SusanBradley WilliamReeves RandyNewman AndrewStanton PeteDocter GaryRydstrom KarenRobertJackson ChrisMontan RichQuade MichaelBerenstein ColinBrady DaveyCrockettFeiten AngieGlocka RexGrignon TomK.Gurney JimmyHayward HalT.Hickel KarenKiser AnthonyB.LaMolinara GuionneLeroy BudLuckey LesMajor GlennMcQueen MarkOftedal JeffPidgeon JeffPratt SteveRabatich RogerRose SteveSegal DougSheppeck AlanSperling DougSweetland DavidTart KenWillard ThomasPorter MarkThomasHenne OrenJacob DarwynPeachey MitchPrater BrianM.Rosen SharonCalahan GalynSusman WilliamCone ShelleyDanielsLekven BobPauley BudLuckey AndrewStanton WilliamCone SteveJohnson DanHaskett TomHolloway JeanGillmore DesiréeMourad KellyO'Connell SonokoKonishi AnnM.Rockwell JulieM.McDonald RobinLee TomFreeman AdaCochavi DanaMulligan DeirdreMorrison LoriLombardo EllenDevine LaurenBethStrogoff GaryRydstrom GarySummers TimHolland PatJackson TomMyers J.R.Grubbs SusanSanford SusanPopovic DanEngstrom RuthLambert MickieMcGowan</td>\n",
       "      <td>862</td>\n",
       "      <td>Toy Story</td>\n",
       "      <td>Animation Comedy Family</td>\n",
       "      <td>30000000</td>\n",
       "      <td>Led by Woody, Andy's toys live happily in his room until Andy's birthday brings Buzz Lightyear onto the scene. Afraid of losing his place in Andy's heart, Woody plots against Buzz. But when circumstances separate Buzz and Woody from their owner, the duo eventually learns to put aside their differences.</td>\n",
       "      <td>21.946943</td>\n",
       "      <td>PixarAnimationStudios</td>\n",
       "      <td>UnitedStatesofAmerica</td>\n",
       "      <td>373554033.0</td>\n",
       "      <td>81.0</td>\n",
       "      <td>7.7</td>\n",
       "      <td>5415.0</td>\n",
       "      <td>jealousy toy boy friendship friends rivalry boy next door new toy toy comes to life</td>\n",
       "      <td>1995-10-30</td>\n",
       "    </tr>\n",
       "  </tbody>\n",
       "</table></div>"
      ],
      "text/plain": [
       "                                                cast  \\\n",
       "0  TomHanks TimAllen DonRickles JimVarney Wallace...   \n",
       "\n",
       "                                                crew   id      title  \\\n",
       "0  JohnLasseter JossWhedon AndrewStanton JoelCohe...  862  Toy Story   \n",
       "\n",
       "                    genres    budget  \\\n",
       "0  Animation Comedy Family  30000000   \n",
       "\n",
       "                                            overview  popularity  \\\n",
       "0  Led by Woody, Andy's toys live happily in his ...   21.946943   \n",
       "\n",
       "    production_companies   production_countries      revenue  runtime  \\\n",
       "0  PixarAnimationStudios  UnitedStatesofAmerica  373554033.0     81.0   \n",
       "\n",
       "   vote_average  vote_count  \\\n",
       "0           7.7      5415.0   \n",
       "\n",
       "                                            keywords release_date  \n",
       "0  jealousy toy boy friendship friends rivalry bo...   1995-10-30  "
      ]
     },
     "execution_count": 14,
     "metadata": {},
     "output_type": "execute_result"
    }
   ],
   "source": [
    "df.head(1)"
   ]
  },
  {
   "cell_type": "markdown",
   "id": "6e7b3958-270e-47bf-9b21-67a77ffbe9b6",
   "metadata": {},
   "source": [
    "Plans:\n",
    "Extract the number of names inside of crew and create a column that contains a count of names that appear. Consider the same for cast.     \n",
    "\n",
    "Scaling will be needed for the differences in scope among votes, popularity, budget, revenue, et cetera.\n",
    "\n",
    "I'm curious as to whether or not number of keywords, or the types of keywords themselves will have a signifcant influence on the predictability of scores or budget. Presumably the film studio will have that effect, and the production company may also. \n",
    "\n",
    "ID should probably be cast as a category, or at the very least a generic string, since there is no rank or meaning of the order per id. \n",
    "\n",
    "Release date could be converted to a pandas date-time format for the sake of time-series analysis. Otherwise, it seems much of what we will be doing going forward can be framed under many different methodologies. "
   ]
  },
  {
   "cell_type": "code",
   "execution_count": 17,
   "id": "2d0f6eae-cecb-4957-864b-add6aa55317e",
   "metadata": {},
   "outputs": [
    {
     "name": "stdout",
     "output_type": "stream",
     "text": [
      "This dataframe has 7457 rows and 16 columns.\n",
      "\n",
      "--------------------------------------\n",
      "--------------------------------------\n",
      "<class 'pandas.core.frame.DataFrame'>\n",
      "RangeIndex: 7457 entries, 0 to 7456\n",
      "Data columns (total 16 columns):\n",
      " #   Column                Non-Null Count  Dtype  \n",
      "---  ------                --------------  -----  \n",
      " 0   cast                  7423 non-null   object \n",
      " 1   crew                  7444 non-null   object \n",
      " 2   id                    7457 non-null   int64  \n",
      " 3   title                 7457 non-null   object \n",
      " 4   genres                7434 non-null   object \n",
      " 5   budget                7457 non-null   int64  \n",
      " 6   overview              7435 non-null   object \n",
      " 7   popularity            7457 non-null   float64\n",
      " 8   production_companies  7039 non-null   object \n",
      " 9   production_countries  7301 non-null   object \n",
      " 10  revenue               7457 non-null   float64\n",
      " 11  runtime               7451 non-null   float64\n",
      " 12  vote_average          7457 non-null   float64\n",
      " 13  vote_count            7457 non-null   float64\n",
      " 14  keywords              6774 non-null   object \n",
      " 15  release_date          7456 non-null   object \n",
      "dtypes: float64(5), int64(2), object(9)\n",
      "memory usage: 932.2+ KB\n",
      "None\n",
      "\n",
      "--------------------------------------\n",
      "--------------------------------------\n",
      "Here are the summary statistics of our dataset\n",
      "               id         budget popularity         revenue   runtime  \\\n",
      "count    7457.000       7457.000   7457.000        7457.000  7451.000   \n",
      "mean    68737.287   22551991.388      8.492    68760584.645   107.790   \n",
      "std    100784.924   36925493.864     12.134   146560970.955    21.491   \n",
      "min         5.000          0.000      0.000           1.000     0.000   \n",
      "25%      9631.000          0.000      3.903     2395231.000    94.000   \n",
      "50%     19877.000    7500000.000      7.413    16680836.000   104.000   \n",
      "75%     73686.000   28000000.000     10.901    67000000.000   118.000   \n",
      "max    443319.000  380000000.000    547.488  2787965087.000   338.000   \n",
      "\n",
      "      vote_average vote_count  \n",
      "count     7457.000   7457.000  \n",
      "mean         6.216    558.732  \n",
      "std          1.029   1104.859  \n",
      "min          0.000      0.000  \n",
      "25%          5.700     40.000  \n",
      "50%          6.300    159.000  \n",
      "75%          6.900    542.000  \n",
      "max         10.000  14075.000  \n",
      "\n",
      "--------------------------------------\n",
      "--------------------------------------\n",
      "Null Values by Column: \n",
      "                      count  percentage\n",
      "keywords                683        9.16\n",
      "production_companies    418        5.61\n",
      "production_countries    156        2.09\n",
      "cast                     34        0.46\n",
      "genres                   23        0.31\n",
      "overview                 22        0.30\n",
      "crew                     13        0.17\n",
      "runtime                   6        0.08\n",
      "release_date              1        0.01\n",
      "id                        0        0.00\n",
      "title                     0        0.00\n",
      "budget                    0        0.00\n",
      "popularity                0        0.00\n",
      "revenue                   0        0.00\n",
      "vote_average              0        0.00\n",
      "vote_count                0        0.00\n",
      " \n",
      " Total Number of Missing Values: 1356 \n",
      "\n",
      " Proportion of Nulls in Dataframe: 0.0114\n",
      "\n",
      "--------------------------------------\n",
      "--------------------------------------\n",
      "Row-by-Row Nulls\n",
      "                 percent_cols_missing  num_rows\n",
      "num_cols_missing                               \n",
      "1                                6.25       684\n",
      "6                                37.5         4\n",
      "5                               31.25         3\n",
      "4                                25.0        16\n",
      "3                               18.75        73\n",
      "2                                12.5       175\n",
      "0                                 0.0      6502\n",
      "----------------------\n",
      "Relative Frequencies: \n",
      "\n",
      "Column: cast \n",
      "\n"
     ]
    },
    {
     "ename": "TypeError",
     "evalue": "'<=' not supported between instances of 'str' and 'float'",
     "output_type": "error",
     "traceback": [
      "\u001b[0;31m---------------------------------------------------------------------------\u001b[0m",
      "\u001b[0;31mTypeError\u001b[0m                                 Traceback (most recent call last)",
      "\u001b[0;32m/var/folders/qn/sd1_3x2j4196db03067vql600000gn/T/ipykernel_9077/3584388502.py\u001b[0m in \u001b[0;36m<module>\u001b[0;34m\u001b[0m\n\u001b[0;32m----> 1\u001b[0;31m \u001b[0mprep\u001b[0m\u001b[0;34m.\u001b[0m\u001b[0mdescribe_data\u001b[0m\u001b[0;34m(\u001b[0m\u001b[0mdf\u001b[0m\u001b[0;34m)\u001b[0m\u001b[0;34m\u001b[0m\u001b[0;34m\u001b[0m\u001b[0m\n\u001b[0m",
      "\u001b[0;32m~/codeup-data-science/Movie-Capstone/prepare_nick.py\u001b[0m in \u001b[0;36mdescribe_data\u001b[0;34m(df)\u001b[0m\n\u001b[1;32m     95\u001b[0m         \u001b[0;32melse\u001b[0m\u001b[0;34m:\u001b[0m\u001b[0;34m\u001b[0m\u001b[0;34m\u001b[0m\u001b[0m\n\u001b[1;32m     96\u001b[0m             \u001b[0mprint\u001b[0m\u001b[0;34m(\u001b[0m\u001b[0;34mf'Column: {col} \\n'\u001b[0m\u001b[0;34m)\u001b[0m\u001b[0;34m\u001b[0m\u001b[0;34m\u001b[0m\u001b[0m\n\u001b[0;32m---> 97\u001b[0;31m             \u001b[0mprint\u001b[0m\u001b[0;34m(\u001b[0m\u001b[0;34mf'Range of Values: [{df[col].min()} - {df[col].max()}] \\n'\u001b[0m\u001b[0;34m)\u001b[0m\u001b[0;34m\u001b[0m\u001b[0;34m\u001b[0m\u001b[0m\n\u001b[0m\u001b[1;32m     98\u001b[0m         \u001b[0mprint\u001b[0m\u001b[0;34m(\u001b[0m\u001b[0;34m'------------------------------------------'\u001b[0m\u001b[0;34m)\u001b[0m\u001b[0;34m\u001b[0m\u001b[0;34m\u001b[0m\u001b[0m\n\u001b[1;32m     99\u001b[0m         \u001b[0mprint\u001b[0m\u001b[0;34m(\u001b[0m\u001b[0;34m'--------------------------------------'\u001b[0m\u001b[0;34m)\u001b[0m\u001b[0;34m\u001b[0m\u001b[0;34m\u001b[0m\u001b[0m\n",
      "\u001b[0;32m/usr/local/anaconda3/lib/python3.9/site-packages/pandas/core/generic.py\u001b[0m in \u001b[0;36mmin\u001b[0;34m(self, axis, skipna, level, numeric_only, **kwargs)\u001b[0m\n\u001b[1;32m  10834\u001b[0m         )\n\u001b[1;32m  10835\u001b[0m         \u001b[0;32mdef\u001b[0m \u001b[0mmin\u001b[0m\u001b[0;34m(\u001b[0m\u001b[0mself\u001b[0m\u001b[0;34m,\u001b[0m \u001b[0maxis\u001b[0m\u001b[0;34m=\u001b[0m\u001b[0;32mNone\u001b[0m\u001b[0;34m,\u001b[0m \u001b[0mskipna\u001b[0m\u001b[0;34m=\u001b[0m\u001b[0;32mNone\u001b[0m\u001b[0;34m,\u001b[0m \u001b[0mlevel\u001b[0m\u001b[0;34m=\u001b[0m\u001b[0;32mNone\u001b[0m\u001b[0;34m,\u001b[0m \u001b[0mnumeric_only\u001b[0m\u001b[0;34m=\u001b[0m\u001b[0;32mNone\u001b[0m\u001b[0;34m,\u001b[0m \u001b[0;34m**\u001b[0m\u001b[0mkwargs\u001b[0m\u001b[0;34m)\u001b[0m\u001b[0;34m:\u001b[0m\u001b[0;34m\u001b[0m\u001b[0;34m\u001b[0m\u001b[0m\n\u001b[0;32m> 10836\u001b[0;31m             \u001b[0;32mreturn\u001b[0m \u001b[0mNDFrame\u001b[0m\u001b[0;34m.\u001b[0m\u001b[0mmin\u001b[0m\u001b[0;34m(\u001b[0m\u001b[0mself\u001b[0m\u001b[0;34m,\u001b[0m \u001b[0maxis\u001b[0m\u001b[0;34m,\u001b[0m \u001b[0mskipna\u001b[0m\u001b[0;34m,\u001b[0m \u001b[0mlevel\u001b[0m\u001b[0;34m,\u001b[0m \u001b[0mnumeric_only\u001b[0m\u001b[0;34m,\u001b[0m \u001b[0;34m**\u001b[0m\u001b[0mkwargs\u001b[0m\u001b[0;34m)\u001b[0m\u001b[0;34m\u001b[0m\u001b[0;34m\u001b[0m\u001b[0m\n\u001b[0m\u001b[1;32m  10837\u001b[0m \u001b[0;34m\u001b[0m\u001b[0m\n\u001b[1;32m  10838\u001b[0m         \u001b[0msetattr\u001b[0m\u001b[0;34m(\u001b[0m\u001b[0mcls\u001b[0m\u001b[0;34m,\u001b[0m \u001b[0;34m\"min\"\u001b[0m\u001b[0;34m,\u001b[0m \u001b[0mmin\u001b[0m\u001b[0;34m)\u001b[0m\u001b[0;34m\u001b[0m\u001b[0;34m\u001b[0m\u001b[0m\n",
      "\u001b[0;32m/usr/local/anaconda3/lib/python3.9/site-packages/pandas/core/generic.py\u001b[0m in \u001b[0;36mmin\u001b[0;34m(self, axis, skipna, level, numeric_only, **kwargs)\u001b[0m\n\u001b[1;32m  10357\u001b[0m \u001b[0;34m\u001b[0m\u001b[0m\n\u001b[1;32m  10358\u001b[0m     \u001b[0;32mdef\u001b[0m \u001b[0mmin\u001b[0m\u001b[0;34m(\u001b[0m\u001b[0mself\u001b[0m\u001b[0;34m,\u001b[0m \u001b[0maxis\u001b[0m\u001b[0;34m=\u001b[0m\u001b[0;32mNone\u001b[0m\u001b[0;34m,\u001b[0m \u001b[0mskipna\u001b[0m\u001b[0;34m=\u001b[0m\u001b[0;32mNone\u001b[0m\u001b[0;34m,\u001b[0m \u001b[0mlevel\u001b[0m\u001b[0;34m=\u001b[0m\u001b[0;32mNone\u001b[0m\u001b[0;34m,\u001b[0m \u001b[0mnumeric_only\u001b[0m\u001b[0;34m=\u001b[0m\u001b[0;32mNone\u001b[0m\u001b[0;34m,\u001b[0m \u001b[0;34m**\u001b[0m\u001b[0mkwargs\u001b[0m\u001b[0;34m)\u001b[0m\u001b[0;34m:\u001b[0m\u001b[0;34m\u001b[0m\u001b[0;34m\u001b[0m\u001b[0m\n\u001b[0;32m> 10359\u001b[0;31m         return self._stat_function(\n\u001b[0m\u001b[1;32m  10360\u001b[0m             \u001b[0;34m\"min\"\u001b[0m\u001b[0;34m,\u001b[0m \u001b[0mnanops\u001b[0m\u001b[0;34m.\u001b[0m\u001b[0mnanmin\u001b[0m\u001b[0;34m,\u001b[0m \u001b[0maxis\u001b[0m\u001b[0;34m,\u001b[0m \u001b[0mskipna\u001b[0m\u001b[0;34m,\u001b[0m \u001b[0mlevel\u001b[0m\u001b[0;34m,\u001b[0m \u001b[0mnumeric_only\u001b[0m\u001b[0;34m,\u001b[0m \u001b[0;34m**\u001b[0m\u001b[0mkwargs\u001b[0m\u001b[0;34m\u001b[0m\u001b[0;34m\u001b[0m\u001b[0m\n\u001b[1;32m  10361\u001b[0m         )\n",
      "\u001b[0;32m/usr/local/anaconda3/lib/python3.9/site-packages/pandas/core/generic.py\u001b[0m in \u001b[0;36m_stat_function\u001b[0;34m(self, name, func, axis, skipna, level, numeric_only, **kwargs)\u001b[0m\n\u001b[1;32m  10352\u001b[0m                 \u001b[0mname\u001b[0m\u001b[0;34m,\u001b[0m \u001b[0maxis\u001b[0m\u001b[0;34m=\u001b[0m\u001b[0maxis\u001b[0m\u001b[0;34m,\u001b[0m \u001b[0mlevel\u001b[0m\u001b[0;34m=\u001b[0m\u001b[0mlevel\u001b[0m\u001b[0;34m,\u001b[0m \u001b[0mskipna\u001b[0m\u001b[0;34m=\u001b[0m\u001b[0mskipna\u001b[0m\u001b[0;34m,\u001b[0m \u001b[0mnumeric_only\u001b[0m\u001b[0;34m=\u001b[0m\u001b[0mnumeric_only\u001b[0m\u001b[0;34m\u001b[0m\u001b[0;34m\u001b[0m\u001b[0m\n\u001b[1;32m  10353\u001b[0m             )\n\u001b[0;32m> 10354\u001b[0;31m         return self._reduce(\n\u001b[0m\u001b[1;32m  10355\u001b[0m             \u001b[0mfunc\u001b[0m\u001b[0;34m,\u001b[0m \u001b[0mname\u001b[0m\u001b[0;34m=\u001b[0m\u001b[0mname\u001b[0m\u001b[0;34m,\u001b[0m \u001b[0maxis\u001b[0m\u001b[0;34m=\u001b[0m\u001b[0maxis\u001b[0m\u001b[0;34m,\u001b[0m \u001b[0mskipna\u001b[0m\u001b[0;34m=\u001b[0m\u001b[0mskipna\u001b[0m\u001b[0;34m,\u001b[0m \u001b[0mnumeric_only\u001b[0m\u001b[0;34m=\u001b[0m\u001b[0mnumeric_only\u001b[0m\u001b[0;34m\u001b[0m\u001b[0;34m\u001b[0m\u001b[0m\n\u001b[1;32m  10356\u001b[0m         )\n",
      "\u001b[0;32m/usr/local/anaconda3/lib/python3.9/site-packages/pandas/core/series.py\u001b[0m in \u001b[0;36m_reduce\u001b[0;34m(self, op, name, axis, skipna, numeric_only, filter_type, **kwds)\u001b[0m\n\u001b[1;32m   4390\u001b[0m                 )\n\u001b[1;32m   4391\u001b[0m             \u001b[0;32mwith\u001b[0m \u001b[0mnp\u001b[0m\u001b[0;34m.\u001b[0m\u001b[0merrstate\u001b[0m\u001b[0;34m(\u001b[0m\u001b[0mall\u001b[0m\u001b[0;34m=\u001b[0m\u001b[0;34m\"ignore\"\u001b[0m\u001b[0;34m)\u001b[0m\u001b[0;34m:\u001b[0m\u001b[0;34m\u001b[0m\u001b[0;34m\u001b[0m\u001b[0m\n\u001b[0;32m-> 4392\u001b[0;31m                 \u001b[0;32mreturn\u001b[0m \u001b[0mop\u001b[0m\u001b[0;34m(\u001b[0m\u001b[0mdelegate\u001b[0m\u001b[0;34m,\u001b[0m \u001b[0mskipna\u001b[0m\u001b[0;34m=\u001b[0m\u001b[0mskipna\u001b[0m\u001b[0;34m,\u001b[0m \u001b[0;34m**\u001b[0m\u001b[0mkwds\u001b[0m\u001b[0;34m)\u001b[0m\u001b[0;34m\u001b[0m\u001b[0;34m\u001b[0m\u001b[0m\n\u001b[0m\u001b[1;32m   4393\u001b[0m \u001b[0;34m\u001b[0m\u001b[0m\n\u001b[1;32m   4394\u001b[0m     def _reindex_indexer(\n",
      "\u001b[0;32m/usr/local/anaconda3/lib/python3.9/site-packages/pandas/core/nanops.py\u001b[0m in \u001b[0;36mf\u001b[0;34m(values, axis, skipna, **kwds)\u001b[0m\n\u001b[1;32m    153\u001b[0m                     \u001b[0mresult\u001b[0m \u001b[0;34m=\u001b[0m \u001b[0malt\u001b[0m\u001b[0;34m(\u001b[0m\u001b[0mvalues\u001b[0m\u001b[0;34m,\u001b[0m \u001b[0maxis\u001b[0m\u001b[0;34m=\u001b[0m\u001b[0maxis\u001b[0m\u001b[0;34m,\u001b[0m \u001b[0mskipna\u001b[0m\u001b[0;34m=\u001b[0m\u001b[0mskipna\u001b[0m\u001b[0;34m,\u001b[0m \u001b[0;34m**\u001b[0m\u001b[0mkwds\u001b[0m\u001b[0;34m)\u001b[0m\u001b[0;34m\u001b[0m\u001b[0;34m\u001b[0m\u001b[0m\n\u001b[1;32m    154\u001b[0m             \u001b[0;32melse\u001b[0m\u001b[0;34m:\u001b[0m\u001b[0;34m\u001b[0m\u001b[0;34m\u001b[0m\u001b[0m\n\u001b[0;32m--> 155\u001b[0;31m                 \u001b[0mresult\u001b[0m \u001b[0;34m=\u001b[0m \u001b[0malt\u001b[0m\u001b[0;34m(\u001b[0m\u001b[0mvalues\u001b[0m\u001b[0;34m,\u001b[0m \u001b[0maxis\u001b[0m\u001b[0;34m=\u001b[0m\u001b[0maxis\u001b[0m\u001b[0;34m,\u001b[0m \u001b[0mskipna\u001b[0m\u001b[0;34m=\u001b[0m\u001b[0mskipna\u001b[0m\u001b[0;34m,\u001b[0m \u001b[0;34m**\u001b[0m\u001b[0mkwds\u001b[0m\u001b[0;34m)\u001b[0m\u001b[0;34m\u001b[0m\u001b[0;34m\u001b[0m\u001b[0m\n\u001b[0m\u001b[1;32m    156\u001b[0m \u001b[0;34m\u001b[0m\u001b[0m\n\u001b[1;32m    157\u001b[0m             \u001b[0;32mreturn\u001b[0m \u001b[0mresult\u001b[0m\u001b[0;34m\u001b[0m\u001b[0;34m\u001b[0m\u001b[0m\n",
      "\u001b[0;32m/usr/local/anaconda3/lib/python3.9/site-packages/pandas/core/nanops.py\u001b[0m in \u001b[0;36mnew_func\u001b[0;34m(values, axis, skipna, mask, **kwargs)\u001b[0m\n\u001b[1;32m    408\u001b[0m             \u001b[0mmask\u001b[0m \u001b[0;34m=\u001b[0m \u001b[0misna\u001b[0m\u001b[0;34m(\u001b[0m\u001b[0mvalues\u001b[0m\u001b[0;34m)\u001b[0m\u001b[0;34m\u001b[0m\u001b[0;34m\u001b[0m\u001b[0m\n\u001b[1;32m    409\u001b[0m \u001b[0;34m\u001b[0m\u001b[0m\n\u001b[0;32m--> 410\u001b[0;31m         \u001b[0mresult\u001b[0m \u001b[0;34m=\u001b[0m \u001b[0mfunc\u001b[0m\u001b[0;34m(\u001b[0m\u001b[0mvalues\u001b[0m\u001b[0;34m,\u001b[0m \u001b[0maxis\u001b[0m\u001b[0;34m=\u001b[0m\u001b[0maxis\u001b[0m\u001b[0;34m,\u001b[0m \u001b[0mskipna\u001b[0m\u001b[0;34m=\u001b[0m\u001b[0mskipna\u001b[0m\u001b[0;34m,\u001b[0m \u001b[0mmask\u001b[0m\u001b[0;34m=\u001b[0m\u001b[0mmask\u001b[0m\u001b[0;34m,\u001b[0m \u001b[0;34m**\u001b[0m\u001b[0mkwargs\u001b[0m\u001b[0;34m)\u001b[0m\u001b[0;34m\u001b[0m\u001b[0;34m\u001b[0m\u001b[0m\n\u001b[0m\u001b[1;32m    411\u001b[0m \u001b[0;34m\u001b[0m\u001b[0m\n\u001b[1;32m    412\u001b[0m         \u001b[0;32mif\u001b[0m \u001b[0mdatetimelike\u001b[0m\u001b[0;34m:\u001b[0m\u001b[0;34m\u001b[0m\u001b[0;34m\u001b[0m\u001b[0m\n",
      "\u001b[0;32m/usr/local/anaconda3/lib/python3.9/site-packages/pandas/core/nanops.py\u001b[0m in \u001b[0;36mreduction\u001b[0;34m(values, axis, skipna, mask)\u001b[0m\n\u001b[1;32m   1015\u001b[0m                 \u001b[0mresult\u001b[0m \u001b[0;34m=\u001b[0m \u001b[0mnp\u001b[0m\u001b[0;34m.\u001b[0m\u001b[0mnan\u001b[0m\u001b[0;34m\u001b[0m\u001b[0;34m\u001b[0m\u001b[0m\n\u001b[1;32m   1016\u001b[0m         \u001b[0;32melse\u001b[0m\u001b[0;34m:\u001b[0m\u001b[0;34m\u001b[0m\u001b[0;34m\u001b[0m\u001b[0m\n\u001b[0;32m-> 1017\u001b[0;31m             \u001b[0mresult\u001b[0m \u001b[0;34m=\u001b[0m \u001b[0mgetattr\u001b[0m\u001b[0;34m(\u001b[0m\u001b[0mvalues\u001b[0m\u001b[0;34m,\u001b[0m \u001b[0mmeth\u001b[0m\u001b[0;34m)\u001b[0m\u001b[0;34m(\u001b[0m\u001b[0maxis\u001b[0m\u001b[0;34m)\u001b[0m\u001b[0;34m\u001b[0m\u001b[0;34m\u001b[0m\u001b[0m\n\u001b[0m\u001b[1;32m   1018\u001b[0m \u001b[0;34m\u001b[0m\u001b[0m\n\u001b[1;32m   1019\u001b[0m         \u001b[0mresult\u001b[0m \u001b[0;34m=\u001b[0m \u001b[0m_maybe_null_out\u001b[0m\u001b[0;34m(\u001b[0m\u001b[0mresult\u001b[0m\u001b[0;34m,\u001b[0m \u001b[0maxis\u001b[0m\u001b[0;34m,\u001b[0m \u001b[0mmask\u001b[0m\u001b[0;34m,\u001b[0m \u001b[0mvalues\u001b[0m\u001b[0;34m.\u001b[0m\u001b[0mshape\u001b[0m\u001b[0;34m)\u001b[0m\u001b[0;34m\u001b[0m\u001b[0;34m\u001b[0m\u001b[0m\n",
      "\u001b[0;32m/usr/local/anaconda3/lib/python3.9/site-packages/numpy/core/_methods.py\u001b[0m in \u001b[0;36m_amin\u001b[0;34m(a, axis, out, keepdims, initial, where)\u001b[0m\n\u001b[1;32m     41\u001b[0m def _amin(a, axis=None, out=None, keepdims=False,\n\u001b[1;32m     42\u001b[0m           initial=_NoValue, where=True):\n\u001b[0;32m---> 43\u001b[0;31m     \u001b[0;32mreturn\u001b[0m \u001b[0mumr_minimum\u001b[0m\u001b[0;34m(\u001b[0m\u001b[0ma\u001b[0m\u001b[0;34m,\u001b[0m \u001b[0maxis\u001b[0m\u001b[0;34m,\u001b[0m \u001b[0;32mNone\u001b[0m\u001b[0;34m,\u001b[0m \u001b[0mout\u001b[0m\u001b[0;34m,\u001b[0m \u001b[0mkeepdims\u001b[0m\u001b[0;34m,\u001b[0m \u001b[0minitial\u001b[0m\u001b[0;34m,\u001b[0m \u001b[0mwhere\u001b[0m\u001b[0;34m)\u001b[0m\u001b[0;34m\u001b[0m\u001b[0;34m\u001b[0m\u001b[0m\n\u001b[0m\u001b[1;32m     44\u001b[0m \u001b[0;34m\u001b[0m\u001b[0m\n\u001b[1;32m     45\u001b[0m def _sum(a, axis=None, dtype=None, out=None, keepdims=False,\n",
      "\u001b[0;31mTypeError\u001b[0m: '<=' not supported between instances of 'str' and 'float'"
     ]
    }
   ],
   "source": [
    "prep.describe_data(df)"
   ]
  },
  {
   "cell_type": "markdown",
   "id": "e64ef3f1-4000-4647-822e-a5e4441191b7",
   "metadata": {},
   "source": [
    "Because the total proportion of the data frame affected by nulls is barely one percent, and since the columns containing these values can not be inferred due to their qualitative nature that varies from film to film, dropping them from the data frame altogether is perfectly acceptable. "
   ]
  },
  {
   "cell_type": "code",
   "execution_count": 71,
   "id": "3e1b4d28-9f41-48e4-99fa-177175233e19",
   "metadata": {},
   "outputs": [],
   "source": [
    "df.shape\n",
    "# first lets see what happens when I remove na's from just the keywords column; ideally, most of the \n",
    "df2 = df.copy()\n",
    "# I will use this at the end for comparison's sake. I will remove all the nas from this data frame at once"
   ]
  },
  {
   "cell_type": "code",
   "execution_count": 33,
   "id": "66a155df-cfb9-482e-abb2-eec93c5e06d7",
   "metadata": {},
   "outputs": [],
   "source": [
    "df = df.dropna(subset=['keywords'])"
   ]
  },
  {
   "cell_type": "code",
   "execution_count": 34,
   "id": "800678f8-53cc-4ad9-a316-809d06666312",
   "metadata": {},
   "outputs": [
    {
     "name": "stdout",
     "output_type": "stream",
     "text": [
      "Null Values by Column: \n",
      "                      count  percentage\n",
      "production_companies    236        3.48\n",
      "production_countries     68        1.00\n",
      "cast                     17        0.25\n",
      "overview                 12        0.18\n",
      "runtime                   4        0.06\n",
      "crew                      3        0.04\n",
      "genres                    3        0.04\n",
      "id                        0        0.00\n",
      "title                     0        0.00\n",
      "budget                    0        0.00\n",
      "popularity                0        0.00\n",
      "revenue                   0        0.00\n",
      "vote_average              0        0.00\n",
      "vote_count                0        0.00\n",
      "keywords                  0        0.00\n",
      "release_date              0        0.00\n",
      " \n",
      " Total Number of Missing Values: 343 \n",
      "\n",
      " Proportion of Nulls in Dataframe: 0.0032\n",
      "\n",
      "--------------------------------------\n",
      "--------------------------------------\n",
      "Row-by-Row Nulls\n",
      "                 percent_cols_missing  num_rows\n",
      "num_cols_missing                               \n",
      "1                                6.25       207\n",
      "3                               18.75         6\n",
      "2                                12.5        59\n",
      "0                                 0.0      6502\n",
      "----------------------\n"
     ]
    }
   ],
   "source": [
    "prep.nulls(df)"
   ]
  },
  {
   "cell_type": "code",
   "execution_count": 35,
   "id": "5d324fb1-9a30-40d1-9874-ff6c7b979e54",
   "metadata": {},
   "outputs": [],
   "source": [
    "# now with production companies\n",
    "df = df.dropna(subset=['production_companies'])"
   ]
  },
  {
   "cell_type": "code",
   "execution_count": 36,
   "id": "66cd80f6-d8c5-4906-9c96-9b4795025807",
   "metadata": {},
   "outputs": [
    {
     "name": "stdout",
     "output_type": "stream",
     "text": [
      "Null Values by Column: \n",
      "                      count  percentage\n",
      "production_countries     19        0.29\n",
      "overview                 11        0.17\n",
      "cast                      5        0.08\n",
      "runtime                   4        0.06\n",
      "crew                      2        0.03\n",
      "genres                    1        0.02\n",
      "id                        0        0.00\n",
      "title                     0        0.00\n",
      "budget                    0        0.00\n",
      "popularity                0        0.00\n",
      "production_companies      0        0.00\n",
      "revenue                   0        0.00\n",
      "vote_average              0        0.00\n",
      "vote_count                0        0.00\n",
      "keywords                  0        0.00\n",
      "release_date              0        0.00\n",
      " \n",
      " Total Number of Missing Values: 42 \n",
      "\n",
      " Proportion of Nulls in Dataframe: 0.0004\n",
      "\n",
      "--------------------------------------\n",
      "--------------------------------------\n",
      "Row-by-Row Nulls\n",
      "                 percent_cols_missing  num_rows\n",
      "num_cols_missing                               \n",
      "1                                6.25        31\n",
      "3                               18.75         1\n",
      "2                                12.5         4\n",
      "0                                 0.0      6502\n",
      "----------------------\n"
     ]
    }
   ],
   "source": [
    "prep.nulls(df)"
   ]
  },
  {
   "cell_type": "code",
   "execution_count": 37,
   "id": "4ae8955c-0f3b-485a-b59e-509b1de65a0e",
   "metadata": {},
   "outputs": [
    {
     "data": {
      "text/plain": [
       "(6538, 16)"
      ]
     },
     "execution_count": 37,
     "metadata": {},
     "output_type": "execute_result"
    }
   ],
   "source": [
    "df.shape"
   ]
  },
  {
   "cell_type": "code",
   "execution_count": 72,
   "id": "f28894e5-d4ba-49a6-8580-65dbaa50dbc6",
   "metadata": {},
   "outputs": [],
   "source": [
    "# now I will drop the rest. \n",
    "df = df.dropna()"
   ]
  },
  {
   "cell_type": "code",
   "execution_count": 39,
   "id": "75e0e90f-9642-47a5-b573-61c0f065fe6c",
   "metadata": {},
   "outputs": [
    {
     "data": {
      "text/plain": [
       "(6502, 16)"
      ]
     },
     "execution_count": 39,
     "metadata": {},
     "output_type": "execute_result"
    }
   ],
   "source": [
    "df.shape"
   ]
  },
  {
   "cell_type": "code",
   "execution_count": 40,
   "id": "5d59718d-13b9-400d-83b5-0c12b45b7bdd",
   "metadata": {},
   "outputs": [],
   "source": [
    "df2 = df2.dropna()"
   ]
  },
  {
   "cell_type": "code",
   "execution_count": 41,
   "id": "8762fcbe-dd17-4653-83c6-1b1e12b7d5e9",
   "metadata": {},
   "outputs": [
    {
     "data": {
      "text/plain": [
       "(6502, 16)"
      ]
     },
     "execution_count": 41,
     "metadata": {},
     "output_type": "execute_result"
    }
   ],
   "source": [
    "df2.shape"
   ]
  },
  {
   "cell_type": "code",
   "execution_count": null,
   "id": "134ab40e-fc94-4130-9421-20cb9f9f08fa",
   "metadata": {},
   "outputs": [],
   "source": [
    "# the same result. "
   ]
  },
  {
   "cell_type": "code",
   "execution_count": 47,
   "id": "1516d429-8021-428d-ad43-533f03af0f6a",
   "metadata": {},
   "outputs": [],
   "source": [
    "# check for duplicates:\n",
    "df['duplicate'] = df.duplicated()"
   ]
  },
  {
   "cell_type": "code",
   "execution_count": 52,
   "id": "36c3cf45-76a6-492d-a9b6-29f4de457713",
   "metadata": {},
   "outputs": [
    {
     "data": {
      "text/plain": [
       "cast                    53\n",
       "crew                    53\n",
       "id                      53\n",
       "title                   53\n",
       "genres                  53\n",
       "budget                  53\n",
       "overview                53\n",
       "popularity              53\n",
       "production_companies    53\n",
       "production_countries    53\n",
       "revenue                 53\n",
       "runtime                 53\n",
       "vote_average            53\n",
       "vote_count              53\n",
       "keywords                53\n",
       "release_date            53\n",
       "duplicate               53\n",
       "dtype: int64"
      ]
     },
     "execution_count": 52,
     "metadata": {},
     "output_type": "execute_result"
    }
   ],
   "source": [
    "dups = df[df['duplicate'] == True]\n",
    "# at this point I am reminded of the films where budgets are zero. \n",
    "# these indicate reissues or re-releases, and in the event we label a film as being successful\n",
    "# on the basis of revenue == 2x budget, for example, these have an unfair, inaccurate advantage.\n",
    "# I am removing all films where the budget is equal to zero. Then I will check duplicates again. \n",
    "dups.count()\n",
    "# something is definitely weird about this. "
   ]
  },
  {
   "cell_type": "code",
   "execution_count": 74,
   "id": "9e63b8fb-b5a7-4e95-b1c5-3e880e2bbe10",
   "metadata": {},
   "outputs": [
    {
     "data": {
      "text/plain": [
       "5013    False\n",
       "3972    False\n",
       "6232    False\n",
       "3745    False\n",
       "5270    False\n",
       "        ...  \n",
       "953     False\n",
       "4451    False\n",
       "4450    False\n",
       "4449    False\n",
       "7451    False\n",
       "Length: 6502, dtype: bool"
      ]
     },
     "execution_count": 74,
     "metadata": {},
     "output_type": "execute_result"
    }
   ],
   "source": [
    "# regardless, I will keep first, where the budget is not zero, and drop the rest. one way to do that \n",
    "# is to first resort the dataframe. \n",
    "df = df.sort_values(by='budget', ascending=False, na_position='last')\n",
    "# keep first instance of the duplicate\n",
    "df.duplicated(keep='first')"
   ]
  },
  {
   "cell_type": "code",
   "execution_count": 75,
   "id": "b83710d3-364c-4815-90e5-ebd9ccec4bc7",
   "metadata": {},
   "outputs": [],
   "source": [
    "# in case something goes wrong \n",
    "df_safe = df.copy()\n",
    "# change inplace to True if the results are good, for the prepare function\n",
    "df = df.drop_duplicates(subset=None, keep='first', inplace=False, ignore_index=True)"
   ]
  },
  {
   "cell_type": "code",
   "execution_count": 76,
   "id": "d6b7e3b4-4b47-49a9-86b0-425fa817883a",
   "metadata": {},
   "outputs": [
    {
     "data": {
      "text/plain": [
       "(6449, 16)"
      ]
     },
     "execution_count": 76,
     "metadata": {},
     "output_type": "execute_result"
    }
   ],
   "source": [
    "df.shape\n",
    "# dupl"
   ]
  },
  {
   "cell_type": "code",
   "execution_count": 60,
   "id": "f81aefb6-4476-4017-adb0-99c5d4ca506a",
   "metadata": {},
   "outputs": [
    {
     "data": {
      "text/plain": [
       "cast                    1557\n",
       "crew                    1557\n",
       "id                      1557\n",
       "title                   1557\n",
       "genres                  1557\n",
       "budget                  1557\n",
       "overview                1557\n",
       "popularity              1557\n",
       "production_companies    1557\n",
       "production_countries    1557\n",
       "revenue                 1557\n",
       "runtime                 1557\n",
       "vote_average            1557\n",
       "vote_count              1557\n",
       "keywords                1557\n",
       "release_date            1557\n",
       "duplicate               1557\n",
       "dtype: int64"
      ]
     },
     "execution_count": 60,
     "metadata": {},
     "output_type": "execute_result"
    }
   ],
   "source": [
    "df[df['budget'] == 0].count()"
   ]
  },
  {
   "cell_type": "markdown",
   "id": "65b9ba7c-29aa-49dd-be74-20a5058639b9",
   "metadata": {},
   "source": [
    "Hold the phone. That's way more than I thought. We may need to actually handle this based on imputation. "
   ]
  },
  {
   "cell_type": "code",
   "execution_count": 62,
   "id": "0ac5e77c-877e-4f78-aac7-3bb08af5ddb6",
   "metadata": {},
   "outputs": [
    {
     "data": {
      "text/plain": [
       "(6502, 17)"
      ]
     },
     "execution_count": 62,
     "metadata": {},
     "output_type": "execute_result"
    }
   ],
   "source": [
    "df.shape"
   ]
  },
  {
   "cell_type": "code",
   "execution_count": null,
   "id": "08ebbe88-66f4-42d3-bd66-80e43ce3b41c",
   "metadata": {},
   "outputs": [],
   "source": []
  }
 ],
 "metadata": {
  "kernelspec": {
   "display_name": "Python 3 (ipykernel)",
   "language": "python",
   "name": "python3"
  },
  "language_info": {
   "codemirror_mode": {
    "name": "ipython",
    "version": 3
   },
   "file_extension": ".py",
   "mimetype": "text/x-python",
   "name": "python",
   "nbconvert_exporter": "python",
   "pygments_lexer": "ipython3",
   "version": "3.9.7"
  }
 },
 "nbformat": 4,
 "nbformat_minor": 5
}
