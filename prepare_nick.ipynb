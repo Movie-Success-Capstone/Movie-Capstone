{
 "cells": [
  {
   "cell_type": "code",
   "execution_count": 16,
   "id": "75d25a45-d7c2-4684-9fbb-9cfb246ee577",
   "metadata": {},
   "outputs": [],
   "source": [
    "import pandas as pd\n",
    "import os\n",
    "import acquire_nick as get\n",
    "import prepare_nick as prep"
   ]
  },
  {
   "cell_type": "code",
   "execution_count": 9,
   "id": "38a7aea3-125e-4755-9f61-bef1a387fca9",
   "metadata": {},
   "outputs": [
    {
     "name": "stdout",
     "output_type": "stream",
     "text": [
      "Using cached CSV\n"
     ]
    }
   ],
   "source": [
    "df = get.acquire_data()"
   ]
  },
  {
   "cell_type": "code",
   "execution_count": 4,
   "id": "1b777b65-9890-4340-abcf-c88d9831d348",
   "metadata": {},
   "outputs": [
    {
     "data": {
      "text/plain": [
       "Unnamed: 0                int64\n",
       "cast                     object\n",
       "crew                     object\n",
       "id                        int64\n",
       "title                    object\n",
       "genres                   object\n",
       "budget                    int64\n",
       "overview                 object\n",
       "popularity              float64\n",
       "production_companies     object\n",
       "production_countries     object\n",
       "revenue                 float64\n",
       "runtime                 float64\n",
       "vote_average            float64\n",
       "vote_count              float64\n",
       "keywords                 object\n",
       "release_date             object\n",
       "dtype: object"
      ]
     },
     "execution_count": 4,
     "metadata": {},
     "output_type": "execute_result"
    }
   ],
   "source": [
    "df.dtypes"
   ]
  },
  {
   "cell_type": "code",
   "execution_count": 10,
   "id": "91fd5f0a-9339-40fc-9770-c56e03d62caa",
   "metadata": {},
   "outputs": [],
   "source": [
    "# Deleted columns Unnamed: 0\n",
    "df = df.drop(['Unnamed: 0'], axis=1)\n"
   ]
  },
  {
   "cell_type": "code",
   "execution_count": 14,
   "id": "f9d7bba4-4c83-4f44-a49e-a5c257b83512",
   "metadata": {},
   "outputs": [
    {
     "data": {
      "text/html": [
       "<div><div id=912fa75e-91d1-4c75-9d3b-e020868d58ed style=\"display:none; background-color:#9D6CFF; color:white; width:200px; height:30px; padding-left:5px; border-radius:4px; flex-direction:row; justify-content:space-around; align-items:center;\" onmouseover=\"this.style.backgroundColor='#BA9BF8'\" onmouseout=\"this.style.backgroundColor='#9D6CFF'\" onclick=\"window.commands?.execute('create-mitosheet-from-dataframe-output');\">See Full Dataframe in Mito</div> <script> if (window.commands?.hasCommand('create-mitosheet-from-dataframe-output')) document.getElementById('912fa75e-91d1-4c75-9d3b-e020868d58ed').style.display = 'flex' </script> <table border=\"1\" class=\"dataframe\">\n",
       "  <thead>\n",
       "    <tr style=\"text-align: right;\">\n",
       "      <th></th>\n",
       "      <th>cast</th>\n",
       "      <th>crew</th>\n",
       "      <th>id</th>\n",
       "      <th>title</th>\n",
       "      <th>genres</th>\n",
       "      <th>budget</th>\n",
       "      <th>overview</th>\n",
       "      <th>popularity</th>\n",
       "      <th>production_companies</th>\n",
       "      <th>production_countries</th>\n",
       "      <th>revenue</th>\n",
       "      <th>runtime</th>\n",
       "      <th>vote_average</th>\n",
       "      <th>vote_count</th>\n",
       "      <th>keywords</th>\n",
       "      <th>release_date</th>\n",
       "    </tr>\n",
       "  </thead>\n",
       "  <tbody>\n",
       "    <tr>\n",
       "      <th>0</th>\n",
       "      <td>TomHanks TimAllen DonRickles JimVarney WallaceShawn JohnRatzenberger AnniePotts JohnMorris ErikvonDetten LaurieMetcalf R.LeeErmey SarahFreeman PennJillette</td>\n",
       "      <td>JohnLasseter JossWhedon AndrewStanton JoelCohen AlecSokolow BonnieArnold EdCatmull RalphGuggenheim SteveJobs LeeUnkrich RalphEggleston RobertGordon MaryHelenLeasman KimBlanchette MarilynMcCoppen RandyNewman DaleE.Grahn RobinCooper JohnLasseter PeteDocter JoeRanft PatsyBouge NormDeCarlo AshBrannon RandyNewman RomanFigun DonDavis JamesFlamberg MaryBethSmith RickMackay SusanBradley WilliamReeves RandyNewman AndrewStanton PeteDocter GaryRydstrom KarenRobertJackson ChrisMontan RichQuade MichaelBerenstein ColinBrady DaveyCrockettFeiten AngieGlocka RexGrignon TomK.Gurney JimmyHayward HalT.Hickel KarenKiser AnthonyB.LaMolinara GuionneLeroy BudLuckey LesMajor GlennMcQueen MarkOftedal JeffPidgeon JeffPratt SteveRabatich RogerRose SteveSegal DougSheppeck AlanSperling DougSweetland DavidTart KenWillard ThomasPorter MarkThomasHenne OrenJacob DarwynPeachey MitchPrater BrianM.Rosen SharonCalahan GalynSusman WilliamCone ShelleyDanielsLekven BobPauley BudLuckey AndrewStanton WilliamCone SteveJohnson DanHaskett TomHolloway JeanGillmore DesiréeMourad KellyO'Connell SonokoKonishi AnnM.Rockwell JulieM.McDonald RobinLee TomFreeman AdaCochavi DanaMulligan DeirdreMorrison LoriLombardo EllenDevine LaurenBethStrogoff GaryRydstrom GarySummers TimHolland PatJackson TomMyers J.R.Grubbs SusanSanford SusanPopovic DanEngstrom RuthLambert MickieMcGowan</td>\n",
       "      <td>862</td>\n",
       "      <td>Toy Story</td>\n",
       "      <td>Animation Comedy Family</td>\n",
       "      <td>30000000</td>\n",
       "      <td>Led by Woody, Andy's toys live happily in his room until Andy's birthday brings Buzz Lightyear onto the scene. Afraid of losing his place in Andy's heart, Woody plots against Buzz. But when circumstances separate Buzz and Woody from their owner, the duo eventually learns to put aside their differences.</td>\n",
       "      <td>21.946943</td>\n",
       "      <td>PixarAnimationStudios</td>\n",
       "      <td>UnitedStatesofAmerica</td>\n",
       "      <td>373554033.0</td>\n",
       "      <td>81.0</td>\n",
       "      <td>7.7</td>\n",
       "      <td>5415.0</td>\n",
       "      <td>jealousy toy boy friendship friends rivalry boy next door new toy toy comes to life</td>\n",
       "      <td>1995-10-30</td>\n",
       "    </tr>\n",
       "  </tbody>\n",
       "</table></div>"
      ],
      "text/plain": [
       "                                                cast  \\\n",
       "0  TomHanks TimAllen DonRickles JimVarney Wallace...   \n",
       "\n",
       "                                                crew   id      title  \\\n",
       "0  JohnLasseter JossWhedon AndrewStanton JoelCohe...  862  Toy Story   \n",
       "\n",
       "                    genres    budget  \\\n",
       "0  Animation Comedy Family  30000000   \n",
       "\n",
       "                                            overview  popularity  \\\n",
       "0  Led by Woody, Andy's toys live happily in his ...   21.946943   \n",
       "\n",
       "    production_companies   production_countries      revenue  runtime  \\\n",
       "0  PixarAnimationStudios  UnitedStatesofAmerica  373554033.0     81.0   \n",
       "\n",
       "   vote_average  vote_count  \\\n",
       "0           7.7      5415.0   \n",
       "\n",
       "                                            keywords release_date  \n",
       "0  jealousy toy boy friendship friends rivalry bo...   1995-10-30  "
      ]
     },
     "execution_count": 14,
     "metadata": {},
     "output_type": "execute_result"
    }
   ],
   "source": [
    "df.head(1)"
   ]
  },
  {
   "cell_type": "markdown",
   "id": "6e7b3958-270e-47bf-9b21-67a77ffbe9b6",
   "metadata": {},
   "source": [
    "Plans:\n",
    "Extract the number of names inside of crew and create a column that contains a count of names that appear. Consider the same for cast.     \n",
    "\n",
    "Scaling will be needed for the differences in scope among votes, popularity, budget, revenue, et cetera.\n",
    "\n",
    "I'm curious as to whether or not number of keywords, or the types of keywords themselves will have a signifcant influence on the predictability of scores or budget. Presumably the film studio will have that effect, and the production company may also. \n",
    "\n",
    "ID should probably be cast as a category, or at the very least a generic string, since there is no rank or meaning of the order per id. \n",
    "\n",
    "Release date could be converted to a pandas date-time format for the sake of time-series analysis. Otherwise, it seems much of what we will be doing going forward can be framed under many different methodologies. "
   ]
  },
  {
   "cell_type": "code",
   "execution_count": null,
   "id": "2d0f6eae-cecb-4957-864b-add6aa55317e",
   "metadata": {},
   "outputs": [],
   "source": []
  }
 ],
 "metadata": {
  "kernelspec": {
   "display_name": "Python 3 (ipykernel)",
   "language": "python",
   "name": "python3"
  },
  "language_info": {
   "codemirror_mode": {
    "name": "ipython",
    "version": 3
   },
   "file_extension": ".py",
   "mimetype": "text/x-python",
   "name": "python",
   "nbconvert_exporter": "python",
   "pygments_lexer": "ipython3",
   "version": "3.9.7"
  }
 },
 "nbformat": 4,
 "nbformat_minor": 5
}
