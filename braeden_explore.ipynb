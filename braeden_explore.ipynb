{
 "cells": [
  {
   "cell_type": "markdown",
   "id": "d17cec76",
   "metadata": {},
   "source": [
    "# Imports"
   ]
  },
  {
   "cell_type": "code",
   "execution_count": 1,
   "id": "ce0245b3",
   "metadata": {},
   "outputs": [],
   "source": [
    "import pandas as pd\n",
    "import numpy as np\n",
    "\n",
    "import matplotlib.pyplot as plt\n",
    "import seaborn as sns\n",
    "\n",
    "import gzip\n",
    "import shutil\n",
    "import os\n",
    "import re\n",
    "\n",
    "import acquire_nick as an\n",
    "import prepare_nick as pn\n",
    "import wrangle as w\n",
    "\n",
    "# Make sure we can see the full scale of the data\n",
    "pd.set_option('display.max_columns', None)\n",
    "pd.set_option('display.max_rows', None)"
   ]
  },
  {
   "cell_type": "code",
   "execution_count": null,
   "id": "6aaebf0d",
   "metadata": {},
   "outputs": [
    {
     "name": "stdout",
     "output_type": "stream",
     "text": [
      "clean.csv not detected.\n",
      "Acquiring and Preparing Data\n",
      "Capstone CSV not detected.\n",
      "reading dirty CSVs: credits and movies_metadata\n"
     ]
    },
    {
     "name": "stderr",
     "output_type": "stream",
     "text": [
      "/Users/braedenwright/codeup-data-science/capstone-project/wrangle.py:15: DtypeWarning: Columns (10) have mixed types.Specify dtype option on import or set low_memory=False.\n",
      "  df = prep_data(acquire_data())\n"
     ]
    }
   ],
   "source": [
    "df = w.wrangle_df()\n",
    "df.head()"
   ]
  },
  {
   "cell_type": "code",
   "execution_count": null,
   "id": "babcaa6d",
   "metadata": {},
   "outputs": [],
   "source": [
    "df.shape"
   ]
  },
  {
   "cell_type": "code",
   "execution_count": null,
   "id": "a10fdaa9",
   "metadata": {},
   "outputs": [],
   "source": [
    "df.info()"
   ]
  },
  {
   "cell_type": "code",
   "execution_count": null,
   "id": "d9e4e036",
   "metadata": {},
   "outputs": [],
   "source": [
    "df.describe()"
   ]
  },
  {
   "cell_type": "code",
   "execution_count": null,
   "id": "f2d3e14d",
   "metadata": {},
   "outputs": [],
   "source": [
    "df['success_rating'] = (df['revenue']/(df['budget'] * 2)) * df['vote_average']"
   ]
  },
  {
   "cell_type": "code",
   "execution_count": null,
   "id": "7ba567ff",
   "metadata": {},
   "outputs": [],
   "source": [
    "df.head(5)"
   ]
  },
  {
   "cell_type": "code",
   "execution_count": null,
   "id": "0143b7a3",
   "metadata": {
    "scrolled": true
   },
   "outputs": [],
   "source": [
    "# df.success_rating.describe(percentiles=.1)"
   ]
  },
  {
   "cell_type": "code",
   "execution_count": null,
   "id": "4260850c",
   "metadata": {},
   "outputs": [],
   "source": [
    "df['success'] = df['success_rating'] > 6.5"
   ]
  },
  {
   "cell_type": "code",
   "execution_count": null,
   "id": "486f92f7",
   "metadata": {},
   "outputs": [],
   "source": [
    "df.sample(10)"
   ]
  },
  {
   "cell_type": "code",
   "execution_count": null,
   "id": "b2e84a01",
   "metadata": {},
   "outputs": [],
   "source": [
    "# One Hot Encode for Genres\n",
    "\n",
    "# df['is_genre_adventure'] = df.genres.apply(lambda genre_list: 'Adventure' in genre_list)\n",
    "# df['is_genre_horror'] = df.genres.apply(lambda genre_list: 'Horror' in genre_list)\n",
    "# df['is_genre_drama'] = df.genres.apply(lambda genre_list: 'Drama' in genre_list)\n",
    "# df['is_genre_scifi'] = df.genres.apply(lambda genre_list: 'Science' in genre_list)\n",
    "# df['is_genre_romance'] = df.genres.apply(lambda genre_list: 'Romance' in genre_list)\n",
    "# df['is_genre_thriller'] = df.genres.apply(lambda genre_list: 'Thriller' in genre_list)\n",
    "# df['is_genre_crime'] = df.genres.apply(lambda genre_list: 'Crime' in genre_list)\n",
    "# df['is_genre_comedy'] = df.genres.apply(lambda genre_list: 'Comedy' in genre_list)\n",
    "# df['is_genre_animation'] = df.genres.apply(lambda genre_list: 'Animation' in genre_list)\n",
    "# df['is_genre_action'] = df.genres.apply(lambda genre_list: 'Action' in genre_list)\n",
    "# df['is_genre_mystery'] = df.genres.apply(lambda genre_list: 'Mystery' in genre_list)\n",
    "# df['is_genre_fantasy'] = df.genres.apply(lambda genre_list: 'Fantasy' in genre_list)\n",
    "# df['is_genre_documentary'] = df.genres.apply(lambda genre_list: 'Documentary' in genre_list)"
   ]
  },
  {
   "cell_type": "code",
   "execution_count": null,
   "id": "b06c088e",
   "metadata": {},
   "outputs": [],
   "source": [
    "df.shape"
   ]
  },
  {
   "cell_type": "code",
   "execution_count": null,
   "id": "45a7544e",
   "metadata": {},
   "outputs": [],
   "source": [
    "df.success_rating.plot()"
   ]
  },
  {
   "cell_type": "code",
   "execution_count": null,
   "id": "bcb0dbea",
   "metadata": {},
   "outputs": [],
   "source": []
  }
 ],
 "metadata": {
  "kernelspec": {
   "display_name": "Python 3 (ipykernel)",
   "language": "python",
   "name": "python3"
  },
  "language_info": {
   "codemirror_mode": {
    "name": "ipython",
    "version": 3
   },
   "file_extension": ".py",
   "mimetype": "text/x-python",
   "name": "python",
   "nbconvert_exporter": "python",
   "pygments_lexer": "ipython3",
   "version": "3.9.7"
  }
 },
 "nbformat": 4,
 "nbformat_minor": 5
}
