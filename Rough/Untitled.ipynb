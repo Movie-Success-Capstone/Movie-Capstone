{
 "cells": [
  {
   "cell_type": "code",
   "execution_count": 1,
   "id": "8af5189e-c0d8-4f93-8930-73c7e87ac332",
   "metadata": {},
   "outputs": [
    {
     "data": {
      "text/plain": [
       "['h', 'e', 'l', 'l', 'o']"
      ]
     },
     "execution_count": 1,
     "metadata": {},
     "output_type": "execute_result"
    }
   ],
   "source": [
    "list(\"hello\")"
   ]
  },
  {
   "cell_type": "code",
   "execution_count": 2,
   "id": "912872c5-f19c-46f6-a89d-0c545a8422e7",
   "metadata": {},
   "outputs": [],
   "source": [
    "list1 = [3,4,5,20,5]"
   ]
  },
  {
   "cell_type": "code",
   "execution_count": 3,
   "id": "365b8530-587a-408f-95d4-bcd61c903c87",
   "metadata": {},
   "outputs": [
    {
     "data": {
      "text/plain": [
       "2"
      ]
     },
     "execution_count": 3,
     "metadata": {},
     "output_type": "execute_result"
    }
   ],
   "source": [
    "list1.index(5)"
   ]
  },
  {
   "cell_type": "code",
   "execution_count": 4,
   "id": "d4aec35e-5034-415c-86b8-a12ae4383d39",
   "metadata": {},
   "outputs": [
    {
     "name": "stdout",
     "output_type": "stream",
     "text": [
      "['ab', 'ef', 'ghcd']\n"
     ]
    }
   ],
   "source": [
    "print('abcdefcdghcd'.split('cd',2))"
   ]
  },
  {
   "cell_type": "code",
   "execution_count": 11,
   "id": "8dfab1c3-e7d8-4a4a-b7ec-2c267024e044",
   "metadata": {},
   "outputs": [
    {
     "ename": "SyntaxError",
     "evalue": "invalid syntax (3506174140.py, line 2)",
     "output_type": "error",
     "traceback": [
      "\u001b[0;36m  File \u001b[0;32m\"/var/folders/qn/sd1_3x2j4196db03067vql600000gn/T/ipykernel_3096/3506174140.py\"\u001b[0;36m, line \u001b[0;32m2\u001b[0m\n\u001b[0;31m    x for x in range(0,4)\u001b[0m\n\u001b[0m      ^\u001b[0m\n\u001b[0;31mSyntaxError\u001b[0m\u001b[0;31m:\u001b[0m invalid syntax\n"
     ]
    }
   ],
   "source": [
    "x = 2\n",
    "x for x in range(0,4)"
   ]
  },
  {
   "cell_type": "code",
   "execution_count": 16,
   "id": "de23e3d6-5473-4119-b677-71a8a72f749e",
   "metadata": {},
   "outputs": [],
   "source": [
    "list1 = [1,2,3,4]"
   ]
  },
  {
   "cell_type": "code",
   "execution_count": 17,
   "id": "3e873e1f-a5e8-41e7-aab6-2c176ff8f6e2",
   "metadata": {},
   "outputs": [],
   "source": [
    "list1.insert(2,5)"
   ]
  },
  {
   "cell_type": "code",
   "execution_count": 19,
   "id": "c54f69d8-5967-40cd-ac0b-99376d0ff481",
   "metadata": {},
   "outputs": [],
   "source": [
    "list1a=[(1,1),(2,4),(3,9)]"
   ]
  },
  {
   "cell_type": "code",
   "execution_count": 20,
   "id": "fd17fc38-c2e8-41df-90c5-04d78d57c6cc",
   "metadata": {},
   "outputs": [
    {
     "data": {
      "text/plain": [
       "list"
      ]
     },
     "execution_count": 20,
     "metadata": {},
     "output_type": "execute_result"
    }
   ],
   "source": [
    "type(list1a)"
   ]
  },
  {
   "cell_type": "code",
   "execution_count": 26,
   "id": "934525a4-bf46-4c24-837d-a37e7ca0c98b",
   "metadata": {},
   "outputs": [],
   "source": [
    "meh = [1,-5,2,-7]"
   ]
  },
  {
   "cell_type": "code",
   "execution_count": 28,
   "id": "58c43f67-03d7-4982-9a62-1401514eca72",
   "metadata": {},
   "outputs": [
    {
     "ename": "SyntaxError",
     "evalue": "invalid syntax (452306959.py, line 1)",
     "output_type": "error",
     "traceback": [
      "\u001b[0;36m  File \u001b[0;32m\"/var/folders/qn/sd1_3x2j4196db03067vql600000gn/T/ipykernel_3096/452306959.py\"\u001b[0;36m, line \u001b[0;32m1\u001b[0m\n\u001b[0;31m    x for x<0 in meh\u001b[0m\n\u001b[0m      ^\u001b[0m\n\u001b[0;31mSyntaxError\u001b[0m\u001b[0;31m:\u001b[0m invalid syntax\n"
     ]
    }
   ],
   "source": [
    "x for x<0 in meh"
   ]
  },
  {
   "cell_type": "code",
   "execution_count": 29,
   "id": "7acc9b23-eccf-4f92-aaf8-ed53804e365e",
   "metadata": {},
   "outputs": [],
   "source": [
    "a=(1,2,3,4)"
   ]
  },
  {
   "cell_type": "code",
   "execution_count": 30,
   "id": "e43296b4-22bd-458b-bf4b-22b7b53e595b",
   "metadata": {},
   "outputs": [
    {
     "data": {
      "text/plain": [
       "(2, 3)"
      ]
     },
     "execution_count": 30,
     "metadata": {},
     "output_type": "execute_result"
    }
   ],
   "source": [
    "a[1:-1]"
   ]
  },
  {
   "cell_type": "code",
   "execution_count": 39,
   "id": "73ffeff4-295c-404b-ad01-a54d349c99ad",
   "metadata": {},
   "outputs": [],
   "source": [
    "d = {\"john\":40, \"peter\":45}"
   ]
  },
  {
   "cell_type": "code",
   "execution_count": 32,
   "id": "58a844ef-a0c5-4f62-97d2-cdc7437b6785",
   "metadata": {},
   "outputs": [],
   "source": [
    "del d['john']"
   ]
  },
  {
   "cell_type": "code",
   "execution_count": 38,
   "id": "b71343f3-1a2c-4494-8bbb-4468a0b5929e",
   "metadata": {},
   "outputs": [
    {
     "ename": "AttributeError",
     "evalue": "'dict' object has no attribute 'len'",
     "output_type": "error",
     "traceback": [
      "\u001b[0;31m---------------------------------------------------------------------------\u001b[0m",
      "\u001b[0;31mAttributeError\u001b[0m                            Traceback (most recent call last)",
      "\u001b[0;32m/var/folders/qn/sd1_3x2j4196db03067vql600000gn/T/ipykernel_3096/582297937.py\u001b[0m in \u001b[0;36m<module>\u001b[0;34m\u001b[0m\n\u001b[0;32m----> 1\u001b[0;31m \u001b[0md\u001b[0m\u001b[0;34m.\u001b[0m\u001b[0mlen\u001b[0m\u001b[0;34m(\u001b[0m\u001b[0;34m)\u001b[0m\u001b[0;34m\u001b[0m\u001b[0;34m\u001b[0m\u001b[0m\n\u001b[0m",
      "\u001b[0;31mAttributeError\u001b[0m: 'dict' object has no attribute 'len'"
     ]
    }
   ],
   "source": [
    "d.len()"
   ]
  },
  {
   "cell_type": "code",
   "execution_count": null,
   "id": "d67f9cb8-e59e-4421-baa4-811700314ded",
   "metadata": {},
   "outputs": [],
   "source": []
  }
 ],
 "metadata": {
  "kernelspec": {
   "display_name": "Python 3 (ipykernel)",
   "language": "python",
   "name": "python3"
  },
  "language_info": {
   "codemirror_mode": {
    "name": "ipython",
    "version": 3
   },
   "file_extension": ".py",
   "mimetype": "text/x-python",
   "name": "python",
   "nbconvert_exporter": "python",
   "pygments_lexer": "ipython3",
   "version": "3.9.7"
  }
 },
 "nbformat": 4,
 "nbformat_minor": 5
}
