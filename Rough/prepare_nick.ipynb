{
 "cells": [
  {
   "cell_type": "code",
   "execution_count": 2,
   "id": "75d25a45-d7c2-4684-9fbb-9cfb246ee577",
   "metadata": {},
   "outputs": [],
   "source": [
    "import pandas as pd\n",
    "import numpy as np\n",
    "import os\n",
    "import acquire_nick as get\n",
    "import prepare_nick as prep\n",
    "import re"
   ]
  },
  {
   "cell_type": "code",
   "execution_count": 9,
   "id": "38a7aea3-125e-4755-9f61-bef1a387fca9",
   "metadata": {},
   "outputs": [
    {
     "name": "stdout",
     "output_type": "stream",
     "text": [
      "Using cached CSV\n"
     ]
    }
   ],
   "source": [
    "df = get.acquire_data()"
   ]
  },
  {
   "cell_type": "code",
   "execution_count": 10,
   "id": "b1c69bd3-af21-41d1-9981-a21c6313be56",
   "metadata": {},
   "outputs": [
    {
     "name": "stdout",
     "output_type": "stream",
     "text": [
      "clean.csv not detected.\n",
      "processing capstone.csv\n",
      "clean.csv ready for future use\n"
     ]
    }
   ],
   "source": [
    "df = prep.prep_data(df)"
   ]
  },
  {
   "cell_type": "code",
   "execution_count": 70,
   "id": "91fd5f0a-9339-40fc-9770-c56e03d62caa",
   "metadata": {},
   "outputs": [],
   "source": [
    "# Deleted columns Unnamed: 0\n",
    "df = df.drop(['Unnamed: 0'], axis=1)\n"
   ]
  },
  {
   "cell_type": "code",
   "execution_count": 14,
   "id": "f9d7bba4-4c83-4f44-a49e-a5c257b83512",
   "metadata": {},
   "outputs": [
    {
     "data": {
      "text/html": [
       "<div><div id=912fa75e-91d1-4c75-9d3b-e020868d58ed style=\"display:none; background-color:#9D6CFF; color:white; width:200px; height:30px; padding-left:5px; border-radius:4px; flex-direction:row; justify-content:space-around; align-items:center;\" onmouseover=\"this.style.backgroundColor='#BA9BF8'\" onmouseout=\"this.style.backgroundColor='#9D6CFF'\" onclick=\"window.commands?.execute('create-mitosheet-from-dataframe-output');\">See Full Dataframe in Mito</div> <script> if (window.commands?.hasCommand('create-mitosheet-from-dataframe-output')) document.getElementById('912fa75e-91d1-4c75-9d3b-e020868d58ed').style.display = 'flex' </script> <table border=\"1\" class=\"dataframe\">\n",
       "  <thead>\n",
       "    <tr style=\"text-align: right;\">\n",
       "      <th></th>\n",
       "      <th>cast</th>\n",
       "      <th>crew</th>\n",
       "      <th>id</th>\n",
       "      <th>title</th>\n",
       "      <th>genres</th>\n",
       "      <th>budget</th>\n",
       "      <th>overview</th>\n",
       "      <th>popularity</th>\n",
       "      <th>production_companies</th>\n",
       "      <th>production_countries</th>\n",
       "      <th>revenue</th>\n",
       "      <th>runtime</th>\n",
       "      <th>vote_average</th>\n",
       "      <th>vote_count</th>\n",
       "      <th>keywords</th>\n",
       "      <th>release_date</th>\n",
       "    </tr>\n",
       "  </thead>\n",
       "  <tbody>\n",
       "    <tr>\n",
       "      <th>0</th>\n",
       "      <td>TomHanks TimAllen DonRickles JimVarney WallaceShawn JohnRatzenberger AnniePotts JohnMorris ErikvonDetten LaurieMetcalf R.LeeErmey SarahFreeman PennJillette</td>\n",
       "      <td>JohnLasseter JossWhedon AndrewStanton JoelCohen AlecSokolow BonnieArnold EdCatmull RalphGuggenheim SteveJobs LeeUnkrich RalphEggleston RobertGordon MaryHelenLeasman KimBlanchette MarilynMcCoppen RandyNewman DaleE.Grahn RobinCooper JohnLasseter PeteDocter JoeRanft PatsyBouge NormDeCarlo AshBrannon RandyNewman RomanFigun DonDavis JamesFlamberg MaryBethSmith RickMackay SusanBradley WilliamReeves RandyNewman AndrewStanton PeteDocter GaryRydstrom KarenRobertJackson ChrisMontan RichQuade MichaelBerenstein ColinBrady DaveyCrockettFeiten AngieGlocka RexGrignon TomK.Gurney JimmyHayward HalT.Hickel KarenKiser AnthonyB.LaMolinara GuionneLeroy BudLuckey LesMajor GlennMcQueen MarkOftedal JeffPidgeon JeffPratt SteveRabatich RogerRose SteveSegal DougSheppeck AlanSperling DougSweetland DavidTart KenWillard ThomasPorter MarkThomasHenne OrenJacob DarwynPeachey MitchPrater BrianM.Rosen SharonCalahan GalynSusman WilliamCone ShelleyDanielsLekven BobPauley BudLuckey AndrewStanton WilliamCone SteveJohnson DanHaskett TomHolloway JeanGillmore DesiréeMourad KellyO'Connell SonokoKonishi AnnM.Rockwell JulieM.McDonald RobinLee TomFreeman AdaCochavi DanaMulligan DeirdreMorrison LoriLombardo EllenDevine LaurenBethStrogoff GaryRydstrom GarySummers TimHolland PatJackson TomMyers J.R.Grubbs SusanSanford SusanPopovic DanEngstrom RuthLambert MickieMcGowan</td>\n",
       "      <td>862</td>\n",
       "      <td>Toy Story</td>\n",
       "      <td>Animation Comedy Family</td>\n",
       "      <td>30000000</td>\n",
       "      <td>Led by Woody, Andy's toys live happily in his room until Andy's birthday brings Buzz Lightyear onto the scene. Afraid of losing his place in Andy's heart, Woody plots against Buzz. But when circumstances separate Buzz and Woody from their owner, the duo eventually learns to put aside their differences.</td>\n",
       "      <td>21.946943</td>\n",
       "      <td>PixarAnimationStudios</td>\n",
       "      <td>UnitedStatesofAmerica</td>\n",
       "      <td>373554033.0</td>\n",
       "      <td>81.0</td>\n",
       "      <td>7.7</td>\n",
       "      <td>5415.0</td>\n",
       "      <td>jealousy toy boy friendship friends rivalry boy next door new toy toy comes to life</td>\n",
       "      <td>1995-10-30</td>\n",
       "    </tr>\n",
       "  </tbody>\n",
       "</table></div>"
      ],
      "text/plain": [
       "                                                cast  \\\n",
       "0  TomHanks TimAllen DonRickles JimVarney Wallace...   \n",
       "\n",
       "                                                crew   id      title  \\\n",
       "0  JohnLasseter JossWhedon AndrewStanton JoelCohe...  862  Toy Story   \n",
       "\n",
       "                    genres    budget  \\\n",
       "0  Animation Comedy Family  30000000   \n",
       "\n",
       "                                            overview  popularity  \\\n",
       "0  Led by Woody, Andy's toys live happily in his ...   21.946943   \n",
       "\n",
       "    production_companies   production_countries      revenue  runtime  \\\n",
       "0  PixarAnimationStudios  UnitedStatesofAmerica  373554033.0     81.0   \n",
       "\n",
       "   vote_average  vote_count  \\\n",
       "0           7.7      5415.0   \n",
       "\n",
       "                                            keywords release_date  \n",
       "0  jealousy toy boy friendship friends rivalry bo...   1995-10-30  "
      ]
     },
     "execution_count": 14,
     "metadata": {},
     "output_type": "execute_result"
    }
   ],
   "source": [
    "df.head(1)"
   ]
  },
  {
   "cell_type": "markdown",
   "id": "6e7b3958-270e-47bf-9b21-67a77ffbe9b6",
   "metadata": {},
   "source": [
    "Plans:\n",
    "Extract the number of names inside of crew and create a column that contains a count of names that appear. Consider the same for cast.     \n",
    "\n",
    "Scaling will be needed for the differences in scope among votes, popularity, budget, revenue, et cetera.\n",
    "\n",
    "I'm curious as to whether or not number of keywords, or the types of keywords themselves will have a signifcant influence on the predictability of scores or budget. Presumably the film studio will have that effect, and the production company may also. \n",
    "\n",
    "ID should probably be cast as a category, or at the very least a generic string, since there is no rank or meaning of the order per id. \n",
    "\n",
    "Release date could be converted to a pandas date-time format for the sake of time-series analysis. Otherwise, it seems much of what we will be doing going forward can be framed under many different methodologies. "
   ]
  },
  {
   "cell_type": "code",
   "execution_count": 17,
   "id": "2d0f6eae-cecb-4957-864b-add6aa55317e",
   "metadata": {},
   "outputs": [
    {
     "name": "stdout",
     "output_type": "stream",
     "text": [
      "This dataframe has 7457 rows and 16 columns.\n",
      "\n",
      "--------------------------------------\n",
      "--------------------------------------\n",
      "<class 'pandas.core.frame.DataFrame'>\n",
      "RangeIndex: 7457 entries, 0 to 7456\n",
      "Data columns (total 16 columns):\n",
      " #   Column                Non-Null Count  Dtype  \n",
      "---  ------                --------------  -----  \n",
      " 0   cast                  7423 non-null   object \n",
      " 1   crew                  7444 non-null   object \n",
      " 2   id                    7457 non-null   int64  \n",
      " 3   title                 7457 non-null   object \n",
      " 4   genres                7434 non-null   object \n",
      " 5   budget                7457 non-null   int64  \n",
      " 6   overview              7435 non-null   object \n",
      " 7   popularity            7457 non-null   float64\n",
      " 8   production_companies  7039 non-null   object \n",
      " 9   production_countries  7301 non-null   object \n",
      " 10  revenue               7457 non-null   float64\n",
      " 11  runtime               7451 non-null   float64\n",
      " 12  vote_average          7457 non-null   float64\n",
      " 13  vote_count            7457 non-null   float64\n",
      " 14  keywords              6774 non-null   object \n",
      " 15  release_date          7456 non-null   object \n",
      "dtypes: float64(5), int64(2), object(9)\n",
      "memory usage: 932.2+ KB\n",
      "None\n",
      "\n",
      "--------------------------------------\n",
      "--------------------------------------\n",
      "Here are the summary statistics of our dataset\n",
      "               id         budget popularity         revenue   runtime  \\\n",
      "count    7457.000       7457.000   7457.000        7457.000  7451.000   \n",
      "mean    68737.287   22551991.388      8.492    68760584.645   107.790   \n",
      "std    100784.924   36925493.864     12.134   146560970.955    21.491   \n",
      "min         5.000          0.000      0.000           1.000     0.000   \n",
      "25%      9631.000          0.000      3.903     2395231.000    94.000   \n",
      "50%     19877.000    7500000.000      7.413    16680836.000   104.000   \n",
      "75%     73686.000   28000000.000     10.901    67000000.000   118.000   \n",
      "max    443319.000  380000000.000    547.488  2787965087.000   338.000   \n",
      "\n",
      "      vote_average vote_count  \n",
      "count     7457.000   7457.000  \n",
      "mean         6.216    558.732  \n",
      "std          1.029   1104.859  \n",
      "min          0.000      0.000  \n",
      "25%          5.700     40.000  \n",
      "50%          6.300    159.000  \n",
      "75%          6.900    542.000  \n",
      "max         10.000  14075.000  \n",
      "\n",
      "--------------------------------------\n",
      "--------------------------------------\n",
      "Null Values by Column: \n",
      "                      count  percentage\n",
      "keywords                683        9.16\n",
      "production_companies    418        5.61\n",
      "production_countries    156        2.09\n",
      "cast                     34        0.46\n",
      "genres                   23        0.31\n",
      "overview                 22        0.30\n",
      "crew                     13        0.17\n",
      "runtime                   6        0.08\n",
      "release_date              1        0.01\n",
      "id                        0        0.00\n",
      "title                     0        0.00\n",
      "budget                    0        0.00\n",
      "popularity                0        0.00\n",
      "revenue                   0        0.00\n",
      "vote_average              0        0.00\n",
      "vote_count                0        0.00\n",
      " \n",
      " Total Number of Missing Values: 1356 \n",
      "\n",
      " Proportion of Nulls in Dataframe: 0.0114\n",
      "\n",
      "--------------------------------------\n",
      "--------------------------------------\n",
      "Row-by-Row Nulls\n",
      "                 percent_cols_missing  num_rows\n",
      "num_cols_missing                               \n",
      "1                                6.25       684\n",
      "6                                37.5         4\n",
      "5                               31.25         3\n",
      "4                                25.0        16\n",
      "3                               18.75        73\n",
      "2                                12.5       175\n",
      "0                                 0.0      6502\n",
      "----------------------\n",
      "Relative Frequencies: \n",
      "\n",
      "Column: cast \n",
      "\n"
     ]
    },
    {
     "ename": "TypeError",
     "evalue": "'<=' not supported between instances of 'str' and 'float'",
     "output_type": "error",
     "traceback": [
      "\u001b[0;31m---------------------------------------------------------------------------\u001b[0m",
      "\u001b[0;31mTypeError\u001b[0m                                 Traceback (most recent call last)",
      "\u001b[0;32m/var/folders/qn/sd1_3x2j4196db03067vql600000gn/T/ipykernel_9077/3584388502.py\u001b[0m in \u001b[0;36m<module>\u001b[0;34m\u001b[0m\n\u001b[0;32m----> 1\u001b[0;31m \u001b[0mprep\u001b[0m\u001b[0;34m.\u001b[0m\u001b[0mdescribe_data\u001b[0m\u001b[0;34m(\u001b[0m\u001b[0mdf\u001b[0m\u001b[0;34m)\u001b[0m\u001b[0;34m\u001b[0m\u001b[0;34m\u001b[0m\u001b[0m\n\u001b[0m",
      "\u001b[0;32m~/codeup-data-science/Movie-Capstone/prepare_nick.py\u001b[0m in \u001b[0;36mdescribe_data\u001b[0;34m(df)\u001b[0m\n\u001b[1;32m     95\u001b[0m         \u001b[0;32melse\u001b[0m\u001b[0;34m:\u001b[0m\u001b[0;34m\u001b[0m\u001b[0;34m\u001b[0m\u001b[0m\n\u001b[1;32m     96\u001b[0m             \u001b[0mprint\u001b[0m\u001b[0;34m(\u001b[0m\u001b[0;34mf'Column: {col} \\n'\u001b[0m\u001b[0;34m)\u001b[0m\u001b[0;34m\u001b[0m\u001b[0;34m\u001b[0m\u001b[0m\n\u001b[0;32m---> 97\u001b[0;31m             \u001b[0mprint\u001b[0m\u001b[0;34m(\u001b[0m\u001b[0;34mf'Range of Values: [{df[col].min()} - {df[col].max()}] \\n'\u001b[0m\u001b[0;34m)\u001b[0m\u001b[0;34m\u001b[0m\u001b[0;34m\u001b[0m\u001b[0m\n\u001b[0m\u001b[1;32m     98\u001b[0m         \u001b[0mprint\u001b[0m\u001b[0;34m(\u001b[0m\u001b[0;34m'------------------------------------------'\u001b[0m\u001b[0;34m)\u001b[0m\u001b[0;34m\u001b[0m\u001b[0;34m\u001b[0m\u001b[0m\n\u001b[1;32m     99\u001b[0m         \u001b[0mprint\u001b[0m\u001b[0;34m(\u001b[0m\u001b[0;34m'--------------------------------------'\u001b[0m\u001b[0;34m)\u001b[0m\u001b[0;34m\u001b[0m\u001b[0;34m\u001b[0m\u001b[0m\n",
      "\u001b[0;32m/usr/local/anaconda3/lib/python3.9/site-packages/pandas/core/generic.py\u001b[0m in \u001b[0;36mmin\u001b[0;34m(self, axis, skipna, level, numeric_only, **kwargs)\u001b[0m\n\u001b[1;32m  10834\u001b[0m         )\n\u001b[1;32m  10835\u001b[0m         \u001b[0;32mdef\u001b[0m \u001b[0mmin\u001b[0m\u001b[0;34m(\u001b[0m\u001b[0mself\u001b[0m\u001b[0;34m,\u001b[0m \u001b[0maxis\u001b[0m\u001b[0;34m=\u001b[0m\u001b[0;32mNone\u001b[0m\u001b[0;34m,\u001b[0m \u001b[0mskipna\u001b[0m\u001b[0;34m=\u001b[0m\u001b[0;32mNone\u001b[0m\u001b[0;34m,\u001b[0m \u001b[0mlevel\u001b[0m\u001b[0;34m=\u001b[0m\u001b[0;32mNone\u001b[0m\u001b[0;34m,\u001b[0m \u001b[0mnumeric_only\u001b[0m\u001b[0;34m=\u001b[0m\u001b[0;32mNone\u001b[0m\u001b[0;34m,\u001b[0m \u001b[0;34m**\u001b[0m\u001b[0mkwargs\u001b[0m\u001b[0;34m)\u001b[0m\u001b[0;34m:\u001b[0m\u001b[0;34m\u001b[0m\u001b[0;34m\u001b[0m\u001b[0m\n\u001b[0;32m> 10836\u001b[0;31m             \u001b[0;32mreturn\u001b[0m \u001b[0mNDFrame\u001b[0m\u001b[0;34m.\u001b[0m\u001b[0mmin\u001b[0m\u001b[0;34m(\u001b[0m\u001b[0mself\u001b[0m\u001b[0;34m,\u001b[0m \u001b[0maxis\u001b[0m\u001b[0;34m,\u001b[0m \u001b[0mskipna\u001b[0m\u001b[0;34m,\u001b[0m \u001b[0mlevel\u001b[0m\u001b[0;34m,\u001b[0m \u001b[0mnumeric_only\u001b[0m\u001b[0;34m,\u001b[0m \u001b[0;34m**\u001b[0m\u001b[0mkwargs\u001b[0m\u001b[0;34m)\u001b[0m\u001b[0;34m\u001b[0m\u001b[0;34m\u001b[0m\u001b[0m\n\u001b[0m\u001b[1;32m  10837\u001b[0m \u001b[0;34m\u001b[0m\u001b[0m\n\u001b[1;32m  10838\u001b[0m         \u001b[0msetattr\u001b[0m\u001b[0;34m(\u001b[0m\u001b[0mcls\u001b[0m\u001b[0;34m,\u001b[0m \u001b[0;34m\"min\"\u001b[0m\u001b[0;34m,\u001b[0m \u001b[0mmin\u001b[0m\u001b[0;34m)\u001b[0m\u001b[0;34m\u001b[0m\u001b[0;34m\u001b[0m\u001b[0m\n",
      "\u001b[0;32m/usr/local/anaconda3/lib/python3.9/site-packages/pandas/core/generic.py\u001b[0m in \u001b[0;36mmin\u001b[0;34m(self, axis, skipna, level, numeric_only, **kwargs)\u001b[0m\n\u001b[1;32m  10357\u001b[0m \u001b[0;34m\u001b[0m\u001b[0m\n\u001b[1;32m  10358\u001b[0m     \u001b[0;32mdef\u001b[0m \u001b[0mmin\u001b[0m\u001b[0;34m(\u001b[0m\u001b[0mself\u001b[0m\u001b[0;34m,\u001b[0m \u001b[0maxis\u001b[0m\u001b[0;34m=\u001b[0m\u001b[0;32mNone\u001b[0m\u001b[0;34m,\u001b[0m \u001b[0mskipna\u001b[0m\u001b[0;34m=\u001b[0m\u001b[0;32mNone\u001b[0m\u001b[0;34m,\u001b[0m \u001b[0mlevel\u001b[0m\u001b[0;34m=\u001b[0m\u001b[0;32mNone\u001b[0m\u001b[0;34m,\u001b[0m \u001b[0mnumeric_only\u001b[0m\u001b[0;34m=\u001b[0m\u001b[0;32mNone\u001b[0m\u001b[0;34m,\u001b[0m \u001b[0;34m**\u001b[0m\u001b[0mkwargs\u001b[0m\u001b[0;34m)\u001b[0m\u001b[0;34m:\u001b[0m\u001b[0;34m\u001b[0m\u001b[0;34m\u001b[0m\u001b[0m\n\u001b[0;32m> 10359\u001b[0;31m         return self._stat_function(\n\u001b[0m\u001b[1;32m  10360\u001b[0m             \u001b[0;34m\"min\"\u001b[0m\u001b[0;34m,\u001b[0m \u001b[0mnanops\u001b[0m\u001b[0;34m.\u001b[0m\u001b[0mnanmin\u001b[0m\u001b[0;34m,\u001b[0m \u001b[0maxis\u001b[0m\u001b[0;34m,\u001b[0m \u001b[0mskipna\u001b[0m\u001b[0;34m,\u001b[0m \u001b[0mlevel\u001b[0m\u001b[0;34m,\u001b[0m \u001b[0mnumeric_only\u001b[0m\u001b[0;34m,\u001b[0m \u001b[0;34m**\u001b[0m\u001b[0mkwargs\u001b[0m\u001b[0;34m\u001b[0m\u001b[0;34m\u001b[0m\u001b[0m\n\u001b[1;32m  10361\u001b[0m         )\n",
      "\u001b[0;32m/usr/local/anaconda3/lib/python3.9/site-packages/pandas/core/generic.py\u001b[0m in \u001b[0;36m_stat_function\u001b[0;34m(self, name, func, axis, skipna, level, numeric_only, **kwargs)\u001b[0m\n\u001b[1;32m  10352\u001b[0m                 \u001b[0mname\u001b[0m\u001b[0;34m,\u001b[0m \u001b[0maxis\u001b[0m\u001b[0;34m=\u001b[0m\u001b[0maxis\u001b[0m\u001b[0;34m,\u001b[0m \u001b[0mlevel\u001b[0m\u001b[0;34m=\u001b[0m\u001b[0mlevel\u001b[0m\u001b[0;34m,\u001b[0m \u001b[0mskipna\u001b[0m\u001b[0;34m=\u001b[0m\u001b[0mskipna\u001b[0m\u001b[0;34m,\u001b[0m \u001b[0mnumeric_only\u001b[0m\u001b[0;34m=\u001b[0m\u001b[0mnumeric_only\u001b[0m\u001b[0;34m\u001b[0m\u001b[0;34m\u001b[0m\u001b[0m\n\u001b[1;32m  10353\u001b[0m             )\n\u001b[0;32m> 10354\u001b[0;31m         return self._reduce(\n\u001b[0m\u001b[1;32m  10355\u001b[0m             \u001b[0mfunc\u001b[0m\u001b[0;34m,\u001b[0m \u001b[0mname\u001b[0m\u001b[0;34m=\u001b[0m\u001b[0mname\u001b[0m\u001b[0;34m,\u001b[0m \u001b[0maxis\u001b[0m\u001b[0;34m=\u001b[0m\u001b[0maxis\u001b[0m\u001b[0;34m,\u001b[0m \u001b[0mskipna\u001b[0m\u001b[0;34m=\u001b[0m\u001b[0mskipna\u001b[0m\u001b[0;34m,\u001b[0m \u001b[0mnumeric_only\u001b[0m\u001b[0;34m=\u001b[0m\u001b[0mnumeric_only\u001b[0m\u001b[0;34m\u001b[0m\u001b[0;34m\u001b[0m\u001b[0m\n\u001b[1;32m  10356\u001b[0m         )\n",
      "\u001b[0;32m/usr/local/anaconda3/lib/python3.9/site-packages/pandas/core/series.py\u001b[0m in \u001b[0;36m_reduce\u001b[0;34m(self, op, name, axis, skipna, numeric_only, filter_type, **kwds)\u001b[0m\n\u001b[1;32m   4390\u001b[0m                 )\n\u001b[1;32m   4391\u001b[0m             \u001b[0;32mwith\u001b[0m \u001b[0mnp\u001b[0m\u001b[0;34m.\u001b[0m\u001b[0merrstate\u001b[0m\u001b[0;34m(\u001b[0m\u001b[0mall\u001b[0m\u001b[0;34m=\u001b[0m\u001b[0;34m\"ignore\"\u001b[0m\u001b[0;34m)\u001b[0m\u001b[0;34m:\u001b[0m\u001b[0;34m\u001b[0m\u001b[0;34m\u001b[0m\u001b[0m\n\u001b[0;32m-> 4392\u001b[0;31m                 \u001b[0;32mreturn\u001b[0m \u001b[0mop\u001b[0m\u001b[0;34m(\u001b[0m\u001b[0mdelegate\u001b[0m\u001b[0;34m,\u001b[0m \u001b[0mskipna\u001b[0m\u001b[0;34m=\u001b[0m\u001b[0mskipna\u001b[0m\u001b[0;34m,\u001b[0m \u001b[0;34m**\u001b[0m\u001b[0mkwds\u001b[0m\u001b[0;34m)\u001b[0m\u001b[0;34m\u001b[0m\u001b[0;34m\u001b[0m\u001b[0m\n\u001b[0m\u001b[1;32m   4393\u001b[0m \u001b[0;34m\u001b[0m\u001b[0m\n\u001b[1;32m   4394\u001b[0m     def _reindex_indexer(\n",
      "\u001b[0;32m/usr/local/anaconda3/lib/python3.9/site-packages/pandas/core/nanops.py\u001b[0m in \u001b[0;36mf\u001b[0;34m(values, axis, skipna, **kwds)\u001b[0m\n\u001b[1;32m    153\u001b[0m                     \u001b[0mresult\u001b[0m \u001b[0;34m=\u001b[0m \u001b[0malt\u001b[0m\u001b[0;34m(\u001b[0m\u001b[0mvalues\u001b[0m\u001b[0;34m,\u001b[0m \u001b[0maxis\u001b[0m\u001b[0;34m=\u001b[0m\u001b[0maxis\u001b[0m\u001b[0;34m,\u001b[0m \u001b[0mskipna\u001b[0m\u001b[0;34m=\u001b[0m\u001b[0mskipna\u001b[0m\u001b[0;34m,\u001b[0m \u001b[0;34m**\u001b[0m\u001b[0mkwds\u001b[0m\u001b[0;34m)\u001b[0m\u001b[0;34m\u001b[0m\u001b[0;34m\u001b[0m\u001b[0m\n\u001b[1;32m    154\u001b[0m             \u001b[0;32melse\u001b[0m\u001b[0;34m:\u001b[0m\u001b[0;34m\u001b[0m\u001b[0;34m\u001b[0m\u001b[0m\n\u001b[0;32m--> 155\u001b[0;31m                 \u001b[0mresult\u001b[0m \u001b[0;34m=\u001b[0m \u001b[0malt\u001b[0m\u001b[0;34m(\u001b[0m\u001b[0mvalues\u001b[0m\u001b[0;34m,\u001b[0m \u001b[0maxis\u001b[0m\u001b[0;34m=\u001b[0m\u001b[0maxis\u001b[0m\u001b[0;34m,\u001b[0m \u001b[0mskipna\u001b[0m\u001b[0;34m=\u001b[0m\u001b[0mskipna\u001b[0m\u001b[0;34m,\u001b[0m \u001b[0;34m**\u001b[0m\u001b[0mkwds\u001b[0m\u001b[0;34m)\u001b[0m\u001b[0;34m\u001b[0m\u001b[0;34m\u001b[0m\u001b[0m\n\u001b[0m\u001b[1;32m    156\u001b[0m \u001b[0;34m\u001b[0m\u001b[0m\n\u001b[1;32m    157\u001b[0m             \u001b[0;32mreturn\u001b[0m \u001b[0mresult\u001b[0m\u001b[0;34m\u001b[0m\u001b[0;34m\u001b[0m\u001b[0m\n",
      "\u001b[0;32m/usr/local/anaconda3/lib/python3.9/site-packages/pandas/core/nanops.py\u001b[0m in \u001b[0;36mnew_func\u001b[0;34m(values, axis, skipna, mask, **kwargs)\u001b[0m\n\u001b[1;32m    408\u001b[0m             \u001b[0mmask\u001b[0m \u001b[0;34m=\u001b[0m \u001b[0misna\u001b[0m\u001b[0;34m(\u001b[0m\u001b[0mvalues\u001b[0m\u001b[0;34m)\u001b[0m\u001b[0;34m\u001b[0m\u001b[0;34m\u001b[0m\u001b[0m\n\u001b[1;32m    409\u001b[0m \u001b[0;34m\u001b[0m\u001b[0m\n\u001b[0;32m--> 410\u001b[0;31m         \u001b[0mresult\u001b[0m \u001b[0;34m=\u001b[0m \u001b[0mfunc\u001b[0m\u001b[0;34m(\u001b[0m\u001b[0mvalues\u001b[0m\u001b[0;34m,\u001b[0m \u001b[0maxis\u001b[0m\u001b[0;34m=\u001b[0m\u001b[0maxis\u001b[0m\u001b[0;34m,\u001b[0m \u001b[0mskipna\u001b[0m\u001b[0;34m=\u001b[0m\u001b[0mskipna\u001b[0m\u001b[0;34m,\u001b[0m \u001b[0mmask\u001b[0m\u001b[0;34m=\u001b[0m\u001b[0mmask\u001b[0m\u001b[0;34m,\u001b[0m \u001b[0;34m**\u001b[0m\u001b[0mkwargs\u001b[0m\u001b[0;34m)\u001b[0m\u001b[0;34m\u001b[0m\u001b[0;34m\u001b[0m\u001b[0m\n\u001b[0m\u001b[1;32m    411\u001b[0m \u001b[0;34m\u001b[0m\u001b[0m\n\u001b[1;32m    412\u001b[0m         \u001b[0;32mif\u001b[0m \u001b[0mdatetimelike\u001b[0m\u001b[0;34m:\u001b[0m\u001b[0;34m\u001b[0m\u001b[0;34m\u001b[0m\u001b[0m\n",
      "\u001b[0;32m/usr/local/anaconda3/lib/python3.9/site-packages/pandas/core/nanops.py\u001b[0m in \u001b[0;36mreduction\u001b[0;34m(values, axis, skipna, mask)\u001b[0m\n\u001b[1;32m   1015\u001b[0m                 \u001b[0mresult\u001b[0m \u001b[0;34m=\u001b[0m \u001b[0mnp\u001b[0m\u001b[0;34m.\u001b[0m\u001b[0mnan\u001b[0m\u001b[0;34m\u001b[0m\u001b[0;34m\u001b[0m\u001b[0m\n\u001b[1;32m   1016\u001b[0m         \u001b[0;32melse\u001b[0m\u001b[0;34m:\u001b[0m\u001b[0;34m\u001b[0m\u001b[0;34m\u001b[0m\u001b[0m\n\u001b[0;32m-> 1017\u001b[0;31m             \u001b[0mresult\u001b[0m \u001b[0;34m=\u001b[0m \u001b[0mgetattr\u001b[0m\u001b[0;34m(\u001b[0m\u001b[0mvalues\u001b[0m\u001b[0;34m,\u001b[0m \u001b[0mmeth\u001b[0m\u001b[0;34m)\u001b[0m\u001b[0;34m(\u001b[0m\u001b[0maxis\u001b[0m\u001b[0;34m)\u001b[0m\u001b[0;34m\u001b[0m\u001b[0;34m\u001b[0m\u001b[0m\n\u001b[0m\u001b[1;32m   1018\u001b[0m \u001b[0;34m\u001b[0m\u001b[0m\n\u001b[1;32m   1019\u001b[0m         \u001b[0mresult\u001b[0m \u001b[0;34m=\u001b[0m \u001b[0m_maybe_null_out\u001b[0m\u001b[0;34m(\u001b[0m\u001b[0mresult\u001b[0m\u001b[0;34m,\u001b[0m \u001b[0maxis\u001b[0m\u001b[0;34m,\u001b[0m \u001b[0mmask\u001b[0m\u001b[0;34m,\u001b[0m \u001b[0mvalues\u001b[0m\u001b[0;34m.\u001b[0m\u001b[0mshape\u001b[0m\u001b[0;34m)\u001b[0m\u001b[0;34m\u001b[0m\u001b[0;34m\u001b[0m\u001b[0m\n",
      "\u001b[0;32m/usr/local/anaconda3/lib/python3.9/site-packages/numpy/core/_methods.py\u001b[0m in \u001b[0;36m_amin\u001b[0;34m(a, axis, out, keepdims, initial, where)\u001b[0m\n\u001b[1;32m     41\u001b[0m def _amin(a, axis=None, out=None, keepdims=False,\n\u001b[1;32m     42\u001b[0m           initial=_NoValue, where=True):\n\u001b[0;32m---> 43\u001b[0;31m     \u001b[0;32mreturn\u001b[0m \u001b[0mumr_minimum\u001b[0m\u001b[0;34m(\u001b[0m\u001b[0ma\u001b[0m\u001b[0;34m,\u001b[0m \u001b[0maxis\u001b[0m\u001b[0;34m,\u001b[0m \u001b[0;32mNone\u001b[0m\u001b[0;34m,\u001b[0m \u001b[0mout\u001b[0m\u001b[0;34m,\u001b[0m \u001b[0mkeepdims\u001b[0m\u001b[0;34m,\u001b[0m \u001b[0minitial\u001b[0m\u001b[0;34m,\u001b[0m \u001b[0mwhere\u001b[0m\u001b[0;34m)\u001b[0m\u001b[0;34m\u001b[0m\u001b[0;34m\u001b[0m\u001b[0m\n\u001b[0m\u001b[1;32m     44\u001b[0m \u001b[0;34m\u001b[0m\u001b[0m\n\u001b[1;32m     45\u001b[0m def _sum(a, axis=None, dtype=None, out=None, keepdims=False,\n",
      "\u001b[0;31mTypeError\u001b[0m: '<=' not supported between instances of 'str' and 'float'"
     ]
    }
   ],
   "source": [
    "prep.describe_data(df)"
   ]
  },
  {
   "cell_type": "markdown",
   "id": "e64ef3f1-4000-4647-822e-a5e4441191b7",
   "metadata": {},
   "source": [
    "Because the total proportion of the data frame affected by nulls is barely one percent, and since the columns containing these values can not be inferred due to their qualitative nature that varies from film to film, dropping them from the data frame altogether is perfectly acceptable. "
   ]
  },
  {
   "cell_type": "code",
   "execution_count": 71,
   "id": "3e1b4d28-9f41-48e4-99fa-177175233e19",
   "metadata": {},
   "outputs": [],
   "source": [
    "df.shape\n",
    "# first lets see what happens when I remove na's from just the keywords column; ideally, most of the \n",
    "df2 = df.copy()\n",
    "# I will use this at the end for comparison's sake. I will remove all the nas from this data frame at once"
   ]
  },
  {
   "cell_type": "code",
   "execution_count": 33,
   "id": "66a155df-cfb9-482e-abb2-eec93c5e06d7",
   "metadata": {},
   "outputs": [],
   "source": [
    "df = df.dropna(subset=['keywords'])"
   ]
  },
  {
   "cell_type": "code",
   "execution_count": 34,
   "id": "800678f8-53cc-4ad9-a316-809d06666312",
   "metadata": {},
   "outputs": [
    {
     "name": "stdout",
     "output_type": "stream",
     "text": [
      "Null Values by Column: \n",
      "                      count  percentage\n",
      "production_companies    236        3.48\n",
      "production_countries     68        1.00\n",
      "cast                     17        0.25\n",
      "overview                 12        0.18\n",
      "runtime                   4        0.06\n",
      "crew                      3        0.04\n",
      "genres                    3        0.04\n",
      "id                        0        0.00\n",
      "title                     0        0.00\n",
      "budget                    0        0.00\n",
      "popularity                0        0.00\n",
      "revenue                   0        0.00\n",
      "vote_average              0        0.00\n",
      "vote_count                0        0.00\n",
      "keywords                  0        0.00\n",
      "release_date              0        0.00\n",
      " \n",
      " Total Number of Missing Values: 343 \n",
      "\n",
      " Proportion of Nulls in Dataframe: 0.0032\n",
      "\n",
      "--------------------------------------\n",
      "--------------------------------------\n",
      "Row-by-Row Nulls\n",
      "                 percent_cols_missing  num_rows\n",
      "num_cols_missing                               \n",
      "1                                6.25       207\n",
      "3                               18.75         6\n",
      "2                                12.5        59\n",
      "0                                 0.0      6502\n",
      "----------------------\n"
     ]
    }
   ],
   "source": [
    "prep.nulls(df)"
   ]
  },
  {
   "cell_type": "code",
   "execution_count": 35,
   "id": "5d324fb1-9a30-40d1-9874-ff6c7b979e54",
   "metadata": {},
   "outputs": [],
   "source": [
    "# now with production companies\n",
    "df = df.dropna(subset=['production_companies'])"
   ]
  },
  {
   "cell_type": "code",
   "execution_count": 36,
   "id": "66cd80f6-d8c5-4906-9c96-9b4795025807",
   "metadata": {},
   "outputs": [
    {
     "name": "stdout",
     "output_type": "stream",
     "text": [
      "Null Values by Column: \n",
      "                      count  percentage\n",
      "production_countries     19        0.29\n",
      "overview                 11        0.17\n",
      "cast                      5        0.08\n",
      "runtime                   4        0.06\n",
      "crew                      2        0.03\n",
      "genres                    1        0.02\n",
      "id                        0        0.00\n",
      "title                     0        0.00\n",
      "budget                    0        0.00\n",
      "popularity                0        0.00\n",
      "production_companies      0        0.00\n",
      "revenue                   0        0.00\n",
      "vote_average              0        0.00\n",
      "vote_count                0        0.00\n",
      "keywords                  0        0.00\n",
      "release_date              0        0.00\n",
      " \n",
      " Total Number of Missing Values: 42 \n",
      "\n",
      " Proportion of Nulls in Dataframe: 0.0004\n",
      "\n",
      "--------------------------------------\n",
      "--------------------------------------\n",
      "Row-by-Row Nulls\n",
      "                 percent_cols_missing  num_rows\n",
      "num_cols_missing                               \n",
      "1                                6.25        31\n",
      "3                               18.75         1\n",
      "2                                12.5         4\n",
      "0                                 0.0      6502\n",
      "----------------------\n"
     ]
    }
   ],
   "source": [
    "prep.nulls(df)"
   ]
  },
  {
   "cell_type": "code",
   "execution_count": 37,
   "id": "4ae8955c-0f3b-485a-b59e-509b1de65a0e",
   "metadata": {},
   "outputs": [
    {
     "data": {
      "text/plain": [
       "(6538, 16)"
      ]
     },
     "execution_count": 37,
     "metadata": {},
     "output_type": "execute_result"
    }
   ],
   "source": [
    "df.shape"
   ]
  },
  {
   "cell_type": "code",
   "execution_count": 72,
   "id": "f28894e5-d4ba-49a6-8580-65dbaa50dbc6",
   "metadata": {},
   "outputs": [],
   "source": [
    "# now I will drop the rest. \n",
    "df = df.dropna()"
   ]
  },
  {
   "cell_type": "code",
   "execution_count": 39,
   "id": "75e0e90f-9642-47a5-b573-61c0f065fe6c",
   "metadata": {},
   "outputs": [
    {
     "data": {
      "text/plain": [
       "(6502, 16)"
      ]
     },
     "execution_count": 39,
     "metadata": {},
     "output_type": "execute_result"
    }
   ],
   "source": [
    "df.shape"
   ]
  },
  {
   "cell_type": "code",
   "execution_count": 40,
   "id": "5d59718d-13b9-400d-83b5-0c12b45b7bdd",
   "metadata": {},
   "outputs": [],
   "source": [
    "df2 = df2.dropna()"
   ]
  },
  {
   "cell_type": "code",
   "execution_count": 41,
   "id": "8762fcbe-dd17-4653-83c6-1b1e12b7d5e9",
   "metadata": {},
   "outputs": [
    {
     "data": {
      "text/plain": [
       "(6502, 16)"
      ]
     },
     "execution_count": 41,
     "metadata": {},
     "output_type": "execute_result"
    }
   ],
   "source": [
    "df2.shape"
   ]
  },
  {
   "cell_type": "code",
   "execution_count": null,
   "id": "134ab40e-fc94-4130-9421-20cb9f9f08fa",
   "metadata": {},
   "outputs": [],
   "source": [
    "# the same result. "
   ]
  },
  {
   "cell_type": "code",
   "execution_count": 47,
   "id": "1516d429-8021-428d-ad43-533f03af0f6a",
   "metadata": {},
   "outputs": [],
   "source": [
    "# check for duplicates:\n",
    "df['duplicate'] = df.duplicated()"
   ]
  },
  {
   "cell_type": "code",
   "execution_count": 52,
   "id": "36c3cf45-76a6-492d-a9b6-29f4de457713",
   "metadata": {},
   "outputs": [
    {
     "data": {
      "text/plain": [
       "cast                    53\n",
       "crew                    53\n",
       "id                      53\n",
       "title                   53\n",
       "genres                  53\n",
       "budget                  53\n",
       "overview                53\n",
       "popularity              53\n",
       "production_companies    53\n",
       "production_countries    53\n",
       "revenue                 53\n",
       "runtime                 53\n",
       "vote_average            53\n",
       "vote_count              53\n",
       "keywords                53\n",
       "release_date            53\n",
       "duplicate               53\n",
       "dtype: int64"
      ]
     },
     "execution_count": 52,
     "metadata": {},
     "output_type": "execute_result"
    }
   ],
   "source": [
    "dups = df[df['duplicate'] == True]\n",
    "# at this point I am reminded of the films where budgets are zero. \n",
    "# these indicate reissues or re-releases, and in the event we label a film as being successful\n",
    "# on the basis of revenue == 2x budget, for example, these have an unfair, inaccurate advantage.\n",
    "# I am removing all films where the budget is equal to zero. Then I will check duplicates again. \n",
    "dups.count()\n",
    "# something is definitely weird about this. "
   ]
  },
  {
   "cell_type": "code",
   "execution_count": 74,
   "id": "9e63b8fb-b5a7-4e95-b1c5-3e880e2bbe10",
   "metadata": {},
   "outputs": [
    {
     "data": {
      "text/plain": [
       "5013    False\n",
       "3972    False\n",
       "6232    False\n",
       "3745    False\n",
       "5270    False\n",
       "        ...  \n",
       "953     False\n",
       "4451    False\n",
       "4450    False\n",
       "4449    False\n",
       "7451    False\n",
       "Length: 6502, dtype: bool"
      ]
     },
     "execution_count": 74,
     "metadata": {},
     "output_type": "execute_result"
    }
   ],
   "source": [
    "# regardless, I will keep first, where the budget is not zero, and drop the rest. one way to do that \n",
    "# is to first resort the dataframe. \n",
    "df = df.sort_values(by='budget', ascending=False, na_position='last')\n",
    "# keep first instance of the duplicate\n",
    "df.duplicated(keep='first')"
   ]
  },
  {
   "cell_type": "code",
   "execution_count": 91,
   "id": "b83710d3-364c-4815-90e5-ebd9ccec4bc7",
   "metadata": {},
   "outputs": [],
   "source": [
    "# in case something goes wrong \n",
    "df_safe = df.copy()\n",
    "# change inplace to True if the results are good, for the prepare function\n",
    "df = df.drop_duplicates(subset=None, keep='first', inplace=False, ignore_index=True)"
   ]
  },
  {
   "cell_type": "code",
   "execution_count": 76,
   "id": "d6b7e3b4-4b47-49a9-86b0-425fa817883a",
   "metadata": {},
   "outputs": [
    {
     "data": {
      "text/plain": [
       "(6449, 16)"
      ]
     },
     "execution_count": 76,
     "metadata": {},
     "output_type": "execute_result"
    }
   ],
   "source": [
    "df.shape\n",
    "# duplicates are gone. "
   ]
  },
  {
   "cell_type": "code",
   "execution_count": 78,
   "id": "f81aefb6-4476-4017-adb0-99c5d4ca506a",
   "metadata": {},
   "outputs": [
    {
     "data": {
      "text/plain": [
       "cast                    1539\n",
       "crew                    1539\n",
       "id                      1539\n",
       "title                   1539\n",
       "genres                  1539\n",
       "budget                  1539\n",
       "overview                1539\n",
       "popularity              1539\n",
       "production_companies    1539\n",
       "production_countries    1539\n",
       "revenue                 1539\n",
       "runtime                 1539\n",
       "vote_average            1539\n",
       "vote_count              1539\n",
       "keywords                1539\n",
       "release_date            1539\n",
       "dtype: int64"
      ]
     },
     "execution_count": 78,
     "metadata": {},
     "output_type": "execute_result"
    }
   ],
   "source": [
    "df[df['budget'] == 0].count()"
   ]
  },
  {
   "cell_type": "markdown",
   "id": "65b9ba7c-29aa-49dd-be74-20a5058639b9",
   "metadata": {},
   "source": [
    "Hold the phone. That's way more than I thought. We may need to actually handle this based on imputation. "
   ]
  },
  {
   "cell_type": "code",
   "execution_count": 77,
   "id": "0ac5e77c-877e-4f78-aac7-3bb08af5ddb6",
   "metadata": {},
   "outputs": [
    {
     "data": {
      "text/plain": [
       "(6449, 16)"
      ]
     },
     "execution_count": 77,
     "metadata": {},
     "output_type": "execute_result"
    }
   ],
   "source": [
    "df.shape"
   ]
  },
  {
   "cell_type": "markdown",
   "id": "26fbb705-16ba-4a7d-9ed2-402f9abd58c9",
   "metadata": {},
   "source": [
    "***\n",
    "One thing I just realized is that the actors (cast) aren't listed in alphabetical order, meaning that they are cast (most likely) first in terms of prominence, and then as a matter of appearance. There is a way to extract the top 3 actors. But with the way the DF currently is, i will need to collaborate with my teams on that. Worth consideration. \n",
    "***"
   ]
  },
  {
   "cell_type": "code",
   "execution_count": 81,
   "id": "e6d9891e-7b94-4870-85bc-d2ab40464d56",
   "metadata": {},
   "outputs": [],
   "source": [
    "## create year column\n",
    "## convert release_date to have same format\n",
    "#for index, row in df.iterrows():\n",
    "#    try:\n",
    "#        date = parser.parse(row['release_date'])\n",
    "#        year = date.year\n",
    "#        newDate = f'{date.year}-{date.month}-{date.day}'\n",
    "#    except:     # if release_date is empty\n",
    "#        year = np.nan\n",
    "#        newDate = np.nan\n",
    "#\n",
    "#    df.at[index, 'year'] = year\n",
    "#    df.at[index, 'release_date'] = newDate"
   ]
  },
  {
   "cell_type": "code",
   "execution_count": 93,
   "id": "0cca2958-dabf-4343-ba27-e8b7cc5fd4f3",
   "metadata": {},
   "outputs": [],
   "source": [
    "df = df_safe.copy()"
   ]
  },
  {
   "cell_type": "code",
   "execution_count": 95,
   "id": "b47e6645-54da-4318-97b6-10fe33975935",
   "metadata": {},
   "outputs": [],
   "source": [
    "df['release_date'] = df['release_date'].astype('datetime64[ns]')"
   ]
  },
  {
   "cell_type": "code",
   "execution_count": 96,
   "id": "e828b0af-50ce-4457-894f-2c996232645c",
   "metadata": {},
   "outputs": [
    {
     "data": {
      "text/plain": [
       "cast                            object\n",
       "crew                            object\n",
       "id                               int64\n",
       "title                           object\n",
       "genres                          object\n",
       "budget                           int64\n",
       "overview                        object\n",
       "popularity                     float64\n",
       "production_companies            object\n",
       "production_countries            object\n",
       "revenue                        float64\n",
       "runtime                        float64\n",
       "vote_average                   float64\n",
       "vote_count                     float64\n",
       "keywords                        object\n",
       "release_date            datetime64[ns]\n",
       "dtype: object"
      ]
     },
     "execution_count": 96,
     "metadata": {},
     "output_type": "execute_result"
    }
   ],
   "source": [
    "df.dtypes"
   ]
  },
  {
   "cell_type": "code",
   "execution_count": 97,
   "id": "f05c9497-be2e-4e35-8b5f-b9e98cec24a7",
   "metadata": {},
   "outputs": [
    {
     "data": {
      "text/plain": [
       "0      2011-05-14\n",
       "1      2007-05-19\n",
       "2      2015-04-22\n",
       "3      2006-06-28\n",
       "4      2012-03-07\n",
       "          ...    \n",
       "6444   1982-05-21\n",
       "6445   2009-02-08\n",
       "6446   1992-05-01\n",
       "6447   2009-02-06\n",
       "6448   2014-03-13\n",
       "Name: release_date, Length: 6449, dtype: datetime64[ns]"
      ]
     },
     "execution_count": 97,
     "metadata": {},
     "output_type": "execute_result"
    }
   ],
   "source": [
    "df.release_date"
   ]
  },
  {
   "cell_type": "code",
   "execution_count": 32,
   "id": "6fa09145-7e27-43ff-b371-bdebdd1228e4",
   "metadata": {},
   "outputs": [],
   "source": [
    "# testing prepare function\n",
    "df = prep.prep_data(df)"
   ]
  },
  {
   "cell_type": "code",
   "execution_count": 5,
   "id": "e9708375-c5d7-4f82-8d2f-21e21cbe3733",
   "metadata": {},
   "outputs": [
    {
     "data": {
      "text/plain": [
       "(6449, 16)"
      ]
     },
     "execution_count": 5,
     "metadata": {},
     "output_type": "execute_result"
    }
   ],
   "source": [
    "df.shape"
   ]
  },
  {
   "cell_type": "code",
   "execution_count": 6,
   "id": "2b4952a5-e121-4200-a582-9dfc27572315",
   "metadata": {},
   "outputs": [],
   "source": [
    "test = df[df.release_date >= '2000-01-01']"
   ]
  },
  {
   "cell_type": "code",
   "execution_count": 7,
   "id": "4915a863-4727-487e-a3db-bde167277970",
   "metadata": {},
   "outputs": [
    {
     "data": {
      "text/plain": [
       "(3851, 16)"
      ]
     },
     "execution_count": 7,
     "metadata": {},
     "output_type": "execute_result"
    }
   ],
   "source": [
    "test.shape"
   ]
  },
  {
   "cell_type": "code",
   "execution_count": null,
   "id": "bb2208d2-dd70-46a0-86f6-49b78b213ae1",
   "metadata": {},
   "outputs": [],
   "source": [
    "# removing dates based on arbitrarily capturing 'modern cinema' would be too much\n",
    "# of a loss at this juncture. "
   ]
  },
  {
   "cell_type": "code",
   "execution_count": 15,
   "id": "526be42e-71de-41b4-9f33-dffab2b56953",
   "metadata": {},
   "outputs": [
    {
     "data": {
      "text/plain": [
       "10000000.0"
      ]
     },
     "execution_count": 15,
     "metadata": {},
     "output_type": "execute_result"
    }
   ],
   "source": [
    "df['budget'].median()"
   ]
  },
  {
   "cell_type": "code",
   "execution_count": 16,
   "id": "46c50a4c-b6ef-4f32-acd5-0132f50ebfce",
   "metadata": {},
   "outputs": [
    {
     "data": {
      "text/plain": [
       "25213064.972088695"
      ]
     },
     "execution_count": 16,
     "metadata": {},
     "output_type": "execute_result"
    }
   ],
   "source": [
    "df['budget'].mean()"
   ]
  },
  {
   "cell_type": "code",
   "execution_count": 17,
   "id": "00cb6c15-ca75-4902-b2ba-1d96812933b4",
   "metadata": {},
   "outputs": [
    {
     "data": {
      "text/plain": [
       "6448            0\n",
       "5415            0\n",
       "5416            0\n",
       "5417            0\n",
       "5418            0\n",
       "          ...    \n",
       "4       260000000\n",
       "3       270000000\n",
       "2       280000000\n",
       "1       300000000\n",
       "0       380000000\n",
       "Name: budget, Length: 6449, dtype: int64"
      ]
     },
     "execution_count": 17,
     "metadata": {},
     "output_type": "execute_result"
    }
   ],
   "source": [
    "df.budget.sort_values()"
   ]
  },
  {
   "cell_type": "code",
   "execution_count": 18,
   "id": "4da78b5f-570f-4dba-9a8a-481545852e36",
   "metadata": {},
   "outputs": [],
   "source": [
    "# df['budget'] = df['budget'].fillna(df['budget'].median())\n",
    "# zero is not NaN. Silly me. "
   ]
  },
  {
   "cell_type": "code",
   "execution_count": 21,
   "id": "32c785c0-96bb-44e3-ab1f-b4a2e4576b2f",
   "metadata": {},
   "outputs": [],
   "source": [
    "df['budget'] = df['budget'].replace(0, df['budget'].median())"
   ]
  },
  {
   "cell_type": "code",
   "execution_count": 22,
   "id": "0b63892a-2e72-43c2-869b-d6bc039b74ad",
   "metadata": {},
   "outputs": [
    {
     "data": {
      "text/plain": [
       "4909            1\n",
       "4908            1\n",
       "4907            1\n",
       "4906            1\n",
       "4905            1\n",
       "          ...    \n",
       "4       260000000\n",
       "3       270000000\n",
       "2       280000000\n",
       "1       300000000\n",
       "0       380000000\n",
       "Name: budget, Length: 6449, dtype: int64"
      ]
     },
     "execution_count": 22,
     "metadata": {},
     "output_type": "execute_result"
    }
   ],
   "source": [
    "df.budget.sort_values()"
   ]
  },
  {
   "cell_type": "code",
   "execution_count": 25,
   "id": "feb6ccb1-055b-41d1-832b-afacf03d0d04",
   "metadata": {},
   "outputs": [
    {
     "ename": "SyntaxError",
     "evalue": "invalid syntax (3752837760.py, line 1)",
     "output_type": "error",
     "traceback": [
      "\u001b[0;36m  File \u001b[0;32m\"/var/folders/qn/sd1_3x2j4196db03067vql600000gn/T/ipykernel_7871/3752837760.py\"\u001b[0;36m, line \u001b[0;32m1\u001b[0m\n\u001b[0;31m    df['budget'] = df['budget'].replace(<= 100000, df['budget'].median())\u001b[0m\n\u001b[0m                                        ^\u001b[0m\n\u001b[0;31mSyntaxError\u001b[0m\u001b[0;31m:\u001b[0m invalid syntax\n"
     ]
    }
   ],
   "source": [
    "df['budget'] = df['budget'].replace(<= 100000, df['budget'].median())"
   ]
  },
  {
   "cell_type": "code",
   "execution_count": 28,
   "id": "ba30f742-118c-4741-aa0c-74c8a7eea23a",
   "metadata": {},
   "outputs": [],
   "source": [
    "df2 = df.copy()"
   ]
  },
  {
   "cell_type": "code",
   "execution_count": 64,
   "id": "587fa225-33c3-466c-9329-e9acb6f95a40",
   "metadata": {},
   "outputs": [],
   "source": [
    "df2['budget'] = np.where(df['budget'].between(0,1000000), df['budget'].median(), df['budget'])"
   ]
  },
  {
   "cell_type": "code",
   "execution_count": null,
   "id": "be396cd1-e2ad-4101-b395-ee267b64d3cc",
   "metadata": {},
   "outputs": [],
   "source": [
    "# range1 = np.where(df['budget'].between(0,100), df['budget'].median(), df['budget'])\n",
    "# range2 = np.where(df['budget'].between(101,1000), df['budget'].median(), df['budget'])\n",
    "# range3 = np.where(df['budget'].between(1001,10000), df['budget'].median(), df['budget'])\n",
    "# range4 = np.where(df['budget'].between(10001,100000), df['budget'].median(), df['budget'])"
   ]
  },
  {
   "cell_type": "code",
   "execution_count": 70,
   "id": "fd1166a2-7cf6-40d2-bbc2-d88ed05961b0",
   "metadata": {},
   "outputs": [],
   "source": [
    "#df2['Decile_rank'] = pd.qcut(df2['budget'], 10, labels = False)"
   ]
  },
  {
   "cell_type": "code",
   "execution_count": 66,
   "id": "c1faf77e-b00c-4ec2-9ad0-dc4d3678c16f",
   "metadata": {},
   "outputs": [
    {
     "data": {
      "text/plain": [
       "10000000.0"
      ]
     },
     "execution_count": 66,
     "metadata": {},
     "output_type": "execute_result"
    }
   ],
   "source": [
    "df2.budget.median() "
   ]
  },
  {
   "cell_type": "code",
   "execution_count": 69,
   "id": "4db319b3-30c9-4587-b481-0af5c390fca6",
   "metadata": {},
   "outputs": [
    {
     "data": {
      "text/html": [
       "<div><div id=93c8cf29-2fe1-4cbf-b4ac-a1908b022719 style=\"display:none; background-color:#9D6CFF; color:white; width:200px; height:30px; padding-left:5px; border-radius:4px; flex-direction:row; justify-content:space-around; align-items:center;\" onmouseover=\"this.style.backgroundColor='#BA9BF8'\" onmouseout=\"this.style.backgroundColor='#9D6CFF'\" onclick=\"window.commands?.execute('create-mitosheet-from-dataframe-output');\">See Full Dataframe in Mito</div> <script> if (window.commands?.hasCommand('create-mitosheet-from-dataframe-output')) document.getElementById('93c8cf29-2fe1-4cbf-b4ac-a1908b022719').style.display = 'flex' </script> <table border=\"1\" class=\"dataframe\">\n",
       "  <thead>\n",
       "    <tr style=\"text-align: right;\">\n",
       "      <th></th>\n",
       "      <th>cast</th>\n",
       "      <th>crew</th>\n",
       "      <th>id</th>\n",
       "      <th>title</th>\n",
       "      <th>genres</th>\n",
       "      <th>budget</th>\n",
       "      <th>overview</th>\n",
       "      <th>popularity</th>\n",
       "      <th>production_companies</th>\n",
       "      <th>production_countries</th>\n",
       "      <th>revenue</th>\n",
       "      <th>runtime</th>\n",
       "      <th>vote_average</th>\n",
       "      <th>vote_count</th>\n",
       "      <th>keywords</th>\n",
       "      <th>release_date</th>\n",
       "    </tr>\n",
       "  </thead>\n",
       "  <tbody>\n",
       "    <tr>\n",
       "      <th>0</th>\n",
       "      <td>johnnydepp penélopecruz ianmcshane kevinmcnally geoffreyrush samclaflin astridbergès-frisbey stephengraham gregellis damiano'hare óscarjaenada richardgriffiths keithrichards gemmaward judidench ianmercer robbiekay christopherfairbank yukimatsuzaki steveevets bronsonwebb derekmears deobiaoparei sebastianarmesto antonlesser rogerallam paulbazely richardthomson dannyleboyer alanj.utley-moore lukeroberts emiliajones sanyahughes danielings lejon siegfriedpeters</td>\n",
       "      <td>dariuszwolski jerrybruckheimer tedelliott terryrossio terryrossio hanszimmer mikestenson chadoman christopherboyes pennyrose bobbadami davidbrenner shannonmills deeselby barryh.waldman gordonsim johnmyhre robmarshall paulmassey kevinkaska veneill johndeluca missyparker michaelhertlein margitpfeiffer kerrylynmckissick wyattsmith melissamuik melissamuik georgewattersii petermountain davidc.hughes barbaramcdermott kenfischer adamkopald aaronwilliams elizabethmcclurg katialewinjablonsky leeorloff</td>\n",
       "      <td>1865</td>\n",
       "      <td>pirates of the caribbean: on stranger tides</td>\n",
       "      <td>adventure action fantasy</td>\n",
       "      <td>380000000.0</td>\n",
       "      <td>captain jack sparrow crosses paths with a woman from his past, and he's not sure if it's love -- or if she's a ruthless con artist who's using him to find the fabled fountain of youth. when she forces him aboard the queen anne's revenge, the ship of the formidable pirate blackbeard, jack finds himself on an unexpected adventure in which he doesn't know who to fear more: blackbeard or the woman from his past.</td>\n",
       "      <td>27.887720</td>\n",
       "      <td>waltdisneypictures jerrybruckheimerfilms movingpicturecompany(mpc)</td>\n",
       "      <td>unitedstatesofamerica</td>\n",
       "      <td>1.045714e+09</td>\n",
       "      <td>136.0</td>\n",
       "      <td>6.4</td>\n",
       "      <td>5068.0</td>\n",
       "      <td>sea captain mutiny sword prime minister sailing silver ship duke mermaid pirate soldier battle swashbuckler aftercreditsstinger 3d</td>\n",
       "      <td>2011-05-14</td>\n",
       "    </tr>\n",
       "    <tr>\n",
       "      <th>1</th>\n",
       "      <td>johnnydepp orlandobloom keiraknightley stellanskarsgård chowyun-fat billnighy geoffreyrush jackdavenport kevinmcnally tomhollander naomieharris jonathanpryce keithrichards leearenberg mackenziecrook gregellis davidbailie martinklebba davidschofield laurenmaher vanessabranch angusbarnett gilesnew reggielee dominicscottkay takayofischer davidmeunier ho-kwantse andybeckwith peterdonaldbadalamentiii christophers.capp keithrichards hakeemkae-kazim ghassanmassoud</td>\n",
       "      <td>dariuszwolski goreverbinski jerrybruckheimer tedelliott terryrossio stephene.rivkin craigwood hanszimmer mikestenson ericmcleod chadoman peterkohn patsandston denisechamian rickheinrichs johndexter priscillajohn cherylcarasik lizdann pennyrose bobbadami jameswardbyrkit veneill johndixon dottiestarling pamelaalch allenhall melissamuik sharronreynolds barbaramcdermott karengolden katiegreathouse</td>\n",
       "      <td>285</td>\n",
       "      <td>pirates of the caribbean: at world's end</td>\n",
       "      <td>adventure fantasy action</td>\n",
       "      <td>300000000.0</td>\n",
       "      <td>captain barbossa, long believed to be dead, has come back to life and is headed to the edge of the earth with will turner and elizabeth swann. but nothing is quite as it seems.</td>\n",
       "      <td>31.363664</td>\n",
       "      <td>waltdisneypictures jerrybruckheimerfilms secondmateproductions</td>\n",
       "      <td>unitedstatesofamerica</td>\n",
       "      <td>9.610000e+08</td>\n",
       "      <td>169.0</td>\n",
       "      <td>6.9</td>\n",
       "      <td>4627.0</td>\n",
       "      <td>ocean drug abuse exotic island east india trading company love of one's life traitor shipwreck strong woman ship alliance calypso afterlife fighter pirate swashbuckler aftercreditsstinger</td>\n",
       "      <td>2007-05-19</td>\n",
       "    </tr>\n",
       "    <tr>\n",
       "      <th>2</th>\n",
       "      <td>robertdowneyjr. chrishemsworth markruffalo chrisevans scarlettjohansson jeremyrenner jamesspader samuell.jackson doncheadle aarontaylor-johnson elizabetholsen paulbettany cobiesmulders anthonymackie hayleyatwell idriselba lindacardellini stellanskarsgård claudiakim thomaskretschmann andyserkis juliedelpy stanlee henrygoodman chrisluca brianschaeffer dominiqueprovost-chalkley isaacandrews garethkieranjones chanwoolim minheeyeo bentleykalu julianbleach christopherbeasley vuyodabula nondumisotembe kabelothai leleleowaba mandlagaduka harrietmanamela beulahhashe muscakumalo mathapeloseptember antonyacheampong chiomaanyanwu bensakamoto imogenpoynton isabellapoynton ingvilddeila sunnyyeo namjugo minakweon earlt.kim arthurlee verityhewlett michaelmatovski almanoce riccardorichetta constanzaruff montymclaren-clark juliakrynke tonychristensen iankay barryaird aaronhimelstein kerrycondon jaidenstafford dilyanabouklieva joshbrolin jotinagra nickw.nicholson danielwestwood</td>\n",
       "      <td>dannyelfman christopherboyes christopherboyes sarahfinn briantyler stanlee stanlee kevinfeige richardroberts patriciawhitcher josswhedon josswhedon alexandrabyrne jeffreyford bendavis jackkirby jonfavreau charleswood louisd'esposito alanfine victoriaalonso jeremylatcham mikestallion regpoerscout-edgerton lisalassek nicholassimon raychan mitchellbell bjmcdonnell davidacord dangrace thomasbrown jordancrockett markswain lorahirschberg philsims sheonamitchley franke.eulner daniels.kaminsky marshallwinn jaymaidment matthewrobinson davidchrastka johngamble julianmorson samrenton clivejackson neilfingleton jeremybraben mikevalentine chriso'connell marcchu nadavehrlich mannieferreira garysummers johnmahaffie markmoriarty stefanstankowski stephenenticott janewu briann.bentley anthonyrizzo leonardf.w.green katywood lucamarcoparacels richardroles domenicosica chris'flimsy'howes stefanodenardis benvokes kis.hwang derekwalker jae-hyeoklee jamiechristopher</td>\n",
       "      <td>99861</td>\n",
       "      <td>avengers: age of ultron</td>\n",
       "      <td>action adventure science fiction</td>\n",
       "      <td>280000000.0</td>\n",
       "      <td>when tony stark tries to jumpstart a dormant peacekeeping program, things go awry and earth’s mightiest heroes are put to the ultimate test as the fate of the planet hangs in the balance. as the villainous ultron emerges, it is up to the avengers to stop him from enacting his terrible plans, and soon uneasy alliances and unexpected action pave the way for an epic and unique global adventure.</td>\n",
       "      <td>37.379420</td>\n",
       "      <td>marvelstudios primefocus revolutionsunstudios</td>\n",
       "      <td>unitedstatesofamerica</td>\n",
       "      <td>1.405404e+09</td>\n",
       "      <td>141.0</td>\n",
       "      <td>7.3</td>\n",
       "      <td>6908.0</td>\n",
       "      <td>marvel comic sequel superhero based on comic vision superhero team duringcreditsstinger marvel cinematic universe 3d</td>\n",
       "      <td>2015-04-22</td>\n",
       "    </tr>\n",
       "    <tr>\n",
       "      <th>3</th>\n",
       "      <td>brandonrouth kevinspacey katebosworth jamesmarsden parkerposey franklangella samhuntington evamariesaint marlonbrando kalpenn tristanlakeleabu davidfabrizio ianroberts vincentstone jacklarson noelneill keeganjoyce jordanabeatty</td>\n",
       "      <td>rogermussenden jonpeters dianemacke gilbertadler bryansinger bryansinger bryansinger johnottman johnottman newtonthomassigel michaeldougherty michaeldougherty jerrysiegel joeshuster chrislee thomastull williamfay elliotgraham scottmednick annrobinson danharris danharris stephenjones guyhendrixdyas</td>\n",
       "      <td>1452</td>\n",
       "      <td>superman returns</td>\n",
       "      <td>adventure fantasy action science fiction</td>\n",
       "      <td>270000000.0</td>\n",
       "      <td>superman returns to discover his 5-year absence has allowed lex luthor to walk free, and that those he was closest too felt abandoned and have moved on. luthor plots his ultimate revenge that could see millions killed and change the face of the planet forever, as well as ridding himself of the man of steel.</td>\n",
       "      <td>13.284712</td>\n",
       "      <td>dccomics legendarypictures warnerbros. badhatharryproductions</td>\n",
       "      <td>unitedstatesofamerica</td>\n",
       "      <td>3.910812e+08</td>\n",
       "      <td>154.0</td>\n",
       "      <td>5.4</td>\n",
       "      <td>1429.0</td>\n",
       "      <td>saving the world dc comics invulnerability sequel superhero based on comic kryptonite super powers superhuman strength lex luthor</td>\n",
       "      <td>2006-06-28</td>\n",
       "    </tr>\n",
       "    <tr>\n",
       "      <th>4</th>\n",
       "      <td>taylorkitsch lynncollins samanthamorton willemdafoe thomashadenchurch markstrong ciaránhinds dominicwest jamespurefoy bryancranston pollywalker darylsabara arkiereece davoodghadami pippanixon jamesembree philipphilmar emilytierney edmundkente nicholaswoodeson kyleagnew donstark joshdaugherty jaredcyr christophergoodman amandaclayton josephbillingiere stevencree</td>\n",
       "      <td>andrewstanton andrewstanton johnlasseter colinwilson gailstevens tomjohnson ericzumbrunnen michaelsilvers juanperalta paulgooch pakismith edcatmull stevejobs billcorso robertwoodruff nathancrowley michaelgiacchino danielmindel stephenm.davis johnking mayesc.rubeo naamanmarshall scottzuber philharvey timsimonec veronicamcaleer edgarriceburroughs marciaross petergabriel christientinsley hollydorff jimmorris lindseycollins michaelchabon janfoster johnskotchdopole chrismunro peterchiang markandrews jonathannull colinjones veneill brittainyroberts jeremyturner deanwolcott markharris jameshambidge lorikorngiebel davidkrentz chriscorbould colleenkelsall bobroath darrelll.wight bryanandrews dennisliddiard kevinhaney joshlusby jamiewilkinson rogerguyett dennycaira suerowe tobyspigel marshallwinn michaelsemanick peterdorme perryevans anniepenn timnielsen timnielsen jennelee theodoresharps josephhodges philippecarr-forster christopherprampin colinanderson colinanderson jenniferteves kimayers danielbarrow debbisalmon paulaprice frankconnor j.r.grubbs deborahrutherford donrutherford malcolmfife tobybritton kevinalexander kristiematthiae geraldquist nuriambomio eamonnbutler laurajennings ailbhelemass simonfinney erynkruegermekash traviswitkowski mikemekash kirstinchalmers kacieseamons deborahtaylor ryanchurch camillehenderson tomstruthers liamgeorgensen laviniawaters gregt.moon richarddaldry stephenfinn tomcastronovo katherinemccormack steveharding erikjessen tommygormley sarahginn bendixon andrewm.ward staceynewton rachelcorbould jakehall gemmarichards sarariesel paulboyce mandygold candicebanks garymachin noelespinosa meredithhumbracht garyhymns thomasgibson dantonburroughs karinsilvestri</td>\n",
       "      <td>49529</td>\n",
       "      <td>john carter</td>\n",
       "      <td>action adventure science fiction</td>\n",
       "      <td>260000000.0</td>\n",
       "      <td>john carter is a war-weary, former military captain who's inexplicably transported to the mysterious and exotic planet of barsoom (mars) and reluctantly becomes embroiled in an epic conflict. it's a world on the brink of collapse, and carter rediscovers his humanity when he realizes the survival of barsoom and its people rests in his hands.</td>\n",
       "      <td>14.670353</td>\n",
       "      <td>waltdisneypictures</td>\n",
       "      <td>unitedstatesofamerica</td>\n",
       "      <td>2.841391e+08</td>\n",
       "      <td>132.0</td>\n",
       "      <td>6.1</td>\n",
       "      <td>2170.0</td>\n",
       "      <td>based on novel mars medallion space travel princess alien steampunk martian escape edgar rice burroughs alien race superhuman strength mars civilization sword and planet 19th century 3d</td>\n",
       "      <td>2012-03-07</td>\n",
       "    </tr>\n",
       "  </tbody>\n",
       "</table></div>"
      ],
      "text/plain": [
       "                                                cast  \\\n",
       "0  johnnydepp penélopecruz ianmcshane kevinmcnall...   \n",
       "1  johnnydepp orlandobloom keiraknightley stellan...   \n",
       "2  robertdowneyjr. chrishemsworth markruffalo chr...   \n",
       "3  brandonrouth kevinspacey katebosworth jamesmar...   \n",
       "4  taylorkitsch lynncollins samanthamorton willem...   \n",
       "\n",
       "                                                crew     id  \\\n",
       "0  dariuszwolski jerrybruckheimer tedelliott terr...   1865   \n",
       "1  dariuszwolski goreverbinski jerrybruckheimer t...    285   \n",
       "2  dannyelfman christopherboyes christopherboyes ...  99861   \n",
       "3  rogermussenden jonpeters dianemacke gilbertadl...   1452   \n",
       "4  andrewstanton andrewstanton johnlasseter colin...  49529   \n",
       "\n",
       "                                         title  \\\n",
       "0  pirates of the caribbean: on stranger tides   \n",
       "1     pirates of the caribbean: at world's end   \n",
       "2                      avengers: age of ultron   \n",
       "3                             superman returns   \n",
       "4                                  john carter   \n",
       "\n",
       "                                     genres       budget  \\\n",
       "0                  adventure action fantasy  380000000.0   \n",
       "1                  adventure fantasy action  300000000.0   \n",
       "2          action adventure science fiction  280000000.0   \n",
       "3  adventure fantasy action science fiction  270000000.0   \n",
       "4          action adventure science fiction  260000000.0   \n",
       "\n",
       "                                            overview  popularity  \\\n",
       "0  captain jack sparrow crosses paths with a woma...   27.887720   \n",
       "1  captain barbossa, long believed to be dead, ha...   31.363664   \n",
       "2  when tony stark tries to jumpstart a dormant p...   37.379420   \n",
       "3  superman returns to discover his 5-year absenc...   13.284712   \n",
       "4  john carter is a war-weary, former military ca...   14.670353   \n",
       "\n",
       "                                production_companies   production_countries  \\\n",
       "0  waltdisneypictures jerrybruckheimerfilms movin...  unitedstatesofamerica   \n",
       "1  waltdisneypictures jerrybruckheimerfilms secon...  unitedstatesofamerica   \n",
       "2      marvelstudios primefocus revolutionsunstudios  unitedstatesofamerica   \n",
       "3  dccomics legendarypictures warnerbros. badhath...  unitedstatesofamerica   \n",
       "4                                 waltdisneypictures  unitedstatesofamerica   \n",
       "\n",
       "        revenue  runtime  vote_average  vote_count  \\\n",
       "0  1.045714e+09    136.0           6.4      5068.0   \n",
       "1  9.610000e+08    169.0           6.9      4627.0   \n",
       "2  1.405404e+09    141.0           7.3      6908.0   \n",
       "3  3.910812e+08    154.0           5.4      1429.0   \n",
       "4  2.841391e+08    132.0           6.1      2170.0   \n",
       "\n",
       "                                            keywords release_date  \n",
       "0  sea captain mutiny sword prime minister sailin...   2011-05-14  \n",
       "1  ocean drug abuse exotic island east india trad...   2007-05-19  \n",
       "2  marvel comic sequel superhero based on comic v...   2015-04-22  \n",
       "3  saving the world dc comics invulnerability seq...   2006-06-28  \n",
       "4  based on novel mars medallion space travel pri...   2012-03-07  "
      ]
     },
     "execution_count": 69,
     "metadata": {},
     "output_type": "execute_result"
    }
   ],
   "source": [
    "df2.head()"
   ]
  },
  {
   "cell_type": "code",
   "execution_count": 22,
   "id": "fa3bc11e-6e82-4d23-a9f2-2b89463c89d7",
   "metadata": {},
   "outputs": [],
   "source": [
    "df = prep.prep_data(df)"
   ]
  },
  {
   "cell_type": "code",
   "execution_count": 4,
   "id": "75cc10f7-5d12-4923-bf44-9bfa9930b1c5",
   "metadata": {},
   "outputs": [
    {
     "data": {
      "text/html": [
       "<div><div id=eff3ef1c-fe49-4b4a-9b12-15b394f638af style=\"display:none; background-color:#9D6CFF; color:white; width:200px; height:30px; padding-left:5px; border-radius:4px; flex-direction:row; justify-content:space-around; align-items:center;\" onmouseover=\"this.style.backgroundColor='#BA9BF8'\" onmouseout=\"this.style.backgroundColor='#9D6CFF'\" onclick=\"window.commands?.execute('create-mitosheet-from-dataframe-output');\">See Full Dataframe in Mito</div> <script> if (window.commands?.hasCommand('create-mitosheet-from-dataframe-output')) document.getElementById('eff3ef1c-fe49-4b4a-9b12-15b394f638af').style.display = 'flex' </script> <table border=\"1\" class=\"dataframe\">\n",
       "  <thead>\n",
       "    <tr style=\"text-align: right;\">\n",
       "      <th></th>\n",
       "      <th>cast</th>\n",
       "      <th>crew</th>\n",
       "      <th>id</th>\n",
       "      <th>title</th>\n",
       "      <th>genres</th>\n",
       "      <th>budget</th>\n",
       "      <th>overview</th>\n",
       "      <th>popularity</th>\n",
       "      <th>production_companies</th>\n",
       "      <th>production_countries</th>\n",
       "      <th>revenue</th>\n",
       "      <th>runtime</th>\n",
       "      <th>vote_average</th>\n",
       "      <th>vote_count</th>\n",
       "      <th>keywords</th>\n",
       "      <th>release_date</th>\n",
       "    </tr>\n",
       "  </thead>\n",
       "  <tbody>\n",
       "    <tr>\n",
       "      <th>0</th>\n",
       "      <td>JohnnyDepp PenélopeCruz IanMcShane KevinMcNally GeoffreyRush SamClaflin AstridBergès-Frisbey StephenGraham GregEllis DamianO'Hare ÓscarJaenada RichardGriffiths KeithRichards GemmaWard JudiDench IanMercer RobbieKay ChristopherFairbank YukiMatsuzaki SteveEvets BronsonWebb DerekMears DeobiaOparei SebastianArmesto AntonLesser RogerAllam PaulBazely RichardThomson DannyLeBoyer AlanJ.Utley-Moore LukeRoberts EmiliaJones SanyaHughes DanielIngs LeJon SiegfriedPeters</td>\n",
       "      <td>DariuszWolski JerryBruckheimer TedElliott TerryRossio TerryRossio HansZimmer MikeStenson ChadOman ChristopherBoyes PennyRose BobBadami DavidBrenner ShannonMills DeeSelby BarryH.Waldman GordonSim JohnMyhre RobMarshall PaulMassey KevinKaska VeNeill JohnDeLuca MissyParker MichaelHertlein MargitPfeiffer KerryLynMcKissick WyattSmith MelissaMuik MelissaMuik GeorgeWattersII PeterMountain DavidC.Hughes BarbaraMcDermott KenFischer AdamKopald AaronWilliams ElizabethMcClurg KatiaLewinJablonsky LeeOrloff</td>\n",
       "      <td>1865</td>\n",
       "      <td>Pirates of the Caribbean: On Stranger Tides</td>\n",
       "      <td>Adventure Action Fantasy</td>\n",
       "      <td>380000000.0</td>\n",
       "      <td>Captain Jack Sparrow crosses paths with a woman from his past, and he's not sure if it's love -- or if she's a ruthless con artist who's using him to find the fabled Fountain of Youth. When she forces him aboard the Queen Anne's Revenge, the ship of the formidable pirate Blackbeard, Jack finds himself on an unexpected adventure in which he doesn't know who to fear more: Blackbeard or the woman from his past.</td>\n",
       "      <td>27.887720</td>\n",
       "      <td>WaltDisneyPictures JerryBruckheimerFilms MovingPictureCompany(MPC)</td>\n",
       "      <td>UnitedStatesofAmerica</td>\n",
       "      <td>1.045714e+09</td>\n",
       "      <td>136.0</td>\n",
       "      <td>6.4</td>\n",
       "      <td>5068.0</td>\n",
       "      <td>sea captain mutiny sword prime minister sailing silver ship duke mermaid pirate soldier battle swashbuckler aftercreditsstinger 3d</td>\n",
       "      <td>2011-05-14</td>\n",
       "    </tr>\n",
       "    <tr>\n",
       "      <th>1</th>\n",
       "      <td>JohnnyDepp OrlandoBloom KeiraKnightley StellanSkarsgård ChowYun-fat BillNighy GeoffreyRush JackDavenport KevinMcNally TomHollander NaomieHarris JonathanPryce KeithRichards LeeArenberg MackenzieCrook GregEllis DavidBailie MartinKlebba DavidSchofield LaurenMaher VanessaBranch AngusBarnett GilesNew ReggieLee DominicScottKay TakayoFischer DavidMeunier Ho-KwanTse AndyBeckwith PeterDonaldBadalamentiII ChristopherS.Capp KeithRichards HakeemKae-Kazim GhassanMassoud</td>\n",
       "      <td>DariuszWolski GoreVerbinski JerryBruckheimer TedElliott TerryRossio StephenE.Rivkin CraigWood HansZimmer MikeStenson EricMcLeod ChadOman PeterKohn PatSandston DeniseChamian RickHeinrichs JohnDexter PriscillaJohn CherylCarasik LizDann PennyRose BobBadami JamesWardByrkit VeNeill JohnDixon DottieStarling PamelaAlch AllenHall MelissaMuik SharronReynolds BarbaraMcDermott KarenGolden KatieGreathouse</td>\n",
       "      <td>285</td>\n",
       "      <td>Pirates of the Caribbean: At World's End</td>\n",
       "      <td>Adventure Fantasy Action</td>\n",
       "      <td>300000000.0</td>\n",
       "      <td>Captain Barbossa, long believed to be dead, has come back to life and is headed to the edge of the Earth with Will Turner and Elizabeth Swann. But nothing is quite as it seems.</td>\n",
       "      <td>31.363664</td>\n",
       "      <td>WaltDisneyPictures JerryBruckheimerFilms SecondMateProductions</td>\n",
       "      <td>UnitedStatesofAmerica</td>\n",
       "      <td>9.610000e+08</td>\n",
       "      <td>169.0</td>\n",
       "      <td>6.9</td>\n",
       "      <td>4627.0</td>\n",
       "      <td>ocean drug abuse exotic island east india trading company love of one's life traitor shipwreck strong woman ship alliance calypso afterlife fighter pirate swashbuckler aftercreditsstinger</td>\n",
       "      <td>2007-05-19</td>\n",
       "    </tr>\n",
       "    <tr>\n",
       "      <th>2</th>\n",
       "      <td>RobertDowneyJr. ChrisHemsworth MarkRuffalo ChrisEvans ScarlettJohansson JeremyRenner JamesSpader SamuelL.Jackson DonCheadle AaronTaylor-Johnson ElizabethOlsen PaulBettany CobieSmulders AnthonyMackie HayleyAtwell IdrisElba LindaCardellini StellanSkarsgård ClaudiaKim ThomasKretschmann AndySerkis JulieDelpy StanLee HenryGoodman ChrisLuca BrianSchaeffer DominiqueProvost-Chalkley IsaacAndrews GarethKieranJones ChanWooLim MinheeYeo BentleyKalu JulianBleach ChristopherBeasley VuyoDabula NondumisoTembe KabeloThai LeleLeowaba MandlaGaduka HarrietManamela BeulahHashe MuscaKumalo MathapeloSeptember AntonyAcheampong ChiomaAnyanwu BenSakamoto ImogenPoynton IsabellaPoynton IngvildDeila SunnyYeo NamjuGo MinaKweon EarlT.Kim ArthurLee VerityHewlett MichaelMatovski AlmaNoce RiccardoRichetta ConstanzaRuff MontyMclaren-Clark JuliaKrynke TonyChristensen IanKay BarryAird AaronHimelstein KerryCondon JaidenStafford DilyanaBouklieva JoshBrolin JotiNagra NickW.Nicholson DanielWestwood</td>\n",
       "      <td>DannyElfman ChristopherBoyes ChristopherBoyes SarahFinn BrianTyler StanLee StanLee KevinFeige RichardRoberts PatriciaWhitcher JossWhedon JossWhedon AlexandraByrne JeffreyFord BenDavis JackKirby JonFavreau CharlesWood LouisD'Esposito AlanFine VictoriaAlonso JeremyLatcham MikeStallion RegPoerscout-Edgerton LisaLassek NicholasSimon RayChan MitchellBell BJMcDonnell DavidAcord DanGrace ThomasBrown JordanCrockett MarkSwain LoraHirschberg PhilSims SheonaMitchley FrankE.Eulner DanielS.Kaminsky MarshallWinn JayMaidment MatthewRobinson DavidChrastka JohnGamble JulianMorson SamRenton CliveJackson NeilFingleton JeremyBraben MikeValentine ChrisO'Connell MarcChu NadavEhrlich MannieFerreira GarySummers JohnMahaffie MarkMoriarty StefanStankowski StephenEnticott JaneWu BrianN.Bentley AnthonyRizzo LeonardF.W.Green KatyWood LucaMarcoParacels RichardRoles DomenicoSica Chris'Flimsy'Howes StefanoDeNardis BenVokes KiS.Hwang DerekWalker Jae-HyeokLee JamieChristopher</td>\n",
       "      <td>99861</td>\n",
       "      <td>Avengers: Age of Ultron</td>\n",
       "      <td>Action Adventure Science Fiction</td>\n",
       "      <td>280000000.0</td>\n",
       "      <td>When Tony Stark tries to jumpstart a dormant peacekeeping program, things go awry and Earth’s Mightiest Heroes are put to the ultimate test as the fate of the planet hangs in the balance. As the villainous Ultron emerges, it is up to The Avengers to stop him from enacting his terrible plans, and soon uneasy alliances and unexpected action pave the way for an epic and unique global adventure.</td>\n",
       "      <td>37.379420</td>\n",
       "      <td>MarvelStudios PrimeFocus RevolutionSunStudios</td>\n",
       "      <td>UnitedStatesofAmerica</td>\n",
       "      <td>1.405404e+09</td>\n",
       "      <td>141.0</td>\n",
       "      <td>7.3</td>\n",
       "      <td>6908.0</td>\n",
       "      <td>marvel comic sequel superhero based on comic vision superhero team duringcreditsstinger marvel cinematic universe 3d</td>\n",
       "      <td>2015-04-22</td>\n",
       "    </tr>\n",
       "    <tr>\n",
       "      <th>3</th>\n",
       "      <td>BrandonRouth KevinSpacey KateBosworth JamesMarsden ParkerPosey FrankLangella SamHuntington EvaMarieSaint MarlonBrando KalPenn TristanLakeLeabu DavidFabrizio IanRoberts VincentStone JackLarson NoelNeill KeeganJoyce JordanaBeatty</td>\n",
       "      <td>RogerMussenden JonPeters DianeMacke GilbertAdler BryanSinger BryanSinger BryanSinger JohnOttman JohnOttman NewtonThomasSigel MichaelDougherty MichaelDougherty JerrySiegel JoeShuster ChrisLee ThomasTull WilliamFay ElliotGraham ScottMednick AnnRobinson DanHarris DanHarris StephenJones GuyHendrixDyas</td>\n",
       "      <td>1452</td>\n",
       "      <td>Superman Returns</td>\n",
       "      <td>Adventure Fantasy Action Science Fiction</td>\n",
       "      <td>270000000.0</td>\n",
       "      <td>Superman returns to discover his 5-year absence has allowed Lex Luthor to walk free, and that those he was closest too felt abandoned and have moved on. Luthor plots his ultimate revenge that could see millions killed and change the face of the planet forever, as well as ridding himself of the Man of Steel.</td>\n",
       "      <td>13.284712</td>\n",
       "      <td>DCComics LegendaryPictures WarnerBros. BadHatHarryProductions</td>\n",
       "      <td>UnitedStatesofAmerica</td>\n",
       "      <td>3.910812e+08</td>\n",
       "      <td>154.0</td>\n",
       "      <td>5.4</td>\n",
       "      <td>1429.0</td>\n",
       "      <td>saving the world dc comics invulnerability sequel superhero based on comic kryptonite super powers superhuman strength lex luthor</td>\n",
       "      <td>2006-06-28</td>\n",
       "    </tr>\n",
       "    <tr>\n",
       "      <th>4</th>\n",
       "      <td>TaylorKitsch LynnCollins SamanthaMorton WillemDafoe ThomasHadenChurch MarkStrong CiaránHinds DominicWest JamesPurefoy BryanCranston PollyWalker DarylSabara ArkieReece DavoodGhadami PippaNixon JamesEmbree PhilipPhilmar EmilyTierney EdmundKente NicholasWoodeson KyleAgnew DonStark JoshDaugherty JaredCyr ChristopherGoodman AmandaClayton JosephBillingiere StevenCree</td>\n",
       "      <td>AndrewStanton AndrewStanton JohnLasseter ColinWilson GailStevens TomJohnson EricZumbrunnen MichaelSilvers JuanPeralta PaulGooch PakiSmith EdCatmull SteveJobs BillCorso RobertWoodruff NathanCrowley MichaelGiacchino DanielMindel StephenM.Davis JohnKing MayesC.Rubeo NaamanMarshall ScottZuber PhilHarvey TimSimonec VeronicaMcAleer EdgarRiceBurroughs MarciaRoss PeterGabriel ChristienTinsley HollyDorff JimMorris LindseyCollins MichaelChabon JanFoster JohnSkotchdopole ChrisMunro PeterChiang MarkAndrews JonathanNull ColinJones VeNeill BrittainyRoberts JeremyTurner DeanWolcott MarkHarris JamesHambidge LoriKorngiebel DavidKrentz ChrisCorbould ColleenKelsall BobRoath DarrellL.Wight BryanAndrews DennisLiddiard KevinHaney JoshLusby JamieWilkinson RogerGuyett DennyCaira SueRowe TobySpigel MarshallWinn MichaelSemanick PeterDorme PerryEvans AnniePenn TimNielsen TimNielsen JenneLee TheodoreSharps JosephHodges PhilippeCarr-Forster ChristopherPrampin ColinAnderson ColinAnderson JenniferTeves KimAyers DanielBarrow DebbiSalmon PaulaPrice FrankConnor J.R.Grubbs DeborahRutherford DonRutherford MalcolmFife TobyBritton KevinAlexander KristieMatthiae GeraldQuist NuriaMbomio EamonnButler LauraJennings AilbheLemass SimonFinney ErynKruegerMekash TravisWitkowski MikeMekash KirstinChalmers KacieSeamons DeborahTaylor RyanChurch CamilleHenderson TomStruthers LiamGeorgensen LaviniaWaters GregT.Moon RichardDaldry StephenFinn TomCastronovo KatherineMcCormack SteveHarding ErikJessen TommyGormley SarahGinn BenDixon AndrewM.Ward StaceyNewton RachelCorbould JakeHall GemmaRichards SaraRiesel PaulBoyce MandyGold CandiceBanks GaryMachin NoelEspinosa MeredithHumbracht GaryHymns ThomasGibson DantonBurroughs KarinSilvestri</td>\n",
       "      <td>49529</td>\n",
       "      <td>John Carter</td>\n",
       "      <td>Action Adventure Science Fiction</td>\n",
       "      <td>260000000.0</td>\n",
       "      <td>John Carter is a war-weary, former military captain who's inexplicably transported to the mysterious and exotic planet of Barsoom (Mars) and reluctantly becomes embroiled in an epic conflict. It's a world on the brink of collapse, and Carter rediscovers his humanity when he realizes the survival of Barsoom and its people rests in his hands.</td>\n",
       "      <td>14.670353</td>\n",
       "      <td>WaltDisneyPictures</td>\n",
       "      <td>UnitedStatesofAmerica</td>\n",
       "      <td>2.841391e+08</td>\n",
       "      <td>132.0</td>\n",
       "      <td>6.1</td>\n",
       "      <td>2170.0</td>\n",
       "      <td>based on novel mars medallion space travel princess alien steampunk martian escape edgar rice burroughs alien race superhuman strength mars civilization sword and planet 19th century 3d</td>\n",
       "      <td>2012-03-07</td>\n",
       "    </tr>\n",
       "    <tr>\n",
       "      <th>...</th>\n",
       "      <td>...</td>\n",
       "      <td>...</td>\n",
       "      <td>...</td>\n",
       "      <td>...</td>\n",
       "      <td>...</td>\n",
       "      <td>...</td>\n",
       "      <td>...</td>\n",
       "      <td>...</td>\n",
       "      <td>...</td>\n",
       "      <td>...</td>\n",
       "      <td>...</td>\n",
       "      <td>...</td>\n",
       "      <td>...</td>\n",
       "      <td>...</td>\n",
       "      <td>...</td>\n",
       "      <td>...</td>\n",
       "    </tr>\n",
       "    <tr>\n",
       "      <th>6444</th>\n",
       "      <td>SteveMartin RachelWard AlanLadd CarlReiner BarbaraStanwyck RayMilland AvaGardner BurtLancaster HumphreyBogart CaryGrant IngridBergman VeronicaLake BetteDavis LanaTurner EdwardArnold KirkDouglas FredMacMurray JamesCagney JoanCrawford ReniSantoni CharlesLaughton VincentPrice GeorgeGaynes FrancisX.McCarthy WilliamConrad CharlesMcGraw JeffCorey JohnMiljan BrianDonlevy NormaVarden EdmondO'Brien CherylSmith</td>\n",
       "      <td>CarlReiner GeorgeGipe WilliamE.McEuen DavidV.Picker MiklósRózsa MichaelChapman BudMolin SteveMartin CarlReiner EdithHead</td>\n",
       "      <td>9442</td>\n",
       "      <td>Dead Men Don't Wear Plaid</td>\n",
       "      <td>Comedy Mystery</td>\n",
       "      <td>10000000.0</td>\n",
       "      <td>Juliet Forrest is convinced that the reported death of her father in a mountain car crash was no accident. Her father was a prominent cheese scientist working on a secret recipe. To prove it was murder, she enlists the services of private eye Rigby Reardon. He finds a slip of paper containing a list of people who are \"The Friends and Enemies of Carlotta.\"</td>\n",
       "      <td>5.515136</td>\n",
       "      <td>UniversalPictures AspenFilmSociety</td>\n",
       "      <td>UnitedStatesofAmerica</td>\n",
       "      <td>1.819617e+07</td>\n",
       "      <td>89.0</td>\n",
       "      <td>6.5</td>\n",
       "      <td>104.0</td>\n",
       "      <td>nostalgia parody movie reference black and white cult film private detective neo-noir 1940s</td>\n",
       "      <td>1982-05-21</td>\n",
       "    </tr>\n",
       "    <tr>\n",
       "      <th>6445</th>\n",
       "      <td>JenniferAniston SteveZahn WoodyHarrelson FredWard MargoMartindale KevinHeffernan JamesHiroyukiLiao KatieO’Grady YolandaSuarez DonBurns KimberlyHoward CollinCrowley GilbertoMartindelCampo MarkBooneJunior GarfieldWedderburn</td>\n",
       "      <td>JenniferAniston StephenBelber StephenBelber</td>\n",
       "      <td>21583</td>\n",
       "      <td>Management</td>\n",
       "      <td>Comedy Drama Romance</td>\n",
       "      <td>10000000.0</td>\n",
       "      <td>A traveling art saleswoman tries to shake off a flaky motel manager who falls for her and won't leave her alone.</td>\n",
       "      <td>12.459106</td>\n",
       "      <td>SidneyKimmelEntertainment EchoFilms TempleHillEntertainment</td>\n",
       "      <td>UnitedStatesofAmerica</td>\n",
       "      <td>2.434658e+06</td>\n",
       "      <td>94.0</td>\n",
       "      <td>5.5</td>\n",
       "      <td>102.0</td>\n",
       "      <td>motel longing marriage pregnancy</td>\n",
       "      <td>2009-02-08</td>\n",
       "    </tr>\n",
       "    <tr>\n",
       "      <th>6446</th>\n",
       "      <td>TomSelleck DonAmeche AnneJackson ChristineEbersole WendyCrewson RobertPastorelli MichaelMurphy</td>\n",
       "      <td>LynnStalmaster WilliamJ.Creber TedKotcheff JoanE.Chapman MichelColombier VictorDrai RobertKlane LarryPizer MalcolmR.Harding</td>\n",
       "      <td>18495</td>\n",
       "      <td>Folks!</td>\n",
       "      <td>Comedy</td>\n",
       "      <td>10000000.0</td>\n",
       "      <td>A slightly self absorbed yuppie takes in his parents including his senile father, after their home burns down. But his personal and professional life fall apart soon after.</td>\n",
       "      <td>3.968853</td>\n",
       "      <td>PentaPictures Pentamerica</td>\n",
       "      <td>UnitedStatesofAmerica</td>\n",
       "      <td>6.132924e+06</td>\n",
       "      <td>107.0</td>\n",
       "      <td>6.1</td>\n",
       "      <td>10.0</td>\n",
       "      <td>senility</td>\n",
       "      <td>1992-05-01</td>\n",
       "    </tr>\n",
       "    <tr>\n",
       "      <th>6447</th>\n",
       "      <td>SamHuntington ChrisMarquette DanFogler JayBaruchel KristenBell SethRogen WilliamShatner CarrieFisher EthanSuplee ChristopherMcDonald DannyTrejo BillyDeeWilliams KevinSmith JasonMewes ZakKnutson RayPark WillForte CraigRobinson CharlieB.Brown AllieGrant JoeLoTruglio ClarkSanchez DannyMcBride</td>\n",
       "      <td>MarkMothersbaugh RichardHenderson SethFlaum ChuckBorden LukasEttlin AdamF.Goldberg KyleNewman ErnestCline WhitNorris JohannaArgan JohnEstes MichelleKuznetsky CoryLorenzen KathleenMessmer KimberlyWannop</td>\n",
       "      <td>13532</td>\n",
       "      <td>Fanboys</td>\n",
       "      <td>Adventure Comedy</td>\n",
       "      <td>10000000.0</td>\n",
       "      <td>In 1999, Star Wars fanatics take a cross-country trip to George Lucas' Skywalker Ranch so their dying friend can see a screening of The Phantom Menace before its release.</td>\n",
       "      <td>5.785775</td>\n",
       "      <td>TheWeinsteinCompany ThirdRailReleasing</td>\n",
       "      <td>UnitedStatesofAmerica</td>\n",
       "      <td>9.487530e+05</td>\n",
       "      <td>90.0</td>\n",
       "      <td>6.1</td>\n",
       "      <td>320.0</td>\n",
       "      <td>fan road trip fan culture rivalry science fiction urination buddy cameo film fan space opera fandom</td>\n",
       "      <td>2009-02-06</td>\n",
       "    </tr>\n",
       "    <tr>\n",
       "      <th>6448</th>\n",
       "      <td>MariyaFomina DmitriYendaltsev BorisPolunin ViktoriyaRaykova</td>\n",
       "      <td>SvyatoslavPodgayevskiy DmitriyBesin</td>\n",
       "      <td>264269</td>\n",
       "      <td>Apartment 18</td>\n",
       "      <td>Horror Thriller Mystery</td>\n",
       "      <td>10000000.0</td>\n",
       "      <td>Sveta and Maxim, a happy newlyweds, are moving to their hew apartment only to discover that there is something mysterious and wrong about their new building.</td>\n",
       "      <td>0.217441</td>\n",
       "      <td>Lyuksor</td>\n",
       "      <td>Russia</td>\n",
       "      <td>3.203950e+05</td>\n",
       "      <td>90.0</td>\n",
       "      <td>4.4</td>\n",
       "      <td>4.0</td>\n",
       "      <td>ghost</td>\n",
       "      <td>2014-03-13</td>\n",
       "    </tr>\n",
       "  </tbody>\n",
       "</table></div>"
      ],
      "text/plain": [
       "                                                   cast  \\\n",
       "0     JohnnyDepp PenélopeCruz IanMcShane KevinMcNall...   \n",
       "1     JohnnyDepp OrlandoBloom KeiraKnightley Stellan...   \n",
       "2     RobertDowneyJr. ChrisHemsworth MarkRuffalo Chr...   \n",
       "3     BrandonRouth KevinSpacey KateBosworth JamesMar...   \n",
       "4     TaylorKitsch LynnCollins SamanthaMorton Willem...   \n",
       "...                                                 ...   \n",
       "6444  SteveMartin RachelWard AlanLadd CarlReiner Bar...   \n",
       "6445  JenniferAniston SteveZahn WoodyHarrelson FredW...   \n",
       "6446  TomSelleck DonAmeche AnneJackson ChristineEber...   \n",
       "6447  SamHuntington ChrisMarquette DanFogler JayBaru...   \n",
       "6448  MariyaFomina DmitriYendaltsev BorisPolunin Vik...   \n",
       "\n",
       "                                                   crew      id  \\\n",
       "0     DariuszWolski JerryBruckheimer TedElliott Terr...    1865   \n",
       "1     DariuszWolski GoreVerbinski JerryBruckheimer T...     285   \n",
       "2     DannyElfman ChristopherBoyes ChristopherBoyes ...   99861   \n",
       "3     RogerMussenden JonPeters DianeMacke GilbertAdl...    1452   \n",
       "4     AndrewStanton AndrewStanton JohnLasseter Colin...   49529   \n",
       "...                                                 ...     ...   \n",
       "6444  CarlReiner GeorgeGipe WilliamE.McEuen DavidV.P...    9442   \n",
       "6445        JenniferAniston StephenBelber StephenBelber   21583   \n",
       "6446  LynnStalmaster WilliamJ.Creber TedKotcheff Joa...   18495   \n",
       "6447  MarkMothersbaugh RichardHenderson SethFlaum Ch...   13532   \n",
       "6448                SvyatoslavPodgayevskiy DmitriyBesin  264269   \n",
       "\n",
       "                                            title  \\\n",
       "0     Pirates of the Caribbean: On Stranger Tides   \n",
       "1        Pirates of the Caribbean: At World's End   \n",
       "2                         Avengers: Age of Ultron   \n",
       "3                                Superman Returns   \n",
       "4                                     John Carter   \n",
       "...                                           ...   \n",
       "6444                    Dead Men Don't Wear Plaid   \n",
       "6445                                   Management   \n",
       "6446                                       Folks!   \n",
       "6447                                      Fanboys   \n",
       "6448                                 Apartment 18   \n",
       "\n",
       "                                        genres       budget  \\\n",
       "0                     Adventure Action Fantasy  380000000.0   \n",
       "1                     Adventure Fantasy Action  300000000.0   \n",
       "2             Action Adventure Science Fiction  280000000.0   \n",
       "3     Adventure Fantasy Action Science Fiction  270000000.0   \n",
       "4             Action Adventure Science Fiction  260000000.0   \n",
       "...                                        ...          ...   \n",
       "6444                            Comedy Mystery   10000000.0   \n",
       "6445                      Comedy Drama Romance   10000000.0   \n",
       "6446                                    Comedy   10000000.0   \n",
       "6447                          Adventure Comedy   10000000.0   \n",
       "6448                   Horror Thriller Mystery   10000000.0   \n",
       "\n",
       "                                               overview  popularity  \\\n",
       "0     Captain Jack Sparrow crosses paths with a woma...   27.887720   \n",
       "1     Captain Barbossa, long believed to be dead, ha...   31.363664   \n",
       "2     When Tony Stark tries to jumpstart a dormant p...   37.379420   \n",
       "3     Superman returns to discover his 5-year absenc...   13.284712   \n",
       "4     John Carter is a war-weary, former military ca...   14.670353   \n",
       "...                                                 ...         ...   \n",
       "6444  Juliet Forrest is convinced that the reported ...    5.515136   \n",
       "6445  A traveling art saleswoman tries to shake off ...   12.459106   \n",
       "6446  A slightly self absorbed yuppie takes in his p...    3.968853   \n",
       "6447  In 1999, Star Wars fanatics take a cross-count...    5.785775   \n",
       "6448  Sveta and Maxim, a happy newlyweds, are moving...    0.217441   \n",
       "\n",
       "                                   production_companies  \\\n",
       "0     WaltDisneyPictures JerryBruckheimerFilms Movin...   \n",
       "1     WaltDisneyPictures JerryBruckheimerFilms Secon...   \n",
       "2         MarvelStudios PrimeFocus RevolutionSunStudios   \n",
       "3     DCComics LegendaryPictures WarnerBros. BadHatH...   \n",
       "4                                    WaltDisneyPictures   \n",
       "...                                                 ...   \n",
       "6444                 UniversalPictures AspenFilmSociety   \n",
       "6445  SidneyKimmelEntertainment EchoFilms TempleHill...   \n",
       "6446                          PentaPictures Pentamerica   \n",
       "6447             TheWeinsteinCompany ThirdRailReleasing   \n",
       "6448                                            Lyuksor   \n",
       "\n",
       "       production_countries       revenue  runtime  vote_average  vote_count  \\\n",
       "0     UnitedStatesofAmerica  1.045714e+09    136.0           6.4      5068.0   \n",
       "1     UnitedStatesofAmerica  9.610000e+08    169.0           6.9      4627.0   \n",
       "2     UnitedStatesofAmerica  1.405404e+09    141.0           7.3      6908.0   \n",
       "3     UnitedStatesofAmerica  3.910812e+08    154.0           5.4      1429.0   \n",
       "4     UnitedStatesofAmerica  2.841391e+08    132.0           6.1      2170.0   \n",
       "...                     ...           ...      ...           ...         ...   \n",
       "6444  UnitedStatesofAmerica  1.819617e+07     89.0           6.5       104.0   \n",
       "6445  UnitedStatesofAmerica  2.434658e+06     94.0           5.5       102.0   \n",
       "6446  UnitedStatesofAmerica  6.132924e+06    107.0           6.1        10.0   \n",
       "6447  UnitedStatesofAmerica  9.487530e+05     90.0           6.1       320.0   \n",
       "6448                 Russia  3.203950e+05     90.0           4.4         4.0   \n",
       "\n",
       "                                               keywords release_date  \n",
       "0     sea captain mutiny sword prime minister sailin...   2011-05-14  \n",
       "1     ocean drug abuse exotic island east india trad...   2007-05-19  \n",
       "2     marvel comic sequel superhero based on comic v...   2015-04-22  \n",
       "3     saving the world dc comics invulnerability seq...   2006-06-28  \n",
       "4     based on novel mars medallion space travel pri...   2012-03-07  \n",
       "...                                                 ...          ...  \n",
       "6444  nostalgia parody movie reference black and whi...   1982-05-21  \n",
       "6445                   motel longing marriage pregnancy   2009-02-08  \n",
       "6446                                           senility   1992-05-01  \n",
       "6447  fan road trip fan culture rivalry science fict...   2009-02-06  \n",
       "6448                                              ghost   2014-03-13  \n",
       "\n",
       "[6449 rows x 16 columns]"
      ]
     },
     "execution_count": 4,
     "metadata": {},
     "output_type": "execute_result"
    }
   ],
   "source": [
    "df"
   ]
  },
  {
   "cell_type": "code",
   "execution_count": 5,
   "id": "46367088-d5fb-411c-981d-919f171ad3c2",
   "metadata": {},
   "outputs": [
    {
     "data": {
      "text/plain": [
       "4561      1020000.0\n",
       "4560      1050255.0\n",
       "4559      1052753.0\n",
       "4558      1089360.0\n",
       "4557      1100000.0\n",
       "           ...     \n",
       "4       260000000.0\n",
       "3       270000000.0\n",
       "2       280000000.0\n",
       "1       300000000.0\n",
       "0       380000000.0\n",
       "Name: budget, Length: 6449, dtype: float64"
      ]
     },
     "execution_count": 5,
     "metadata": {},
     "output_type": "execute_result"
    }
   ],
   "source": [
    "df.budget.sort_values()"
   ]
  },
  {
   "cell_type": "code",
   "execution_count": 23,
   "id": "7d90311c-fd5c-4030-8953-fb779ee872d9",
   "metadata": {},
   "outputs": [],
   "source": [
    "df2 = df.copy()"
   ]
  },
  {
   "cell_type": "code",
   "execution_count": 30,
   "id": "d5d8b638-3fec-47f7-bd41-d7456f2d549d",
   "metadata": {},
   "outputs": [],
   "source": [
    "# The values were stored in the new column\n",
    "# df2['profitable'] = np.where((df2['revenue']) >= (df2['budget'] * 2))"
   ]
  },
  {
   "cell_type": "code",
   "execution_count": 31,
   "id": "9e579b52-0188-47ff-aebc-d4bdf700f019",
   "metadata": {},
   "outputs": [],
   "source": [
    "# create success column\n",
    "# movie is successful if (revenue >= budget * 2)\n",
    "for index, row in df.iterrows():\n",
    "    try:\n",
    "        budget = df.at[index, 'budget']\n",
    "        revenue = df.at[index, 'revenue']\n",
    "        if (revenue >= budget * 2):\n",
    "            profitable = True\n",
    "        else:\n",
    "            profitable = False\n",
    "    except:     # if budget or revenue is empty\n",
    "        profitable = np.nan\n",
    "\n",
    "    df.at[index, 'profitable'] = profitable"
   ]
  },
  {
   "cell_type": "code",
   "execution_count": 36,
   "id": "e3fe539d-8e94-44cc-a8b2-36742a902c9c",
   "metadata": {},
   "outputs": [],
   "source": [
    "df['profitable'] = df['profitable'].astype(bool)"
   ]
  },
  {
   "cell_type": "code",
   "execution_count": 37,
   "id": "d700f52a-bd69-4614-a89c-d829a848a54c",
   "metadata": {},
   "outputs": [
    {
     "data": {
      "text/plain": [
       "cast                            object\n",
       "crew                            object\n",
       "id                               int64\n",
       "title                           object\n",
       "genres                          object\n",
       "budget                         float64\n",
       "overview                        object\n",
       "popularity                     float64\n",
       "production_companies            object\n",
       "production_countries            object\n",
       "revenue                        float64\n",
       "runtime                        float64\n",
       "vote_average                   float64\n",
       "vote_count                     float64\n",
       "keywords                        object\n",
       "release_date            datetime64[ns]\n",
       "profitable                        bool\n",
       "dtype: object"
      ]
     },
     "execution_count": 37,
     "metadata": {},
     "output_type": "execute_result"
    }
   ],
   "source": [
    "df.dtypes"
   ]
  },
  {
   "cell_type": "code",
   "execution_count": 4,
   "id": "7f836a44-8f54-4cbd-91df-549b12fce979",
   "metadata": {},
   "outputs": [
    {
     "name": "stdout",
     "output_type": "stream",
     "text": [
      "Using cached CSV\n"
     ]
    }
   ],
   "source": [
    "df = get.acquire_data()\n",
    "df = prep.prep_data(df)"
   ]
  },
  {
   "cell_type": "code",
   "execution_count": 5,
   "id": "569977bb-1301-40be-b722-cfffae51e6d1",
   "metadata": {},
   "outputs": [
    {
     "data": {
      "text/plain": [
       "(6503, 19)"
      ]
     },
     "execution_count": 5,
     "metadata": {},
     "output_type": "execute_result"
    }
   ],
   "source": [
    "df.shape"
   ]
  },
  {
   "cell_type": "code",
   "execution_count": 47,
   "id": "995de498-12eb-412f-bbc6-cff15cb9572e",
   "metadata": {},
   "outputs": [
    {
     "data": {
      "text/plain": [
       "<re.Match object; span=(8, 18), match='JohnnyDepp'>"
      ]
     },
     "execution_count": 47,
     "metadata": {},
     "output_type": "execute_result"
    }
   ],
   "source": [
    "re.search(r'[A-Z][a-z]+[A-Z][a-z]+', str(df.cast))"
   ]
  },
  {
   "cell_type": "code",
   "execution_count": 3,
   "id": "a2c729ad-3737-4dce-8792-1366401991b2",
   "metadata": {},
   "outputs": [],
   "source": [
    "#re.search(r'[A-Z][a-z]+[A-Z][a-z]+{2}', str(df.cast))"
   ]
  },
  {
   "cell_type": "code",
   "execution_count": null,
   "id": "1c1892ae-d791-49e3-9a3e-a2ac0ac766c2",
   "metadata": {},
   "outputs": [],
   "source": [
    "re.search()"
   ]
  },
  {
   "cell_type": "code",
   "execution_count": null,
   "id": "0b6bc5f2-8d8b-49d3-a3bc-597352426dd5",
   "metadata": {},
   "outputs": [],
   "source": [
    "df"
   ]
  },
  {
   "cell_type": "code",
   "execution_count": null,
   "id": "d0412d26-2946-43cf-a2a5-07ed7021ab58",
   "metadata": {},
   "outputs": [],
   "source": [
    "df4[df4['id'] != '1997-08-20']"
   ]
  }
 ],
 "metadata": {
  "kernelspec": {
   "display_name": "Python 3 (ipykernel)",
   "language": "python",
   "name": "python3"
  },
  "language_info": {
   "codemirror_mode": {
    "name": "ipython",
    "version": 3
   },
   "file_extension": ".py",
   "mimetype": "text/x-python",
   "name": "python",
   "nbconvert_exporter": "python",
   "pygments_lexer": "ipython3",
   "version": "3.9.7"
  }
 },
 "nbformat": 4,
 "nbformat_minor": 5
}
