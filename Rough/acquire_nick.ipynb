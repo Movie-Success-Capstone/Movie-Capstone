{
 "cells": [
  {
   "cell_type": "code",
   "execution_count": 123,
   "id": "4d092308-93c3-4d9e-8524-533739959399",
   "metadata": {},
   "outputs": [],
   "source": [
    "import pandas as pd \n",
    "import os\n",
    "import ast\n",
    "import numpy as np"
   ]
  },
  {
   "cell_type": "code",
   "execution_count": 92,
   "id": "6008934d-bf0d-436f-91c1-517125a98a9a",
   "metadata": {},
   "outputs": [],
   "source": [
    "df = pd.read_csv('keywords.csv')"
   ]
  },
  {
   "cell_type": "code",
   "execution_count": 4,
   "id": "2a874ed5-bf9c-42e7-b5cf-653bc9029d9d",
   "metadata": {},
   "outputs": [
    {
     "data": {
      "text/html": [
       "<div><div id=9eb9d7ea-f043-49df-b94d-94dbce6b6e14 style=\"display:none; background-color:#9D6CFF; color:white; width:200px; height:30px; padding-left:5px; border-radius:4px; flex-direction:row; justify-content:space-around; align-items:center;\" onmouseover=\"this.style.backgroundColor='#BA9BF8'\" onmouseout=\"this.style.backgroundColor='#9D6CFF'\" onclick=\"window.commands?.execute('create-mitosheet-from-dataframe-output');\">See Full Dataframe in Mito</div> <script> if (window.commands?.hasCommand('create-mitosheet-from-dataframe-output')) document.getElementById('9eb9d7ea-f043-49df-b94d-94dbce6b6e14').style.display = 'flex' </script> <table border=\"1\" class=\"dataframe\">\n",
       "  <thead>\n",
       "    <tr style=\"text-align: right;\">\n",
       "      <th></th>\n",
       "      <th>id</th>\n",
       "      <th>keywords</th>\n",
       "    </tr>\n",
       "  </thead>\n",
       "  <tbody>\n",
       "    <tr>\n",
       "      <th>0</th>\n",
       "      <td>862</td>\n",
       "      <td>[{'id': 931, 'name': 'jealousy'}, {'id': 4290, 'name': 'toy'}, {'id': 5202, 'name': 'boy'}, {'id': 6054, 'name': 'friendship'}, {'id': 9713, 'name': 'friends'}, {'id': 9823, 'name': 'rivalry'}, {'id': 165503, 'name': 'boy next door'}, {'id': 170722, 'name': 'new toy'}, {'id': 187065, 'name': 'toy comes to life'}]</td>\n",
       "    </tr>\n",
       "    <tr>\n",
       "      <th>1</th>\n",
       "      <td>8844</td>\n",
       "      <td>[{'id': 10090, 'name': 'board game'}, {'id': 10941, 'name': 'disappearance'}, {'id': 15101, 'name': \"based on children's book\"}, {'id': 33467, 'name': 'new home'}, {'id': 158086, 'name': 'recluse'}, {'id': 158091, 'name': 'giant insect'}]</td>\n",
       "    </tr>\n",
       "    <tr>\n",
       "      <th>2</th>\n",
       "      <td>15602</td>\n",
       "      <td>[{'id': 1495, 'name': 'fishing'}, {'id': 12392, 'name': 'best friend'}, {'id': 179431, 'name': 'duringcreditsstinger'}, {'id': 208510, 'name': 'old men'}]</td>\n",
       "    </tr>\n",
       "    <tr>\n",
       "      <th>3</th>\n",
       "      <td>31357</td>\n",
       "      <td>[{'id': 818, 'name': 'based on novel'}, {'id': 10131, 'name': 'interracial relationship'}, {'id': 14768, 'name': 'single mother'}, {'id': 15160, 'name': 'divorce'}, {'id': 33455, 'name': 'chick flick'}]</td>\n",
       "    </tr>\n",
       "    <tr>\n",
       "      <th>4</th>\n",
       "      <td>11862</td>\n",
       "      <td>[{'id': 1009, 'name': 'baby'}, {'id': 1599, 'name': 'midlife crisis'}, {'id': 2246, 'name': 'confidence'}, {'id': 4995, 'name': 'aging'}, {'id': 5600, 'name': 'daughter'}, {'id': 10707, 'name': 'mother daughter relationship'}, {'id': 13149, 'name': 'pregnancy'}, {'id': 33358, 'name': 'contraception'}, {'id': 170521, 'name': 'gynecologist'}]</td>\n",
       "    </tr>\n",
       "    <tr>\n",
       "      <th>...</th>\n",
       "      <td>...</td>\n",
       "      <td>...</td>\n",
       "    </tr>\n",
       "    <tr>\n",
       "      <th>46414</th>\n",
       "      <td>439050</td>\n",
       "      <td>[{'id': 10703, 'name': 'tragic love'}]</td>\n",
       "    </tr>\n",
       "    <tr>\n",
       "      <th>46415</th>\n",
       "      <td>111109</td>\n",
       "      <td>[{'id': 2679, 'name': 'artist'}, {'id': 14531, 'name': 'play'}, {'id': 215397, 'name': 'pinoy'}]</td>\n",
       "    </tr>\n",
       "    <tr>\n",
       "      <th>46416</th>\n",
       "      <td>67758</td>\n",
       "      <td>[]</td>\n",
       "    </tr>\n",
       "    <tr>\n",
       "      <th>46417</th>\n",
       "      <td>227506</td>\n",
       "      <td>[]</td>\n",
       "    </tr>\n",
       "    <tr>\n",
       "      <th>46418</th>\n",
       "      <td>461257</td>\n",
       "      <td>[]</td>\n",
       "    </tr>\n",
       "  </tbody>\n",
       "</table></div>"
      ],
      "text/plain": [
       "           id                                           keywords\n",
       "0         862  [{'id': 931, 'name': 'jealousy'}, {'id': 4290,...\n",
       "1        8844  [{'id': 10090, 'name': 'board game'}, {'id': 1...\n",
       "2       15602  [{'id': 1495, 'name': 'fishing'}, {'id': 12392...\n",
       "3       31357  [{'id': 818, 'name': 'based on novel'}, {'id':...\n",
       "4       11862  [{'id': 1009, 'name': 'baby'}, {'id': 1599, 'n...\n",
       "...       ...                                                ...\n",
       "46414  439050             [{'id': 10703, 'name': 'tragic love'}]\n",
       "46415  111109  [{'id': 2679, 'name': 'artist'}, {'id': 14531,...\n",
       "46416   67758                                                 []\n",
       "46417  227506                                                 []\n",
       "46418  461257                                                 []\n",
       "\n",
       "[46419 rows x 2 columns]"
      ]
     },
     "execution_count": 4,
     "metadata": {},
     "output_type": "execute_result"
    }
   ],
   "source": [
    "df"
   ]
  },
  {
   "cell_type": "code",
   "execution_count": 77,
   "id": "d9793738-f906-498f-a2a8-0ed6acb20b97",
   "metadata": {},
   "outputs": [],
   "source": [
    "df2 = pd.read_csv('credits.csv')"
   ]
  },
  {
   "cell_type": "code",
   "execution_count": 78,
   "id": "ffce5996-218a-4b19-a765-a9dece495bb6",
   "metadata": {},
   "outputs": [],
   "source": [
    "df2 = df2.set_index('id')"
   ]
  },
  {
   "cell_type": "code",
   "execution_count": 4,
   "id": "7abffa04-9324-4b84-b171-2004f1925471",
   "metadata": {},
   "outputs": [
    {
     "data": {
      "text/html": [
       "<div><div id=8e94f6d1-b331-450b-8a8e-dd8134d6a00a style=\"display:none; background-color:#9D6CFF; color:white; width:200px; height:30px; padding-left:5px; border-radius:4px; flex-direction:row; justify-content:space-around; align-items:center;\" onmouseover=\"this.style.backgroundColor='#BA9BF8'\" onmouseout=\"this.style.backgroundColor='#9D6CFF'\" onclick=\"window.commands?.execute('create-mitosheet-from-dataframe-output');\">See Full Dataframe in Mito</div> <script> if (window.commands?.hasCommand('create-mitosheet-from-dataframe-output')) document.getElementById('8e94f6d1-b331-450b-8a8e-dd8134d6a00a').style.display = 'flex' </script> <table border=\"1\" class=\"dataframe\">\n",
       "  <thead>\n",
       "    <tr style=\"text-align: right;\">\n",
       "      <th></th>\n",
       "      <th>cast</th>\n",
       "      <th>crew</th>\n",
       "      <th>id</th>\n",
       "    </tr>\n",
       "  </thead>\n",
       "  <tbody>\n",
       "    <tr>\n",
       "      <th>0</th>\n",
       "      <td>[{'cast_id': 14, 'character': 'Woody (voice)', 'credit_id': '52fe4284c3a36847f8024f95', 'gender': 2, 'id': 31, 'name': 'Tom Hanks', 'order': 0, 'profile_path': '/pQFoyx7rp09CJTAb932F2g8Nlho.jpg'}, {'cast_id': 15, 'character': 'Buzz Lightyear (voice)', 'credit_id': '52fe4284c3a36847f8024f99', 'gender': 2, 'id': 12898, 'name': 'Tim Allen', 'order': 1, 'profile_path': '/uX2xVf6pMmPepxnvFWyBtjexzgY.jpg'}, {'cast_id': 16, 'character': 'Mr. Potato Head (voice)', 'credit_id': '52fe4284c3a36847f8024f9d', 'gender': 2, 'id': 7167, 'name': 'Don Rickles', 'order': 2, 'profile_path': '/h5BcaDMPRVLHLDzbQavec4xfSdt.jpg'}, {'cast_id': 17, 'character': 'Slinky Dog (voice)', 'credit_id': '52fe4284c3a36847f8024fa1', 'gender': 2, 'id': 12899, 'name': 'Jim Varney', 'order': 3, 'profile_path': '/eIo2jVVXYgjDtaHoF19Ll9vtW7h.jpg'}, {'cast_id': 18, 'character': 'Rex (voice)', 'credit_id': '52fe4284c3a36847f8024fa5', 'gender': 2, 'id': 12900, 'name': 'Wallace Shawn', 'order': 4, 'profile_path': '/oGE6JqPP2xH4tNORKNqxbNPYi7u.jpg'}, {'cast_id': 19, 'character': 'Hamm (voice)', 'credit_id': '52fe4284c3a36847f8024fa9', 'gender': 2, 'id': 7907, 'name': 'John Ratzenberger', 'order': 5, 'profile_path': '/yGechiKWL6TJDfVE2KPSJYqdMsY.jpg'}, {'cast_id': 20, 'character': 'Bo Peep (voice)', 'credit_id': '52fe4284c3a36847f8024fad', 'gender': 1, 'id': 8873, 'name': 'Annie Potts', 'order': 6, 'profile_path': '/eryXT84RL41jHSJcMy4kS3u9y6w.jpg'}, {'cast_id': 26, 'character': 'Andy (voice)', 'credit_id': '52fe4284c3a36847f8024fc1', 'gender': 0, 'id': 1116442, 'name': 'John Morris', 'order': 7, 'profile_path': '/vYGyvK4LzeaUCoNSHtsuqJUY15M.jpg'}, {'cast_id': 22, 'character': 'Sid (voice)', 'credit_id': '52fe4284c3a36847f8024fb1', 'gender': 2, 'id': 12901, 'name': 'Erik von Detten', 'order': 8, 'profile_path': '/twnF1ZaJ1FUNUuo6xLXwcxjayBE.jpg'}, {'cast_id': 23, 'character': 'Mrs. Davis (voice)', 'credit_id': '52fe4284c3a36847f8024fb5', 'gender': 1, 'id': 12133, 'name': 'Laurie Metcalf', 'order': 9, 'profile_path': '/unMMIT60eoBM2sN2nyR7EZ2BvvD.jpg'}, {'cast_id': 24, 'character': 'Sergeant (voice)', 'credit_id': '52fe4284c3a36847f8024fb9', 'gender': 2, 'id': 8655, 'name': 'R. Lee Ermey', 'order': 10, 'profile_path': '/r8GBqFBjypLUP9VVqDqfZ7wYbSs.jpg'}, {'cast_id': 25, 'character': 'Hannah (voice)', 'credit_id': '52fe4284c3a36847f8024fbd', 'gender': 1, 'id': 12903, 'name': 'Sarah Freeman', 'order': 11, 'profile_path': None}, {'cast_id': 27, 'character': 'TV Announcer (voice)', 'credit_id': '52fe4284c3a36847f8024fc5', 'gender': 2, 'id': 37221, 'name': 'Penn Jillette', 'order': 12, 'profile_path': '/zmAaXUdx12NRsssgHbk1T31j2x9.jpg'}]</td>\n",
       "      <td>[{'credit_id': '52fe4284c3a36847f8024f49', 'department': 'Directing', 'gender': 2, 'id': 7879, 'job': 'Director', 'name': 'John Lasseter', 'profile_path': '/7EdqiNbr4FRjIhKHyPPdFfEEEFG.jpg'}, {'credit_id': '52fe4284c3a36847f8024f4f', 'department': 'Writing', 'gender': 2, 'id': 12891, 'job': 'Screenplay', 'name': 'Joss Whedon', 'profile_path': '/dTiVsuaTVTeGmvkhcyJvKp2A5kr.jpg'}, {'credit_id': '52fe4284c3a36847f8024f55', 'department': 'Writing', 'gender': 2, 'id': 7, 'job': 'Screenplay', 'name': 'Andrew Stanton', 'profile_path': '/pvQWsu0qc8JFQhMVJkTHuexUAa1.jpg'}, {'credit_id': '52fe4284c3a36847f8024f5b', 'department': 'Writing', 'gender': 2, 'id': 12892, 'job': 'Screenplay', 'name': 'Joel Cohen', 'profile_path': '/dAubAiZcvKFbboWlj7oXOkZnTSu.jpg'}, {'credit_id': '52fe4284c3a36847f8024f61', 'department': 'Writing', 'gender': 0, 'id': 12893, 'job': 'Screenplay', 'name': 'Alec Sokolow', 'profile_path': '/v79vlRYi94BZUQnkkyznbGUZLjT.jpg'}, {'credit_id': '52fe4284c3a36847f8024f67', 'department': 'Production', 'gender': 1, 'id': 12894, 'job': 'Producer', 'name': 'Bonnie Arnold', 'profile_path': None}, {'credit_id': '52fe4284c3a36847f8024f6d', 'department': 'Production', 'gender': 0, 'id': 12895, 'job': 'Executive Producer', 'name': 'Ed Catmull', 'profile_path': None}, {'credit_id': '52fe4284c3a36847f8024f73', 'department': 'Production', 'gender': 2, 'id': 12896, 'job': 'Producer', 'name': 'Ralph Guggenheim', 'profile_path': None}, {'credit_id': '52fe4284c3a36847f8024f79', 'department': 'Production', 'gender': 2, 'id': 12897, 'job': 'Executive Producer', 'name': 'Steve Jobs', 'profile_path': '/mOMP3SwD5qWQSR0ldCIByd3guTV.jpg'}, {'credit_id': '52fe4284c3a36847f8024f8b', 'department': 'Editing', 'gender': 2, 'id': 8, 'job': 'Editor', 'name': 'Lee Unkrich', 'profile_path': '/bdTCCXjgOV3YyaNmLGYGOxFQMOc.jpg'}, {'credit_id': '52fe4284c3a36847f8024f91', 'department': 'Art', 'gender': 2, 'id': 7883, 'job': 'Art Direction', 'name': 'Ralph Eggleston', 'profile_path': '/uUfcGKDsKO1aROMpXRs67Hn6RvR.jpg'}, {'credit_id': '598331bf925141421201044b', 'department': 'Editing', 'gender': 2, 'id': 1168870, 'job': 'Editor', 'name': 'Robert Gordon', 'profile_path': None}, {'credit_id': '5892168cc3a36809660095f9', 'department': 'Sound', 'gender': 0, 'id': 1552883, 'job': 'Foley Editor', 'name': 'Mary Helen Leasman', 'profile_path': None}, {'credit_id': '5531824d9251415289000945', 'department': 'Visual Effects', 'gender': 0, 'id': 1453514, 'job': 'Animation', 'name': 'Kim Blanchette', 'profile_path': None}, {'credit_id': '589215969251412dcb009bf6', 'department': 'Sound', 'gender': 0, 'id': 1414182, 'job': 'ADR Editor', 'name': 'Marilyn McCoppen', 'profile_path': None}, {'credit_id': '589217099251412dc500a018', 'department': 'Sound', 'gender': 2, 'id': 7885, 'job': 'Orchestrator', 'name': 'Randy Newman', 'profile_path': '/w0JzfoiM25nrnxYOzosPHRq6mlE.jpg'}, {'credit_id': '5693e6b29251417b0e0000e3', 'department': 'Editing', 'gender': 0, 'id': 1429549, 'job': 'Color Timer', 'name': 'Dale E. Grahn', 'profile_path': None}, {'credit_id': '572e2522c3a36869e6001a9c', 'department': 'Visual Effects', 'gender': 0, 'id': 7949, 'job': 'CG Painter', 'name': 'Robin Cooper', 'profile_path': None}, {'credit_id': '574f12309251415ca1000012', 'department': 'Writing', 'gender': 2, 'id': 7879, 'job': 'Original Story', 'name': 'John Lasseter', 'profile_path': '/7EdqiNbr4FRjIhKHyPPdFfEEEFG.jpg'}, {'credit_id': '574f1240c3a3682e7300001c', 'department': 'Writing', 'gender': 2, 'id': 12890, 'job': 'Original Story', 'name': 'Pete Docter', 'profile_path': '/r6ngPgnReA3RHmKjmSoVsc6Awjp.jpg'}, {'credit_id': '574f12519251415c92000015', 'department': 'Writing', 'gender': 0, 'id': 7911, 'job': 'Original Story', 'name': 'Joe Ranft', 'profile_path': '/f1BoWC2JbCcfP1e5hKfGsxkHzVU.jpg'}, {'credit_id': '574f12cec3a3682e82000022', 'department': 'Crew', 'gender': 0, 'id': 1629419, 'job': 'Post Production Supervisor', 'name': 'Patsy Bouge', 'profile_path': None}, {'credit_id': '574f14f19251415ca1000082', 'department': 'Art', 'gender': 0, 'id': 7961, 'job': 'Sculptor', 'name': 'Norm DeCarlo', 'profile_path': None}, {'credit_id': '5751ae4bc3a3683772002b7f', 'department': 'Visual Effects', 'gender': 2, 'id': 12905, 'job': 'Animation Director', 'name': 'Ash Brannon', 'profile_path': '/6ueWgPEEBHvS3De2BHYQnYjRTig.jpg'}, {'credit_id': '5891edbe9251412dc5007cd6', 'department': 'Sound', 'gender': 2, 'id': 7885, 'job': 'Music', 'name': 'Randy Newman', 'profile_path': '/w0JzfoiM25nrnxYOzosPHRq6mlE.jpg'}, {'credit_id': '589213d39251412dc8009832', 'department': 'Directing', 'gender': 0, 'id': 1748707, 'job': 'Layout', 'name': 'Roman Figun', 'profile_path': None}, {'credit_id': '5892173dc3a3680968009351', 'department': 'Sound', 'gender': 2, 'id': 4949, 'job': 'Orchestrator', 'name': 'Don Davis', 'profile_path': None}, {'credit_id': '589217cec3a3686b0a0052ba', 'department': 'Sound', 'gender': 0, 'id': 1372885, 'job': 'Music Editor', 'name': 'James Flamberg', 'profile_path': None}, {'credit_id': '58921831c3a3686348004a64', 'department': 'Editing', 'gender': 0, 'id': 1739962, 'job': 'Negative Cutter', 'name': 'Mary Beth Smith', 'profile_path': None}, {'credit_id': '58921838c3a36809700096c0', 'department': 'Editing', 'gender': 0, 'id': 1748513, 'job': 'Negative Cutter', 'name': 'Rick Mackay', 'profile_path': None}, {'credit_id': '589218429251412dd1009d1b', 'department': 'Art', 'gender': 0, 'id': 1458006, 'job': 'Title Designer', 'name': 'Susan Bradley', 'profile_path': None}, {'credit_id': '5891ed99c3a3680966007670', 'department': 'Crew', 'gender': 0, 'id': 1748557, 'job': 'Supervising Technical Director', 'name': 'William Reeves', 'profile_path': None}, {'credit_id': '5891edcec3a3686b0a002eb2', 'department': 'Sound', 'gender': 2, 'id': 7885, 'job': 'Songs', 'name': 'Randy Newman', 'profile_path': '/w0JzfoiM25nrnxYOzosPHRq6mlE.jpg'}, {'credit_id': '5891edf9c3a36809700075e6', 'department': 'Writing', 'gender': 2, 'id': 7, 'job': 'Original Story', 'name': 'Andrew Stanton', 'profile_path': '/pvQWsu0qc8JFQhMVJkTHuexUAa1.jpg'}, {'credit_id': '58920f0b9251412dd7009104', 'department': 'Crew', 'gender': 2, 'id': 12890, 'job': 'Supervising Animator', 'name': 'Pete Docter', 'profile_path': '/r6ngPgnReA3RHmKjmSoVsc6Awjp.jpg'}, {'credit_id': '58920f1fc3a3680977009021', 'department': 'Sound', 'gender': 2, 'id': 2216, 'job': 'Sound Designer', 'name': 'Gary Rydstrom', 'profile_path': '/jZpr1nVfO7lldWI0YtmP1FGw7Rj.jpg'}, {'credit_id': '58920f389251412dd700912d', 'department': 'Production', 'gender': 0, 'id': 12909, 'job': 'Production Supervisor', 'name': 'Karen Robert Jackson', 'profile_path': None}, {'credit_id': '58920fbd9251412dcb00969c', 'department': 'Crew', 'gender': 0, 'id': 953331, 'job': 'Executive Music Producer', 'name': 'Chris Montan', 'profile_path': None}, {'credit_id': '589210069251412dd7009219', 'department': 'Visual Effects', 'gender': 0, 'id': 7893, 'job': 'Animation Director', 'name': 'Rich Quade', 'profile_path': None}, {'credit_id': '589210329251412dcd00943b', 'department': 'Visual Effects', 'gender': 0, 'id': 8025, 'job': 'Animation', 'name': 'Michael Berenstein', 'profile_path': None}, {'credit_id': '5892103bc3a368096a009180', 'department': 'Visual Effects', 'gender': 0, 'id': 78009, 'job': 'Animation', 'name': 'Colin Brady', 'profile_path': None}, {'credit_id': '5892105dc3a3680968008db2', 'department': 'Visual Effects', 'gender': 0, 'id': 1748682, 'job': 'Animation', 'name': 'Davey Crockett Feiten', 'profile_path': None}, {'credit_id': '589210669251412dcd009466', 'department': 'Visual Effects', 'gender': 0, 'id': 1454030, 'job': 'Animation', 'name': 'Angie Glocka', 'profile_path': None}, {'credit_id': '5892107c9251412dd1009613', 'department': 'Visual Effects', 'gender': 0, 'id': 1748683, 'job': 'Animation', 'name': 'Rex Grignon', 'profile_path': None}, {'credit_id': '5892108ac3a3680973008d3f', 'department': 'Visual Effects', 'gender': 0, 'id': 1748684, 'job': 'Animation', 'name': 'Tom K. Gurney', 'profile_path': None}, {'credit_id': '58921093c3a3686348004477', 'department': 'Visual Effects', 'gender': 2, 'id': 8029, 'job': 'Animation', 'name': 'Jimmy Hayward', 'profile_path': '/lTDRpudEY7BDwTefXbXzMlmb0ui.jpg'}, {'credit_id': '5892109b9251412dcd0094b0', 'department': 'Visual Effects', 'gender': 0, 'id': 1426773, 'job': 'Animation', 'name': 'Hal T. Hickel', 'profile_path': None}, {'credit_id': '589210a29251412dc5009a29', 'department': 'Visual Effects', 'gender': 0, 'id': 8035, 'job': 'Animation', 'name': 'Karen Kiser', 'profile_path': None}, {'credit_id': '589210ccc3a3680977009191', 'department': 'Visual Effects', 'gender': 0, 'id': 1748688, 'job': 'Animation', 'name': 'Anthony B. LaMolinara', 'profile_path': None}, {'credit_id': '589210d7c3a3686b0a004c1f', 'department': 'Visual Effects', 'gender': 0, 'id': 587314, 'job': 'Animation', 'name': 'Guionne Leroy', 'profile_path': None}, {'credit_id': '589210e1c3a36809770091a7', 'department': 'Visual Effects', 'gender': 2, 'id': 7918, 'job': 'Animation', 'name': 'Bud Luckey', 'profile_path': '/pcCh7G19FKMNijmPQg1PMH1btic.jpg'}, {'credit_id': '589210ee9251412dc200978a', 'department': 'Visual Effects', 'gender': 0, 'id': 1748689, 'job': 'Animation', 'name': 'Les Major', 'profile_path': None}, {'credit_id': '589210fa9251412dc8009595', 'department': 'Visual Effects', 'gender': 2, 'id': 7892, 'job': 'Animation', 'name': 'Glenn McQueen', 'profile_path': None}, {'credit_id': '589211029251412dc8009598', 'department': 'Visual Effects', 'gender': 0, 'id': 555795, 'job': 'Animation', 'name': 'Mark Oftedal', 'profile_path': None}, {'credit_id': '5892110b9251412dc800959d', 'department': 'Visual Effects', 'gender': 2, 'id': 7882, 'job': 'Animation', 'name': 'Jeff Pidgeon', 'profile_path': '/yLddkg5HcgbJg00cS13GVBnP0HY.jpg'}, {'credit_id': '58921113c3a36863480044e4', 'department': 'Visual Effects', 'gender': 0, 'id': 8017, 'job': 'Animation', 'name': 'Jeff Pratt', 'profile_path': None}, {'credit_id': '5892111c9251412dcb0097e9', 'department': 'Visual Effects', 'gender': 0, 'id': 1184140, 'job': 'Animation', 'name': 'Steve Rabatich', 'profile_path': None}, {'credit_id': '58921123c3a36809700090f6', 'department': 'Visual Effects', 'gender': 0, 'id': 8049, 'job': 'Animation', 'name': 'Roger Rose', 'profile_path': None}, {'credit_id': '5892112b9251412dcb0097fb', 'department': 'Visual Effects', 'gender': 0, 'id': 1509559, 'job': 'Animation', 'name': 'Steve Segal', 'profile_path': None}, {'credit_id': '589211349251412dc80095c3', 'department': 'Visual Effects', 'gender': 0, 'id': 1748691, 'job': 'Animation', 'name': 'Doug Sheppeck', 'profile_path': None}, {'credit_id': '5892113cc3a3680970009106', 'department': 'Visual Effects', 'gender': 0, 'id': 8050, 'job': 'Animation', 'name': 'Alan Sperling', 'profile_path': None}, {'credit_id': '58921148c3a3686b0a004c99', 'department': 'Visual Effects', 'gender': 0, 'id': 8010, 'job': 'Animation', 'name': 'Doug Sweetland', 'profile_path': None}, {'credit_id': '58921150c3a3680966009125', 'department': 'Visual Effects', 'gender': 0, 'id': 8044, 'job': 'Animation', 'name': 'David Tart', 'profile_path': None}, {'credit_id': '589211629251412dc5009b00', 'department': 'Visual Effects', 'gender': 0, 'id': 1454034, 'job': 'Animation', 'name': 'Ken Willard', 'profile_path': None}, {'credit_id': '589211c1c3a3686b0a004d28', 'department': 'Visual Effects', 'gender': 0, 'id': 7887, 'job': 'Visual Effects Supervisor', 'name': 'Thomas Porter', 'profile_path': None}, {'credit_id': '589211d4c3a3680968008ed9', 'department': 'Visual Effects', 'gender': 0, 'id': 1406878, 'job': 'Visual Effects', 'name': 'Mark Thomas Henne', 'profile_path': None}, {'credit_id': '589211f59251412dd4008e65', 'department': 'Visual Effects', 'gender': 0, 'id': 1748698, 'job': 'Visual Effects', 'name': 'Oren Jacob', 'profile_path': None}, {'credit_id': '58921242c3a368096a00939b', 'department': 'Visual Effects', 'gender': 0, 'id': 1748699, 'job': 'Visual Effects', 'name': 'Darwyn Peachey', 'profile_path': None}, {'credit_id': '5892124b9251412dc5009bd2', 'department': 'Visual Effects', 'gender': 0, 'id': 1748701, 'job': 'Visual Effects', 'name': 'Mitch Prater', 'profile_path': None}, {'credit_id': '58921264c3a3686b0a004dbf', 'department': 'Visual Effects', 'gender': 0, 'id': 1748703, 'job': 'Visual Effects', 'name': 'Brian M. Rosen', 'profile_path': None}, {'credit_id': '589212709251412dcd009676', 'department': 'Lighting', 'gender': 1, 'id': 12912, 'job': 'Lighting Supervisor', 'name': 'Sharon Calahan', 'profile_path': None}, {'credit_id': '5892127fc3a3686b0a004de5', 'department': 'Lighting', 'gender': 0, 'id': 7899, 'job': 'Lighting Supervisor', 'name': 'Galyn Susman', 'profile_path': None}, {'credit_id': '589212cdc3a3680970009268', 'department': 'Visual Effects', 'gender': 0, 'id': 12915, 'job': 'CG Painter', 'name': 'William Cone', 'profile_path': None}, {'credit_id': '5892130f9251412dc8009791', 'department': 'Art', 'gender': 0, 'id': 1748705, 'job': 'Sculptor', 'name': 'Shelley Daniels Lekven', 'profile_path': None}, {'credit_id': '5892131c9251412dd4008f4c', 'department': 'Visual Effects', 'gender': 2, 'id': 7889, 'job': 'Character Designer', 'name': 'Bob Pauley', 'profile_path': None}, {'credit_id': '589213249251412dd100987b', 'department': 'Visual Effects', 'gender': 2, 'id': 7918, 'job': 'Character Designer', 'name': 'Bud Luckey', 'profile_path': '/pcCh7G19FKMNijmPQg1PMH1btic.jpg'}, {'credit_id': '5892132b9251412dc80097b1', 'department': 'Visual Effects', 'gender': 2, 'id': 7, 'job': 'Character Designer', 'name': 'Andrew Stanton', 'profile_path': '/pvQWsu0qc8JFQhMVJkTHuexUAa1.jpg'}, {'credit_id': '58921332c3a368634800467b', 'department': 'Visual Effects', 'gender': 0, 'id': 12915, 'job': 'Character Designer', 'name': 'William Cone', 'profile_path': None}, {'credit_id': '5892135f9251412dd4008f90', 'department': 'Visual Effects', 'gender': 0, 'id': 1748706, 'job': 'Character Designer', 'name': 'Steve Johnson', 'profile_path': None}, {'credit_id': '58921384c3a3680973008fd4', 'department': 'Visual Effects', 'gender': 0, 'id': 1176752, 'job': 'Character Designer', 'name': 'Dan Haskett', 'profile_path': None}, {'credit_id': '5892138e9251412dc20099fc', 'department': 'Visual Effects', 'gender': 0, 'id': 1088034, 'job': 'Character Designer', 'name': 'Tom Holloway', 'profile_path': '/a0r0T2usTBpgMI5aZbRBDW1fTl8.jpg'}, {'credit_id': '58921395c3a368097700942f', 'department': 'Visual Effects', 'gender': 0, 'id': 1447465, 'job': 'Character Designer', 'name': 'Jean Gillmore', 'profile_path': None}, {'credit_id': '589213e2c3a3680973009026', 'department': 'Directing', 'gender': 0, 'id': 1748709, 'job': 'Layout', 'name': 'Desirée Mourad', 'profile_path': None}, {'credit_id': '589214099251412dc5009d57', 'department': 'Art', 'gender': 0, 'id': 1748710, 'job': 'Set Dresser', 'name': \"Kelly O'Connell\", 'profile_path': None}, {'credit_id': '58921411c3a3686b0a004f70', 'department': 'Art', 'gender': 0, 'id': 1443471, 'job': 'Set Dresser', 'name': 'Sonoko Konishi', 'profile_path': None}, {'credit_id': '58921434c3a368096a00956e', 'department': 'Art', 'gender': 0, 'id': 1748711, 'job': 'Set Dresser', 'name': 'Ann M. Rockwell', 'profile_path': None}, {'credit_id': '5892144ac3a36809680090de', 'department': 'Editing', 'gender': 0, 'id': 1748712, 'job': 'Editorial Manager', 'name': 'Julie M. McDonald', 'profile_path': None}, {'credit_id': '58921479c3a368096800910f', 'department': 'Editing', 'gender': 0, 'id': 1589729, 'job': 'Assistant Editor', 'name': 'Robin Lee', 'profile_path': None}, {'credit_id': '5892148b9251412dd10099cc', 'department': 'Editing', 'gender': 0, 'id': 1748716, 'job': 'Assistant Editor', 'name': 'Tom Freeman', 'profile_path': None}, {'credit_id': '589214959251412dcb009b1f', 'department': 'Editing', 'gender': 0, 'id': 1748717, 'job': 'Assistant Editor', 'name': 'Ada Cochavi', 'profile_path': None}, {'credit_id': '5892149ec3a3686348004798', 'department': 'Editing', 'gender': 0, 'id': 1336438, 'job': 'Assistant Editor', 'name': 'Dana Mulligan', 'profile_path': None}, {'credit_id': '589214adc3a368096a0095db', 'department': 'Editing', 'gender': 0, 'id': 1748718, 'job': 'Editorial Coordinator', 'name': 'Deirdre Morrison', 'profile_path': None}, {'credit_id': '589214c7c3a368097700952b', 'department': 'Production', 'gender': 0, 'id': 1748719, 'job': 'Production Coordinator', 'name': 'Lori Lombardo', 'profile_path': None}, {'credit_id': '589214cec3a368096a009603', 'department': 'Production', 'gender': 0, 'id': 1748720, 'job': 'Production Coordinator', 'name': 'Ellen Devine', 'profile_path': None}, {'credit_id': '589214e39251412dc8009904', 'department': 'Crew', 'gender': 0, 'id': 1468014, 'job': 'Unit Publicist', 'name': 'Lauren Beth Strogoff', 'profile_path': None}, {'credit_id': '58921544c3a3686b0a00507d', 'department': 'Sound', 'gender': 2, 'id': 2216, 'job': 'Sound Re-Recording Mixer', 'name': 'Gary Rydstrom', 'profile_path': '/jZpr1nVfO7lldWI0YtmP1FGw7Rj.jpg'}, {'credit_id': '5892154c9251412dd1009a56', 'department': 'Sound', 'gender': 0, 'id': 1425978, 'job': 'Sound Re-Recording Mixer', 'name': 'Gary Summers', 'profile_path': None}, {'credit_id': '58921555c3a36809680091bd', 'department': 'Sound', 'gender': 2, 'id': 8276, 'job': 'Supervising Sound Editor', 'name': 'Tim Holland', 'profile_path': None}, {'credit_id': '589215c39251412dcb009c12', 'department': 'Sound', 'gender': 0, 'id': 7069, 'job': 'Sound Effects Editor', 'name': 'Pat Jackson', 'profile_path': None}, {'credit_id': '58921698c3a368096a009788', 'department': 'Crew', 'gender': 2, 'id': 15894, 'job': 'Sound Design Assistant', 'name': 'Tom Myers', 'profile_path': None}, {'credit_id': '589216a89251412dc2009ca4', 'department': 'Sound', 'gender': 0, 'id': 1414177, 'job': 'Assistant Sound Editor', 'name': 'J.R. Grubbs', 'profile_path': None}, {'credit_id': '589216c19251412dc2009cb9', 'department': 'Sound', 'gender': 1, 'id': 1748724, 'job': 'Assistant Sound Editor', 'name': 'Susan Sanford', 'profile_path': None}, {'credit_id': '589216ccc3a3680973009274', 'department': 'Sound', 'gender': 0, 'id': 1748725, 'job': 'Assistant Sound Editor', 'name': 'Susan Popovic', 'profile_path': None}, {'credit_id': '589216d79251412dc8009aa0', 'department': 'Sound', 'gender': 0, 'id': 8067, 'job': 'Assistant Sound Editor', 'name': 'Dan Engstrom', 'profile_path': None}, {'credit_id': '589216e49251412dcd009a4f', 'department': 'Production', 'gender': 1, 'id': 7902, 'job': 'Casting Consultant', 'name': 'Ruth Lambert', 'profile_path': None}, {'credit_id': '589216f39251412dc2009cf3', 'department': 'Production', 'gender': 0, 'id': 84493, 'job': 'ADR Voice Casting', 'name': 'Mickie McGowan', 'profile_path': '/k7TjJBfINsg8vLQxJwos6XObAD6.jpg'}]</td>\n",
       "      <td>862</td>\n",
       "    </tr>\n",
       "  </tbody>\n",
       "</table></div>"
      ],
      "text/plain": [
       "                                                cast  \\\n",
       "0  [{'cast_id': 14, 'character': 'Woody (voice)',...   \n",
       "\n",
       "                                                crew   id  \n",
       "0  [{'credit_id': '52fe4284c3a36847f8024f49', 'de...  862  "
      ]
     },
     "execution_count": 4,
     "metadata": {},
     "output_type": "execute_result"
    }
   ],
   "source": [
    "df2.head(1)"
   ]
  },
  {
   "cell_type": "code",
   "execution_count": 79,
   "id": "46c23992-f8ec-4e55-a5e5-d264167b01e3",
   "metadata": {},
   "outputs": [],
   "source": [
    "import ast\n",
    "import numpy as np\n",
    "def parse_cast(cast_string):\n",
    "    # get a python data structure\n",
    "    data = ast.literal_eval(cast_string)\n",
    "    # sort by the \"order\" from the dataset\n",
    "    data = sorted(data, key=lambda d: d['order'])\n",
    "    top3 = [cast['name'] for cast in data[:3]]\n",
    "    \n",
    "    # add nulls where there's less than 3 cast members present\n",
    "    if len(top3) < 3:\n",
    "        top3 = top3 + [np.nan] * (3 - len(top3))\n",
    "\n",
    "    return pd.Series(top3 + [len(data)], index=['cast_actor_1', 'cast_actor_2', 'cast_actor_3', 'total_n_cast'])"
   ]
  },
  {
   "cell_type": "code",
   "execution_count": 80,
   "id": "8aae2fbd-18d7-4164-bfd7-36e41bb958a6",
   "metadata": {},
   "outputs": [
    {
     "data": {
      "text/html": [
       "<div><div id=b3d6fb95-b440-4792-8904-3c66f4ae22e4 style=\"display:none; background-color:#9D6CFF; color:white; width:200px; height:30px; padding-left:5px; border-radius:4px; flex-direction:row; justify-content:space-around; align-items:center;\" onmouseover=\"this.style.backgroundColor='#BA9BF8'\" onmouseout=\"this.style.backgroundColor='#9D6CFF'\" onclick=\"window.commands?.execute('create-mitosheet-from-dataframe-output');\">See Full Dataframe in Mito</div> <script> if (window.commands?.hasCommand('create-mitosheet-from-dataframe-output')) document.getElementById('b3d6fb95-b440-4792-8904-3c66f4ae22e4').style.display = 'flex' </script> <table border=\"1\" class=\"dataframe\">\n",
       "  <thead>\n",
       "    <tr style=\"text-align: right;\">\n",
       "      <th></th>\n",
       "      <th>cast_actor_1</th>\n",
       "      <th>cast_actor_2</th>\n",
       "      <th>cast_actor_3</th>\n",
       "      <th>total_n_cast</th>\n",
       "    </tr>\n",
       "    <tr>\n",
       "      <th>id</th>\n",
       "      <th></th>\n",
       "      <th></th>\n",
       "      <th></th>\n",
       "      <th></th>\n",
       "    </tr>\n",
       "  </thead>\n",
       "  <tbody>\n",
       "    <tr>\n",
       "      <th>862</th>\n",
       "      <td>Tom Hanks</td>\n",
       "      <td>Tim Allen</td>\n",
       "      <td>Don Rickles</td>\n",
       "      <td>13.0</td>\n",
       "    </tr>\n",
       "    <tr>\n",
       "      <th>8844</th>\n",
       "      <td>Robin Williams</td>\n",
       "      <td>Jonathan Hyde</td>\n",
       "      <td>Kirsten Dunst</td>\n",
       "      <td>26.0</td>\n",
       "    </tr>\n",
       "    <tr>\n",
       "      <th>15602</th>\n",
       "      <td>Walter Matthau</td>\n",
       "      <td>Jack Lemmon</td>\n",
       "      <td>Ann-Margret</td>\n",
       "      <td>7.0</td>\n",
       "    </tr>\n",
       "    <tr>\n",
       "      <th>31357</th>\n",
       "      <td>Whitney Houston</td>\n",
       "      <td>Angela Bassett</td>\n",
       "      <td>Loretta Devine</td>\n",
       "      <td>10.0</td>\n",
       "    </tr>\n",
       "    <tr>\n",
       "      <th>11862</th>\n",
       "      <td>Steve Martin</td>\n",
       "      <td>Diane Keaton</td>\n",
       "      <td>Martin Short</td>\n",
       "      <td>12.0</td>\n",
       "    </tr>\n",
       "    <tr>\n",
       "      <th>...</th>\n",
       "      <td>...</td>\n",
       "      <td>...</td>\n",
       "      <td>...</td>\n",
       "      <td>...</td>\n",
       "    </tr>\n",
       "    <tr>\n",
       "      <th>439050</th>\n",
       "      <td>Leila Hatami</td>\n",
       "      <td>Kourosh Tahami</td>\n",
       "      <td>Elham Korda</td>\n",
       "      <td>3.0</td>\n",
       "    </tr>\n",
       "    <tr>\n",
       "      <th>111109</th>\n",
       "      <td>Angel Aquino</td>\n",
       "      <td>Perry Dizon</td>\n",
       "      <td>Hazel Orencio</td>\n",
       "      <td>11.0</td>\n",
       "    </tr>\n",
       "    <tr>\n",
       "      <th>67758</th>\n",
       "      <td>Erika Eleniak</td>\n",
       "      <td>Adam Baldwin</td>\n",
       "      <td>Julie du Page</td>\n",
       "      <td>15.0</td>\n",
       "    </tr>\n",
       "    <tr>\n",
       "      <th>227506</th>\n",
       "      <td>Iwan Mosschuchin</td>\n",
       "      <td>Nathalie Lissenko</td>\n",
       "      <td>Pavel Pavlov</td>\n",
       "      <td>5.0</td>\n",
       "    </tr>\n",
       "    <tr>\n",
       "      <th>461257</th>\n",
       "      <td>NaN</td>\n",
       "      <td>NaN</td>\n",
       "      <td>NaN</td>\n",
       "      <td>0.0</td>\n",
       "    </tr>\n",
       "  </tbody>\n",
       "</table></div>"
      ],
      "text/plain": [
       "            cast_actor_1       cast_actor_2    cast_actor_3  total_n_cast\n",
       "id                                                                       \n",
       "862            Tom Hanks          Tim Allen     Don Rickles          13.0\n",
       "8844      Robin Williams      Jonathan Hyde   Kirsten Dunst          26.0\n",
       "15602     Walter Matthau        Jack Lemmon     Ann-Margret           7.0\n",
       "31357    Whitney Houston     Angela Bassett  Loretta Devine          10.0\n",
       "11862       Steve Martin       Diane Keaton    Martin Short          12.0\n",
       "...                  ...                ...             ...           ...\n",
       "439050      Leila Hatami     Kourosh Tahami     Elham Korda           3.0\n",
       "111109      Angel Aquino        Perry Dizon   Hazel Orencio          11.0\n",
       "67758      Erika Eleniak       Adam Baldwin   Julie du Page          15.0\n",
       "227506  Iwan Mosschuchin  Nathalie Lissenko    Pavel Pavlov           5.0\n",
       "461257               NaN                NaN             NaN           0.0\n",
       "\n",
       "[45476 rows x 4 columns]"
      ]
     },
     "execution_count": 80,
     "metadata": {},
     "output_type": "execute_result"
    }
   ],
   "source": [
    "t = df2['cast'].apply(parse_cast)\n",
    "t"
   ]
  },
  {
   "cell_type": "code",
   "execution_count": 81,
   "id": "269dd573-0674-4022-87d0-ae26f2a32b24",
   "metadata": {},
   "outputs": [],
   "source": [
    "df6= df2.merge(t,on='id')"
   ]
  },
  {
   "cell_type": "code",
   "execution_count": 83,
   "id": "36ab41d3-a361-4000-9125-eef5c607ff34",
   "metadata": {},
   "outputs": [],
   "source": [
    "#df6"
   ]
  },
  {
   "cell_type": "code",
   "execution_count": 84,
   "id": "8d5c88cd-94c8-4c79-bdcf-f8e7d253a5f7",
   "metadata": {},
   "outputs": [],
   "source": [
    "df2 = df6.copy()"
   ]
  },
  {
   "cell_type": "code",
   "execution_count": 33,
   "id": "05d14cfe-0484-4cdb-b082-5e8ed8dd7c34",
   "metadata": {},
   "outputs": [],
   "source": [
    "#s = df2['crew'].apply(parse_crew)"
   ]
  },
  {
   "cell_type": "code",
   "execution_count": 11,
   "id": "c3d5a329-1eea-4780-bafa-f2140d9f4e8e",
   "metadata": {},
   "outputs": [],
   "source": [
    "#df.a_column_with_a_dictionary.apply(lambda d: d['some_key'])\n",
    "#import ast\n",
    "#ast.literal_eval(df2['cast'])"
   ]
  },
  {
   "cell_type": "code",
   "execution_count": 34,
   "id": "fad9206d-3207-4d10-ad8e-4157b23297e2",
   "metadata": {},
   "outputs": [],
   "source": [
    "df3 = pd.read_csv('links.csv')"
   ]
  },
  {
   "cell_type": "code",
   "execution_count": 72,
   "id": "9addf637-8f92-4301-ad4b-5c0f1b193f45",
   "metadata": {},
   "outputs": [
    {
     "data": {
      "text/html": [
       "<div><div id=092f600b-aac2-4092-be91-bc211997756b style=\"display:none; background-color:#9D6CFF; color:white; width:200px; height:30px; padding-left:5px; border-radius:4px; flex-direction:row; justify-content:space-around; align-items:center;\" onmouseover=\"this.style.backgroundColor='#BA9BF8'\" onmouseout=\"this.style.backgroundColor='#9D6CFF'\" onclick=\"window.commands?.execute('create-mitosheet-from-dataframe-output');\">See Full Dataframe in Mito</div> <script> if (window.commands?.hasCommand('create-mitosheet-from-dataframe-output')) document.getElementById('092f600b-aac2-4092-be91-bc211997756b').style.display = 'flex' </script> <table border=\"1\" class=\"dataframe\">\n",
       "  <thead>\n",
       "    <tr style=\"text-align: right;\">\n",
       "      <th></th>\n",
       "      <th>movieId</th>\n",
       "      <th>imdbId</th>\n",
       "      <th>tmdbId</th>\n",
       "    </tr>\n",
       "  </thead>\n",
       "  <tbody>\n",
       "    <tr>\n",
       "      <th>0</th>\n",
       "      <td>1</td>\n",
       "      <td>114709</td>\n",
       "      <td>862.0</td>\n",
       "    </tr>\n",
       "    <tr>\n",
       "      <th>1</th>\n",
       "      <td>2</td>\n",
       "      <td>113497</td>\n",
       "      <td>8844.0</td>\n",
       "    </tr>\n",
       "    <tr>\n",
       "      <th>2</th>\n",
       "      <td>3</td>\n",
       "      <td>113228</td>\n",
       "      <td>15602.0</td>\n",
       "    </tr>\n",
       "    <tr>\n",
       "      <th>3</th>\n",
       "      <td>4</td>\n",
       "      <td>114885</td>\n",
       "      <td>31357.0</td>\n",
       "    </tr>\n",
       "    <tr>\n",
       "      <th>4</th>\n",
       "      <td>5</td>\n",
       "      <td>113041</td>\n",
       "      <td>11862.0</td>\n",
       "    </tr>\n",
       "    <tr>\n",
       "      <th>...</th>\n",
       "      <td>...</td>\n",
       "      <td>...</td>\n",
       "      <td>...</td>\n",
       "    </tr>\n",
       "    <tr>\n",
       "      <th>45838</th>\n",
       "      <td>176269</td>\n",
       "      <td>6209470</td>\n",
       "      <td>439050.0</td>\n",
       "    </tr>\n",
       "    <tr>\n",
       "      <th>45839</th>\n",
       "      <td>176271</td>\n",
       "      <td>2028550</td>\n",
       "      <td>111109.0</td>\n",
       "    </tr>\n",
       "    <tr>\n",
       "      <th>45840</th>\n",
       "      <td>176273</td>\n",
       "      <td>303758</td>\n",
       "      <td>67758.0</td>\n",
       "    </tr>\n",
       "    <tr>\n",
       "      <th>45841</th>\n",
       "      <td>176275</td>\n",
       "      <td>8536</td>\n",
       "      <td>227506.0</td>\n",
       "    </tr>\n",
       "    <tr>\n",
       "      <th>45842</th>\n",
       "      <td>176279</td>\n",
       "      <td>6980792</td>\n",
       "      <td>461257.0</td>\n",
       "    </tr>\n",
       "  </tbody>\n",
       "</table></div>"
      ],
      "text/plain": [
       "       movieId   imdbId    tmdbId\n",
       "0            1   114709     862.0\n",
       "1            2   113497    8844.0\n",
       "2            3   113228   15602.0\n",
       "3            4   114885   31357.0\n",
       "4            5   113041   11862.0\n",
       "...        ...      ...       ...\n",
       "45838   176269  6209470  439050.0\n",
       "45839   176271  2028550  111109.0\n",
       "45840   176273   303758   67758.0\n",
       "45841   176275     8536  227506.0\n",
       "45842   176279  6980792  461257.0\n",
       "\n",
       "[45843 rows x 3 columns]"
      ]
     },
     "execution_count": 72,
     "metadata": {},
     "output_type": "execute_result"
    }
   ],
   "source": [
    "df3 # this wont be useful as the imdbid doesn't match the dataset we were working with recently. "
   ]
  },
  {
   "cell_type": "code",
   "execution_count": 85,
   "id": "1c66c064-561c-4f16-9301-508a7f8dcf2a",
   "metadata": {},
   "outputs": [
    {
     "name": "stderr",
     "output_type": "stream",
     "text": [
      "/usr/local/anaconda3/lib/python3.9/site-packages/IPython/core/interactiveshell.py:3444: DtypeWarning: Columns (10) have mixed types.Specify dtype option on import or set low_memory=False.\n",
      "  exec(code_obj, self.user_global_ns, self.user_ns)\n"
     ]
    }
   ],
   "source": [
    "df4 = pd.read_csv('movies_metadata.csv')"
   ]
  },
  {
   "cell_type": "code",
   "execution_count": 24,
   "id": "c6022063-278d-47ed-b307-890cbc538cf2",
   "metadata": {},
   "outputs": [
    {
     "data": {
      "text/plain": [
       "Index(['adult', 'belongs_to_collection', 'budget', 'genres', 'homepage', 'id',\n",
       "       'imdb_id', 'original_language', 'original_title', 'overview',\n",
       "       'popularity', 'poster_path', 'production_companies',\n",
       "       'production_countries', 'release_date', 'revenue', 'runtime',\n",
       "       'spoken_languages', 'status', 'tagline', 'title', 'video',\n",
       "       'vote_average', 'vote_count'],\n",
       "      dtype='object')"
      ]
     },
     "execution_count": 24,
     "metadata": {},
     "output_type": "execute_result"
    }
   ],
   "source": [
    "#df4.columns"
   ]
  },
  {
   "cell_type": "code",
   "execution_count": 86,
   "id": "979dd22f-13c7-42cd-a8b8-d8666bb7f976",
   "metadata": {},
   "outputs": [],
   "source": [
    "df5 = pd.read_csv('ratings.csv')"
   ]
  },
  {
   "cell_type": "code",
   "execution_count": 87,
   "id": "1e2a0af2-56a7-40d7-9f66-fc1a782854c6",
   "metadata": {},
   "outputs": [
    {
     "name": "stdout",
     "output_type": "stream",
     "text": [
      " df shape: (46419, 2) | column names: Index(['id', 'keywords'], dtype='object')\n",
      "\n",
      " df2 shape: (45566, 6) | column names: Index(['cast', 'crew', 'cast_actor_1', 'cast_actor_2', 'cast_actor_3',\n",
      "       'total_n_cast'],\n",
      "      dtype='object')\n",
      "\n",
      " df3 shape: (45843, 3) | column names: Index(['movieId', 'imdbId', 'tmdbId'], dtype='object')\n",
      "\n",
      " df4 shape: (45466, 24) | column names: Index(['adult', 'belongs_to_collection', 'budget', 'genres', 'homepage', 'id',\n",
      "       'imdb_id', 'original_language', 'original_title', 'overview',\n",
      "       'popularity', 'poster_path', 'production_companies',\n",
      "       'production_countries', 'release_date', 'revenue', 'runtime',\n",
      "       'spoken_languages', 'status', 'tagline', 'title', 'video',\n",
      "       'vote_average', 'vote_count'],\n",
      "      dtype='object')\n",
      "\n",
      " df5 shape: (26024289, 4) | column names: Index(['userId', 'movieId', 'rating', 'timestamp'], dtype='object')\n"
     ]
    }
   ],
   "source": [
    "print(f' df shape: {df.shape} | column names: {df.columns}')\n",
    "print('')\n",
    "print(f' df2 shape: {df2.shape} | column names: {df2.columns}')\n",
    "print('')\n",
    "print(f' df3 shape: {df3.shape} | column names: {df3.columns}')\n",
    "print('')\n",
    "print(f' df4 shape: {df4.shape} | column names: {df4.columns}')\n",
    "print('')\n",
    "print(f' df5 shape: {df5.shape} | column names: {df5.columns}')"
   ]
  },
  {
   "cell_type": "code",
   "execution_count": 89,
   "id": "e116c007-7c18-4be6-8113-cf0083c76858",
   "metadata": {},
   "outputs": [
    {
     "data": {
      "text/plain": [
       "False"
      ]
     },
     "execution_count": 89,
     "metadata": {},
     "output_type": "execute_result"
    }
   ],
   "source": [
    "df.id.is_unique"
   ]
  },
  {
   "cell_type": "code",
   "execution_count": 90,
   "id": "97944d42-1ee5-4542-a71c-cd53886394f7",
   "metadata": {},
   "outputs": [
    {
     "data": {
      "text/plain": [
       "False"
      ]
     },
     "execution_count": 90,
     "metadata": {},
     "output_type": "execute_result"
    }
   ],
   "source": [
    "df4.id.is_unique"
   ]
  },
  {
   "cell_type": "code",
   "execution_count": 95,
   "id": "0cdc8de8-cd16-4d05-9ceb-36f89ed3e828",
   "metadata": {},
   "outputs": [],
   "source": [
    "df['keywords'] = df['keywords'].apply(lambda x: ' '.join([i['name'] for i in eval(x)]))"
   ]
  },
  {
   "cell_type": "code",
   "execution_count": 9,
   "id": "641e20bb-e910-4912-87b9-53e76e89f2fe",
   "metadata": {},
   "outputs": [
    {
     "data": {
      "text/html": [
       "<div><div id=102d6908-051e-490d-9a5e-0e2ca9933c13 style=\"display:none; background-color:#9D6CFF; color:white; width:200px; height:30px; padding-left:5px; border-radius:4px; flex-direction:row; justify-content:space-around; align-items:center;\" onmouseover=\"this.style.backgroundColor='#BA9BF8'\" onmouseout=\"this.style.backgroundColor='#9D6CFF'\" onclick=\"window.commands?.execute('create-mitosheet-from-dataframe-output');\">See Full Dataframe in Mito</div> <script> if (window.commands?.hasCommand('create-mitosheet-from-dataframe-output')) document.getElementById('102d6908-051e-490d-9a5e-0e2ca9933c13').style.display = 'flex' </script> <table border=\"1\" class=\"dataframe\">\n",
       "  <thead>\n",
       "    <tr style=\"text-align: right;\">\n",
       "      <th></th>\n",
       "      <th>id</th>\n",
       "      <th>keywords</th>\n",
       "    </tr>\n",
       "  </thead>\n",
       "  <tbody>\n",
       "    <tr>\n",
       "      <th>0</th>\n",
       "      <td>862</td>\n",
       "      <td>jealousy toy boy friendship friends rivalry boy next door new toy toy comes to life</td>\n",
       "    </tr>\n",
       "    <tr>\n",
       "      <th>1</th>\n",
       "      <td>8844</td>\n",
       "      <td>board game disappearance based on children's book new home recluse giant insect</td>\n",
       "    </tr>\n",
       "    <tr>\n",
       "      <th>2</th>\n",
       "      <td>15602</td>\n",
       "      <td>fishing best friend duringcreditsstinger old men</td>\n",
       "    </tr>\n",
       "    <tr>\n",
       "      <th>3</th>\n",
       "      <td>31357</td>\n",
       "      <td>based on novel interracial relationship single mother divorce chick flick</td>\n",
       "    </tr>\n",
       "    <tr>\n",
       "      <th>4</th>\n",
       "      <td>11862</td>\n",
       "      <td>baby midlife crisis confidence aging daughter mother daughter relationship pregnancy contraception gynecologist</td>\n",
       "    </tr>\n",
       "    <tr>\n",
       "      <th>...</th>\n",
       "      <td>...</td>\n",
       "      <td>...</td>\n",
       "    </tr>\n",
       "    <tr>\n",
       "      <th>46414</th>\n",
       "      <td>439050</td>\n",
       "      <td>tragic love</td>\n",
       "    </tr>\n",
       "    <tr>\n",
       "      <th>46415</th>\n",
       "      <td>111109</td>\n",
       "      <td>artist play pinoy</td>\n",
       "    </tr>\n",
       "    <tr>\n",
       "      <th>46416</th>\n",
       "      <td>67758</td>\n",
       "      <td></td>\n",
       "    </tr>\n",
       "    <tr>\n",
       "      <th>46417</th>\n",
       "      <td>227506</td>\n",
       "      <td></td>\n",
       "    </tr>\n",
       "    <tr>\n",
       "      <th>46418</th>\n",
       "      <td>461257</td>\n",
       "      <td></td>\n",
       "    </tr>\n",
       "  </tbody>\n",
       "</table></div>"
      ],
      "text/plain": [
       "           id                                           keywords\n",
       "0         862  jealousy toy boy friendship friends rivalry bo...\n",
       "1        8844  board game disappearance based on children's b...\n",
       "2       15602   fishing best friend duringcreditsstinger old men\n",
       "3       31357  based on novel interracial relationship single...\n",
       "4       11862  baby midlife crisis confidence aging daughter ...\n",
       "...       ...                                                ...\n",
       "46414  439050                                        tragic love\n",
       "46415  111109                                  artist play pinoy\n",
       "46416   67758                                                   \n",
       "46417  227506                                                   \n",
       "46418  461257                                                   \n",
       "\n",
       "[46419 rows x 2 columns]"
      ]
     },
     "execution_count": 9,
     "metadata": {},
     "output_type": "execute_result"
    }
   ],
   "source": [
    "df"
   ]
  },
  {
   "cell_type": "code",
   "execution_count": 93,
   "id": "468dcd08-9bab-422a-b82b-c54e3f937313",
   "metadata": {},
   "outputs": [],
   "source": [
    "df2['cast'] = df2['cast'].apply(lambda x: ' '.join([i['name'].replace(' ', '') for i in eval(x)]))"
   ]
  },
  {
   "cell_type": "code",
   "execution_count": 94,
   "id": "7a14ad00-8fb6-4494-b4f9-1c9b7d37c393",
   "metadata": {},
   "outputs": [],
   "source": [
    "df2['crew'] = df2['crew'].apply(lambda x: ' '.join([i['name'].replace(' ', '') for i in eval(x)]))"
   ]
  },
  {
   "cell_type": "code",
   "execution_count": 96,
   "id": "87d20e43-8755-47c6-86c4-9ef2d62cdb52",
   "metadata": {},
   "outputs": [
    {
     "data": {
      "text/html": [
       "<div><div id=71471757-f5c6-40b2-b7ad-39104624406b style=\"display:none; background-color:#9D6CFF; color:white; width:200px; height:30px; padding-left:5px; border-radius:4px; flex-direction:row; justify-content:space-around; align-items:center;\" onmouseover=\"this.style.backgroundColor='#BA9BF8'\" onmouseout=\"this.style.backgroundColor='#9D6CFF'\" onclick=\"window.commands?.execute('create-mitosheet-from-dataframe-output');\">See Full Dataframe in Mito</div> <script> if (window.commands?.hasCommand('create-mitosheet-from-dataframe-output')) document.getElementById('71471757-f5c6-40b2-b7ad-39104624406b').style.display = 'flex' </script> <table border=\"1\" class=\"dataframe\">\n",
       "  <thead>\n",
       "    <tr style=\"text-align: right;\">\n",
       "      <th></th>\n",
       "      <th>cast</th>\n",
       "      <th>crew</th>\n",
       "      <th>cast_actor_1</th>\n",
       "      <th>cast_actor_2</th>\n",
       "      <th>cast_actor_3</th>\n",
       "      <th>total_n_cast</th>\n",
       "    </tr>\n",
       "    <tr>\n",
       "      <th>id</th>\n",
       "      <th></th>\n",
       "      <th></th>\n",
       "      <th></th>\n",
       "      <th></th>\n",
       "      <th></th>\n",
       "      <th></th>\n",
       "    </tr>\n",
       "  </thead>\n",
       "  <tbody>\n",
       "    <tr>\n",
       "      <th>862</th>\n",
       "      <td>TomHanks TimAllen DonRickles JimVarney WallaceShawn JohnRatzenberger AnniePotts JohnMorris ErikvonDetten LaurieMetcalf R.LeeErmey SarahFreeman PennJillette</td>\n",
       "      <td>JohnLasseter JossWhedon AndrewStanton JoelCohen AlecSokolow BonnieArnold EdCatmull RalphGuggenheim SteveJobs LeeUnkrich RalphEggleston RobertGordon MaryHelenLeasman KimBlanchette MarilynMcCoppen RandyNewman DaleE.Grahn RobinCooper JohnLasseter PeteDocter JoeRanft PatsyBouge NormDeCarlo AshBrannon RandyNewman RomanFigun DonDavis JamesFlamberg MaryBethSmith RickMackay SusanBradley WilliamReeves RandyNewman AndrewStanton PeteDocter GaryRydstrom KarenRobertJackson ChrisMontan RichQuade MichaelBerenstein ColinBrady DaveyCrockettFeiten AngieGlocka RexGrignon TomK.Gurney JimmyHayward HalT.Hickel KarenKiser AnthonyB.LaMolinara GuionneLeroy BudLuckey LesMajor GlennMcQueen MarkOftedal JeffPidgeon JeffPratt SteveRabatich RogerRose SteveSegal DougSheppeck AlanSperling DougSweetland DavidTart KenWillard ThomasPorter MarkThomasHenne OrenJacob DarwynPeachey MitchPrater BrianM.Rosen SharonCalahan GalynSusman WilliamCone ShelleyDanielsLekven BobPauley BudLuckey AndrewStanton WilliamCone SteveJohnson DanHaskett TomHolloway JeanGillmore DesiréeMourad KellyO'Connell SonokoKonishi AnnM.Rockwell JulieM.McDonald RobinLee TomFreeman AdaCochavi DanaMulligan DeirdreMorrison LoriLombardo EllenDevine LaurenBethStrogoff GaryRydstrom GarySummers TimHolland PatJackson TomMyers J.R.Grubbs SusanSanford SusanPopovic DanEngstrom RuthLambert MickieMcGowan</td>\n",
       "      <td>Tom Hanks</td>\n",
       "      <td>Tim Allen</td>\n",
       "      <td>Don Rickles</td>\n",
       "      <td>13.0</td>\n",
       "    </tr>\n",
       "    <tr>\n",
       "      <th>8844</th>\n",
       "      <td>RobinWilliams JonathanHyde KirstenDunst BradleyPierce BonnieHunt BebeNeuwirth DavidAlanGrier PatriciaClarkson AdamHann-Byrd LauraBellBundy JamesHandy GillianBarber BrandonObray CyrusThiedeke GaryJosephThorup LeonardZola LloydBerry MalcolmStewart AnnabelKershaw DarrylHenriques RobynDriscoll PeterBryant SarahGilson FloricaVlad JuneLion BrendaLockmuller</td>\n",
       "      <td>LarryJ.Franco JonathanHensleigh JamesHorner JoeJohnston RobertDalva NancyFoy KyleBalda JamesD.Bissell ScottKroopf TedField RobertW.Cort ThomasE.Ackerman ChrisvanAllsburg WilliamTeitler GregTaylor JimStrain</td>\n",
       "      <td>Robin Williams</td>\n",
       "      <td>Jonathan Hyde</td>\n",
       "      <td>Kirsten Dunst</td>\n",
       "      <td>26.0</td>\n",
       "    </tr>\n",
       "    <tr>\n",
       "      <th>15602</th>\n",
       "      <td>WalterMatthau JackLemmon Ann-Margret SophiaLoren DarylHannah BurgessMeredith KevinPollak</td>\n",
       "      <td>HowardDeutch MarkStevenJohnson MarkStevenJohnson JackKeller</td>\n",
       "      <td>Walter Matthau</td>\n",
       "      <td>Jack Lemmon</td>\n",
       "      <td>Ann-Margret</td>\n",
       "      <td>7.0</td>\n",
       "    </tr>\n",
       "    <tr>\n",
       "      <th>31357</th>\n",
       "      <td>WhitneyHouston AngelaBassett LorettaDevine LelaRochon GregoryHines DennisHaysbert MichaelBeach MykeltiWilliamson LamontJohnson WesleySnipes</td>\n",
       "      <td>ForestWhitaker RonaldBass RonaldBass EzraSwerdlow DeborahSchindler TerryMcMillan TerryMcMillan TerryMcMillan KennethEdmonds CaronK</td>\n",
       "      <td>Whitney Houston</td>\n",
       "      <td>Angela Bassett</td>\n",
       "      <td>Loretta Devine</td>\n",
       "      <td>10.0</td>\n",
       "    </tr>\n",
       "    <tr>\n",
       "      <th>11862</th>\n",
       "      <td>SteveMartin DianeKeaton MartinShort KimberlyWilliams-Paisley GeorgeNewbern KieranCulkin BDWong PeterMichaelGoetz KateMcGregor-Stewart JaneAdams EugeneLevy LoriAlan</td>\n",
       "      <td>AlanSilvestri ElliotDavis NancyMeyers NancyMeyers AlbertHackett CharlesShyer AdamBernardi</td>\n",
       "      <td>Steve Martin</td>\n",
       "      <td>Diane Keaton</td>\n",
       "      <td>Martin Short</td>\n",
       "      <td>12.0</td>\n",
       "    </tr>\n",
       "    <tr>\n",
       "      <th>...</th>\n",
       "      <td>...</td>\n",
       "      <td>...</td>\n",
       "      <td>...</td>\n",
       "      <td>...</td>\n",
       "      <td>...</td>\n",
       "      <td>...</td>\n",
       "    </tr>\n",
       "    <tr>\n",
       "      <th>439050</th>\n",
       "      <td>LeilaHatami KouroshTahami ElhamKorda</td>\n",
       "      <td>HamidNematollah HamidNematollah FarshadMohammadi MasoumehBayat MehdiSaadi BabakArdalan AzadehGhavam SahandTorabi HomayounShajarian</td>\n",
       "      <td>Leila Hatami</td>\n",
       "      <td>Kourosh Tahami</td>\n",
       "      <td>Elham Korda</td>\n",
       "      <td>3.0</td>\n",
       "    </tr>\n",
       "    <tr>\n",
       "      <th>111109</th>\n",
       "      <td>AngelAquino PerryDizon HazelOrencio JoelTorre BartGuingona SolimanCruz Roeder AngeliBayani DantePerez BettyUy-Regala Modesta</td>\n",
       "      <td>LavDiaz LavDiaz DantePerez LavDiaz LavDiaz LavDiaz</td>\n",
       "      <td>Angel Aquino</td>\n",
       "      <td>Perry Dizon</td>\n",
       "      <td>Hazel Orencio</td>\n",
       "      <td>11.0</td>\n",
       "    </tr>\n",
       "    <tr>\n",
       "      <th>67758</th>\n",
       "      <td>ErikaEleniak AdamBaldwin JulieduPage JamesRemar DamianChapa LouisMandylor TomWright JeremyLelliott JamesQuattrochi JasonWidener JoeSabatino KikoEllsworth DonSwayze PeterDobson DarrellDubovsky</td>\n",
       "      <td>MarkL.Lester C.CourtneyJoyner JeffreyGoldenberg RichardMcHugh JoãoFernandes</td>\n",
       "      <td>Erika Eleniak</td>\n",
       "      <td>Adam Baldwin</td>\n",
       "      <td>Julie du Page</td>\n",
       "      <td>15.0</td>\n",
       "    </tr>\n",
       "    <tr>\n",
       "      <th>227506</th>\n",
       "      <td>IwanMosschuchin NathalieLissenko PavelPavlov AleksandrChabrov VeraOrlova</td>\n",
       "      <td>YakovProtazanov JosephN.Ermolieff</td>\n",
       "      <td>Iwan Mosschuchin</td>\n",
       "      <td>Nathalie Lissenko</td>\n",
       "      <td>Pavel Pavlov</td>\n",
       "      <td>5.0</td>\n",
       "    </tr>\n",
       "    <tr>\n",
       "      <th>461257</th>\n",
       "      <td></td>\n",
       "      <td>DaisyAsquith</td>\n",
       "      <td>NaN</td>\n",
       "      <td>NaN</td>\n",
       "      <td>NaN</td>\n",
       "      <td>0.0</td>\n",
       "    </tr>\n",
       "  </tbody>\n",
       "</table></div>"
      ],
      "text/plain": [
       "                                                     cast  \\\n",
       "id                                                          \n",
       "862     TomHanks TimAllen DonRickles JimVarney Wallace...   \n",
       "8844    RobinWilliams JonathanHyde KirstenDunst Bradle...   \n",
       "15602   WalterMatthau JackLemmon Ann-Margret SophiaLor...   \n",
       "31357   WhitneyHouston AngelaBassett LorettaDevine Lel...   \n",
       "11862   SteveMartin DianeKeaton MartinShort KimberlyWi...   \n",
       "...                                                   ...   \n",
       "439050               LeilaHatami KouroshTahami ElhamKorda   \n",
       "111109  AngelAquino PerryDizon HazelOrencio JoelTorre ...   \n",
       "67758   ErikaEleniak AdamBaldwin JulieduPage JamesRema...   \n",
       "227506  IwanMosschuchin NathalieLissenko PavelPavlov A...   \n",
       "461257                                                      \n",
       "\n",
       "                                                     crew      cast_actor_1  \\\n",
       "id                                                                            \n",
       "862     JohnLasseter JossWhedon AndrewStanton JoelCohe...         Tom Hanks   \n",
       "8844    LarryJ.Franco JonathanHensleigh JamesHorner Jo...    Robin Williams   \n",
       "15602   HowardDeutch MarkStevenJohnson MarkStevenJohns...    Walter Matthau   \n",
       "31357   ForestWhitaker RonaldBass RonaldBass EzraSwerd...   Whitney Houston   \n",
       "11862   AlanSilvestri ElliotDavis NancyMeyers NancyMey...      Steve Martin   \n",
       "...                                                   ...               ...   \n",
       "439050  HamidNematollah HamidNematollah FarshadMohamma...      Leila Hatami   \n",
       "111109  LavDiaz LavDiaz DantePerez LavDiaz LavDiaz Lav...      Angel Aquino   \n",
       "67758   MarkL.Lester C.CourtneyJoyner JeffreyGoldenber...     Erika Eleniak   \n",
       "227506                  YakovProtazanov JosephN.Ermolieff  Iwan Mosschuchin   \n",
       "461257                                       DaisyAsquith               NaN   \n",
       "\n",
       "             cast_actor_2    cast_actor_3  total_n_cast  \n",
       "id                                                       \n",
       "862             Tim Allen     Don Rickles          13.0  \n",
       "8844        Jonathan Hyde   Kirsten Dunst          26.0  \n",
       "15602         Jack Lemmon     Ann-Margret           7.0  \n",
       "31357      Angela Bassett  Loretta Devine          10.0  \n",
       "11862        Diane Keaton    Martin Short          12.0  \n",
       "...                   ...             ...           ...  \n",
       "439050     Kourosh Tahami     Elham Korda           3.0  \n",
       "111109        Perry Dizon   Hazel Orencio          11.0  \n",
       "67758        Adam Baldwin   Julie du Page          15.0  \n",
       "227506  Nathalie Lissenko    Pavel Pavlov           5.0  \n",
       "461257                NaN             NaN           0.0  \n",
       "\n",
       "[45566 rows x 6 columns]"
      ]
     },
     "execution_count": 96,
     "metadata": {},
     "output_type": "execute_result"
    }
   ],
   "source": [
    "#df2 # cast and crew extracted."
   ]
  },
  {
   "cell_type": "code",
   "execution_count": null,
   "id": "7862599b-d213-41cc-a3f6-b0544ab1c682",
   "metadata": {},
   "outputs": [],
   "source": [
    "# to extract a value from a column with dictionary\n",
    "#df.a_column_with_a_dictionary.apply(lambda d: d['some_key'])"
   ]
  },
  {
   "cell_type": "code",
   "execution_count": 87,
   "id": "69a02d70-c5fc-4a55-beea-4b02878e625c",
   "metadata": {},
   "outputs": [
    {
     "data": {
      "text/plain": [
       "Index(['adult', 'belongs_to_collection', 'budget', 'genres', 'homepage', 'id',\n",
       "       'imdb_id', 'original_language', 'original_title', 'overview',\n",
       "       'popularity', 'poster_path', 'production_companies',\n",
       "       'production_countries', 'release_date', 'revenue', 'runtime',\n",
       "       'spoken_languages', 'status', 'tagline', 'title', 'video',\n",
       "       'vote_average', 'vote_count'],\n",
       "      dtype='object')"
      ]
     },
     "execution_count": 87,
     "metadata": {},
     "output_type": "execute_result"
    }
   ],
   "source": [
    "df4.columns"
   ]
  },
  {
   "cell_type": "code",
   "execution_count": 45,
   "id": "9ff4567e-5687-4269-b572-c71fe0bf4383",
   "metadata": {},
   "outputs": [],
   "source": [
    "df4 = df4.dropna(subset=['title'])\n",
    "df4['popularity'] = pd.to_numeric(df4['popularity'])\n",
    "df4['budget'] = pd.to_numeric(df4['budget'])\n",
    "#df4['id'] = pd.to_numeric(df4['id'])"
   ]
  },
  {
   "cell_type": "code",
   "execution_count": 13,
   "id": "a93f97d0-b056-40fb-98a6-d84830ea4c55",
   "metadata": {},
   "outputs": [
    {
     "data": {
      "text/plain": [
       "(46419, 2)"
      ]
     },
     "execution_count": 13,
     "metadata": {},
     "output_type": "execute_result"
    }
   ],
   "source": [
    "df.shape"
   ]
  },
  {
   "cell_type": "code",
   "execution_count": 46,
   "id": "db9a613f-fe8b-4175-ab3a-fedc4737ec48",
   "metadata": {},
   "outputs": [],
   "source": [
    "df4['production_companies'] = df4['production_companies'].apply(lambda x: ' '.join([i['name'].replace(' ', '') for i in eval(x)]))"
   ]
  },
  {
   "cell_type": "code",
   "execution_count": 47,
   "id": "ae7503da-b62a-46cb-a3f6-6ff30c7ffccf",
   "metadata": {},
   "outputs": [],
   "source": [
    "df4['production_countries'] = df4['production_countries'].apply(lambda x: ' '.join([i['name'].replace(' ', '') for i in eval(x)]))"
   ]
  },
  {
   "cell_type": "code",
   "execution_count": 85,
   "id": "20e8a3a3-db1d-40e1-9058-f440e6351913",
   "metadata": {},
   "outputs": [
    {
     "data": {
      "text/plain": [
       "                                                                                                                                   11875\n",
       "Metro-Goldwyn-Mayer(MGM)                                                                                                             742\n",
       "WarnerBros.                                                                                                                          540\n",
       "ParamountPictures                                                                                                                    505\n",
       "TwentiethCenturyFoxFilmCorporation                                                                                                   439\n",
       "                                                                                                                                   ...  \n",
       "DimensionFilms SpectacleEntertainmentGroup TrancasInternationalFilms                                                                   1\n",
       "HBOFilms MovingPictures                                                                                                                1\n",
       "BIMDistribuzione Canal+ AltaProducción CentreNationaldelaCinématographie(CNC) RézoProductions CompagnieEricRohmer(CER) Cinémage        1\n",
       "GalatéeFilms NovoArturoFilms ConstantinFilmProduktion Pathé France2Cinéma France3Cinema LoglineStudios BlueScreenProductions           1\n",
       "Yermoliev                                                                                                                              1\n",
       "Name: production_companies, Length: 22658, dtype: int64"
      ]
     },
     "execution_count": 85,
     "metadata": {},
     "output_type": "execute_result"
    }
   ],
   "source": [
    "df4.production_companies.value_counts()"
   ]
  },
  {
   "cell_type": "code",
   "execution_count": 89,
   "id": "35665d73-3162-417a-9401-ee93ecfb7793",
   "metadata": {},
   "outputs": [
    {
     "data": {
      "text/plain": [
       "0        UnitedStatesofAmerica\n",
       "1        UnitedStatesofAmerica\n",
       "2        UnitedStatesofAmerica\n",
       "3        UnitedStatesofAmerica\n",
       "4        UnitedStatesofAmerica\n",
       "                 ...          \n",
       "45461                     Iran\n",
       "45462              Philippines\n",
       "45463    UnitedStatesofAmerica\n",
       "45464                   Russia\n",
       "45465            UnitedKingdom\n",
       "Name: production_countries, Length: 45460, dtype: object"
      ]
     },
     "execution_count": 89,
     "metadata": {},
     "output_type": "execute_result"
    }
   ],
   "source": [
    "df4.production_countries # I will worry about cleaning these later. Space between instances of capitalization would work\n",
    "# if not for 'of'. U.S. can be handled separately"
   ]
  },
  {
   "cell_type": "code",
   "execution_count": 67,
   "id": "b9593dd3-bfed-41ea-9f51-428a40db5ce6",
   "metadata": {},
   "outputs": [
    {
     "data": {
      "text/plain": [
       "0         Animation Comedy Family\n",
       "1        Adventure Fantasy Family\n",
       "2                  Romance Comedy\n",
       "3            Comedy Drama Romance\n",
       "4                          Comedy\n",
       "                   ...           \n",
       "45461                Drama Family\n",
       "45462                       Drama\n",
       "45463       Action Drama Thriller\n",
       "45464                            \n",
       "45465                            \n",
       "Name: genres, Length: 45460, dtype: object"
      ]
     },
     "execution_count": 67,
     "metadata": {},
     "output_type": "execute_result"
    }
   ],
   "source": [
    "df4.genres"
   ]
  },
  {
   "cell_type": "code",
   "execution_count": null,
   "id": "6a638682-59b7-4a39-9241-77908630629b",
   "metadata": {},
   "outputs": [],
   "source": [
    "# good enough for now, attempting to merge\n",
    "# disregarding links.csv\n",
    "\n",
    "# df = keywords.csv\n",
    "# df2 = credits.csv\n",
    "# df4 = moviemetadata.csv\n",
    "# df5 = ratings.csv"
   ]
  },
  {
   "cell_type": "code",
   "execution_count": 76,
   "id": "5b0a627e-847a-4cb9-a199-9202f3bebce7",
   "metadata": {},
   "outputs": [
    {
     "data": {
      "text/html": [
       "<div><div id=6cf2caa5-4bd5-4433-ac6c-6922d93def04 style=\"display:none; background-color:#9D6CFF; color:white; width:200px; height:30px; padding-left:5px; border-radius:4px; flex-direction:row; justify-content:space-around; align-items:center;\" onmouseover=\"this.style.backgroundColor='#BA9BF8'\" onmouseout=\"this.style.backgroundColor='#9D6CFF'\" onclick=\"window.commands?.execute('create-mitosheet-from-dataframe-output');\">See Full Dataframe in Mito</div> <script> if (window.commands?.hasCommand('create-mitosheet-from-dataframe-output')) document.getElementById('6cf2caa5-4bd5-4433-ac6c-6922d93def04').style.display = 'flex' </script> <table border=\"1\" class=\"dataframe\">\n",
       "  <thead>\n",
       "    <tr style=\"text-align: right;\">\n",
       "      <th></th>\n",
       "      <th>userId</th>\n",
       "      <th>movieId</th>\n",
       "      <th>rating</th>\n",
       "      <th>timestamp</th>\n",
       "    </tr>\n",
       "  </thead>\n",
       "  <tbody>\n",
       "    <tr>\n",
       "      <th>0</th>\n",
       "      <td>1</td>\n",
       "      <td>110</td>\n",
       "      <td>1.0</td>\n",
       "      <td>1425941529</td>\n",
       "    </tr>\n",
       "    <tr>\n",
       "      <th>1</th>\n",
       "      <td>1</td>\n",
       "      <td>147</td>\n",
       "      <td>4.5</td>\n",
       "      <td>1425942435</td>\n",
       "    </tr>\n",
       "  </tbody>\n",
       "</table></div>"
      ],
      "text/plain": [
       "   userId  movieId  rating   timestamp\n",
       "0       1      110     1.0  1425941529\n",
       "1       1      147     4.5  1425942435"
      ]
     },
     "execution_count": 76,
     "metadata": {},
     "output_type": "execute_result"
    }
   ],
   "source": [
    "df5.head(2)"
   ]
  },
  {
   "cell_type": "code",
   "execution_count": null,
   "id": "acfd8cf2-9e7c-4ef3-93bf-f376ab9beaae",
   "metadata": {},
   "outputs": [
    {
     "data": {
      "text/html": [
       "<div><div id=7df00432-b19c-41fc-be40-c5cfc33b9e25 style=\"display:none; background-color:#9D6CFF; color:white; width:200px; height:30px; padding-left:5px; border-radius:4px; flex-direction:row; justify-content:space-around; align-items:center;\" onmouseover=\"this.style.backgroundColor='#BA9BF8'\" onmouseout=\"this.style.backgroundColor='#9D6CFF'\" onclick=\"window.commands?.execute('create-mitosheet-from-dataframe-output');\">See Full Dataframe in Mito</div> <script> if (window.commands?.hasCommand('create-mitosheet-from-dataframe-output')) document.getElementById('7df00432-b19c-41fc-be40-c5cfc33b9e25').style.display = 'flex' </script> <table border=\"1\" class=\"dataframe\">\n",
       "  <thead>\n",
       "    <tr style=\"text-align: right;\">\n",
       "      <th></th>\n",
       "      <th>adult</th>\n",
       "      <th>belongs_to_collection</th>\n",
       "      <th>budget</th>\n",
       "      <th>genres</th>\n",
       "      <th>homepage</th>\n",
       "      <th>id</th>\n",
       "      <th>imdb_id</th>\n",
       "      <th>original_language</th>\n",
       "      <th>original_title</th>\n",
       "      <th>overview</th>\n",
       "      <th>...</th>\n",
       "      <th>release_date</th>\n",
       "      <th>revenue</th>\n",
       "      <th>runtime</th>\n",
       "      <th>spoken_languages</th>\n",
       "      <th>status</th>\n",
       "      <th>tagline</th>\n",
       "      <th>title</th>\n",
       "      <th>video</th>\n",
       "      <th>vote_average</th>\n",
       "      <th>vote_count</th>\n",
       "    </tr>\n",
       "  </thead>\n",
       "  <tbody>\n",
       "    <tr>\n",
       "      <th>0</th>\n",
       "      <td>False</td>\n",
       "      <td>{'id': 10194, 'name': 'Toy Story Collection', 'poster_path': '/7G9915LfUQ2lVfwMEEhDsn3kT4B.jpg', 'backdrop_path': '/9FBwqcd9IRruEDUrTdcaafOMKUq.jpg'}</td>\n",
       "      <td>30000000</td>\n",
       "      <td>Animation Comedy Family</td>\n",
       "      <td>http://toystory.disney.com/toy-story</td>\n",
       "      <td>862</td>\n",
       "      <td>tt0114709</td>\n",
       "      <td>en</td>\n",
       "      <td>Toy Story</td>\n",
       "      <td>Led by Woody, Andy's toys live happily in his room until Andy's birthday brings Buzz Lightyear onto the scene. Afraid of losing his place in Andy's heart, Woody plots against Buzz. But when circumstances separate Buzz and Woody from their owner, the duo eventually learns to put aside their differences.</td>\n",
       "      <td>...</td>\n",
       "      <td>1995-10-30</td>\n",
       "      <td>373554033.0</td>\n",
       "      <td>81.0</td>\n",
       "      <td>[{'iso_639_1': 'en', 'name': 'English'}]</td>\n",
       "      <td>Released</td>\n",
       "      <td>NaN</td>\n",
       "      <td>Toy Story</td>\n",
       "      <td>False</td>\n",
       "      <td>7.7</td>\n",
       "      <td>5415.0</td>\n",
       "    </tr>\n",
       "    <tr>\n",
       "      <th>1</th>\n",
       "      <td>False</td>\n",
       "      <td>NaN</td>\n",
       "      <td>65000000</td>\n",
       "      <td>Adventure Fantasy Family</td>\n",
       "      <td>NaN</td>\n",
       "      <td>8844</td>\n",
       "      <td>tt0113497</td>\n",
       "      <td>en</td>\n",
       "      <td>Jumanji</td>\n",
       "      <td>When siblings Judy and Peter discover an enchanted board game that opens the door to a magical world, they unwittingly invite Alan -- an adult who's been trapped inside the game for 26 years -- into their living room. Alan's only hope for freedom is to finish the game, which proves risky as all three find themselves running from giant rhinoceroses, evil monkeys and other terrifying creatures.</td>\n",
       "      <td>...</td>\n",
       "      <td>1995-12-15</td>\n",
       "      <td>262797249.0</td>\n",
       "      <td>104.0</td>\n",
       "      <td>[{'iso_639_1': 'en', 'name': 'English'}, {'iso_639_1': 'fr', 'name': 'Français'}]</td>\n",
       "      <td>Released</td>\n",
       "      <td>Roll the dice and unleash the excitement!</td>\n",
       "      <td>Jumanji</td>\n",
       "      <td>False</td>\n",
       "      <td>6.9</td>\n",
       "      <td>2413.0</td>\n",
       "    </tr>\n",
       "  </tbody>\n",
       "</table></div>"
      ],
      "text/plain": [
       "   adult                              belongs_to_collection    budget  \\\n",
       "0  False  {'id': 10194, 'name': 'Toy Story Collection', ...  30000000   \n",
       "1  False                                                NaN  65000000   \n",
       "\n",
       "                     genres                              homepage    id  \\\n",
       "0   Animation Comedy Family  http://toystory.disney.com/toy-story   862   \n",
       "1  Adventure Fantasy Family                                   NaN  8844   \n",
       "\n",
       "     imdb_id original_language original_title  \\\n",
       "0  tt0114709                en      Toy Story   \n",
       "1  tt0113497                en        Jumanji   \n",
       "\n",
       "                                            overview  ...  release_date  \\\n",
       "0  Led by Woody, Andy's toys live happily in his ...  ...    1995-10-30   \n",
       "1  When siblings Judy and Peter discover an encha...  ...    1995-12-15   \n",
       "\n",
       "       revenue runtime                                   spoken_languages  \\\n",
       "0  373554033.0    81.0           [{'iso_639_1': 'en', 'name': 'English'}]   \n",
       "1  262797249.0   104.0  [{'iso_639_1': 'en', 'name': 'English'}, {'iso...   \n",
       "\n",
       "     status                                    tagline      title  video  \\\n",
       "0  Released                                        NaN  Toy Story  False   \n",
       "1  Released  Roll the dice and unleash the excitement!    Jumanji  False   \n",
       "\n",
       "  vote_average vote_count  \n",
       "0          7.7     5415.0  \n",
       "1          6.9     2413.0  \n",
       "\n",
       "[2 rows x 24 columns]"
      ]
     },
     "execution_count": 77,
     "metadata": {},
     "output_type": "execute_result"
    }
   ],
   "source": [
    "df4.head(2)"
   ]
  },
  {
   "cell_type": "code",
   "execution_count": 81,
   "id": "c63f5cdc-e671-4470-93ed-39a11606c567",
   "metadata": {},
   "outputs": [
    {
     "data": {
      "text/plain": [
       "Index(['adult', 'belongs_to_collection', 'budget', 'genres', 'homepage', 'id',\n",
       "       'imdb_id', 'original_language', 'original_title', 'overview',\n",
       "       'popularity', 'poster_path', 'production_companies',\n",
       "       'production_countries', 'release_date', 'revenue', 'runtime',\n",
       "       'spoken_languages', 'status', 'tagline', 'title', 'video',\n",
       "       'vote_average', 'vote_count'],\n",
       "      dtype='object')"
      ]
     },
     "execution_count": 81,
     "metadata": {},
     "output_type": "execute_result"
    }
   ],
   "source": [
    "df4.columns"
   ]
  },
  {
   "cell_type": "code",
   "execution_count": 172,
   "id": "2f0bf899-b4dd-45ea-923e-a588ced3face",
   "metadata": {},
   "outputs": [
    {
     "data": {
      "text/plain": [
       "0                 [{'iso_639_1': 'en', 'name': 'English'}]\n",
       "1        [{'iso_639_1': 'en', 'name': 'English'}, {'iso...\n",
       "2                 [{'iso_639_1': 'en', 'name': 'English'}]\n",
       "3                 [{'iso_639_1': 'en', 'name': 'English'}]\n",
       "4                 [{'iso_639_1': 'en', 'name': 'English'}]\n",
       "                               ...                        \n",
       "45461               [{'iso_639_1': 'fa', 'name': 'فارسی'}]\n",
       "45462                    [{'iso_639_1': 'tl', 'name': ''}]\n",
       "45463             [{'iso_639_1': 'en', 'name': 'English'}]\n",
       "45464                                                   []\n",
       "45465             [{'iso_639_1': 'en', 'name': 'English'}]\n",
       "Name: spoken_languages, Length: 45460, dtype: object"
      ]
     },
     "execution_count": 172,
     "metadata": {},
     "output_type": "execute_result"
    }
   ],
   "source": [
    "df4.spoken_languages"
   ]
  },
  {
   "cell_type": "code",
   "execution_count": 93,
   "id": "22c57568-f7cb-49a4-b6f5-f32495000c14",
   "metadata": {},
   "outputs": [
    {
     "data": {
      "text/plain": [
       "0        7.7\n",
       "1        6.9\n",
       "2        6.5\n",
       "3        6.1\n",
       "4        5.7\n",
       "        ... \n",
       "45461    4.0\n",
       "45462    9.0\n",
       "45463    3.8\n",
       "45464    0.0\n",
       "45465    0.0\n",
       "Name: vote_average, Length: 45460, dtype: float64"
      ]
     },
     "execution_count": 93,
     "metadata": {},
     "output_type": "execute_result"
    }
   ],
   "source": [
    "df4.vote_average"
   ]
  },
  {
   "cell_type": "code",
   "execution_count": 16,
   "id": "b009df54-dcba-4a12-ba62-a06adcd707b0",
   "metadata": {},
   "outputs": [],
   "source": [
    "# data = pd.merge(df5, df4[['id', 'title', 'genres', 'budget', 'overview', 'popularity', 'production_companies', 'production_countries',\n",
    "#                           'revenue', 'runtime', 'vote_average', 'vote_count']], left_on='movieId', right_on='id')"
   ]
  },
  {
   "cell_type": "code",
   "execution_count": 19,
   "id": "6822683c-e5ea-451b-aabd-16c655fab2ff",
   "metadata": {},
   "outputs": [
    {
     "data": {
      "text/plain": [
       "Index(['userId', 'movieId', 'rating', 'timestamp'], dtype='object')"
      ]
     },
     "execution_count": 19,
     "metadata": {},
     "output_type": "execute_result"
    }
   ],
   "source": [
    "df5.columns"
   ]
  },
  {
   "cell_type": "code",
   "execution_count": 20,
   "id": "86f20b55-7dc6-4163-b86c-637ec8e44cce",
   "metadata": {},
   "outputs": [
    {
     "data": {
      "text/plain": [
       "Index(['adult', 'belongs_to_collection', 'budget', 'genres', 'homepage', 'id',\n",
       "       'imdb_id', 'original_language', 'original_title', 'overview',\n",
       "       'popularity', 'poster_path', 'production_companies',\n",
       "       'production_countries', 'release_date', 'revenue', 'runtime',\n",
       "       'spoken_languages', 'status', 'tagline', 'title', 'video',\n",
       "       'vote_average', 'vote_count'],\n",
       "      dtype='object')"
      ]
     },
     "execution_count": 20,
     "metadata": {},
     "output_type": "execute_result"
    }
   ],
   "source": [
    "df4.columns"
   ]
  },
  {
   "cell_type": "code",
   "execution_count": 17,
   "id": "34de02cc-4dda-4d7f-8314-eb9a10e2a663",
   "metadata": {},
   "outputs": [
    {
     "data": {
      "text/plain": [
       "(11437637, 16)"
      ]
     },
     "execution_count": 17,
     "metadata": {},
     "output_type": "execute_result"
    }
   ],
   "source": [
    "data.shape"
   ]
  },
  {
   "cell_type": "code",
   "execution_count": 104,
   "id": "06aa885e-594f-49bb-9dd0-40098410cd01",
   "metadata": {},
   "outputs": [
    {
     "data": {
      "text/plain": [
       "Index(['userId', 'movieId', 'rating', 'timestamp', 'id', 'title', 'genres',\n",
       "       'budget', 'overview', 'popularity', 'production_companies',\n",
       "       'production_countries', 'revenue', 'runtime', 'vote_average',\n",
       "       'vote_count'],\n",
       "      dtype='object')"
      ]
     },
     "execution_count": 104,
     "metadata": {},
     "output_type": "execute_result"
    }
   ],
   "source": [
    "data.columns"
   ]
  },
  {
   "cell_type": "code",
   "execution_count": 98,
   "id": "a6e71594-cdf7-4a01-bf43-f5271ded4fd6",
   "metadata": {},
   "outputs": [
    {
     "data": {
      "text/plain": [
       "45811     3594\n",
       "8659      3024\n",
       "179792    2578\n",
       "107720    2103\n",
       "270123    2040\n",
       "          ... \n",
       "139422       1\n",
       "146542       1\n",
       "147825       1\n",
       "22475        1\n",
       "217250       1\n",
       "Name: userId, Length: 265917, dtype: int64"
      ]
     },
     "execution_count": 98,
     "metadata": {},
     "output_type": "execute_result"
    }
   ],
   "source": [
    "data.userId.value_counts()"
   ]
  },
  {
   "cell_type": "code",
   "execution_count": 100,
   "id": "364bf3f5-6145-4848-ba75-8e8950ce30eb",
   "metadata": {},
   "outputs": [
    {
     "data": {
      "text/plain": [
       "318       91082\n",
       "296       87901\n",
       "593       84078\n",
       "260       77045\n",
       "480       74355\n",
       "          ...  \n",
       "112705        1\n",
       "32930         1\n",
       "142308        1\n",
       "173557        1\n",
       "136928        1\n",
       "Name: id, Length: 7565, dtype: int64"
      ]
     },
     "execution_count": 100,
     "metadata": {},
     "output_type": "execute_result"
    }
   ],
   "source": [
    "data.id.value_counts()"
   ]
  },
  {
   "cell_type": "code",
   "execution_count": 73,
   "id": "6915f58b-d44d-4cc1-a794-5fdf054d5bbb",
   "metadata": {},
   "outputs": [],
   "source": [
    "#data[data['id'] == 318].sample(3)"
   ]
  },
  {
   "cell_type": "markdown",
   "id": "0ad6e290-fd55-424d-a090-4edbc65f3b16",
   "metadata": {},
   "source": [
    "Ah, so similar to the last dataset, the userId (whereas last time the repeated instances of actors and actresses et cetera) is resulting in clones of the title. \n",
    "This is problematic. I do not see the value of the user ratings in particular versus the average; for right now, I will disregard the content."
   ]
  },
  {
   "cell_type": "code",
   "execution_count": 21,
   "id": "37566650-af16-417f-b0a1-0ee6fcc8f418",
   "metadata": {},
   "outputs": [
    {
     "data": {
      "text/plain": [
       "Index(['cast', 'crew', 'id'], dtype='object')"
      ]
     },
     "execution_count": 21,
     "metadata": {},
     "output_type": "execute_result"
    }
   ],
   "source": [
    "df2.columns"
   ]
  },
  {
   "cell_type": "code",
   "execution_count": 22,
   "id": "b6d08af1-f87a-48ff-8232-d3d13d42b195",
   "metadata": {},
   "outputs": [
    {
     "data": {
      "text/plain": [
       "Index(['adult', 'belongs_to_collection', 'budget', 'genres', 'homepage', 'id',\n",
       "       'imdb_id', 'original_language', 'original_title', 'overview',\n",
       "       'popularity', 'poster_path', 'production_companies',\n",
       "       'production_countries', 'release_date', 'revenue', 'runtime',\n",
       "       'spoken_languages', 'status', 'tagline', 'title', 'video',\n",
       "       'vote_average', 'vote_count'],\n",
       "      dtype='object')"
      ]
     },
     "execution_count": 22,
     "metadata": {},
     "output_type": "execute_result"
    }
   ],
   "source": [
    "df4.columns"
   ]
  },
  {
   "cell_type": "code",
   "execution_count": 51,
   "id": "fc0095b1-bca9-4bf0-824b-067204112f9a",
   "metadata": {},
   "outputs": [
    {
     "data": {
      "text/plain": [
       "adult                     object\n",
       "belongs_to_collection     object\n",
       "budget                    object\n",
       "genres                    object\n",
       "homepage                  object\n",
       "id                        object\n",
       "imdb_id                   object\n",
       "original_language         object\n",
       "original_title            object\n",
       "overview                  object\n",
       "popularity                object\n",
       "poster_path               object\n",
       "production_companies      object\n",
       "production_countries      object\n",
       "release_date              object\n",
       "revenue                  float64\n",
       "runtime                  float64\n",
       "spoken_languages          object\n",
       "status                    object\n",
       "tagline                   object\n",
       "title                     object\n",
       "video                     object\n",
       "vote_average             float64\n",
       "vote_count               float64\n",
       "dtype: object"
      ]
     },
     "execution_count": 51,
     "metadata": {},
     "output_type": "execute_result"
    }
   ],
   "source": [
    "df4.dtypes"
   ]
  },
  {
   "cell_type": "code",
   "execution_count": 52,
   "id": "9a47c27a-fe65-40bb-a205-5b8d012eb7f7",
   "metadata": {},
   "outputs": [
    {
     "data": {
      "text/plain": [
       "cast    object\n",
       "crew    object\n",
       "id       int64\n",
       "dtype: object"
      ]
     },
     "execution_count": 52,
     "metadata": {},
     "output_type": "execute_result"
    }
   ],
   "source": [
    "df2.dtypes"
   ]
  },
  {
   "cell_type": "code",
   "execution_count": 101,
   "id": "c657d120-20c1-4825-8ce1-457c28eb4321",
   "metadata": {},
   "outputs": [],
   "source": [
    "df4['id'] = df4['id'].astype(int)"
   ]
  },
  {
   "cell_type": "code",
   "execution_count": 98,
   "id": "9788d23b-b611-446f-9ce9-12fde9962689",
   "metadata": {},
   "outputs": [],
   "source": [
    "df4 = df4[df4['id'] != '1997-08-20']"
   ]
  },
  {
   "cell_type": "code",
   "execution_count": 99,
   "id": "3931d469-8d6f-409b-8cf5-f053cbb114bd",
   "metadata": {},
   "outputs": [],
   "source": [
    "df4 = df4[df4['id'] != '2012-09-29']"
   ]
  },
  {
   "cell_type": "code",
   "execution_count": 100,
   "id": "b088ad4c-6bd0-41a9-bde8-569c6c26ffce",
   "metadata": {},
   "outputs": [],
   "source": [
    "df4 = df4[df4['id'] != '2014-01-01']"
   ]
  },
  {
   "cell_type": "code",
   "execution_count": 107,
   "id": "eb5fd02f-8c60-463a-8ddc-a5bda34a7f5f",
   "metadata": {},
   "outputs": [],
   "source": [
    "df_new= df4.merge(df2,on='id')"
   ]
  },
  {
   "cell_type": "code",
   "execution_count": 108,
   "id": "5a620e0b-cf7c-4edb-b02e-ba13c57cbdf9",
   "metadata": {},
   "outputs": [
    {
     "data": {
      "text/plain": [
       "Index(['adult', 'belongs_to_collection', 'budget', 'genres', 'homepage', 'id',\n",
       "       'imdb_id', 'original_language', 'original_title', 'overview',\n",
       "       'popularity', 'poster_path', 'production_companies',\n",
       "       'production_countries', 'release_date', 'revenue', 'runtime',\n",
       "       'spoken_languages', 'status', 'tagline', 'title', 'video',\n",
       "       'vote_average', 'vote_count', 'cast', 'crew', 'cast_actor_1',\n",
       "       'cast_actor_2', 'cast_actor_3', 'total_n_cast'],\n",
       "      dtype='object')"
      ]
     },
     "execution_count": 108,
     "metadata": {},
     "output_type": "execute_result"
    }
   ],
   "source": [
    "df_new.columns"
   ]
  },
  {
   "cell_type": "code",
   "execution_count": 109,
   "id": "b3f9997e-c034-40c5-8032-9cca2aacfa33",
   "metadata": {},
   "outputs": [
    {
     "data": {
      "text/plain": [
       "(45696, 30)"
      ]
     },
     "execution_count": 109,
     "metadata": {},
     "output_type": "execute_result"
    }
   ],
   "source": [
    "df_new.shape"
   ]
  },
  {
   "cell_type": "code",
   "execution_count": 119,
   "id": "332dc4f4-9788-4c8b-aedc-bc7fe2656868",
   "metadata": {},
   "outputs": [
    {
     "data": {
      "text/plain": [
       "141971    27\n",
       "298721     8\n",
       "5511       8\n",
       "15028      8\n",
       "13209      8\n",
       "          ..\n",
       "55135      1\n",
       "15877      1\n",
       "72272      1\n",
       "1549       1\n",
       "461257     1\n",
       "Name: id, Length: 45432, dtype: int64"
      ]
     },
     "execution_count": 119,
     "metadata": {},
     "output_type": "execute_result"
    }
   ],
   "source": [
    "df_new.id.value_counts()"
   ]
  },
  {
   "cell_type": "code",
   "execution_count": 120,
   "id": "94246e37-f0fe-4a7c-80d4-8d8251a119e1",
   "metadata": {},
   "outputs": [
    {
     "data": {
      "text/html": [
       "<div><div id=7ae28169-43fe-454a-8987-2262a1a2a780 style=\"display:none; background-color:#9D6CFF; color:white; width:200px; height:30px; padding-left:5px; border-radius:4px; flex-direction:row; justify-content:space-around; align-items:center;\" onmouseover=\"this.style.backgroundColor='#BA9BF8'\" onmouseout=\"this.style.backgroundColor='#9D6CFF'\" onclick=\"window.commands?.execute('create-mitosheet-from-dataframe-output');\">See Full Dataframe in Mito</div> <script> if (window.commands?.hasCommand('create-mitosheet-from-dataframe-output')) document.getElementById('7ae28169-43fe-454a-8987-2262a1a2a780').style.display = 'flex' </script> <table border=\"1\" class=\"dataframe\">\n",
       "  <thead>\n",
       "    <tr style=\"text-align: right;\">\n",
       "      <th></th>\n",
       "      <th>id</th>\n",
       "      <th>keywords</th>\n",
       "    </tr>\n",
       "  </thead>\n",
       "  <tbody>\n",
       "    <tr>\n",
       "      <th>0</th>\n",
       "      <td>862</td>\n",
       "      <td>jealousy toy boy friendship friends rivalry boy next door new toy toy comes to life</td>\n",
       "    </tr>\n",
       "    <tr>\n",
       "      <th>1</th>\n",
       "      <td>8844</td>\n",
       "      <td>board game disappearance based on children's book new home recluse giant insect</td>\n",
       "    </tr>\n",
       "    <tr>\n",
       "      <th>2</th>\n",
       "      <td>15602</td>\n",
       "      <td>fishing best friend duringcreditsstinger old men</td>\n",
       "    </tr>\n",
       "    <tr>\n",
       "      <th>3</th>\n",
       "      <td>31357</td>\n",
       "      <td>based on novel interracial relationship single mother divorce chick flick</td>\n",
       "    </tr>\n",
       "    <tr>\n",
       "      <th>4</th>\n",
       "      <td>11862</td>\n",
       "      <td>baby midlife crisis confidence aging daughter mother daughter relationship pregnancy contraception gynecologist</td>\n",
       "    </tr>\n",
       "    <tr>\n",
       "      <th>...</th>\n",
       "      <td>...</td>\n",
       "      <td>...</td>\n",
       "    </tr>\n",
       "    <tr>\n",
       "      <th>46414</th>\n",
       "      <td>439050</td>\n",
       "      <td>tragic love</td>\n",
       "    </tr>\n",
       "    <tr>\n",
       "      <th>46415</th>\n",
       "      <td>111109</td>\n",
       "      <td>artist play pinoy</td>\n",
       "    </tr>\n",
       "    <tr>\n",
       "      <th>46416</th>\n",
       "      <td>67758</td>\n",
       "      <td></td>\n",
       "    </tr>\n",
       "    <tr>\n",
       "      <th>46417</th>\n",
       "      <td>227506</td>\n",
       "      <td></td>\n",
       "    </tr>\n",
       "    <tr>\n",
       "      <th>46418</th>\n",
       "      <td>461257</td>\n",
       "      <td></td>\n",
       "    </tr>\n",
       "  </tbody>\n",
       "</table></div>"
      ],
      "text/plain": [
       "           id                                           keywords\n",
       "0         862  jealousy toy boy friendship friends rivalry bo...\n",
       "1        8844  board game disappearance based on children's b...\n",
       "2       15602   fishing best friend duringcreditsstinger old men\n",
       "3       31357  based on novel interracial relationship single...\n",
       "4       11862  baby midlife crisis confidence aging daughter ...\n",
       "...       ...                                                ...\n",
       "46414  439050                                        tragic love\n",
       "46415  111109                                  artist play pinoy\n",
       "46416   67758                                                   \n",
       "46417  227506                                                   \n",
       "46418  461257                                                   \n",
       "\n",
       "[46419 rows x 2 columns]"
      ]
     },
     "execution_count": 120,
     "metadata": {},
     "output_type": "execute_result"
    }
   ],
   "source": []
  },
  {
   "cell_type": "code",
   "execution_count": null,
   "id": "95d5431d-2033-4ff2-98bb-ff7f09f70c33",
   "metadata": {},
   "outputs": [],
   "source": [
    "df.merge()"
   ]
  },
  {
   "cell_type": "code",
   "execution_count": 118,
   "id": "9ae2bd24-431e-43ed-a37a-a42e28684a2a",
   "metadata": {},
   "outputs": [
    {
     "data": {
      "text/plain": [
       "141971    81\n",
       "159849    24\n",
       "18440     16\n",
       "84198     16\n",
       "25541     16\n",
       "          ..\n",
       "55135      1\n",
       "15877      1\n",
       "72272      1\n",
       "1549       1\n",
       "461257     1\n",
       "Name: id, Length: 45432, dtype: int64"
      ]
     },
     "execution_count": 118,
     "metadata": {},
     "output_type": "execute_result"
    }
   ],
   "source": [
    "df_new2.id.value_counts()"
   ]
  },
  {
   "cell_type": "code",
   "execution_count": 111,
   "id": "660d842e-8bfc-4ccd-9b90-9bed6706cbfb",
   "metadata": {},
   "outputs": [
    {
     "data": {
      "text/plain": [
       "(46938, 31)"
      ]
     },
     "execution_count": 111,
     "metadata": {},
     "output_type": "execute_result"
    }
   ],
   "source": [
    "df_new2.shape"
   ]
  },
  {
   "cell_type": "code",
   "execution_count": 112,
   "id": "b6e4be75-94d6-4e23-807c-e9441468ea1b",
   "metadata": {},
   "outputs": [
    {
     "data": {
      "text/html": [
       "<div><div id=99686c9e-7db5-4431-a7a3-01a77aa71907 style=\"display:none; background-color:#9D6CFF; color:white; width:200px; height:30px; padding-left:5px; border-radius:4px; flex-direction:row; justify-content:space-around; align-items:center;\" onmouseover=\"this.style.backgroundColor='#BA9BF8'\" onmouseout=\"this.style.backgroundColor='#9D6CFF'\" onclick=\"window.commands?.execute('create-mitosheet-from-dataframe-output');\">See Full Dataframe in Mito</div> <script> if (window.commands?.hasCommand('create-mitosheet-from-dataframe-output')) document.getElementById('99686c9e-7db5-4431-a7a3-01a77aa71907').style.display = 'flex' </script> <table border=\"1\" class=\"dataframe\">\n",
       "  <thead>\n",
       "    <tr style=\"text-align: right;\">\n",
       "      <th></th>\n",
       "      <th>adult</th>\n",
       "      <th>belongs_to_collection</th>\n",
       "      <th>budget</th>\n",
       "      <th>genres</th>\n",
       "      <th>homepage</th>\n",
       "      <th>id</th>\n",
       "      <th>imdb_id</th>\n",
       "      <th>original_language</th>\n",
       "      <th>original_title</th>\n",
       "      <th>overview</th>\n",
       "      <th>...</th>\n",
       "      <th>video</th>\n",
       "      <th>vote_average</th>\n",
       "      <th>vote_count</th>\n",
       "      <th>cast</th>\n",
       "      <th>crew</th>\n",
       "      <th>cast_actor_1</th>\n",
       "      <th>cast_actor_2</th>\n",
       "      <th>cast_actor_3</th>\n",
       "      <th>total_n_cast</th>\n",
       "      <th>keywords</th>\n",
       "    </tr>\n",
       "  </thead>\n",
       "  <tbody>\n",
       "    <tr>\n",
       "      <th>0</th>\n",
       "      <td>False</td>\n",
       "      <td>{'id': 10194, 'name': 'Toy Story Collection', 'poster_path': '/7G9915LfUQ2lVfwMEEhDsn3kT4B.jpg', 'backdrop_path': '/9FBwqcd9IRruEDUrTdcaafOMKUq.jpg'}</td>\n",
       "      <td>30000000</td>\n",
       "      <td>[{'id': 16, 'name': 'Animation'}, {'id': 35, 'name': 'Comedy'}, {'id': 10751, 'name': 'Family'}]</td>\n",
       "      <td>http://toystory.disney.com/toy-story</td>\n",
       "      <td>862</td>\n",
       "      <td>tt0114709</td>\n",
       "      <td>en</td>\n",
       "      <td>Toy Story</td>\n",
       "      <td>Led by Woody, Andy's toys live happily in his room until Andy's birthday brings Buzz Lightyear onto the scene. Afraid of losing his place in Andy's heart, Woody plots against Buzz. But when circumstances separate Buzz and Woody from their owner, the duo eventually learns to put aside their differences.</td>\n",
       "      <td>...</td>\n",
       "      <td>False</td>\n",
       "      <td>7.7</td>\n",
       "      <td>5415.0</td>\n",
       "      <td>TomHanks TimAllen DonRickles JimVarney WallaceShawn JohnRatzenberger AnniePotts JohnMorris ErikvonDetten LaurieMetcalf R.LeeErmey SarahFreeman PennJillette</td>\n",
       "      <td>JohnLasseter JossWhedon AndrewStanton JoelCohen AlecSokolow BonnieArnold EdCatmull RalphGuggenheim SteveJobs LeeUnkrich RalphEggleston RobertGordon MaryHelenLeasman KimBlanchette MarilynMcCoppen RandyNewman DaleE.Grahn RobinCooper JohnLasseter PeteDocter JoeRanft PatsyBouge NormDeCarlo AshBrannon RandyNewman RomanFigun DonDavis JamesFlamberg MaryBethSmith RickMackay SusanBradley WilliamReeves RandyNewman AndrewStanton PeteDocter GaryRydstrom KarenRobertJackson ChrisMontan RichQuade MichaelBerenstein ColinBrady DaveyCrockettFeiten AngieGlocka RexGrignon TomK.Gurney JimmyHayward HalT.Hickel KarenKiser AnthonyB.LaMolinara GuionneLeroy BudLuckey LesMajor GlennMcQueen MarkOftedal JeffPidgeon JeffPratt SteveRabatich RogerRose SteveSegal DougSheppeck AlanSperling DougSweetland DavidTart KenWillard ThomasPorter MarkThomasHenne OrenJacob DarwynPeachey MitchPrater BrianM.Rosen SharonCalahan GalynSusman WilliamCone ShelleyDanielsLekven BobPauley BudLuckey AndrewStanton WilliamCone SteveJohnson DanHaskett TomHolloway JeanGillmore DesiréeMourad KellyO'Connell SonokoKonishi AnnM.Rockwell JulieM.McDonald RobinLee TomFreeman AdaCochavi DanaMulligan DeirdreMorrison LoriLombardo EllenDevine LaurenBethStrogoff GaryRydstrom GarySummers TimHolland PatJackson TomMyers J.R.Grubbs SusanSanford SusanPopovic DanEngstrom RuthLambert MickieMcGowan</td>\n",
       "      <td>Tom Hanks</td>\n",
       "      <td>Tim Allen</td>\n",
       "      <td>Don Rickles</td>\n",
       "      <td>13.0</td>\n",
       "      <td>jealousy toy boy friendship friends rivalry boy next door new toy toy comes to life</td>\n",
       "    </tr>\n",
       "    <tr>\n",
       "      <th>1</th>\n",
       "      <td>False</td>\n",
       "      <td>NaN</td>\n",
       "      <td>65000000</td>\n",
       "      <td>[{'id': 12, 'name': 'Adventure'}, {'id': 14, 'name': 'Fantasy'}, {'id': 10751, 'name': 'Family'}]</td>\n",
       "      <td>NaN</td>\n",
       "      <td>8844</td>\n",
       "      <td>tt0113497</td>\n",
       "      <td>en</td>\n",
       "      <td>Jumanji</td>\n",
       "      <td>When siblings Judy and Peter discover an enchanted board game that opens the door to a magical world, they unwittingly invite Alan -- an adult who's been trapped inside the game for 26 years -- into their living room. Alan's only hope for freedom is to finish the game, which proves risky as all three find themselves running from giant rhinoceroses, evil monkeys and other terrifying creatures.</td>\n",
       "      <td>...</td>\n",
       "      <td>False</td>\n",
       "      <td>6.9</td>\n",
       "      <td>2413.0</td>\n",
       "      <td>RobinWilliams JonathanHyde KirstenDunst BradleyPierce BonnieHunt BebeNeuwirth DavidAlanGrier PatriciaClarkson AdamHann-Byrd LauraBellBundy JamesHandy GillianBarber BrandonObray CyrusThiedeke GaryJosephThorup LeonardZola LloydBerry MalcolmStewart AnnabelKershaw DarrylHenriques RobynDriscoll PeterBryant SarahGilson FloricaVlad JuneLion BrendaLockmuller</td>\n",
       "      <td>LarryJ.Franco JonathanHensleigh JamesHorner JoeJohnston RobertDalva NancyFoy KyleBalda JamesD.Bissell ScottKroopf TedField RobertW.Cort ThomasE.Ackerman ChrisvanAllsburg WilliamTeitler GregTaylor JimStrain</td>\n",
       "      <td>Robin Williams</td>\n",
       "      <td>Jonathan Hyde</td>\n",
       "      <td>Kirsten Dunst</td>\n",
       "      <td>26.0</td>\n",
       "      <td>board game disappearance based on children's book new home recluse giant insect</td>\n",
       "    </tr>\n",
       "    <tr>\n",
       "      <th>2</th>\n",
       "      <td>False</td>\n",
       "      <td>{'id': 119050, 'name': 'Grumpy Old Men Collection', 'poster_path': '/nLvUdqgPgm3F85NMCii9gVFUcet.jpg', 'backdrop_path': '/hypTnLot2z8wpFS7qwsQHW1uV8u.jpg'}</td>\n",
       "      <td>0</td>\n",
       "      <td>[{'id': 10749, 'name': 'Romance'}, {'id': 35, 'name': 'Comedy'}]</td>\n",
       "      <td>NaN</td>\n",
       "      <td>15602</td>\n",
       "      <td>tt0113228</td>\n",
       "      <td>en</td>\n",
       "      <td>Grumpier Old Men</td>\n",
       "      <td>A family wedding reignites the ancient feud between next-door neighbors and fishing buddies John and Max. Meanwhile, a sultry Italian divorcée opens a restaurant at the local bait shop, alarming the locals who worry she'll scare the fish away. But she's less interested in seafood than she is in cooking up a hot time with Max.</td>\n",
       "      <td>...</td>\n",
       "      <td>False</td>\n",
       "      <td>6.5</td>\n",
       "      <td>92.0</td>\n",
       "      <td>WalterMatthau JackLemmon Ann-Margret SophiaLoren DarylHannah BurgessMeredith KevinPollak</td>\n",
       "      <td>HowardDeutch MarkStevenJohnson MarkStevenJohnson JackKeller</td>\n",
       "      <td>Walter Matthau</td>\n",
       "      <td>Jack Lemmon</td>\n",
       "      <td>Ann-Margret</td>\n",
       "      <td>7.0</td>\n",
       "      <td>fishing best friend duringcreditsstinger old men</td>\n",
       "    </tr>\n",
       "    <tr>\n",
       "      <th>3</th>\n",
       "      <td>False</td>\n",
       "      <td>NaN</td>\n",
       "      <td>16000000</td>\n",
       "      <td>[{'id': 35, 'name': 'Comedy'}, {'id': 18, 'name': 'Drama'}, {'id': 10749, 'name': 'Romance'}]</td>\n",
       "      <td>NaN</td>\n",
       "      <td>31357</td>\n",
       "      <td>tt0114885</td>\n",
       "      <td>en</td>\n",
       "      <td>Waiting to Exhale</td>\n",
       "      <td>Cheated on, mistreated and stepped on, the women are holding their breath, waiting for the elusive \"good man\" to break a string of less-than-stellar lovers. Friends and confidants Vannah, Bernie, Glo and Robin talk it all out, determined to find a better way to breathe.</td>\n",
       "      <td>...</td>\n",
       "      <td>False</td>\n",
       "      <td>6.1</td>\n",
       "      <td>34.0</td>\n",
       "      <td>WhitneyHouston AngelaBassett LorettaDevine LelaRochon GregoryHines DennisHaysbert MichaelBeach MykeltiWilliamson LamontJohnson WesleySnipes</td>\n",
       "      <td>ForestWhitaker RonaldBass RonaldBass EzraSwerdlow DeborahSchindler TerryMcMillan TerryMcMillan TerryMcMillan KennethEdmonds CaronK</td>\n",
       "      <td>Whitney Houston</td>\n",
       "      <td>Angela Bassett</td>\n",
       "      <td>Loretta Devine</td>\n",
       "      <td>10.0</td>\n",
       "      <td>based on novel interracial relationship single mother divorce chick flick</td>\n",
       "    </tr>\n",
       "    <tr>\n",
       "      <th>4</th>\n",
       "      <td>False</td>\n",
       "      <td>{'id': 96871, 'name': 'Father of the Bride Collection', 'poster_path': '/nts4iOmNnq7GNicycMJ9pSAn204.jpg', 'backdrop_path': '/7qwE57OVZmMJChBpLEbJEmzUydk.jpg'}</td>\n",
       "      <td>0</td>\n",
       "      <td>[{'id': 35, 'name': 'Comedy'}]</td>\n",
       "      <td>NaN</td>\n",
       "      <td>11862</td>\n",
       "      <td>tt0113041</td>\n",
       "      <td>en</td>\n",
       "      <td>Father of the Bride Part II</td>\n",
       "      <td>Just when George Banks has recovered from his daughter's wedding, he receives the news that she's pregnant ... and that George's wife, Nina, is expecting too. He was planning on selling their home, but that's a plan that -- like George -- will have to change with the arrival of both a grandchild and a kid of his own.</td>\n",
       "      <td>...</td>\n",
       "      <td>False</td>\n",
       "      <td>5.7</td>\n",
       "      <td>173.0</td>\n",
       "      <td>SteveMartin DianeKeaton MartinShort KimberlyWilliams-Paisley GeorgeNewbern KieranCulkin BDWong PeterMichaelGoetz KateMcGregor-Stewart JaneAdams EugeneLevy LoriAlan</td>\n",
       "      <td>AlanSilvestri ElliotDavis NancyMeyers NancyMeyers AlbertHackett CharlesShyer AdamBernardi</td>\n",
       "      <td>Steve Martin</td>\n",
       "      <td>Diane Keaton</td>\n",
       "      <td>Martin Short</td>\n",
       "      <td>12.0</td>\n",
       "      <td>baby midlife crisis confidence aging daughter mother daughter relationship pregnancy contraception gynecologist</td>\n",
       "    </tr>\n",
       "    <tr>\n",
       "      <th>...</th>\n",
       "      <td>...</td>\n",
       "      <td>...</td>\n",
       "      <td>...</td>\n",
       "      <td>...</td>\n",
       "      <td>...</td>\n",
       "      <td>...</td>\n",
       "      <td>...</td>\n",
       "      <td>...</td>\n",
       "      <td>...</td>\n",
       "      <td>...</td>\n",
       "      <td>...</td>\n",
       "      <td>...</td>\n",
       "      <td>...</td>\n",
       "      <td>...</td>\n",
       "      <td>...</td>\n",
       "      <td>...</td>\n",
       "      <td>...</td>\n",
       "      <td>...</td>\n",
       "      <td>...</td>\n",
       "      <td>...</td>\n",
       "      <td>...</td>\n",
       "    </tr>\n",
       "    <tr>\n",
       "      <th>46933</th>\n",
       "      <td>False</td>\n",
       "      <td>NaN</td>\n",
       "      <td>0</td>\n",
       "      <td>[{'id': 18, 'name': 'Drama'}, {'id': 10751, 'name': 'Family'}]</td>\n",
       "      <td>http://www.imdb.com/title/tt6209470/</td>\n",
       "      <td>439050</td>\n",
       "      <td>tt6209470</td>\n",
       "      <td>fa</td>\n",
       "      <td>رگ خواب</td>\n",
       "      <td>Rising and falling between a man and woman.</td>\n",
       "      <td>...</td>\n",
       "      <td>False</td>\n",
       "      <td>4.0</td>\n",
       "      <td>1.0</td>\n",
       "      <td>LeilaHatami KouroshTahami ElhamKorda</td>\n",
       "      <td>HamidNematollah HamidNematollah FarshadMohammadi MasoumehBayat MehdiSaadi BabakArdalan AzadehGhavam SahandTorabi HomayounShajarian</td>\n",
       "      <td>Leila Hatami</td>\n",
       "      <td>Kourosh Tahami</td>\n",
       "      <td>Elham Korda</td>\n",
       "      <td>3.0</td>\n",
       "      <td>tragic love</td>\n",
       "    </tr>\n",
       "    <tr>\n",
       "      <th>46934</th>\n",
       "      <td>False</td>\n",
       "      <td>NaN</td>\n",
       "      <td>0</td>\n",
       "      <td>[{'id': 18, 'name': 'Drama'}]</td>\n",
       "      <td>NaN</td>\n",
       "      <td>111109</td>\n",
       "      <td>tt2028550</td>\n",
       "      <td>tl</td>\n",
       "      <td>Siglo ng Pagluluwal</td>\n",
       "      <td>An artist struggles to finish his work while a storyline about a cult plays in his head.</td>\n",
       "      <td>...</td>\n",
       "      <td>False</td>\n",
       "      <td>9.0</td>\n",
       "      <td>3.0</td>\n",
       "      <td>AngelAquino PerryDizon HazelOrencio JoelTorre BartGuingona SolimanCruz Roeder AngeliBayani DantePerez BettyUy-Regala Modesta</td>\n",
       "      <td>LavDiaz LavDiaz DantePerez LavDiaz LavDiaz LavDiaz</td>\n",
       "      <td>Angel Aquino</td>\n",
       "      <td>Perry Dizon</td>\n",
       "      <td>Hazel Orencio</td>\n",
       "      <td>11.0</td>\n",
       "      <td>artist play pinoy</td>\n",
       "    </tr>\n",
       "    <tr>\n",
       "      <th>46935</th>\n",
       "      <td>False</td>\n",
       "      <td>NaN</td>\n",
       "      <td>0</td>\n",
       "      <td>[{'id': 28, 'name': 'Action'}, {'id': 18, 'name': 'Drama'}, {'id': 53, 'name': 'Thriller'}]</td>\n",
       "      <td>NaN</td>\n",
       "      <td>67758</td>\n",
       "      <td>tt0303758</td>\n",
       "      <td>en</td>\n",
       "      <td>Betrayal</td>\n",
       "      <td>When one of her hits goes wrong, a professional assassin ends up with a suitcase full of a million dollars belonging to a mob boss ...</td>\n",
       "      <td>...</td>\n",
       "      <td>False</td>\n",
       "      <td>3.8</td>\n",
       "      <td>6.0</td>\n",
       "      <td>ErikaEleniak AdamBaldwin JulieduPage JamesRemar DamianChapa LouisMandylor TomWright JeremyLelliott JamesQuattrochi JasonWidener JoeSabatino KikoEllsworth DonSwayze PeterDobson DarrellDubovsky</td>\n",
       "      <td>MarkL.Lester C.CourtneyJoyner JeffreyGoldenberg RichardMcHugh JoãoFernandes</td>\n",
       "      <td>Erika Eleniak</td>\n",
       "      <td>Adam Baldwin</td>\n",
       "      <td>Julie du Page</td>\n",
       "      <td>15.0</td>\n",
       "      <td></td>\n",
       "    </tr>\n",
       "    <tr>\n",
       "      <th>46936</th>\n",
       "      <td>False</td>\n",
       "      <td>NaN</td>\n",
       "      <td>0</td>\n",
       "      <td>[]</td>\n",
       "      <td>NaN</td>\n",
       "      <td>227506</td>\n",
       "      <td>tt0008536</td>\n",
       "      <td>en</td>\n",
       "      <td>Satana likuyushchiy</td>\n",
       "      <td>In a small town live two brothers, one a minister and the other one a hunchback painter of the chapel who lives with his wife. One dreadful and stormy night, a stranger knocks at the door asking for shelter. The stranger talks about all the good things of the earthly life the minister is missing because of his puritanical faith. The minister comes to accept the stranger's viewpoint but it is others who will pay the consequences because the minister will discover the human pleasures thanks to, ehem, his sister- in -law… The tormented minister and his cuckolded brother will die in a strange accident in the chapel and later an infant will be born from the minister's adulterous relationship.</td>\n",
       "      <td>...</td>\n",
       "      <td>False</td>\n",
       "      <td>0.0</td>\n",
       "      <td>0.0</td>\n",
       "      <td>IwanMosschuchin NathalieLissenko PavelPavlov AleksandrChabrov VeraOrlova</td>\n",
       "      <td>YakovProtazanov JosephN.Ermolieff</td>\n",
       "      <td>Iwan Mosschuchin</td>\n",
       "      <td>Nathalie Lissenko</td>\n",
       "      <td>Pavel Pavlov</td>\n",
       "      <td>5.0</td>\n",
       "      <td></td>\n",
       "    </tr>\n",
       "    <tr>\n",
       "      <th>46937</th>\n",
       "      <td>False</td>\n",
       "      <td>NaN</td>\n",
       "      <td>0</td>\n",
       "      <td>[]</td>\n",
       "      <td>NaN</td>\n",
       "      <td>461257</td>\n",
       "      <td>tt6980792</td>\n",
       "      <td>en</td>\n",
       "      <td>Queerama</td>\n",
       "      <td>50 years after decriminalisation of homosexuality in the UK, director Daisy Asquith mines the jewels of the BFI archive to take us into the relationships, desires, fears and expressions of gay men and women in the 20th century.</td>\n",
       "      <td>...</td>\n",
       "      <td>False</td>\n",
       "      <td>0.0</td>\n",
       "      <td>0.0</td>\n",
       "      <td></td>\n",
       "      <td>DaisyAsquith</td>\n",
       "      <td>NaN</td>\n",
       "      <td>NaN</td>\n",
       "      <td>NaN</td>\n",
       "      <td>0.0</td>\n",
       "      <td></td>\n",
       "    </tr>\n",
       "  </tbody>\n",
       "</table></div>"
      ],
      "text/plain": [
       "       adult                              belongs_to_collection    budget  \\\n",
       "0      False  {'id': 10194, 'name': 'Toy Story Collection', ...  30000000   \n",
       "1      False                                                NaN  65000000   \n",
       "2      False  {'id': 119050, 'name': 'Grumpy Old Men Collect...         0   \n",
       "3      False                                                NaN  16000000   \n",
       "4      False  {'id': 96871, 'name': 'Father of the Bride Col...         0   \n",
       "...      ...                                                ...       ...   \n",
       "46933  False                                                NaN         0   \n",
       "46934  False                                                NaN         0   \n",
       "46935  False                                                NaN         0   \n",
       "46936  False                                                NaN         0   \n",
       "46937  False                                                NaN         0   \n",
       "\n",
       "                                                  genres  \\\n",
       "0      [{'id': 16, 'name': 'Animation'}, {'id': 35, '...   \n",
       "1      [{'id': 12, 'name': 'Adventure'}, {'id': 14, '...   \n",
       "2      [{'id': 10749, 'name': 'Romance'}, {'id': 35, ...   \n",
       "3      [{'id': 35, 'name': 'Comedy'}, {'id': 18, 'nam...   \n",
       "4                         [{'id': 35, 'name': 'Comedy'}]   \n",
       "...                                                  ...   \n",
       "46933  [{'id': 18, 'name': 'Drama'}, {'id': 10751, 'n...   \n",
       "46934                      [{'id': 18, 'name': 'Drama'}]   \n",
       "46935  [{'id': 28, 'name': 'Action'}, {'id': 18, 'nam...   \n",
       "46936                                                 []   \n",
       "46937                                                 []   \n",
       "\n",
       "                                   homepage      id    imdb_id  \\\n",
       "0      http://toystory.disney.com/toy-story     862  tt0114709   \n",
       "1                                       NaN    8844  tt0113497   \n",
       "2                                       NaN   15602  tt0113228   \n",
       "3                                       NaN   31357  tt0114885   \n",
       "4                                       NaN   11862  tt0113041   \n",
       "...                                     ...     ...        ...   \n",
       "46933  http://www.imdb.com/title/tt6209470/  439050  tt6209470   \n",
       "46934                                   NaN  111109  tt2028550   \n",
       "46935                                   NaN   67758  tt0303758   \n",
       "46936                                   NaN  227506  tt0008536   \n",
       "46937                                   NaN  461257  tt6980792   \n",
       "\n",
       "      original_language               original_title  \\\n",
       "0                    en                    Toy Story   \n",
       "1                    en                      Jumanji   \n",
       "2                    en             Grumpier Old Men   \n",
       "3                    en            Waiting to Exhale   \n",
       "4                    en  Father of the Bride Part II   \n",
       "...                 ...                          ...   \n",
       "46933                fa                      رگ خواب   \n",
       "46934                tl          Siglo ng Pagluluwal   \n",
       "46935                en                     Betrayal   \n",
       "46936                en          Satana likuyushchiy   \n",
       "46937                en                     Queerama   \n",
       "\n",
       "                                                overview  ...  video  \\\n",
       "0      Led by Woody, Andy's toys live happily in his ...  ...  False   \n",
       "1      When siblings Judy and Peter discover an encha...  ...  False   \n",
       "2      A family wedding reignites the ancient feud be...  ...  False   \n",
       "3      Cheated on, mistreated and stepped on, the wom...  ...  False   \n",
       "4      Just when George Banks has recovered from his ...  ...  False   \n",
       "...                                                  ...  ...    ...   \n",
       "46933        Rising and falling between a man and woman.  ...  False   \n",
       "46934  An artist struggles to finish his work while a...  ...  False   \n",
       "46935  When one of her hits goes wrong, a professiona...  ...  False   \n",
       "46936  In a small town live two brothers, one a minis...  ...  False   \n",
       "46937  50 years after decriminalisation of homosexual...  ...  False   \n",
       "\n",
       "      vote_average vote_count  \\\n",
       "0              7.7     5415.0   \n",
       "1              6.9     2413.0   \n",
       "2              6.5       92.0   \n",
       "3              6.1       34.0   \n",
       "4              5.7      173.0   \n",
       "...            ...        ...   \n",
       "46933          4.0        1.0   \n",
       "46934          9.0        3.0   \n",
       "46935          3.8        6.0   \n",
       "46936          0.0        0.0   \n",
       "46937          0.0        0.0   \n",
       "\n",
       "                                                    cast  \\\n",
       "0      TomHanks TimAllen DonRickles JimVarney Wallace...   \n",
       "1      RobinWilliams JonathanHyde KirstenDunst Bradle...   \n",
       "2      WalterMatthau JackLemmon Ann-Margret SophiaLor...   \n",
       "3      WhitneyHouston AngelaBassett LorettaDevine Lel...   \n",
       "4      SteveMartin DianeKeaton MartinShort KimberlyWi...   \n",
       "...                                                  ...   \n",
       "46933               LeilaHatami KouroshTahami ElhamKorda   \n",
       "46934  AngelAquino PerryDizon HazelOrencio JoelTorre ...   \n",
       "46935  ErikaEleniak AdamBaldwin JulieduPage JamesRema...   \n",
       "46936  IwanMosschuchin NathalieLissenko PavelPavlov A...   \n",
       "46937                                                      \n",
       "\n",
       "                                                    crew      cast_actor_1  \\\n",
       "0      JohnLasseter JossWhedon AndrewStanton JoelCohe...         Tom Hanks   \n",
       "1      LarryJ.Franco JonathanHensleigh JamesHorner Jo...    Robin Williams   \n",
       "2      HowardDeutch MarkStevenJohnson MarkStevenJohns...    Walter Matthau   \n",
       "3      ForestWhitaker RonaldBass RonaldBass EzraSwerd...   Whitney Houston   \n",
       "4      AlanSilvestri ElliotDavis NancyMeyers NancyMey...      Steve Martin   \n",
       "...                                                  ...               ...   \n",
       "46933  HamidNematollah HamidNematollah FarshadMohamma...      Leila Hatami   \n",
       "46934  LavDiaz LavDiaz DantePerez LavDiaz LavDiaz Lav...      Angel Aquino   \n",
       "46935  MarkL.Lester C.CourtneyJoyner JeffreyGoldenber...     Erika Eleniak   \n",
       "46936                  YakovProtazanov JosephN.Ermolieff  Iwan Mosschuchin   \n",
       "46937                                       DaisyAsquith               NaN   \n",
       "\n",
       "            cast_actor_2    cast_actor_3 total_n_cast  \\\n",
       "0              Tim Allen     Don Rickles         13.0   \n",
       "1          Jonathan Hyde   Kirsten Dunst         26.0   \n",
       "2            Jack Lemmon     Ann-Margret          7.0   \n",
       "3         Angela Bassett  Loretta Devine         10.0   \n",
       "4           Diane Keaton    Martin Short         12.0   \n",
       "...                  ...             ...          ...   \n",
       "46933     Kourosh Tahami     Elham Korda          3.0   \n",
       "46934        Perry Dizon   Hazel Orencio         11.0   \n",
       "46935       Adam Baldwin   Julie du Page         15.0   \n",
       "46936  Nathalie Lissenko    Pavel Pavlov          5.0   \n",
       "46937                NaN             NaN          0.0   \n",
       "\n",
       "                                                keywords  \n",
       "0      jealousy toy boy friendship friends rivalry bo...  \n",
       "1      board game disappearance based on children's b...  \n",
       "2       fishing best friend duringcreditsstinger old men  \n",
       "3      based on novel interracial relationship single...  \n",
       "4      baby midlife crisis confidence aging daughter ...  \n",
       "...                                                  ...  \n",
       "46933                                        tragic love  \n",
       "46934                                  artist play pinoy  \n",
       "46935                                                     \n",
       "46936                                                     \n",
       "46937                                                     \n",
       "\n",
       "[46938 rows x 31 columns]"
      ]
     },
     "execution_count": 112,
     "metadata": {},
     "output_type": "execute_result"
    }
   ],
   "source": [
    "df_new2"
   ]
  },
  {
   "cell_type": "code",
   "execution_count": 23,
   "id": "b8e5cbd7-2505-42a3-8f38-57b42251c259",
   "metadata": {},
   "outputs": [],
   "source": [
    "#data = pd.merge(df2, df4[['id', 'title', 'genres', 'budget', 'overview', 'popularity', 'production_companies', 'production_countries',\n",
    "#                          'revenue', 'runtime', 'vote_average', 'vote_count']], left_on='id', right_on='id')"
   ]
  },
  {
   "cell_type": "code",
   "execution_count": 31,
   "id": "1425d46e-70d9-4b23-b9d8-29241b7c871f",
   "metadata": {},
   "outputs": [],
   "source": [
    "#data2 = pd.merge(df2, df4[['id', 'title', 'genres', 'budget', 'overview', 'popularity', 'production_companies', 'production_countries',\n",
    "#                          'revenue', 'runtime', 'vote_average', 'vote_count']], how = 'left', validate = 'one_to_many' )"
   ]
  },
  {
   "cell_type": "code",
   "execution_count": 24,
   "id": "863993f3-6569-4c96-b230-2285ce2a3ca2",
   "metadata": {},
   "outputs": [
    {
     "data": {
      "text/plain": [
       "(45535, 14)"
      ]
     },
     "execution_count": 24,
     "metadata": {},
     "output_type": "execute_result"
    }
   ],
   "source": [
    "data.shape"
   ]
  },
  {
   "cell_type": "code",
   "execution_count": 26,
   "id": "0443ca1a-d115-410f-a614-4365a6235ccc",
   "metadata": {},
   "outputs": [
    {
     "data": {
      "text/plain": [
       "(45538, 14)"
      ]
     },
     "execution_count": 26,
     "metadata": {},
     "output_type": "execute_result"
    }
   ],
   "source": [
    "data2.shape"
   ]
  },
  {
   "cell_type": "code",
   "execution_count": 74,
   "id": "73eec9fd-bc09-439c-b468-837ad50c14f9",
   "metadata": {},
   "outputs": [
    {
     "data": {
      "text/plain": [
       "(45538, 26)"
      ]
     },
     "execution_count": 74,
     "metadata": {},
     "output_type": "execute_result"
    }
   ],
   "source": [
    "data3.shape"
   ]
  },
  {
   "cell_type": "code",
   "execution_count": 106,
   "id": "2205005d-0172-4f57-bc69-30d682bf867b",
   "metadata": {},
   "outputs": [
    {
     "data": {
      "text/plain": [
       "adult                        0\n",
       "belongs_to_collection    41178\n",
       "budget                       0\n",
       "genres                       0\n",
       "homepage                 37878\n",
       "id                           0\n",
       "imdb_id                     17\n",
       "original_language           11\n",
       "original_title               0\n",
       "overview                   954\n",
       "popularity                   3\n",
       "poster_path                386\n",
       "production_companies         3\n",
       "production_countries         3\n",
       "release_date                87\n",
       "revenue                      3\n",
       "runtime                    260\n",
       "spoken_languages             3\n",
       "status                      84\n",
       "tagline                  25197\n",
       "title                        3\n",
       "video                        3\n",
       "vote_average                 3\n",
       "vote_count                   3\n",
       "cast                         0\n",
       "crew                         0\n",
       "cast_actor_1              2430\n",
       "cast_actor_2              3764\n",
       "cast_actor_3              4680\n",
       "total_n_cast                 0\n",
       "dtype: int64"
      ]
     },
     "execution_count": 106,
     "metadata": {},
     "output_type": "execute_result"
    }
   ],
   "source": [
    "data3.isna().sum()"
   ]
  },
  {
   "cell_type": "code",
   "execution_count": 43,
   "id": "c24026ef-0122-4701-a05d-6d6bf026f278",
   "metadata": {},
   "outputs": [
    {
     "data": {
      "text/plain": [
       "Index(['adult', 'belongs_to_collection', 'budget', 'genres', 'homepage', 'id',\n",
       "       'imdb_id', 'original_language', 'original_title', 'overview',\n",
       "       'popularity', 'poster_path', 'production_companies',\n",
       "       'production_countries', 'release_date', 'revenue', 'runtime',\n",
       "       'spoken_languages', 'status', 'tagline', 'title', 'video',\n",
       "       'vote_average', 'vote_count', 'cast', 'crew'],\n",
       "      dtype='object')"
      ]
     },
     "execution_count": 43,
     "metadata": {},
     "output_type": "execute_result"
    }
   ],
   "source": [
    "data3.columns"
   ]
  },
  {
   "cell_type": "code",
   "execution_count": 76,
   "id": "ab3d739f-55cb-4ab2-b742-022f927da1a8",
   "metadata": {},
   "outputs": [],
   "source": [
    "#data2"
   ]
  },
  {
   "cell_type": "code",
   "execution_count": 77,
   "id": "f6a3f958-5e03-4f24-add6-2d8f3b367815",
   "metadata": {},
   "outputs": [],
   "source": [
    "#data.head(1)"
   ]
  },
  {
   "cell_type": "code",
   "execution_count": 78,
   "id": "0b87d02d-f830-4da8-9b01-49cd767a438c",
   "metadata": {},
   "outputs": [
    {
     "data": {
      "text/plain": [
       "False"
      ]
     },
     "execution_count": 78,
     "metadata": {},
     "output_type": "execute_result"
    }
   ],
   "source": [
    "data3.id.is_unique"
   ]
  },
  {
   "cell_type": "code",
   "execution_count": 81,
   "id": "8c966d39-e7b0-4442-bfd5-2d2d1eb69b51",
   "metadata": {},
   "outputs": [
    {
     "data": {
      "text/plain": [
       "False"
      ]
     },
     "execution_count": 81,
     "metadata": {},
     "output_type": "execute_result"
    }
   ],
   "source": [
    "df2.id.is_unique"
   ]
  },
  {
   "cell_type": "code",
   "execution_count": 82,
   "id": "8265bbc7-0464-4d01-a4db-476d5576f7eb",
   "metadata": {},
   "outputs": [
    {
     "data": {
      "text/plain": [
       "False"
      ]
     },
     "execution_count": 82,
     "metadata": {},
     "output_type": "execute_result"
    }
   ],
   "source": [
    "df4.id.is_unique"
   ]
  },
  {
   "cell_type": "code",
   "execution_count": 79,
   "id": "c7c0776d-af2c-42c7-9015-7eb92f7eae1c",
   "metadata": {},
   "outputs": [
    {
     "data": {
      "text/plain": [
       "141971    9\n",
       "298721    4\n",
       "5511      4\n",
       "15028     4\n",
       "13209     4\n",
       "         ..\n",
       "55135     1\n",
       "15877     1\n",
       "72272     1\n",
       "1549      1\n",
       "461257    1\n",
       "Name: id, Length: 45432, dtype: int64"
      ]
     },
     "execution_count": 79,
     "metadata": {},
     "output_type": "execute_result"
    }
   ],
   "source": [
    "data3.id.value_counts()\n",
    "# at least now the number is substantially lower"
   ]
  },
  {
   "cell_type": "code",
   "execution_count": 83,
   "id": "7a5a7497-e525-450e-8f2a-bda6b924043f",
   "metadata": {},
   "outputs": [],
   "source": [
    "#data3[data3['id'] == 141971]"
   ]
  },
  {
   "cell_type": "code",
   "execution_count": null,
   "id": "58c203ad-e16a-4038-8e92-d6884c13465f",
   "metadata": {},
   "outputs": [],
   "source": [
    "# this may be some error thrown by the revenue and budget being 0 as well as the obscurity/low rating ."
   ]
  },
  {
   "cell_type": "code",
   "execution_count": 84,
   "id": "c2888901-63a1-46c6-8cc0-a7decd3f1573",
   "metadata": {},
   "outputs": [],
   "source": [
    "data4 = data3.copy()"
   ]
  },
  {
   "cell_type": "code",
   "execution_count": 150,
   "id": "a73131b7-cbed-4a4a-9da5-13a54e6acb77",
   "metadata": {},
   "outputs": [],
   "source": [
    "cnt = data.id.value_counts()\n",
    "cnt\n",
    "v = cnt[cnt == 1].index.values\n",
    "v\n",
    "\n",
    "test = data.query(\"id in @v\")\n",
    "test.id.is_unique\n",
    "# nailed it. "
   ]
  },
  {
   "cell_type": "code",
   "execution_count": 56,
   "id": "548464aa-d757-406f-be09-399694db7bc4",
   "metadata": {},
   "outputs": [
    {
     "data": {
      "text/plain": [
       "True"
      ]
     },
     "execution_count": 56,
     "metadata": {},
     "output_type": "execute_result"
    }
   ],
   "source": [
    "cnt = data3.id.value_counts()\n",
    "cnt\n",
    "v = cnt[cnt == 1].index.values\n",
    "v\n",
    "\n",
    "test = data3.query(\"id in @v\")\n",
    "test.id.is_unique"
   ]
  },
  {
   "cell_type": "code",
   "execution_count": 89,
   "id": "b55208a5-b55b-4b5f-890b-f69431e15c98",
   "metadata": {},
   "outputs": [
    {
     "data": {
      "text/plain": [
       "(45389, 26)"
      ]
     },
     "execution_count": 89,
     "metadata": {},
     "output_type": "execute_result"
    }
   ],
   "source": [
    "test.shape"
   ]
  },
  {
   "cell_type": "code",
   "execution_count": 92,
   "id": "85fc2b1e-3f80-4e12-97af-0792c759bbaf",
   "metadata": {},
   "outputs": [
    {
     "data": {
      "text/plain": [
       "862       1\n",
       "85581     1\n",
       "141884    1\n",
       "52721     1\n",
       "58333     1\n",
       "         ..\n",
       "37931     1\n",
       "27004     1\n",
       "10870     1\n",
       "54117     1\n",
       "461257    1\n",
       "Name: id, Length: 45389, dtype: int64"
      ]
     },
     "execution_count": 92,
     "metadata": {},
     "output_type": "execute_result"
    }
   ],
   "source": [
    "test.id.value_counts()"
   ]
  },
  {
   "cell_type": "code",
   "execution_count": 68,
   "id": "4b59f0ba-1c23-4942-86ce-3acafdd502b6",
   "metadata": {},
   "outputs": [
    {
     "data": {
      "text/plain": [
       "(45535, 26)"
      ]
     },
     "execution_count": 68,
     "metadata": {},
     "output_type": "execute_result"
    }
   ],
   "source": [
    "data3.shape"
   ]
  },
  {
   "cell_type": "code",
   "execution_count": 88,
   "id": "65dfdddc-54f9-4be9-b42f-339b014f8a30",
   "metadata": {},
   "outputs": [
    {
     "data": {
      "text/plain": [
       "False"
      ]
     },
     "execution_count": 88,
     "metadata": {},
     "output_type": "execute_result"
    }
   ],
   "source": [
    "data3.id.is_unique"
   ]
  },
  {
   "cell_type": "code",
   "execution_count": 65,
   "id": "1e806a50-7966-4342-a6b7-df18b0d22025",
   "metadata": {},
   "outputs": [
    {
     "data": {
      "text/plain": [
       "True"
      ]
     },
     "execution_count": 65,
     "metadata": {},
     "output_type": "execute_result"
    }
   ],
   "source": [
    "test.id.is_unique"
   ]
  },
  {
   "cell_type": "code",
   "execution_count": 66,
   "id": "52c46973-a987-4ab4-ac83-897c217f694e",
   "metadata": {},
   "outputs": [],
   "source": [
    "data = test.copy()"
   ]
  },
  {
   "cell_type": "code",
   "execution_count": 67,
   "id": "5373358e-ff2d-4131-8814-b936cce5a389",
   "metadata": {},
   "outputs": [
    {
     "data": {
      "text/plain": [
       "True"
      ]
     },
     "execution_count": 67,
     "metadata": {},
     "output_type": "execute_result"
    }
   ],
   "source": [
    "data.id.is_unique"
   ]
  },
  {
   "cell_type": "code",
   "execution_count": 153,
   "id": "ef00d136-f928-43c4-970d-b88c869298e8",
   "metadata": {},
   "outputs": [
    {
     "data": {
      "text/plain": [
       "Index(['cast', 'crew', 'id', 'title', 'genres', 'budget', 'overview',\n",
       "       'popularity', 'production_companies', 'production_countries', 'revenue',\n",
       "       'runtime', 'vote_average', 'vote_count'],\n",
       "      dtype='object')"
      ]
     },
     "execution_count": 153,
     "metadata": {},
     "output_type": "execute_result"
    }
   ],
   "source": [
    "data.columns"
   ]
  },
  {
   "cell_type": "code",
   "execution_count": 154,
   "id": "326e73d1-252f-4c78-8291-8b7179097837",
   "metadata": {},
   "outputs": [
    {
     "data": {
      "text/html": [
       "<div><div id=eec2ca8e-9bac-4742-a5ed-721d4ab6a817 style=\"display:none; background-color:#9D6CFF; color:white; width:200px; height:30px; padding-left:5px; border-radius:4px; flex-direction:row; justify-content:space-around; align-items:center;\" onmouseover=\"this.style.backgroundColor='#BA9BF8'\" onmouseout=\"this.style.backgroundColor='#9D6CFF'\" onclick=\"window.commands?.execute('create-mitosheet-from-dataframe-output');\">See Full Dataframe in Mito</div> <script> if (window.commands?.hasCommand('create-mitosheet-from-dataframe-output')) document.getElementById('eec2ca8e-9bac-4742-a5ed-721d4ab6a817').style.display = 'flex' </script> <table border=\"1\" class=\"dataframe\">\n",
       "  <thead>\n",
       "    <tr style=\"text-align: right;\">\n",
       "      <th></th>\n",
       "      <th>cast</th>\n",
       "      <th>crew</th>\n",
       "      <th>id</th>\n",
       "      <th>title</th>\n",
       "      <th>genres</th>\n",
       "      <th>budget</th>\n",
       "      <th>overview</th>\n",
       "      <th>popularity</th>\n",
       "      <th>production_companies</th>\n",
       "      <th>production_countries</th>\n",
       "      <th>revenue</th>\n",
       "      <th>runtime</th>\n",
       "      <th>vote_average</th>\n",
       "      <th>vote_count</th>\n",
       "    </tr>\n",
       "  </thead>\n",
       "  <tbody>\n",
       "    <tr>\n",
       "      <th>20777</th>\n",
       "      <td>JimCarrey AlanThicke RichardGautier ZiggyLorenc RodHebron JeanLaplac BruceCarr</td>\n",
       "      <td>DamianLee DavidMitchell</td>\n",
       "      <td>19809</td>\n",
       "      <td>Copper Mountain</td>\n",
       "      <td>Comedy Romance</td>\n",
       "      <td>0</td>\n",
       "      <td>Two friends travel to a ski resort, with one looking to hit the slopes, while the other spends time trying to pick up women.</td>\n",
       "      <td>2.089464</td>\n",
       "      <td>Rose&amp;RubyProductions</td>\n",
       "      <td>UnitedStatesofAmerica</td>\n",
       "      <td>0.0</td>\n",
       "      <td>60.0</td>\n",
       "      <td>2.9</td>\n",
       "      <td>8.0</td>\n",
       "    </tr>\n",
       "    <tr>\n",
       "      <th>9828</th>\n",
       "      <td>CarolLynley JeffChandler EleanorParker MaryAstor RobertSterling LucianaPaluzzi BrettHalsey GunnarHellström TuesdayWeld</td>\n",
       "      <td>FranzWaxman JackMartinSmith WalterM.Scott Donfeld JoséFerrer FredM.MacLean DavidBretherton JerryWald HansPeters CurtisHarrington CharlesG.Clarke RonaldAlexander GraceMetalious</td>\n",
       "      <td>111017</td>\n",
       "      <td>Return to Peyton Place</td>\n",
       "      <td>Drama Romance</td>\n",
       "      <td>0</td>\n",
       "      <td>More hubub in the little town full of secrets when a visiting author trys to pry loose some juicy scandals!</td>\n",
       "      <td>0.611692</td>\n",
       "      <td>JerryWaldProductions</td>\n",
       "      <td>UnitedStatesofAmerica</td>\n",
       "      <td>0.0</td>\n",
       "      <td>123.0</td>\n",
       "      <td>7.2</td>\n",
       "      <td>5.0</td>\n",
       "    </tr>\n",
       "  </tbody>\n",
       "</table></div>"
      ],
      "text/plain": [
       "                                                    cast  \\\n",
       "20777  JimCarrey AlanThicke RichardGautier ZiggyLoren...   \n",
       "9828   CarolLynley JeffChandler EleanorParker MaryAst...   \n",
       "\n",
       "                                                    crew      id  \\\n",
       "20777                            DamianLee DavidMitchell   19809   \n",
       "9828   FranzWaxman JackMartinSmith WalterM.Scott Donf...  111017   \n",
       "\n",
       "                        title          genres  budget  \\\n",
       "20777         Copper Mountain  Comedy Romance       0   \n",
       "9828   Return to Peyton Place   Drama Romance       0   \n",
       "\n",
       "                                                overview  popularity  \\\n",
       "20777  Two friends travel to a ski resort, with one l...    2.089464   \n",
       "9828   More hubub in the little town full of secrets ...    0.611692   \n",
       "\n",
       "       production_companies   production_countries  revenue  runtime  \\\n",
       "20777  Rose&RubyProductions  UnitedStatesofAmerica      0.0     60.0   \n",
       "9828   JerryWaldProductions  UnitedStatesofAmerica      0.0    123.0   \n",
       "\n",
       "       vote_average  vote_count  \n",
       "20777           2.9         8.0  \n",
       "9828            7.2         5.0  "
      ]
     },
     "execution_count": 154,
     "metadata": {},
     "output_type": "execute_result"
    }
   ],
   "source": [
    "data.sample(2)"
   ]
  },
  {
   "cell_type": "code",
   "execution_count": 157,
   "id": "53ade84d-e313-4514-9fd2-9b2af43d51b4",
   "metadata": {},
   "outputs": [
    {
     "data": {
      "text/html": [
       "<div><div id=3a97ba35-7dc8-4abb-be55-3e329741b8b8 style=\"display:none; background-color:#9D6CFF; color:white; width:200px; height:30px; padding-left:5px; border-radius:4px; flex-direction:row; justify-content:space-around; align-items:center;\" onmouseover=\"this.style.backgroundColor='#BA9BF8'\" onmouseout=\"this.style.backgroundColor='#9D6CFF'\" onclick=\"window.commands?.execute('create-mitosheet-from-dataframe-output');\">See Full Dataframe in Mito</div> <script> if (window.commands?.hasCommand('create-mitosheet-from-dataframe-output')) document.getElementById('3a97ba35-7dc8-4abb-be55-3e329741b8b8').style.display = 'flex' </script> <table border=\"1\" class=\"dataframe\">\n",
       "  <thead>\n",
       "    <tr style=\"text-align: right;\">\n",
       "      <th></th>\n",
       "      <th>id</th>\n",
       "      <th>keywords</th>\n",
       "    </tr>\n",
       "  </thead>\n",
       "  <tbody>\n",
       "    <tr>\n",
       "      <th>0</th>\n",
       "      <td>862</td>\n",
       "      <td>jealousy toy boy friendship friends rivalry boy next door new toy toy comes to life</td>\n",
       "    </tr>\n",
       "  </tbody>\n",
       "</table></div>"
      ],
      "text/plain": [
       "    id                                           keywords\n",
       "0  862  jealousy toy boy friendship friends rivalry bo..."
      ]
     },
     "execution_count": 157,
     "metadata": {},
     "output_type": "execute_result"
    }
   ],
   "source": [
    "df.head(1)"
   ]
  },
  {
   "cell_type": "code",
   "execution_count": 69,
   "id": "6fa3fe9a-22f0-4ec2-807e-cc972b7d7216",
   "metadata": {},
   "outputs": [],
   "source": [
    "# very simple merge\n",
    "data3 = data3.merge(df, on='id')"
   ]
  },
  {
   "cell_type": "code",
   "execution_count": 60,
   "id": "c070b451-50c1-4083-b8c8-1320f97bc4c1",
   "metadata": {},
   "outputs": [
    {
     "data": {
      "text/plain": [
       "45811     18276\n",
       "8659       9279\n",
       "270123     7638\n",
       "179792     7515\n",
       "228291     7410\n",
       "          ...  \n",
       "30155         1\n",
       "9641          1\n",
       "164717        1\n",
       "243426        1\n",
       "234625        1\n",
       "Name: userId, Length: 270896, dtype: int64"
      ]
     },
     "execution_count": 60,
     "metadata": {},
     "output_type": "execute_result"
    }
   ],
   "source": [
    "# still stumped on what to do with df5\n",
    "df5.userId.value_counts()"
   ]
  },
  {
   "cell_type": "code",
   "execution_count": 61,
   "id": "d756dbdc-55f0-49e3-974f-d76602462b95",
   "metadata": {},
   "outputs": [
    {
     "data": {
      "text/plain": [
       "Cinderella                         13\n",
       "Alice in Wonderland                 9\n",
       "Hamlet                              9\n",
       "Beauty and the Beast                8\n",
       "The Forest                          8\n",
       "                                   ..\n",
       "I Killed My Mother                  1\n",
       "Life During Wartime                 1\n",
       "Lion's Den                          1\n",
       "That Most Important Thing: Love     1\n",
       "Queerama                            1\n",
       "Name: title, Length: 42241, dtype: int64"
      ]
     },
     "execution_count": 61,
     "metadata": {},
     "output_type": "execute_result"
    }
   ],
   "source": [
    "data.title.value_counts()"
   ]
  },
  {
   "cell_type": "code",
   "execution_count": 72,
   "id": "410bfa6a-1894-4b34-b2d8-f7ea313d5447",
   "metadata": {},
   "outputs": [
    {
     "data": {
      "text/plain": [
       "Blackout                            31\n",
       "Cinderella                          13\n",
       "The Promise                         12\n",
       "King Lear                           12\n",
       "Why We Fight: Divide and Conquer    12\n",
       "                                    ..\n",
       "Pope Joan                            1\n",
       "Cluny Brown                          1\n",
       "Babies                               1\n",
       "The Green Room                       1\n",
       "Queerama                             1\n",
       "Name: title, Length: 42276, dtype: int64"
      ]
     },
     "execution_count": 72,
     "metadata": {},
     "output_type": "execute_result"
    }
   ],
   "source": [
    "data3.title.value_counts()"
   ]
  },
  {
   "cell_type": "code",
   "execution_count": 166,
   "id": "f0b57208-a85f-4094-b49f-e91cc0af53d7",
   "metadata": {},
   "outputs": [
    {
     "data": {
      "text/html": [
       "<div><div id=8aa37963-e514-4423-81ac-f31a6f788976 style=\"display:none; background-color:#9D6CFF; color:white; width:200px; height:30px; padding-left:5px; border-radius:4px; flex-direction:row; justify-content:space-around; align-items:center;\" onmouseover=\"this.style.backgroundColor='#BA9BF8'\" onmouseout=\"this.style.backgroundColor='#9D6CFF'\" onclick=\"window.commands?.execute('create-mitosheet-from-dataframe-output');\">See Full Dataframe in Mito</div> <script> if (window.commands?.hasCommand('create-mitosheet-from-dataframe-output')) document.getElementById('8aa37963-e514-4423-81ac-f31a6f788976').style.display = 'flex' </script> <table border=\"1\" class=\"dataframe\">\n",
       "  <thead>\n",
       "    <tr style=\"text-align: right;\">\n",
       "      <th></th>\n",
       "      <th>cast</th>\n",
       "      <th>crew</th>\n",
       "      <th>id</th>\n",
       "      <th>title</th>\n",
       "      <th>genres</th>\n",
       "      <th>budget</th>\n",
       "      <th>overview</th>\n",
       "      <th>popularity</th>\n",
       "      <th>production_companies</th>\n",
       "      <th>production_countries</th>\n",
       "      <th>revenue</th>\n",
       "      <th>runtime</th>\n",
       "      <th>vote_average</th>\n",
       "      <th>vote_count</th>\n",
       "      <th>keywords</th>\n",
       "    </tr>\n",
       "  </thead>\n",
       "  <tbody>\n",
       "    <tr>\n",
       "      <th>990</th>\n",
       "      <td>IleneWoods EleanorAudley LucilleBliss VernaFelton HeleneStanley JamesMacDonald LuisvanRooten DonBarclay ClaireDuBrey RhodaWilliams MarionDarlington</td>\n",
       "      <td>ClydeGeronimi WilfredJackson HamiltonLuske CharlesPerrault PaulJ.Smith OliverWallace DonaldHalliday WaltDisney BillPeed TedSears HomerBrightman KenAnderson ErdmanPenner WinstonHibler HarryReeves JoeRinaldi MerleCox McLarenStewart C.O.Slyfield HaroldJ.Steck RobertO.Cook AlTeeter MackDavid JerryLivingston AlHoffman JosephDubin TomCodrick LanceNolley DonGriffith KendallO'Connor HughHennesy CharlesPhilippi ThorPutnam BriceMack DickAnthony ThelmaWitmer ArtRiley RayHuffine EricLarson WardKimball MiltKahl OllieJohnston FrankThomas MarcDavis JohnLounsbery LesClark WolfgangReitherman NormanFerguson BenSharpsteen RalphHulett</td>\n",
       "      <td>11224</td>\n",
       "      <td>Cinderella</td>\n",
       "      <td>Family Fantasy Animation Romance</td>\n",
       "      <td>2900000</td>\n",
       "      <td>Cinderella has faith her dreams of a better life will come true. With help from her loyal mice friends and a wave of her Fairy Godmother's wand, Cinderella's rags are magically turned into a glorious gown and off she goes to the Royal Ball. But when the clock strikes midnight, the spell is broken, leaving a single glass slipper... the only key to the ultimate fairy-tale ending!</td>\n",
       "      <td>14.436858</td>\n",
       "      <td>RKORadioPictures WaltDisneyProductions</td>\n",
       "      <td>UnitedStatesofAmerica</td>\n",
       "      <td>263591415.0</td>\n",
       "      <td>74.0</td>\n",
       "      <td>6.8</td>\n",
       "      <td>1760.0</td>\n",
       "      <td>based on novel cinderella loss of parents mouse ball fairy prince musical midnight princess love orphan family evil stepmother fairy godmother glass slipper</td>\n",
       "    </tr>\n",
       "    <tr>\n",
       "      <th>13056</th>\n",
       "      <td>BrandyNorwood WhitneyHouston WhoopiGoldberg BernadettePeters JasonAlexander</td>\n",
       "      <td>RobertIscove</td>\n",
       "      <td>42884</td>\n",
       "      <td>Cinderella</td>\n",
       "      <td>TV Movie Family Fantasy Music Romance</td>\n",
       "      <td>0</td>\n",
       "      <td>Updated version of the classic Rodgers and Hammerstein musical of the classic fairy-tale, with an all-star, multi-racial cast.</td>\n",
       "      <td>2.102013</td>\n",
       "      <td>WaltDisneyTelevision CitadelEntertainment StorylineEntertainment BrownHouseProductions</td>\n",
       "      <td>UnitedStatesofAmerica</td>\n",
       "      <td>0.0</td>\n",
       "      <td>88.0</td>\n",
       "      <td>6.1</td>\n",
       "      <td>28.0</td>\n",
       "      <td>cinderella musical rodgers &amp; hammerstei</td>\n",
       "    </tr>\n",
       "    <tr>\n",
       "      <th>23463</th>\n",
       "      <td>MaryPickford OwenMoore IsabelVernon GeorgiaWilson LucilleCarney W.N.Cone InezMarcel</td>\n",
       "      <td>CharlesPerrault JamesKirkwood</td>\n",
       "      <td>92349</td>\n",
       "      <td>Cinderella</td>\n",
       "      <td>Fantasy Drama</td>\n",
       "      <td>0</td>\n",
       "      <td>Based on Charles Perrault's fairy tale: Cinderella is mistreated by her stepmother and stepsisters, but she is able to go to the Royal Ball with the help of the Fairy Godmother.</td>\n",
       "      <td>0.361288</td>\n",
       "      <td></td>\n",
       "      <td>UnitedStatesofAmerica</td>\n",
       "      <td>0.0</td>\n",
       "      <td>52.0</td>\n",
       "      <td>5.4</td>\n",
       "      <td>7.0</td>\n",
       "      <td></td>\n",
       "    </tr>\n",
       "    <tr>\n",
       "      <th>23474</th>\n",
       "      <td>TonyAil NathanAswell CheraBailey KathleenBarr GarryChalk LillianCarlson IanJamesCorlett</td>\n",
       "      <td>ToshiyukiHiruma CharlesPerrault GeorgeArthurBloom</td>\n",
       "      <td>105875</td>\n",
       "      <td>Cinderella</td>\n",
       "      <td>Animation Family Fantasy</td>\n",
       "      <td>0</td>\n",
       "      <td>Cinderella, the beautiful and kind-hearted ragamuffin who lives with her greedy stepmother and two selfish stepsisters, charms a handsome prince when her fairy godmother sends her to the royal ball. She must leave the ball by midnight before all the magic is gone, but Cinderella has so much fun that she forgets all about the warning, and when she flees the castle she leaves behind one glass slipper. Cinderella, originally released directly to video in 1994, is a 48-minute animated film adapted from the classic fairy tale, \"Cinderella\" by Charles Perrault. The movie was produced by Jetlag Productions and was distributed to DVD in 2002 by GoodTimes Entertainment as part of their \"Collectible Classics\" line.</td>\n",
       "      <td>2.154873</td>\n",
       "      <td>GoodTimesEntertainment</td>\n",
       "      <td>Japan UnitedStatesofAmerica</td>\n",
       "      <td>0.0</td>\n",
       "      <td>48.0</td>\n",
       "      <td>6.0</td>\n",
       "      <td>2.0</td>\n",
       "      <td></td>\n",
       "    </tr>\n",
       "    <tr>\n",
       "      <th>28329</th>\n",
       "      <td>VanessaHessler FlavioParenti NataliaWörner Ruth-MariaKubitschek HaryPrinz FrankCrudele RosabellLaurentiSellers CarlottaNatoli GiuliaAndò IlariaSpada MassimoPoggio MariellaValentini WanjaSellers UrbanoBarberini</td>\n",
       "      <td>DavidYardley LucaBernabei MonicaSallustio ChristianDuguay TeresaRazzauti AgathaDominik LeaTafuri MaurizioMillenotti FabrizioLucci AndreaGuerra CarmeloAgate</td>\n",
       "      <td>261985</td>\n",
       "      <td>Cinderella</td>\n",
       "      <td>Family TV Movie</td>\n",
       "      <td>0</td>\n",
       "      <td>Once upon a time in post-war Rome: 13-year old Aurora, a gifted pianist, is the daughter of Valerio, a brilliant conductor. After Aurora's mother died, Valerio hired Irene, a single mother of two girls, to run the household. To Aurora's regret he decides to marry Irene. One day, Aurora happens to meet the boys next door, Freddy and Sebastian, the sons of a wealthy Italo-Austrian family. Freddy is an easy-going chap, though sometimes a little bit arrogant. His brother Sebastian is kind and shy, with a great ability to listen to and understand people, which makes him win Aurora's heart.</td>\n",
       "      <td>0.987462</td>\n",
       "      <td>BetaFilm LuxVide ARD/DegetoFilmGmbH RaiFiction RaiTrade 13Productions</td>\n",
       "      <td>Italy</td>\n",
       "      <td>0.0</td>\n",
       "      <td>180.0</td>\n",
       "      <td>5.3</td>\n",
       "      <td>9.0</td>\n",
       "      <td></td>\n",
       "    </tr>\n",
       "    <tr>\n",
       "      <th>...</th>\n",
       "      <td>...</td>\n",
       "      <td>...</td>\n",
       "      <td>...</td>\n",
       "      <td>...</td>\n",
       "      <td>...</td>\n",
       "      <td>...</td>\n",
       "      <td>...</td>\n",
       "      <td>...</td>\n",
       "      <td>...</td>\n",
       "      <td>...</td>\n",
       "      <td>...</td>\n",
       "      <td>...</td>\n",
       "      <td>...</td>\n",
       "      <td>...</td>\n",
       "      <td>...</td>\n",
       "    </tr>\n",
       "    <tr>\n",
       "      <th>35726</th>\n",
       "      <td>JulieAndrews HowardLindsay HowardLindsay IlkaChase KayeBallard AliceGhostley EdieAdams JohnCypher DavidF.Perkins</td>\n",
       "      <td>AlfredoAntonini RalphNelson OscarHammersteinII RichardRodgers JonathanLucas RichardLewine WilliamEckart JeanEckart JeanEckart RobertRussellBennett</td>\n",
       "      <td>44459</td>\n",
       "      <td>Cinderella</td>\n",
       "      <td>Drama Romance</td>\n",
       "      <td>0</td>\n",
       "      <td>The first of three TV-versions of the classic fairy tale that featured a Rodgers and Hammerstein score and was performed in front of a live audience.</td>\n",
       "      <td>0.209552</td>\n",
       "      <td></td>\n",
       "      <td>UnitedStatesofAmerica</td>\n",
       "      <td>0.0</td>\n",
       "      <td>77.0</td>\n",
       "      <td>5.9</td>\n",
       "      <td>5.0</td>\n",
       "      <td></td>\n",
       "    </tr>\n",
       "    <tr>\n",
       "      <th>35729</th>\n",
       "      <td>KathleenTurner KatrinCartlidge DavidWarner JaneBirkin LucyPunch MarcellaPlunkett LesliePhillips SharonMaughan GideonTurner GrantIbbs</td>\n",
       "      <td>BeebanKidron TrevorEve AlekseiRodionov NickDear JazColeman SimonJohnson</td>\n",
       "      <td>289673</td>\n",
       "      <td>Cinderella</td>\n",
       "      <td></td>\n",
       "      <td>0</td>\n",
       "      <td>Cinderella (named Zezolla) and her family live mid 20th century, where fashion is practically everything. As her father is won over by a selfish woman named Claudette, Cinderella must keep her new step-mother from murdering the only family she has left. Add in an anti-social mermaid literally living in a cave, a bored prince with an ear for rock n' roll, and the glamour of the 1950's and one'll find that this story can't grow old</td>\n",
       "      <td>1.085134</td>\n",
       "      <td></td>\n",
       "      <td></td>\n",
       "      <td>0.0</td>\n",
       "      <td>90.0</td>\n",
       "      <td>5.6</td>\n",
       "      <td>5.0</td>\n",
       "      <td>woman director</td>\n",
       "    </tr>\n",
       "    <tr>\n",
       "      <th>35730</th>\n",
       "      <td>KathleenTurner KatrinCartlidge DavidWarner JaneBirkin LucyPunch MarcellaPlunkett LesliePhillips SharonMaughan GideonTurner GrantIbbs</td>\n",
       "      <td>BeebanKidron TrevorEve AlekseiRodionov NickDear JazColeman SimonJohnson</td>\n",
       "      <td>289673</td>\n",
       "      <td>Cinderella</td>\n",
       "      <td></td>\n",
       "      <td>0</td>\n",
       "      <td>Cinderella (named Zezolla) and her family live mid 20th century, where fashion is practically everything. As her father is won over by a selfish woman named Claudette, Cinderella must keep her new step-mother from murdering the only family she has left. Add in an anti-social mermaid literally living in a cave, a bored prince with an ear for rock n' roll, and the glamour of the 1950's and one'll find that this story can't grow old</td>\n",
       "      <td>1.085134</td>\n",
       "      <td></td>\n",
       "      <td></td>\n",
       "      <td>0.0</td>\n",
       "      <td>90.0</td>\n",
       "      <td>5.6</td>\n",
       "      <td>5.0</td>\n",
       "      <td>woman director</td>\n",
       "    </tr>\n",
       "    <tr>\n",
       "      <th>41953</th>\n",
       "      <td>GeorgesMéliès Barral BleuetteBernon Carmely Jeanned'Alcy Depeyrou</td>\n",
       "      <td>GeorgesMéliès CharlesPerrault</td>\n",
       "      <td>114108</td>\n",
       "      <td>Cinderella</td>\n",
       "      <td>Fantasy Horror Science Fiction Family</td>\n",
       "      <td>0</td>\n",
       "      <td>A fairy godmother magically turns Cinderella's rags to a beautiful dress, and a pumpkin into a coach. Cinderella goes to the ball, where she meets the Prince - but will she remember to leave before the magic runs out?  Méliès based the art direction on engravings by Gustave Doré. First known example of a fairy-tale adapted to film, and the first film to use dissolves to go from one scene to another.</td>\n",
       "      <td>1.301063</td>\n",
       "      <td>Star-Film GeorgesMéliès</td>\n",
       "      <td>France</td>\n",
       "      <td>0.0</td>\n",
       "      <td>5.0</td>\n",
       "      <td>5.5</td>\n",
       "      <td>19.0</td>\n",
       "      <td>fairy tale fairy godmother</td>\n",
       "    </tr>\n",
       "    <tr>\n",
       "      <th>46281</th>\n",
       "      <td>KristinaAsmus NikitaEfremov ArtyomTkachenko ElizavetaBoyarskaya NonnaGrishaeva YuriyStoyanov SergeyBurunov AleksandrTsekalo AnnaSherling AnnaArshava AnnaBagmet AleksandrBocharov MargaritaBychkova AleksandrKorchagin VsevolodMakarov AnnaMasalskaya AleksandrNikolskiy VyacheslavTitov</td>\n",
       "      <td>SergeyIvanov AleksandrTsekalo DmitriyZverkov MaksimTukhanin</td>\n",
       "      <td>98604</td>\n",
       "      <td>Cinderella</td>\n",
       "      <td>Comedy Romance</td>\n",
       "      <td>0</td>\n",
       "      <td>Masha Krapivina - is yet beautiful, and not that clever. She is just an ordinary girl, like thousands of her peers from different parts of the country, who risked to try to conquer Moscow and left their native country town.</td>\n",
       "      <td>0.803588</td>\n",
       "      <td>ChannelOneRussia CentralPartnership</td>\n",
       "      <td>Russia</td>\n",
       "      <td>0.0</td>\n",
       "      <td>91.0</td>\n",
       "      <td>4.6</td>\n",
       "      <td>6.0</td>\n",
       "      <td></td>\n",
       "    </tr>\n",
       "  </tbody>\n",
       "</table></div>"
      ],
      "text/plain": [
       "                                                    cast  \\\n",
       "990    IleneWoods EleanorAudley LucilleBliss VernaFel...   \n",
       "13056  BrandyNorwood WhitneyHouston WhoopiGoldberg Be...   \n",
       "23463  MaryPickford OwenMoore IsabelVernon GeorgiaWil...   \n",
       "23474  TonyAil NathanAswell CheraBailey KathleenBarr ...   \n",
       "28329  VanessaHessler FlavioParenti NataliaWörner Rut...   \n",
       "28602  LilyJames CateBlanchett RichardMadden HelenaBo...   \n",
       "34184  YaninaZhejmo AlekseiKonsovsky FainaRanevskaya ...   \n",
       "35725  JulieAndrews HowardLindsay HowardLindsay IlkaC...   \n",
       "35726  JulieAndrews HowardLindsay HowardLindsay IlkaC...   \n",
       "35729  KathleenTurner KatrinCartlidge DavidWarner Jan...   \n",
       "35730  KathleenTurner KatrinCartlidge DavidWarner Jan...   \n",
       "41953  GeorgesMéliès Barral BleuetteBernon Carmely Je...   \n",
       "46281  KristinaAsmus NikitaEfremov ArtyomTkachenko El...   \n",
       "\n",
       "                                                    crew      id       title  \\\n",
       "990    ClydeGeronimi WilfredJackson HamiltonLuske Cha...   11224  Cinderella   \n",
       "13056                                       RobertIscove   42884  Cinderella   \n",
       "23463                      CharlesPerrault JamesKirkwood   92349  Cinderella   \n",
       "23474  ToshiyukiHiruma CharlesPerrault GeorgeArthurBloom  105875  Cinderella   \n",
       "28329  DavidYardley LucaBernabei MonicaSallustio Chri...  261985  Cinderella   \n",
       "28602  DanteFerretti ChrisWeitz LeslieTomkins Frances...  150689  Cinderella   \n",
       "34184  NadezhdaKosheverova MikhailShapiro YevgeniShva...   42651  Cinderella   \n",
       "35725  AlfredoAntonini RalphNelson OscarHammersteinII...   44459  Cinderella   \n",
       "35726  AlfredoAntonini RalphNelson OscarHammersteinII...   44459  Cinderella   \n",
       "35729  BeebanKidron TrevorEve AlekseiRodionov NickDea...  289673  Cinderella   \n",
       "35730  BeebanKidron TrevorEve AlekseiRodionov NickDea...  289673  Cinderella   \n",
       "41953                      GeorgesMéliès CharlesPerrault  114108  Cinderella   \n",
       "46281  SergeyIvanov AleksandrTsekalo DmitriyZverkov M...   98604  Cinderella   \n",
       "\n",
       "                                      genres    budget  \\\n",
       "990         Family Fantasy Animation Romance   2900000   \n",
       "13056  TV Movie Family Fantasy Music Romance         0   \n",
       "23463                          Fantasy Drama         0   \n",
       "23474               Animation Family Fantasy         0   \n",
       "28329                        Family TV Movie         0   \n",
       "28602           Romance Fantasy Family Drama  95000000   \n",
       "34184                  Comedy Family Fantasy         0   \n",
       "35725                          Drama Romance         0   \n",
       "35726                          Drama Romance         0   \n",
       "35729                                                0   \n",
       "35730                                                0   \n",
       "41953  Fantasy Horror Science Fiction Family         0   \n",
       "46281                         Comedy Romance         0   \n",
       "\n",
       "                                                overview  popularity  \\\n",
       "990    Cinderella has faith her dreams of a better li...   14.436858   \n",
       "13056  Updated version of the classic Rodgers and Ham...    2.102013   \n",
       "23463  Based on Charles Perrault's fairy tale: Cinder...    0.361288   \n",
       "23474  Cinderella, the beautiful and kind-hearted rag...    2.154873   \n",
       "28329  Once upon a time in post-war Rome: 13-year old...    0.987462   \n",
       "28602  When her father unexpectedly passes away, youn...   19.801128   \n",
       "34184  Based on a classic fairytale \"Cinderella\" bril...    0.486073   \n",
       "35725  The first of three TV-versions of the classic ...    0.209552   \n",
       "35726  The first of three TV-versions of the classic ...    0.209552   \n",
       "35729  Cinderella (named Zezolla) and her family live...    1.085134   \n",
       "35730  Cinderella (named Zezolla) and her family live...    1.085134   \n",
       "41953  A fairy godmother magically turns Cinderella's...    1.301063   \n",
       "46281  Masha Krapivina - is yet beautiful, and not th...    0.803588   \n",
       "\n",
       "                                    production_companies  \\\n",
       "990               RKORadioPictures WaltDisneyProductions   \n",
       "13056  WaltDisneyTelevision CitadelEntertainment Stor...   \n",
       "23463                                                      \n",
       "23474                             GoodTimesEntertainment   \n",
       "28329  BetaFilm LuxVide ARD/DegetoFilmGmbH RaiFiction...   \n",
       "28602  WaltDisneyPictures GenreFilms BeaglePugFilms A...   \n",
       "34184                                            Lenfilm   \n",
       "35725                                                      \n",
       "35726                                                      \n",
       "35729                                                      \n",
       "35730                                                      \n",
       "41953                            Star-Film GeorgesMéliès   \n",
       "46281                ChannelOneRussia CentralPartnership   \n",
       "\n",
       "                      production_countries      revenue  runtime  \\\n",
       "990                  UnitedStatesofAmerica  263591415.0     74.0   \n",
       "13056                UnitedStatesofAmerica          0.0     88.0   \n",
       "23463                UnitedStatesofAmerica          0.0     52.0   \n",
       "23474          Japan UnitedStatesofAmerica          0.0     48.0   \n",
       "28329                                Italy          0.0    180.0   \n",
       "28602  UnitedKingdom UnitedStatesofAmerica  543514353.0    105.0   \n",
       "34184                               Russia          0.0     80.0   \n",
       "35725                UnitedStatesofAmerica          0.0     77.0   \n",
       "35726                UnitedStatesofAmerica          0.0     77.0   \n",
       "35729                                               0.0     90.0   \n",
       "35730                                               0.0     90.0   \n",
       "41953                               France          0.0      5.0   \n",
       "46281                               Russia          0.0     91.0   \n",
       "\n",
       "       vote_average  vote_count  \\\n",
       "990             6.8      1760.0   \n",
       "13056           6.1        28.0   \n",
       "23463           5.4         7.0   \n",
       "23474           6.0         2.0   \n",
       "28329           5.3         9.0   \n",
       "28602           6.7      2426.0   \n",
       "34184           4.8         5.0   \n",
       "35725           5.9         5.0   \n",
       "35726           5.9         5.0   \n",
       "35729           5.6         5.0   \n",
       "35730           5.6         5.0   \n",
       "41953           5.5        19.0   \n",
       "46281           4.6         6.0   \n",
       "\n",
       "                                                keywords  \n",
       "990    based on novel cinderella loss of parents mous...  \n",
       "13056            cinderella musical rodgers & hammerstei  \n",
       "23463                                                     \n",
       "23474                                                     \n",
       "28329                                                     \n",
       "28602  cinderella magic prince fairy tale kingdom roy...  \n",
       "34184                                                     \n",
       "35725                                                     \n",
       "35726                                                     \n",
       "35729                                     woman director  \n",
       "35730                                     woman director  \n",
       "41953                         fairy tale fairy godmother  \n",
       "46281                                                     "
      ]
     },
     "execution_count": 166,
     "metadata": {},
     "output_type": "execute_result"
    }
   ],
   "source": [
    "data[data['title'] == 'Cinderella']"
   ]
  },
  {
   "cell_type": "code",
   "execution_count": 175,
   "id": "03b00e4c-7f64-4d8b-a33c-b251124984de",
   "metadata": {},
   "outputs": [],
   "source": [
    "# AH HA, these are cases of re-releases, and are tv-movies. Getting rid of budgets and revenue where the case is zero should solve this problem\n",
    "#data2 = data[data['revenue'] >=1]"
   ]
  },
  {
   "cell_type": "code",
   "execution_count": 97,
   "id": "82f48adc-af69-4dcd-b9aa-ae94cefbbfa5",
   "metadata": {},
   "outputs": [
    {
     "data": {
      "text/plain": [
       "Index(['adult', 'belongs_to_collection', 'budget', 'genres', 'homepage', 'id',\n",
       "       'imdb_id', 'original_language', 'original_title', 'overview',\n",
       "       'popularity', 'poster_path', 'production_companies',\n",
       "       'production_countries', 'release_date', 'revenue', 'runtime',\n",
       "       'spoken_languages', 'status', 'tagline', 'title', 'video',\n",
       "       'vote_average', 'vote_count'],\n",
       "      dtype='object')"
      ]
     },
     "execution_count": 97,
     "metadata": {},
     "output_type": "execute_result"
    }
   ],
   "source": [
    "df4.columns"
   ]
  },
  {
   "cell_type": "code",
   "execution_count": 98,
   "id": "dcb89ee5-8a84-43a0-a90d-5f5bedb50b1b",
   "metadata": {},
   "outputs": [
    {
     "data": {
      "text/plain": [
       "0.0           38052\n",
       "12000000.0       20\n",
       "11000000.0       19\n",
       "10000000.0       19\n",
       "2000000.0        18\n",
       "              ...  \n",
       "36565280.0        1\n",
       "439564.0          1\n",
       "35610100.0        1\n",
       "10217873.0        1\n",
       "1413000.0         1\n",
       "Name: revenue, Length: 6863, dtype: int64"
      ]
     },
     "execution_count": 98,
     "metadata": {},
     "output_type": "execute_result"
    }
   ],
   "source": [
    "df4.revenue.value_counts()"
   ]
  },
  {
   "cell_type": "code",
   "execution_count": 176,
   "id": "ea743176-b2b0-4a6e-a334-722c9392753e",
   "metadata": {},
   "outputs": [
    {
     "data": {
      "text/plain": [
       "(46341, 15)"
      ]
     },
     "execution_count": 176,
     "metadata": {},
     "output_type": "execute_result"
    }
   ],
   "source": [
    "data.shape"
   ]
  },
  {
   "cell_type": "code",
   "execution_count": 177,
   "id": "b0d89013-8bc5-41b9-af8a-32374c4c6a4d",
   "metadata": {},
   "outputs": [
    {
     "data": {
      "text/plain": [
       "(7457, 15)"
      ]
     },
     "execution_count": 177,
     "metadata": {},
     "output_type": "execute_result"
    }
   ],
   "source": [
    "data2.shape"
   ]
  },
  {
   "cell_type": "code",
   "execution_count": 178,
   "id": "d0b6da8d-79e9-4e6d-b004-1931f6c69f59",
   "metadata": {},
   "outputs": [
    {
     "data": {
      "text/plain": [
       "False"
      ]
     },
     "execution_count": 178,
     "metadata": {},
     "output_type": "execute_result"
    }
   ],
   "source": [
    "data2.title.is_unique"
   ]
  },
  {
   "cell_type": "code",
   "execution_count": 179,
   "id": "fee2ab4b-6a68-47a7-888a-85e292856da9",
   "metadata": {},
   "outputs": [
    {
     "data": {
      "text/plain": [
       "Ghost                  4\n",
       "Mickey                 3\n",
       "Hercules               3\n",
       "Anna Karenina          3\n",
       "Captive                3\n",
       "                      ..\n",
       "All The Queen's Men    1\n",
       "Paid in Full           1\n",
       "Jackass: The Movie     1\n",
       "Ghost Ship             1\n",
       "Antidur                1\n",
       "Name: title, Length: 7232, dtype: int64"
      ]
     },
     "execution_count": 179,
     "metadata": {},
     "output_type": "execute_result"
    }
   ],
   "source": [
    "data2.title.value_counts()"
   ]
  },
  {
   "cell_type": "code",
   "execution_count": null,
   "id": "84f194f8-4fae-425e-8c05-49a6a8955f59",
   "metadata": {},
   "outputs": [],
   "source": []
  },
  {
   "cell_type": "code",
   "execution_count": 181,
   "id": "b1c34b3a-6994-42ab-bd0f-26a16400bd37",
   "metadata": {},
   "outputs": [
    {
     "data": {
      "text/html": [
       "<div><div id=3c4bff62-8a0d-48db-864f-f1b4436a6d5f style=\"display:none; background-color:#9D6CFF; color:white; width:200px; height:30px; padding-left:5px; border-radius:4px; flex-direction:row; justify-content:space-around; align-items:center;\" onmouseover=\"this.style.backgroundColor='#BA9BF8'\" onmouseout=\"this.style.backgroundColor='#9D6CFF'\" onclick=\"window.commands?.execute('create-mitosheet-from-dataframe-output');\">See Full Dataframe in Mito</div> <script> if (window.commands?.hasCommand('create-mitosheet-from-dataframe-output')) document.getElementById('3c4bff62-8a0d-48db-864f-f1b4436a6d5f').style.display = 'flex' </script> <table border=\"1\" class=\"dataframe\">\n",
       "  <thead>\n",
       "    <tr style=\"text-align: right;\">\n",
       "      <th></th>\n",
       "      <th>cast</th>\n",
       "      <th>crew</th>\n",
       "      <th>id</th>\n",
       "      <th>title</th>\n",
       "      <th>genres</th>\n",
       "      <th>budget</th>\n",
       "      <th>overview</th>\n",
       "      <th>popularity</th>\n",
       "      <th>production_companies</th>\n",
       "      <th>production_countries</th>\n",
       "      <th>revenue</th>\n",
       "      <th>runtime</th>\n",
       "      <th>vote_average</th>\n",
       "      <th>vote_count</th>\n",
       "      <th>keywords</th>\n",
       "    </tr>\n",
       "  </thead>\n",
       "  <tbody>\n",
       "    <tr>\n",
       "      <th>580</th>\n",
       "      <td>PatrickSwayze DemiMoore WhoopiGoldberg TonyGoldwyn VincentSchiavelli GailBoggs StephenRoot RickAviles VivianBonnell ArmeliaMcQueen AngelinaEstrada AugieBlunt PhilLeeds AlmaBeltran</td>\n",
       "      <td>WalterMurch WalterMurch RuthMorley MauriceJarre AdamGreenberg JanetHirshenson JaneJenkins JerryZucker LisaWeinstein HowardW.Koch JaneMusky ClaytonCollins BruceJoelRubin MariettaCarter-Narcisse LeeHaxall JoeD.Mitchell MarkW.Mansbridge LeslieShatz RichardEdlund DougChiang BenNyeJr. AnthonyStacchi MikeBenson DioneTaylor CharliePicerni GaryDavis SteveMaslow DavidLeeFein KyleSweet MichaelMagill KenDufva StanTropp ThomasSaccio NedGorman ElizabethZiegler BruceNicholson JohnT.VanVliet MichaelGleason PeterSorel DouglasGreenfield DevenChierighino KatherineKean JuliaL.Walker ButchWest HorstGrandt GaryKudroff GaryRitchie KathyMcCart JeffHoward CandaceLewis MartineTomczyk SeanTurner JudithWeaver CharlieClavadetscher HowardStein CaryFisher DawnJ.Jackson GeneR.Johnson FayeBrenner EricKlosterman PattiHawn</td>\n",
       "      <td>251</td>\n",
       "      <td>Ghost</td>\n",
       "      <td>Fantasy Drama Thriller Mystery Romance</td>\n",
       "      <td>22000000</td>\n",
       "      <td>Sam Wheat is a banker, Molly Jensen is an artist, and the two are madly in love. However, when Sam is murdered by his friend and corrupt business partner Carl Bruner over a shady business deal, he is left to roam the earth as a powerless spirit. When he learns of Carl's betrayal, Sam must seek the help of psychic Oda Mae Brown to set things right and protect Molly from Carl and his goons.</td>\n",
       "      <td>11.945397</td>\n",
       "      <td>ParamountPictures</td>\n",
       "      <td>UnitedStatesofAmerica</td>\n",
       "      <td>505000000.0</td>\n",
       "      <td>127.0</td>\n",
       "      <td>6.9</td>\n",
       "      <td>1381.0</td>\n",
       "      <td>corruption fortune teller money transfer money laundering pottery afterlife spiritism</td>\n",
       "    </tr>\n",
       "    <tr>\n",
       "      <th>35363</th>\n",
       "      <td>NanakoMatsushima SongSeung-heon SawaSuzuki KirinKiki</td>\n",
       "      <td>TarôOhtani</td>\n",
       "      <td>138853</td>\n",
       "      <td>Ghost</td>\n",
       "      <td>Mystery Drama Fantasy</td>\n",
       "      <td>0</td>\n",
       "      <td>Nanami Hoshino, a wealthy entrepreneur, marries Korean potter Kim Jun-ho, and they both live a seemingly happy life. Then, one year after their marriage, Nanami is killed by a biker on her way home. This tragedy leaves Jun-ho completely devastated. At the hospital, Nanami's ghost arises from her body, and upon meeting a ghost child, she realizes that she is a ghost whose presence cannot be seen. She then realizes that her death was no coincidence and Jun-ho is in imminent danger. Unable to communicate with normal humans, Nanami seeks help from the elderly psychic Unten in hopes of saving Jun-ho's life.</td>\n",
       "      <td>0.215013</td>\n",
       "      <td></td>\n",
       "      <td>Japan SouthKorea</td>\n",
       "      <td>9833553.0</td>\n",
       "      <td>116.0</td>\n",
       "      <td>4.3</td>\n",
       "      <td>4.0</td>\n",
       "      <td></td>\n",
       "    </tr>\n",
       "    <tr>\n",
       "      <th>35364</th>\n",
       "      <td>NanakoMatsushima SongSeung-heon SawaSuzuki KirinKiki</td>\n",
       "      <td>TarôOhtani</td>\n",
       "      <td>138853</td>\n",
       "      <td>Ghost</td>\n",
       "      <td>Mystery Drama Fantasy</td>\n",
       "      <td>0</td>\n",
       "      <td>Nanami Hoshino, a wealthy entrepreneur, marries Korean potter Kim Jun-ho, and they both live a seemingly happy life. Then, one year after their marriage, Nanami is killed by a biker on her way home. This tragedy leaves Jun-ho completely devastated. At the hospital, Nanami's ghost arises from her body, and upon meeting a ghost child, she realizes that she is a ghost whose presence cannot be seen. She then realizes that her death was no coincidence and Jun-ho is in imminent danger. Unable to communicate with normal humans, Nanami seeks help from the elderly psychic Unten in hopes of saving Jun-ho's life.</td>\n",
       "      <td>0.215013</td>\n",
       "      <td></td>\n",
       "      <td>Japan SouthKorea</td>\n",
       "      <td>9833553.0</td>\n",
       "      <td>116.0</td>\n",
       "      <td>4.3</td>\n",
       "      <td>4.0</td>\n",
       "      <td></td>\n",
       "    </tr>\n",
       "    <tr>\n",
       "      <th>44825</th>\n",
       "      <td>FyodorBondarchuk YanTsapnik AnnaAntonova IgorUgolnikov SemyonTreskunov KseniyaLavrova-Glinka</td>\n",
       "      <td>AleksandrVoytinskiy OlegMalovichko</td>\n",
       "      <td>332512</td>\n",
       "      <td>Ghost</td>\n",
       "      <td>Family Comedy</td>\n",
       "      <td>0</td>\n",
       "      <td>An aircraft designer becomes a ghost after a sudden death. Now he needs to engage a help of seven-grader in order to finish all his unaccomplished tasks.</td>\n",
       "      <td>1.041195</td>\n",
       "      <td>CTBFilmCompany</td>\n",
       "      <td>Russia</td>\n",
       "      <td>3300000.0</td>\n",
       "      <td>90.0</td>\n",
       "      <td>6.0</td>\n",
       "      <td>12.0</td>\n",
       "      <td></td>\n",
       "    </tr>\n",
       "  </tbody>\n",
       "</table></div>"
      ],
      "text/plain": [
       "                                                    cast  \\\n",
       "580    PatrickSwayze DemiMoore WhoopiGoldberg TonyGol...   \n",
       "35363  NanakoMatsushima SongSeung-heon SawaSuzuki Kir...   \n",
       "35364  NanakoMatsushima SongSeung-heon SawaSuzuki Kir...   \n",
       "44825  FyodorBondarchuk YanTsapnik AnnaAntonova IgorU...   \n",
       "\n",
       "                                                    crew      id  title  \\\n",
       "580    WalterMurch WalterMurch RuthMorley MauriceJarr...     251  Ghost   \n",
       "35363                                         TarôOhtani  138853  Ghost   \n",
       "35364                                         TarôOhtani  138853  Ghost   \n",
       "44825                 AleksandrVoytinskiy OlegMalovichko  332512  Ghost   \n",
       "\n",
       "                                       genres    budget  \\\n",
       "580    Fantasy Drama Thriller Mystery Romance  22000000   \n",
       "35363                   Mystery Drama Fantasy         0   \n",
       "35364                   Mystery Drama Fantasy         0   \n",
       "44825                           Family Comedy         0   \n",
       "\n",
       "                                                overview  popularity  \\\n",
       "580    Sam Wheat is a banker, Molly Jensen is an arti...   11.945397   \n",
       "35363  Nanami Hoshino, a wealthy entrepreneur, marrie...    0.215013   \n",
       "35364  Nanami Hoshino, a wealthy entrepreneur, marrie...    0.215013   \n",
       "44825  An aircraft designer becomes a ghost after a s...    1.041195   \n",
       "\n",
       "      production_companies   production_countries      revenue  runtime  \\\n",
       "580      ParamountPictures  UnitedStatesofAmerica  505000000.0    127.0   \n",
       "35363                            Japan SouthKorea    9833553.0    116.0   \n",
       "35364                            Japan SouthKorea    9833553.0    116.0   \n",
       "44825       CTBFilmCompany                 Russia    3300000.0     90.0   \n",
       "\n",
       "       vote_average  vote_count  \\\n",
       "580             6.9      1381.0   \n",
       "35363           4.3         4.0   \n",
       "35364           4.3         4.0   \n",
       "44825           6.0        12.0   \n",
       "\n",
       "                                                keywords  \n",
       "580    corruption fortune teller money transfer money...  \n",
       "35363                                                     \n",
       "35364                                                     \n",
       "44825                                                     "
      ]
     },
     "execution_count": 181,
     "metadata": {},
     "output_type": "execute_result"
    }
   ],
   "source": [
    "data2[data2['title'] == 'Ghost']"
   ]
  },
  {
   "cell_type": "code",
   "execution_count": 173,
   "id": "c380c102-c65c-427a-ac67-d46a532fe319",
   "metadata": {},
   "outputs": [],
   "source": [
    "# data.to_csv('dirty_df_anew')"
   ]
  },
  {
   "cell_type": "code",
   "execution_count": 183,
   "id": "ef4a6b8c-f0fe-4187-9552-6ca977e7ffaf",
   "metadata": {},
   "outputs": [],
   "source": [
    "data2.to_csv('dirty_df.csv')"
   ]
  },
  {
   "cell_type": "code",
   "execution_count": 186,
   "id": "8fe8a179-ba59-4ce3-86f7-b32c299c4d6f",
   "metadata": {},
   "outputs": [],
   "source": [
    "release_date = df4[['release_date', 'id']]"
   ]
  },
  {
   "cell_type": "code",
   "execution_count": 187,
   "id": "ee0df7ac-36c4-428c-b5df-84bf8cb8f25e",
   "metadata": {},
   "outputs": [
    {
     "data": {
      "text/html": [
       "<div><div id=5a550e7c-c226-4a95-ba32-076f27047249 style=\"display:none; background-color:#9D6CFF; color:white; width:200px; height:30px; padding-left:5px; border-radius:4px; flex-direction:row; justify-content:space-around; align-items:center;\" onmouseover=\"this.style.backgroundColor='#BA9BF8'\" onmouseout=\"this.style.backgroundColor='#9D6CFF'\" onclick=\"window.commands?.execute('create-mitosheet-from-dataframe-output');\">See Full Dataframe in Mito</div> <script> if (window.commands?.hasCommand('create-mitosheet-from-dataframe-output')) document.getElementById('5a550e7c-c226-4a95-ba32-076f27047249').style.display = 'flex' </script> <table border=\"1\" class=\"dataframe\">\n",
       "  <thead>\n",
       "    <tr style=\"text-align: right;\">\n",
       "      <th></th>\n",
       "      <th>release_date</th>\n",
       "      <th>id</th>\n",
       "    </tr>\n",
       "  </thead>\n",
       "  <tbody>\n",
       "    <tr>\n",
       "      <th>0</th>\n",
       "      <td>1995-10-30</td>\n",
       "      <td>862</td>\n",
       "    </tr>\n",
       "    <tr>\n",
       "      <th>1</th>\n",
       "      <td>1995-12-15</td>\n",
       "      <td>8844</td>\n",
       "    </tr>\n",
       "    <tr>\n",
       "      <th>2</th>\n",
       "      <td>1995-12-22</td>\n",
       "      <td>15602</td>\n",
       "    </tr>\n",
       "    <tr>\n",
       "      <th>3</th>\n",
       "      <td>1995-12-22</td>\n",
       "      <td>31357</td>\n",
       "    </tr>\n",
       "    <tr>\n",
       "      <th>4</th>\n",
       "      <td>1995-02-10</td>\n",
       "      <td>11862</td>\n",
       "    </tr>\n",
       "    <tr>\n",
       "      <th>...</th>\n",
       "      <td>...</td>\n",
       "      <td>...</td>\n",
       "    </tr>\n",
       "    <tr>\n",
       "      <th>45461</th>\n",
       "      <td>NaN</td>\n",
       "      <td>439050</td>\n",
       "    </tr>\n",
       "    <tr>\n",
       "      <th>45462</th>\n",
       "      <td>2011-11-17</td>\n",
       "      <td>111109</td>\n",
       "    </tr>\n",
       "    <tr>\n",
       "      <th>45463</th>\n",
       "      <td>2003-08-01</td>\n",
       "      <td>67758</td>\n",
       "    </tr>\n",
       "    <tr>\n",
       "      <th>45464</th>\n",
       "      <td>1917-10-21</td>\n",
       "      <td>227506</td>\n",
       "    </tr>\n",
       "    <tr>\n",
       "      <th>45465</th>\n",
       "      <td>2017-06-09</td>\n",
       "      <td>461257</td>\n",
       "    </tr>\n",
       "  </tbody>\n",
       "</table></div>"
      ],
      "text/plain": [
       "      release_date      id\n",
       "0       1995-10-30     862\n",
       "1       1995-12-15    8844\n",
       "2       1995-12-22   15602\n",
       "3       1995-12-22   31357\n",
       "4       1995-02-10   11862\n",
       "...            ...     ...\n",
       "45461          NaN  439050\n",
       "45462   2011-11-17  111109\n",
       "45463   2003-08-01   67758\n",
       "45464   1917-10-21  227506\n",
       "45465   2017-06-09  461257\n",
       "\n",
       "[45460 rows x 2 columns]"
      ]
     },
     "execution_count": 187,
     "metadata": {},
     "output_type": "execute_result"
    }
   ],
   "source": [
    "release_date"
   ]
  },
  {
   "cell_type": "code",
   "execution_count": 189,
   "id": "90538c6a-2d0b-4784-a7c5-2639c8558d5d",
   "metadata": {},
   "outputs": [],
   "source": [
    "data2 = data2.merge(release_date, on='id')"
   ]
  },
  {
   "cell_type": "code",
   "execution_count": 190,
   "id": "fb7c3641-7857-402d-bcac-f4917d76fcbb",
   "metadata": {},
   "outputs": [],
   "source": [
    "data2.to_csv('dirty_df.csv')"
   ]
  },
  {
   "cell_type": "code",
   "execution_count": 125,
   "id": "700ef8b7-0ac9-4fe6-91af-5921e27dc707",
   "metadata": {},
   "outputs": [],
   "source": [
    "def acquire_data_new(use_cache=True):\n",
    "    \"\"\"\n",
    "    Note, this docstring needs to be properly written, \n",
    "    but right now it is most important to know that links.csv is hashed out because \n",
    "    to me it seems useless. Maybe there is some utility though, which we can explore later. \n",
    "    As for ratings.csv, it is excluded due to the problems it will cause in my recent\n",
    "    attempts to merge it. This is, as such, not necessarily a complete acquire, but one that will\n",
    "    get us through Tuesday. \n",
    "    \"\"\"\n",
    "    # If the cached parameter is True, read the csv file on disk in the same folder as this file \n",
    "    if os.path.exists('dirty_df.csv') and use_cache:\n",
    "        print('Using cached CSV')\n",
    "        return pd.read_csv('dirty_df.csv')\n",
    "\n",
    "    # When there's no cached csv, read the following query from Codeup's SQL database.\n",
    "    print('CSV not detected.')\n",
    "    print('Checking to s.')\n",
    "    \n",
    "    df = pd.read_csv('credits.csv')\n",
    "    df2 = pd.read_csv('movies_metadata.csv')\n",
    "    \n",
    "    # set index as id\n",
    "    df = df.set_index('id')\n",
    "    # use UDF to get top 3 actors and the number of actors who appear \n",
    "    parsed_cast = df['cast'].apply(parse_cast)\n",
    "    # merge those names with the original df\n",
    "    df= df.merge(parsed_cast, on='id')\n",
    "    # extract cast members (actors and actressess) from the nested dictionary.\n",
    "    df['cast'] = df['cast'].apply(lambda x: ' '.join([i['name'].replace(' ', '') for i in eval(x)]))\n",
    "    # extract crew members (directors et cetera) from the nested dictionary.\n",
    "    df['crew'] = df['crew'].apply(lambda x: ' '.join([i['name'].replace(' ', '') for i in eval(x)]))\n",
    "    \n",
    "    # drop the nas in order to permit the subsequent numeric conversions\n",
    "    df2 = df2.dropna(subset=['title'])\n",
    "     # convert from object to a numeric data type\n",
    "    df2['popularity'] = pd.to_numeric(df2['popularity'])\n",
    "    # convert from object to a numeric data type\n",
    "    df2['budget'] = pd.to_numeric(df2['budget'])\n",
    "    # extract production companies from the nested dictionary.\n",
    "    df2['production_companies'] = df2['production_companies']\\\n",
    "    .apply(lambda x: ' '.join([i['name'].replace(' ', '') for i in eval(x)]))\n",
    "    # extract production countries from the nested dictionary.\n",
    "    df2['production_countries'] = df2['production_countries']\\\n",
    "    .apply(lambda x: ' '.join([i['name'].replace(' ', '') for i in eval(x)]))\n",
    "    # weird instances that make conversion impossible\n",
    "    df2 = df2[df2['id'] != '1997-08-20']\n",
    "    df2 = df2[df2['id'] != '2012-09-29']\n",
    "    df2 = df2[df2['id'] != '2014-01-01']\n",
    "    df2['id'] = df2['id'].astype(int)\n",
    "    \n",
    "    df_new = df2.merge(df,on='id')\n",
    "    \n",
    "    # fixes instances of id duplication\n",
    "    cnt = df_new.id.value_counts()\n",
    "    v = cnt[cnt == 1].index.values\n",
    "    test = df_new.query(\"id in @v\")\n",
    "    data = test.copy()\n",
    "    # removes instances of tv-movies and re-releases, whereby nothing was recorded for revenue.\n",
    "    # consequently removes many duplicate releases (parts of collections, etc) that were barely reviewed\n",
    "    data = data[data['revenue'] >=1]\n",
    "    # creates a csv \n",
    "    data.to_csv('dirty_df.csv')\n",
    "    \n",
    "    return data"
   ]
  },
  {
   "cell_type": "code",
   "execution_count": 126,
   "id": "5301c22f-813d-4704-adea-4fa8e2141e0a",
   "metadata": {},
   "outputs": [
    {
     "name": "stdout",
     "output_type": "stream",
     "text": [
      "CSV not detected.\n",
      "Checking to s.\n"
     ]
    },
    {
     "name": "stderr",
     "output_type": "stream",
     "text": [
      "/var/folders/qn/sd1_3x2j4196db03067vql600000gn/T/ipykernel_9126/1580959952.py:1: DtypeWarning: Columns (10) have mixed types.Specify dtype option on import or set low_memory=False.\n",
      "  df = acquire_data_new()\n"
     ]
    }
   ],
   "source": [
    "df = acquire_data_new()"
   ]
  },
  {
   "cell_type": "code",
   "execution_count": 128,
   "id": "9e125c04-f7d3-4448-9115-5b520acb259d",
   "metadata": {},
   "outputs": [
    {
     "data": {
      "text/plain": [
       "(7388, 30)"
      ]
     },
     "execution_count": 128,
     "metadata": {},
     "output_type": "execute_result"
    }
   ],
   "source": [
    "df.shape"
   ]
  },
  {
   "cell_type": "code",
   "execution_count": null,
   "id": "9bc45b10-d104-4725-a49d-96b288c10e45",
   "metadata": {},
   "outputs": [],
   "source": []
  }
 ],
 "metadata": {
  "kernelspec": {
   "display_name": "Python 3 (ipykernel)",
   "language": "python",
   "name": "python3"
  },
  "language_info": {
   "codemirror_mode": {
    "name": "ipython",
    "version": 3
   },
   "file_extension": ".py",
   "mimetype": "text/x-python",
   "name": "python",
   "nbconvert_exporter": "python",
   "pygments_lexer": "ipython3",
   "version": "3.9.7"
  }
 },
 "nbformat": 4,
 "nbformat_minor": 5
}
