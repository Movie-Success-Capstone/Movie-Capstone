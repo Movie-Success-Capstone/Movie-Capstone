{
 "cells": [
  {
   "cell_type": "code",
   "execution_count": 1,
   "id": "4d092308-93c3-4d9e-8524-533739959399",
   "metadata": {},
   "outputs": [],
   "source": [
    "import pandas as pd"
   ]
  },
  {
   "cell_type": "code",
   "execution_count": 123,
   "id": "6008934d-bf0d-436f-91c1-517125a98a9a",
   "metadata": {},
   "outputs": [],
   "source": [
    "df = pd.read_csv('keywords.csv')"
   ]
  },
  {
   "cell_type": "code",
   "execution_count": 4,
   "id": "2a874ed5-bf9c-42e7-b5cf-653bc9029d9d",
   "metadata": {},
   "outputs": [
    {
     "data": {
      "text/html": [
       "<div><div id=9eb9d7ea-f043-49df-b94d-94dbce6b6e14 style=\"display:none; background-color:#9D6CFF; color:white; width:200px; height:30px; padding-left:5px; border-radius:4px; flex-direction:row; justify-content:space-around; align-items:center;\" onmouseover=\"this.style.backgroundColor='#BA9BF8'\" onmouseout=\"this.style.backgroundColor='#9D6CFF'\" onclick=\"window.commands?.execute('create-mitosheet-from-dataframe-output');\">See Full Dataframe in Mito</div> <script> if (window.commands?.hasCommand('create-mitosheet-from-dataframe-output')) document.getElementById('9eb9d7ea-f043-49df-b94d-94dbce6b6e14').style.display = 'flex' </script> <table border=\"1\" class=\"dataframe\">\n",
       "  <thead>\n",
       "    <tr style=\"text-align: right;\">\n",
       "      <th></th>\n",
       "      <th>id</th>\n",
       "      <th>keywords</th>\n",
       "    </tr>\n",
       "  </thead>\n",
       "  <tbody>\n",
       "    <tr>\n",
       "      <th>0</th>\n",
       "      <td>862</td>\n",
       "      <td>[{'id': 931, 'name': 'jealousy'}, {'id': 4290, 'name': 'toy'}, {'id': 5202, 'name': 'boy'}, {'id': 6054, 'name': 'friendship'}, {'id': 9713, 'name': 'friends'}, {'id': 9823, 'name': 'rivalry'}, {'id': 165503, 'name': 'boy next door'}, {'id': 170722, 'name': 'new toy'}, {'id': 187065, 'name': 'toy comes to life'}]</td>\n",
       "    </tr>\n",
       "    <tr>\n",
       "      <th>1</th>\n",
       "      <td>8844</td>\n",
       "      <td>[{'id': 10090, 'name': 'board game'}, {'id': 10941, 'name': 'disappearance'}, {'id': 15101, 'name': \"based on children's book\"}, {'id': 33467, 'name': 'new home'}, {'id': 158086, 'name': 'recluse'}, {'id': 158091, 'name': 'giant insect'}]</td>\n",
       "    </tr>\n",
       "    <tr>\n",
       "      <th>2</th>\n",
       "      <td>15602</td>\n",
       "      <td>[{'id': 1495, 'name': 'fishing'}, {'id': 12392, 'name': 'best friend'}, {'id': 179431, 'name': 'duringcreditsstinger'}, {'id': 208510, 'name': 'old men'}]</td>\n",
       "    </tr>\n",
       "    <tr>\n",
       "      <th>3</th>\n",
       "      <td>31357</td>\n",
       "      <td>[{'id': 818, 'name': 'based on novel'}, {'id': 10131, 'name': 'interracial relationship'}, {'id': 14768, 'name': 'single mother'}, {'id': 15160, 'name': 'divorce'}, {'id': 33455, 'name': 'chick flick'}]</td>\n",
       "    </tr>\n",
       "    <tr>\n",
       "      <th>4</th>\n",
       "      <td>11862</td>\n",
       "      <td>[{'id': 1009, 'name': 'baby'}, {'id': 1599, 'name': 'midlife crisis'}, {'id': 2246, 'name': 'confidence'}, {'id': 4995, 'name': 'aging'}, {'id': 5600, 'name': 'daughter'}, {'id': 10707, 'name': 'mother daughter relationship'}, {'id': 13149, 'name': 'pregnancy'}, {'id': 33358, 'name': 'contraception'}, {'id': 170521, 'name': 'gynecologist'}]</td>\n",
       "    </tr>\n",
       "    <tr>\n",
       "      <th>...</th>\n",
       "      <td>...</td>\n",
       "      <td>...</td>\n",
       "    </tr>\n",
       "    <tr>\n",
       "      <th>46414</th>\n",
       "      <td>439050</td>\n",
       "      <td>[{'id': 10703, 'name': 'tragic love'}]</td>\n",
       "    </tr>\n",
       "    <tr>\n",
       "      <th>46415</th>\n",
       "      <td>111109</td>\n",
       "      <td>[{'id': 2679, 'name': 'artist'}, {'id': 14531, 'name': 'play'}, {'id': 215397, 'name': 'pinoy'}]</td>\n",
       "    </tr>\n",
       "    <tr>\n",
       "      <th>46416</th>\n",
       "      <td>67758</td>\n",
       "      <td>[]</td>\n",
       "    </tr>\n",
       "    <tr>\n",
       "      <th>46417</th>\n",
       "      <td>227506</td>\n",
       "      <td>[]</td>\n",
       "    </tr>\n",
       "    <tr>\n",
       "      <th>46418</th>\n",
       "      <td>461257</td>\n",
       "      <td>[]</td>\n",
       "    </tr>\n",
       "  </tbody>\n",
       "</table></div>"
      ],
      "text/plain": [
       "           id                                           keywords\n",
       "0         862  [{'id': 931, 'name': 'jealousy'}, {'id': 4290,...\n",
       "1        8844  [{'id': 10090, 'name': 'board game'}, {'id': 1...\n",
       "2       15602  [{'id': 1495, 'name': 'fishing'}, {'id': 12392...\n",
       "3       31357  [{'id': 818, 'name': 'based on novel'}, {'id':...\n",
       "4       11862  [{'id': 1009, 'name': 'baby'}, {'id': 1599, 'n...\n",
       "...       ...                                                ...\n",
       "46414  439050             [{'id': 10703, 'name': 'tragic love'}]\n",
       "46415  111109  [{'id': 2679, 'name': 'artist'}, {'id': 14531,...\n",
       "46416   67758                                                 []\n",
       "46417  227506                                                 []\n",
       "46418  461257                                                 []\n",
       "\n",
       "[46419 rows x 2 columns]"
      ]
     },
     "execution_count": 4,
     "metadata": {},
     "output_type": "execute_result"
    }
   ],
   "source": [
    "df"
   ]
  },
  {
   "cell_type": "code",
   "execution_count": 5,
   "id": "d9793738-f906-498f-a2a8-0ed6acb20b97",
   "metadata": {},
   "outputs": [],
   "source": [
    "df2 = pd.read_csv('credits.csv')"
   ]
  },
  {
   "cell_type": "code",
   "execution_count": 73,
   "id": "7abffa04-9324-4b84-b171-2004f1925471",
   "metadata": {},
   "outputs": [
    {
     "data": {
      "text/html": [
       "<div><div id=961da0d7-f40f-4a3c-ae01-cf14250ad94b style=\"display:none; background-color:#9D6CFF; color:white; width:200px; height:30px; padding-left:5px; border-radius:4px; flex-direction:row; justify-content:space-around; align-items:center;\" onmouseover=\"this.style.backgroundColor='#BA9BF8'\" onmouseout=\"this.style.backgroundColor='#9D6CFF'\" onclick=\"window.commands?.execute('create-mitosheet-from-dataframe-output');\">See Full Dataframe in Mito</div> <script> if (window.commands?.hasCommand('create-mitosheet-from-dataframe-output')) document.getElementById('961da0d7-f40f-4a3c-ae01-cf14250ad94b').style.display = 'flex' </script> <table border=\"1\" class=\"dataframe\">\n",
       "  <thead>\n",
       "    <tr style=\"text-align: right;\">\n",
       "      <th></th>\n",
       "      <th>cast</th>\n",
       "      <th>crew</th>\n",
       "      <th>id</th>\n",
       "    </tr>\n",
       "  </thead>\n",
       "  <tbody>\n",
       "    <tr>\n",
       "      <th>0</th>\n",
       "      <td>TomHanks TimAllen DonRickles JimVarney WallaceShawn JohnRatzenberger AnniePotts JohnMorris ErikvonDetten LaurieMetcalf R.LeeErmey SarahFreeman PennJillette</td>\n",
       "      <td>JohnLasseter JossWhedon AndrewStanton JoelCohen AlecSokolow BonnieArnold EdCatmull RalphGuggenheim SteveJobs LeeUnkrich RalphEggleston RobertGordon MaryHelenLeasman KimBlanchette MarilynMcCoppen RandyNewman DaleE.Grahn RobinCooper JohnLasseter PeteDocter JoeRanft PatsyBouge NormDeCarlo AshBrannon RandyNewman RomanFigun DonDavis JamesFlamberg MaryBethSmith RickMackay SusanBradley WilliamReeves RandyNewman AndrewStanton PeteDocter GaryRydstrom KarenRobertJackson ChrisMontan RichQuade MichaelBerenstein ColinBrady DaveyCrockettFeiten AngieGlocka RexGrignon TomK.Gurney JimmyHayward HalT.Hickel KarenKiser AnthonyB.LaMolinara GuionneLeroy BudLuckey LesMajor GlennMcQueen MarkOftedal JeffPidgeon JeffPratt SteveRabatich RogerRose SteveSegal DougSheppeck AlanSperling DougSweetland DavidTart KenWillard ThomasPorter MarkThomasHenne OrenJacob DarwynPeachey MitchPrater BrianM.Rosen SharonCalahan GalynSusman WilliamCone ShelleyDanielsLekven BobPauley BudLuckey AndrewStanton WilliamCone SteveJohnson DanHaskett TomHolloway JeanGillmore DesiréeMourad KellyO'Connell SonokoKonishi AnnM.Rockwell JulieM.McDonald RobinLee TomFreeman AdaCochavi DanaMulligan DeirdreMorrison LoriLombardo EllenDevine LaurenBethStrogoff GaryRydstrom GarySummers TimHolland PatJackson TomMyers J.R.Grubbs SusanSanford SusanPopovic DanEngstrom RuthLambert MickieMcGowan</td>\n",
       "      <td>862</td>\n",
       "    </tr>\n",
       "  </tbody>\n",
       "</table></div>"
      ],
      "text/plain": [
       "                                                cast  \\\n",
       "0  TomHanks TimAllen DonRickles JimVarney Wallace...   \n",
       "\n",
       "                                                crew   id  \n",
       "0  JohnLasseter JossWhedon AndrewStanton JoelCohe...  862  "
      ]
     },
     "execution_count": 73,
     "metadata": {},
     "output_type": "execute_result"
    }
   ],
   "source": [
    "df2.head(1)"
   ]
  },
  {
   "cell_type": "code",
   "execution_count": 8,
   "id": "fad9206d-3207-4d10-ad8e-4157b23297e2",
   "metadata": {},
   "outputs": [],
   "source": [
    "df3 = pd.read_csv('links.csv')"
   ]
  },
  {
   "cell_type": "code",
   "execution_count": 72,
   "id": "9addf637-8f92-4301-ad4b-5c0f1b193f45",
   "metadata": {},
   "outputs": [
    {
     "data": {
      "text/html": [
       "<div><div id=092f600b-aac2-4092-be91-bc211997756b style=\"display:none; background-color:#9D6CFF; color:white; width:200px; height:30px; padding-left:5px; border-radius:4px; flex-direction:row; justify-content:space-around; align-items:center;\" onmouseover=\"this.style.backgroundColor='#BA9BF8'\" onmouseout=\"this.style.backgroundColor='#9D6CFF'\" onclick=\"window.commands?.execute('create-mitosheet-from-dataframe-output');\">See Full Dataframe in Mito</div> <script> if (window.commands?.hasCommand('create-mitosheet-from-dataframe-output')) document.getElementById('092f600b-aac2-4092-be91-bc211997756b').style.display = 'flex' </script> <table border=\"1\" class=\"dataframe\">\n",
       "  <thead>\n",
       "    <tr style=\"text-align: right;\">\n",
       "      <th></th>\n",
       "      <th>movieId</th>\n",
       "      <th>imdbId</th>\n",
       "      <th>tmdbId</th>\n",
       "    </tr>\n",
       "  </thead>\n",
       "  <tbody>\n",
       "    <tr>\n",
       "      <th>0</th>\n",
       "      <td>1</td>\n",
       "      <td>114709</td>\n",
       "      <td>862.0</td>\n",
       "    </tr>\n",
       "    <tr>\n",
       "      <th>1</th>\n",
       "      <td>2</td>\n",
       "      <td>113497</td>\n",
       "      <td>8844.0</td>\n",
       "    </tr>\n",
       "    <tr>\n",
       "      <th>2</th>\n",
       "      <td>3</td>\n",
       "      <td>113228</td>\n",
       "      <td>15602.0</td>\n",
       "    </tr>\n",
       "    <tr>\n",
       "      <th>3</th>\n",
       "      <td>4</td>\n",
       "      <td>114885</td>\n",
       "      <td>31357.0</td>\n",
       "    </tr>\n",
       "    <tr>\n",
       "      <th>4</th>\n",
       "      <td>5</td>\n",
       "      <td>113041</td>\n",
       "      <td>11862.0</td>\n",
       "    </tr>\n",
       "    <tr>\n",
       "      <th>...</th>\n",
       "      <td>...</td>\n",
       "      <td>...</td>\n",
       "      <td>...</td>\n",
       "    </tr>\n",
       "    <tr>\n",
       "      <th>45838</th>\n",
       "      <td>176269</td>\n",
       "      <td>6209470</td>\n",
       "      <td>439050.0</td>\n",
       "    </tr>\n",
       "    <tr>\n",
       "      <th>45839</th>\n",
       "      <td>176271</td>\n",
       "      <td>2028550</td>\n",
       "      <td>111109.0</td>\n",
       "    </tr>\n",
       "    <tr>\n",
       "      <th>45840</th>\n",
       "      <td>176273</td>\n",
       "      <td>303758</td>\n",
       "      <td>67758.0</td>\n",
       "    </tr>\n",
       "    <tr>\n",
       "      <th>45841</th>\n",
       "      <td>176275</td>\n",
       "      <td>8536</td>\n",
       "      <td>227506.0</td>\n",
       "    </tr>\n",
       "    <tr>\n",
       "      <th>45842</th>\n",
       "      <td>176279</td>\n",
       "      <td>6980792</td>\n",
       "      <td>461257.0</td>\n",
       "    </tr>\n",
       "  </tbody>\n",
       "</table></div>"
      ],
      "text/plain": [
       "       movieId   imdbId    tmdbId\n",
       "0            1   114709     862.0\n",
       "1            2   113497    8844.0\n",
       "2            3   113228   15602.0\n",
       "3            4   114885   31357.0\n",
       "4            5   113041   11862.0\n",
       "...        ...      ...       ...\n",
       "45838   176269  6209470  439050.0\n",
       "45839   176271  2028550  111109.0\n",
       "45840   176273   303758   67758.0\n",
       "45841   176275     8536  227506.0\n",
       "45842   176279  6980792  461257.0\n",
       "\n",
       "[45843 rows x 3 columns]"
      ]
     },
     "execution_count": 72,
     "metadata": {},
     "output_type": "execute_result"
    }
   ],
   "source": [
    "df3 # this wont be useful as the imdbid doesn't match the dataset we were working with recently. "
   ]
  },
  {
   "cell_type": "code",
   "execution_count": 9,
   "id": "1c66c064-561c-4f16-9301-508a7f8dcf2a",
   "metadata": {},
   "outputs": [
    {
     "name": "stderr",
     "output_type": "stream",
     "text": [
      "/usr/local/anaconda3/lib/python3.9/site-packages/IPython/core/interactiveshell.py:3444: DtypeWarning: Columns (10) have mixed types.Specify dtype option on import or set low_memory=False.\n",
      "  exec(code_obj, self.user_global_ns, self.user_ns)\n"
     ]
    }
   ],
   "source": [
    "df4 = pd.read_csv('movies_metadata.csv')"
   ]
  },
  {
   "cell_type": "code",
   "execution_count": 10,
   "id": "979dd22f-13c7-42cd-a8b8-d8666bb7f976",
   "metadata": {},
   "outputs": [],
   "source": [
    "df5 = pd.read_csv('ratings.csv')"
   ]
  },
  {
   "cell_type": "code",
   "execution_count": 22,
   "id": "1e2a0af2-56a7-40d7-9f66-fc1a782854c6",
   "metadata": {},
   "outputs": [
    {
     "name": "stdout",
     "output_type": "stream",
     "text": [
      " df shape: (46419, 2) | column names: Index(['id', 'keywords'], dtype='object')\n",
      "\n",
      " df2 shape: (45476, 3) | column names: Index(['cast', 'crew', 'id'], dtype='object')\n",
      "\n",
      " df3 shape: (45843, 3) | column names: Index(['movieId', 'imdbId', 'tmdbId'], dtype='object')\n",
      "\n",
      " df4 shape: (45466, 24) | column names: Index(['adult', 'belongs_to_collection', 'budget', 'genres', 'homepage', 'id',\n",
      "       'imdb_id', 'original_language', 'original_title', 'overview',\n",
      "       'popularity', 'poster_path', 'production_companies',\n",
      "       'production_countries', 'release_date', 'revenue', 'runtime',\n",
      "       'spoken_languages', 'status', 'tagline', 'title', 'video',\n",
      "       'vote_average', 'vote_count'],\n",
      "      dtype='object')\n",
      "\n",
      " df5 shape: (26024289, 4) | column names: Index(['userId', 'movieId', 'rating', 'timestamp'], dtype='object')\n"
     ]
    }
   ],
   "source": [
    "print(f' df shape: {df.shape} | column names: {df.columns}')\n",
    "print('')\n",
    "print(f' df2 shape: {df2.shape} | column names: {df2.columns}')\n",
    "print('')\n",
    "print(f' df3 shape: {df3.shape} | column names: {df3.columns}')\n",
    "print('')\n",
    "print(f' df4 shape: {df4.shape} | column names: {df4.columns}')\n",
    "print('')\n",
    "print(f' df5 shape: {df5.shape} | column names: {df5.columns}')"
   ]
  },
  {
   "cell_type": "code",
   "execution_count": 124,
   "id": "0cdc8de8-cd16-4d05-9ceb-36f89ed3e828",
   "metadata": {},
   "outputs": [],
   "source": [
    "df['keywords'] = df['keywords'].apply(lambda x: ' '.join([i['name'] for i in eval(x)]))"
   ]
  },
  {
   "cell_type": "code",
   "execution_count": 34,
   "id": "641e20bb-e910-4912-87b9-53e76e89f2fe",
   "metadata": {},
   "outputs": [
    {
     "data": {
      "text/html": [
       "<div><div id=759f5f59-dd7c-4061-a617-1cdced5b2c73 style=\"display:none; background-color:#9D6CFF; color:white; width:200px; height:30px; padding-left:5px; border-radius:4px; flex-direction:row; justify-content:space-around; align-items:center;\" onmouseover=\"this.style.backgroundColor='#BA9BF8'\" onmouseout=\"this.style.backgroundColor='#9D6CFF'\" onclick=\"window.commands?.execute('create-mitosheet-from-dataframe-output');\">See Full Dataframe in Mito</div> <script> if (window.commands?.hasCommand('create-mitosheet-from-dataframe-output')) document.getElementById('759f5f59-dd7c-4061-a617-1cdced5b2c73').style.display = 'flex' </script> <table border=\"1\" class=\"dataframe\">\n",
       "  <thead>\n",
       "    <tr style=\"text-align: right;\">\n",
       "      <th></th>\n",
       "      <th>id</th>\n",
       "      <th>keywords</th>\n",
       "    </tr>\n",
       "  </thead>\n",
       "  <tbody>\n",
       "    <tr>\n",
       "      <th>0</th>\n",
       "      <td>862</td>\n",
       "      <td>jealousy toy boy friendship friends rivalry boy next door new toy toy comes to life</td>\n",
       "    </tr>\n",
       "    <tr>\n",
       "      <th>1</th>\n",
       "      <td>8844</td>\n",
       "      <td>board game disappearance based on children's book new home recluse giant insect</td>\n",
       "    </tr>\n",
       "    <tr>\n",
       "      <th>2</th>\n",
       "      <td>15602</td>\n",
       "      <td>fishing best friend duringcreditsstinger old men</td>\n",
       "    </tr>\n",
       "    <tr>\n",
       "      <th>3</th>\n",
       "      <td>31357</td>\n",
       "      <td>based on novel interracial relationship single mother divorce chick flick</td>\n",
       "    </tr>\n",
       "    <tr>\n",
       "      <th>4</th>\n",
       "      <td>11862</td>\n",
       "      <td>baby midlife crisis confidence aging daughter mother daughter relationship pregnancy contraception gynecologist</td>\n",
       "    </tr>\n",
       "    <tr>\n",
       "      <th>...</th>\n",
       "      <td>...</td>\n",
       "      <td>...</td>\n",
       "    </tr>\n",
       "    <tr>\n",
       "      <th>46414</th>\n",
       "      <td>439050</td>\n",
       "      <td>tragic love</td>\n",
       "    </tr>\n",
       "    <tr>\n",
       "      <th>46415</th>\n",
       "      <td>111109</td>\n",
       "      <td>artist play pinoy</td>\n",
       "    </tr>\n",
       "    <tr>\n",
       "      <th>46416</th>\n",
       "      <td>67758</td>\n",
       "      <td></td>\n",
       "    </tr>\n",
       "    <tr>\n",
       "      <th>46417</th>\n",
       "      <td>227506</td>\n",
       "      <td></td>\n",
       "    </tr>\n",
       "    <tr>\n",
       "      <th>46418</th>\n",
       "      <td>461257</td>\n",
       "      <td></td>\n",
       "    </tr>\n",
       "  </tbody>\n",
       "</table></div>"
      ],
      "text/plain": [
       "           id                                           keywords\n",
       "0         862  jealousy toy boy friendship friends rivalry bo...\n",
       "1        8844  board game disappearance based on children's b...\n",
       "2       15602   fishing best friend duringcreditsstinger old men\n",
       "3       31357  based on novel interracial relationship single...\n",
       "4       11862  baby midlife crisis confidence aging daughter ...\n",
       "...       ...                                                ...\n",
       "46414  439050                                        tragic love\n",
       "46415  111109                                  artist play pinoy\n",
       "46416   67758                                                   \n",
       "46417  227506                                                   \n",
       "46418  461257                                                   \n",
       "\n",
       "[46419 rows x 2 columns]"
      ]
     },
     "execution_count": 34,
     "metadata": {},
     "output_type": "execute_result"
    }
   ],
   "source": [
    "df"
   ]
  },
  {
   "cell_type": "code",
   "execution_count": 29,
   "id": "468dcd08-9bab-422a-b82b-c54e3f937313",
   "metadata": {},
   "outputs": [],
   "source": [
    "df2['cast'] = df2['cast'].apply(lambda x: ' '.join([i['name'].replace(' ', '') for i in eval(x)]))"
   ]
  },
  {
   "cell_type": "code",
   "execution_count": 31,
   "id": "7a14ad00-8fb6-4494-b4f9-1c9b7d37c393",
   "metadata": {},
   "outputs": [],
   "source": [
    "df2['crew'] = df2['crew'].apply(lambda x: ' '.join([i['name'].replace(' ', '') for i in eval(x)]))"
   ]
  },
  {
   "cell_type": "code",
   "execution_count": 32,
   "id": "87d20e43-8755-47c6-86c4-9ef2d62cdb52",
   "metadata": {},
   "outputs": [
    {
     "data": {
      "text/html": [
       "<div><div id=f39e943d-ae37-447b-b52c-d7eda4b98e1b style=\"display:none; background-color:#9D6CFF; color:white; width:200px; height:30px; padding-left:5px; border-radius:4px; flex-direction:row; justify-content:space-around; align-items:center;\" onmouseover=\"this.style.backgroundColor='#BA9BF8'\" onmouseout=\"this.style.backgroundColor='#9D6CFF'\" onclick=\"window.commands?.execute('create-mitosheet-from-dataframe-output');\">See Full Dataframe in Mito</div> <script> if (window.commands?.hasCommand('create-mitosheet-from-dataframe-output')) document.getElementById('f39e943d-ae37-447b-b52c-d7eda4b98e1b').style.display = 'flex' </script> <table border=\"1\" class=\"dataframe\">\n",
       "  <thead>\n",
       "    <tr style=\"text-align: right;\">\n",
       "      <th></th>\n",
       "      <th>cast</th>\n",
       "      <th>crew</th>\n",
       "      <th>id</th>\n",
       "    </tr>\n",
       "  </thead>\n",
       "  <tbody>\n",
       "    <tr>\n",
       "      <th>0</th>\n",
       "      <td>TomHanks TimAllen DonRickles JimVarney WallaceShawn JohnRatzenberger AnniePotts JohnMorris ErikvonDetten LaurieMetcalf R.LeeErmey SarahFreeman PennJillette</td>\n",
       "      <td>JohnLasseter JossWhedon AndrewStanton JoelCohen AlecSokolow BonnieArnold EdCatmull RalphGuggenheim SteveJobs LeeUnkrich RalphEggleston RobertGordon MaryHelenLeasman KimBlanchette MarilynMcCoppen RandyNewman DaleE.Grahn RobinCooper JohnLasseter PeteDocter JoeRanft PatsyBouge NormDeCarlo AshBrannon RandyNewman RomanFigun DonDavis JamesFlamberg MaryBethSmith RickMackay SusanBradley WilliamReeves RandyNewman AndrewStanton PeteDocter GaryRydstrom KarenRobertJackson ChrisMontan RichQuade MichaelBerenstein ColinBrady DaveyCrockettFeiten AngieGlocka RexGrignon TomK.Gurney JimmyHayward HalT.Hickel KarenKiser AnthonyB.LaMolinara GuionneLeroy BudLuckey LesMajor GlennMcQueen MarkOftedal JeffPidgeon JeffPratt SteveRabatich RogerRose SteveSegal DougSheppeck AlanSperling DougSweetland DavidTart KenWillard ThomasPorter MarkThomasHenne OrenJacob DarwynPeachey MitchPrater BrianM.Rosen SharonCalahan GalynSusman WilliamCone ShelleyDanielsLekven BobPauley BudLuckey AndrewStanton WilliamCone SteveJohnson DanHaskett TomHolloway JeanGillmore DesiréeMourad KellyO'Connell SonokoKonishi AnnM.Rockwell JulieM.McDonald RobinLee TomFreeman AdaCochavi DanaMulligan DeirdreMorrison LoriLombardo EllenDevine LaurenBethStrogoff GaryRydstrom GarySummers TimHolland PatJackson TomMyers J.R.Grubbs SusanSanford SusanPopovic DanEngstrom RuthLambert MickieMcGowan</td>\n",
       "      <td>862</td>\n",
       "    </tr>\n",
       "    <tr>\n",
       "      <th>1</th>\n",
       "      <td>RobinWilliams JonathanHyde KirstenDunst BradleyPierce BonnieHunt BebeNeuwirth DavidAlanGrier PatriciaClarkson AdamHann-Byrd LauraBellBundy JamesHandy GillianBarber BrandonObray CyrusThiedeke GaryJosephThorup LeonardZola LloydBerry MalcolmStewart AnnabelKershaw DarrylHenriques RobynDriscoll PeterBryant SarahGilson FloricaVlad JuneLion BrendaLockmuller</td>\n",
       "      <td>LarryJ.Franco JonathanHensleigh JamesHorner JoeJohnston RobertDalva NancyFoy KyleBalda JamesD.Bissell ScottKroopf TedField RobertW.Cort ThomasE.Ackerman ChrisvanAllsburg WilliamTeitler GregTaylor JimStrain</td>\n",
       "      <td>8844</td>\n",
       "    </tr>\n",
       "    <tr>\n",
       "      <th>2</th>\n",
       "      <td>WalterMatthau JackLemmon Ann-Margret SophiaLoren DarylHannah BurgessMeredith KevinPollak</td>\n",
       "      <td>HowardDeutch MarkStevenJohnson MarkStevenJohnson JackKeller</td>\n",
       "      <td>15602</td>\n",
       "    </tr>\n",
       "    <tr>\n",
       "      <th>3</th>\n",
       "      <td>WhitneyHouston AngelaBassett LorettaDevine LelaRochon GregoryHines DennisHaysbert MichaelBeach MykeltiWilliamson LamontJohnson WesleySnipes</td>\n",
       "      <td>ForestWhitaker RonaldBass RonaldBass EzraSwerdlow DeborahSchindler TerryMcMillan TerryMcMillan TerryMcMillan KennethEdmonds CaronK</td>\n",
       "      <td>31357</td>\n",
       "    </tr>\n",
       "    <tr>\n",
       "      <th>4</th>\n",
       "      <td>SteveMartin DianeKeaton MartinShort KimberlyWilliams-Paisley GeorgeNewbern KieranCulkin BDWong PeterMichaelGoetz KateMcGregor-Stewart JaneAdams EugeneLevy LoriAlan</td>\n",
       "      <td>AlanSilvestri ElliotDavis NancyMeyers NancyMeyers AlbertHackett CharlesShyer AdamBernardi</td>\n",
       "      <td>11862</td>\n",
       "    </tr>\n",
       "    <tr>\n",
       "      <th>...</th>\n",
       "      <td>...</td>\n",
       "      <td>...</td>\n",
       "      <td>...</td>\n",
       "    </tr>\n",
       "    <tr>\n",
       "      <th>45471</th>\n",
       "      <td>LeilaHatami KouroshTahami ElhamKorda</td>\n",
       "      <td>HamidNematollah HamidNematollah FarshadMohammadi MasoumehBayat MehdiSaadi BabakArdalan AzadehGhavam SahandTorabi HomayounShajarian</td>\n",
       "      <td>439050</td>\n",
       "    </tr>\n",
       "    <tr>\n",
       "      <th>45472</th>\n",
       "      <td>AngelAquino PerryDizon HazelOrencio JoelTorre BartGuingona SolimanCruz Roeder AngeliBayani DantePerez BettyUy-Regala Modesta</td>\n",
       "      <td>LavDiaz LavDiaz DantePerez LavDiaz LavDiaz LavDiaz</td>\n",
       "      <td>111109</td>\n",
       "    </tr>\n",
       "    <tr>\n",
       "      <th>45473</th>\n",
       "      <td>ErikaEleniak AdamBaldwin JulieduPage JamesRemar DamianChapa LouisMandylor TomWright JeremyLelliott JamesQuattrochi JasonWidener JoeSabatino KikoEllsworth DonSwayze PeterDobson DarrellDubovsky</td>\n",
       "      <td>MarkL.Lester C.CourtneyJoyner JeffreyGoldenberg RichardMcHugh JoãoFernandes</td>\n",
       "      <td>67758</td>\n",
       "    </tr>\n",
       "    <tr>\n",
       "      <th>45474</th>\n",
       "      <td>IwanMosschuchin NathalieLissenko PavelPavlov AleksandrChabrov VeraOrlova</td>\n",
       "      <td>YakovProtazanov JosephN.Ermolieff</td>\n",
       "      <td>227506</td>\n",
       "    </tr>\n",
       "    <tr>\n",
       "      <th>45475</th>\n",
       "      <td></td>\n",
       "      <td>DaisyAsquith</td>\n",
       "      <td>461257</td>\n",
       "    </tr>\n",
       "  </tbody>\n",
       "</table></div>"
      ],
      "text/plain": [
       "                                                    cast  \\\n",
       "0      TomHanks TimAllen DonRickles JimVarney Wallace...   \n",
       "1      RobinWilliams JonathanHyde KirstenDunst Bradle...   \n",
       "2      WalterMatthau JackLemmon Ann-Margret SophiaLor...   \n",
       "3      WhitneyHouston AngelaBassett LorettaDevine Lel...   \n",
       "4      SteveMartin DianeKeaton MartinShort KimberlyWi...   \n",
       "...                                                  ...   \n",
       "45471               LeilaHatami KouroshTahami ElhamKorda   \n",
       "45472  AngelAquino PerryDizon HazelOrencio JoelTorre ...   \n",
       "45473  ErikaEleniak AdamBaldwin JulieduPage JamesRema...   \n",
       "45474  IwanMosschuchin NathalieLissenko PavelPavlov A...   \n",
       "45475                                                      \n",
       "\n",
       "                                                    crew      id  \n",
       "0      JohnLasseter JossWhedon AndrewStanton JoelCohe...     862  \n",
       "1      LarryJ.Franco JonathanHensleigh JamesHorner Jo...    8844  \n",
       "2      HowardDeutch MarkStevenJohnson MarkStevenJohns...   15602  \n",
       "3      ForestWhitaker RonaldBass RonaldBass EzraSwerd...   31357  \n",
       "4      AlanSilvestri ElliotDavis NancyMeyers NancyMey...   11862  \n",
       "...                                                  ...     ...  \n",
       "45471  HamidNematollah HamidNematollah FarshadMohamma...  439050  \n",
       "45472  LavDiaz LavDiaz DantePerez LavDiaz LavDiaz Lav...  111109  \n",
       "45473  MarkL.Lester C.CourtneyJoyner JeffreyGoldenber...   67758  \n",
       "45474                  YakovProtazanov JosephN.Ermolieff  227506  \n",
       "45475                                       DaisyAsquith  461257  \n",
       "\n",
       "[45476 rows x 3 columns]"
      ]
     },
     "execution_count": 32,
     "metadata": {},
     "output_type": "execute_result"
    }
   ],
   "source": [
    "df2 # cast and crew extracted."
   ]
  },
  {
   "cell_type": "code",
   "execution_count": null,
   "id": "7862599b-d213-41cc-a3f6-b0544ab1c682",
   "metadata": {},
   "outputs": [],
   "source": [
    "# to extract a value from a column with dictionary\n",
    "#df.a_column_with_a_dictionary.apply(lambda d: d['some_key'])"
   ]
  },
  {
   "cell_type": "code",
   "execution_count": 87,
   "id": "69a02d70-c5fc-4a55-beea-4b02878e625c",
   "metadata": {},
   "outputs": [
    {
     "data": {
      "text/plain": [
       "Index(['adult', 'belongs_to_collection', 'budget', 'genres', 'homepage', 'id',\n",
       "       'imdb_id', 'original_language', 'original_title', 'overview',\n",
       "       'popularity', 'poster_path', 'production_companies',\n",
       "       'production_countries', 'release_date', 'revenue', 'runtime',\n",
       "       'spoken_languages', 'status', 'tagline', 'title', 'video',\n",
       "       'vote_average', 'vote_count'],\n",
       "      dtype='object')"
      ]
     },
     "execution_count": 87,
     "metadata": {},
     "output_type": "execute_result"
    }
   ],
   "source": [
    "df4.columns"
   ]
  },
  {
   "cell_type": "code",
   "execution_count": 65,
   "id": "9ff4567e-5687-4269-b572-c71fe0bf4383",
   "metadata": {},
   "outputs": [],
   "source": [
    "df4 = df4.dropna(subset=['title'])\n",
    "df4['popularity'] = pd.to_numeric(df4['popularity'])\n",
    "df4['budget'] = pd.to_numeric(df4['budget'])\n",
    "df4['id'] = pd.to_numeric(df4['id'])"
   ]
  },
  {
   "cell_type": "code",
   "execution_count": 84,
   "id": "db9a613f-fe8b-4175-ab3a-fedc4737ec48",
   "metadata": {},
   "outputs": [],
   "source": [
    "df4['production_companies'] = df4['production_companies'].apply(lambda x: ' '.join([i['name'].replace(' ', '') for i in eval(x)]))"
   ]
  },
  {
   "cell_type": "code",
   "execution_count": 88,
   "id": "ae7503da-b62a-46cb-a3f6-6ff30c7ffccf",
   "metadata": {},
   "outputs": [],
   "source": [
    "df4['production_countries'] = df4['production_countries'].apply(lambda x: ' '.join([i['name'].replace(' ', '') for i in eval(x)]))"
   ]
  },
  {
   "cell_type": "code",
   "execution_count": 85,
   "id": "20e8a3a3-db1d-40e1-9058-f440e6351913",
   "metadata": {},
   "outputs": [
    {
     "data": {
      "text/plain": [
       "                                                                                                                                   11875\n",
       "Metro-Goldwyn-Mayer(MGM)                                                                                                             742\n",
       "WarnerBros.                                                                                                                          540\n",
       "ParamountPictures                                                                                                                    505\n",
       "TwentiethCenturyFoxFilmCorporation                                                                                                   439\n",
       "                                                                                                                                   ...  \n",
       "DimensionFilms SpectacleEntertainmentGroup TrancasInternationalFilms                                                                   1\n",
       "HBOFilms MovingPictures                                                                                                                1\n",
       "BIMDistribuzione Canal+ AltaProducción CentreNationaldelaCinématographie(CNC) RézoProductions CompagnieEricRohmer(CER) Cinémage        1\n",
       "GalatéeFilms NovoArturoFilms ConstantinFilmProduktion Pathé France2Cinéma France3Cinema LoglineStudios BlueScreenProductions           1\n",
       "Yermoliev                                                                                                                              1\n",
       "Name: production_companies, Length: 22658, dtype: int64"
      ]
     },
     "execution_count": 85,
     "metadata": {},
     "output_type": "execute_result"
    }
   ],
   "source": [
    "df4.production_companies.value_counts()"
   ]
  },
  {
   "cell_type": "code",
   "execution_count": 89,
   "id": "35665d73-3162-417a-9401-ee93ecfb7793",
   "metadata": {},
   "outputs": [
    {
     "data": {
      "text/plain": [
       "0        UnitedStatesofAmerica\n",
       "1        UnitedStatesofAmerica\n",
       "2        UnitedStatesofAmerica\n",
       "3        UnitedStatesofAmerica\n",
       "4        UnitedStatesofAmerica\n",
       "                 ...          \n",
       "45461                     Iran\n",
       "45462              Philippines\n",
       "45463    UnitedStatesofAmerica\n",
       "45464                   Russia\n",
       "45465            UnitedKingdom\n",
       "Name: production_countries, Length: 45460, dtype: object"
      ]
     },
     "execution_count": 89,
     "metadata": {},
     "output_type": "execute_result"
    }
   ],
   "source": [
    "df4.production_countries # I will worry about cleaning these later. Space between instances of capitalization would work\n",
    "# if not for 'of'. U.S. can be handled separately"
   ]
  },
  {
   "cell_type": "code",
   "execution_count": 67,
   "id": "b9593dd3-bfed-41ea-9f51-428a40db5ce6",
   "metadata": {},
   "outputs": [
    {
     "data": {
      "text/plain": [
       "0         Animation Comedy Family\n",
       "1        Adventure Fantasy Family\n",
       "2                  Romance Comedy\n",
       "3            Comedy Drama Romance\n",
       "4                          Comedy\n",
       "                   ...           \n",
       "45461                Drama Family\n",
       "45462                       Drama\n",
       "45463       Action Drama Thriller\n",
       "45464                            \n",
       "45465                            \n",
       "Name: genres, Length: 45460, dtype: object"
      ]
     },
     "execution_count": 67,
     "metadata": {},
     "output_type": "execute_result"
    }
   ],
   "source": [
    "df4.genres"
   ]
  },
  {
   "cell_type": "code",
   "execution_count": null,
   "id": "6a638682-59b7-4a39-9241-77908630629b",
   "metadata": {},
   "outputs": [],
   "source": [
    "# good enough for now, attempting to merge\n",
    "# disregarding links.csv\n",
    "\n",
    "# df = keywords.csv\n",
    "# df2 = credits.csv\n",
    "# df4 = moviemetadata.csv\n",
    "# df5 = ratings.csv"
   ]
  },
  {
   "cell_type": "code",
   "execution_count": 76,
   "id": "5b0a627e-847a-4cb9-a199-9202f3bebce7",
   "metadata": {},
   "outputs": [
    {
     "data": {
      "text/html": [
       "<div><div id=6cf2caa5-4bd5-4433-ac6c-6922d93def04 style=\"display:none; background-color:#9D6CFF; color:white; width:200px; height:30px; padding-left:5px; border-radius:4px; flex-direction:row; justify-content:space-around; align-items:center;\" onmouseover=\"this.style.backgroundColor='#BA9BF8'\" onmouseout=\"this.style.backgroundColor='#9D6CFF'\" onclick=\"window.commands?.execute('create-mitosheet-from-dataframe-output');\">See Full Dataframe in Mito</div> <script> if (window.commands?.hasCommand('create-mitosheet-from-dataframe-output')) document.getElementById('6cf2caa5-4bd5-4433-ac6c-6922d93def04').style.display = 'flex' </script> <table border=\"1\" class=\"dataframe\">\n",
       "  <thead>\n",
       "    <tr style=\"text-align: right;\">\n",
       "      <th></th>\n",
       "      <th>userId</th>\n",
       "      <th>movieId</th>\n",
       "      <th>rating</th>\n",
       "      <th>timestamp</th>\n",
       "    </tr>\n",
       "  </thead>\n",
       "  <tbody>\n",
       "    <tr>\n",
       "      <th>0</th>\n",
       "      <td>1</td>\n",
       "      <td>110</td>\n",
       "      <td>1.0</td>\n",
       "      <td>1425941529</td>\n",
       "    </tr>\n",
       "    <tr>\n",
       "      <th>1</th>\n",
       "      <td>1</td>\n",
       "      <td>147</td>\n",
       "      <td>4.5</td>\n",
       "      <td>1425942435</td>\n",
       "    </tr>\n",
       "  </tbody>\n",
       "</table></div>"
      ],
      "text/plain": [
       "   userId  movieId  rating   timestamp\n",
       "0       1      110     1.0  1425941529\n",
       "1       1      147     4.5  1425942435"
      ]
     },
     "execution_count": 76,
     "metadata": {},
     "output_type": "execute_result"
    }
   ],
   "source": [
    "df5.head(2)"
   ]
  },
  {
   "cell_type": "code",
   "execution_count": null,
   "id": "acfd8cf2-9e7c-4ef3-93bf-f376ab9beaae",
   "metadata": {},
   "outputs": [
    {
     "data": {
      "text/html": [
       "<div><div id=7df00432-b19c-41fc-be40-c5cfc33b9e25 style=\"display:none; background-color:#9D6CFF; color:white; width:200px; height:30px; padding-left:5px; border-radius:4px; flex-direction:row; justify-content:space-around; align-items:center;\" onmouseover=\"this.style.backgroundColor='#BA9BF8'\" onmouseout=\"this.style.backgroundColor='#9D6CFF'\" onclick=\"window.commands?.execute('create-mitosheet-from-dataframe-output');\">See Full Dataframe in Mito</div> <script> if (window.commands?.hasCommand('create-mitosheet-from-dataframe-output')) document.getElementById('7df00432-b19c-41fc-be40-c5cfc33b9e25').style.display = 'flex' </script> <table border=\"1\" class=\"dataframe\">\n",
       "  <thead>\n",
       "    <tr style=\"text-align: right;\">\n",
       "      <th></th>\n",
       "      <th>adult</th>\n",
       "      <th>belongs_to_collection</th>\n",
       "      <th>budget</th>\n",
       "      <th>genres</th>\n",
       "      <th>homepage</th>\n",
       "      <th>id</th>\n",
       "      <th>imdb_id</th>\n",
       "      <th>original_language</th>\n",
       "      <th>original_title</th>\n",
       "      <th>overview</th>\n",
       "      <th>...</th>\n",
       "      <th>release_date</th>\n",
       "      <th>revenue</th>\n",
       "      <th>runtime</th>\n",
       "      <th>spoken_languages</th>\n",
       "      <th>status</th>\n",
       "      <th>tagline</th>\n",
       "      <th>title</th>\n",
       "      <th>video</th>\n",
       "      <th>vote_average</th>\n",
       "      <th>vote_count</th>\n",
       "    </tr>\n",
       "  </thead>\n",
       "  <tbody>\n",
       "    <tr>\n",
       "      <th>0</th>\n",
       "      <td>False</td>\n",
       "      <td>{'id': 10194, 'name': 'Toy Story Collection', 'poster_path': '/7G9915LfUQ2lVfwMEEhDsn3kT4B.jpg', 'backdrop_path': '/9FBwqcd9IRruEDUrTdcaafOMKUq.jpg'}</td>\n",
       "      <td>30000000</td>\n",
       "      <td>Animation Comedy Family</td>\n",
       "      <td>http://toystory.disney.com/toy-story</td>\n",
       "      <td>862</td>\n",
       "      <td>tt0114709</td>\n",
       "      <td>en</td>\n",
       "      <td>Toy Story</td>\n",
       "      <td>Led by Woody, Andy's toys live happily in his room until Andy's birthday brings Buzz Lightyear onto the scene. Afraid of losing his place in Andy's heart, Woody plots against Buzz. But when circumstances separate Buzz and Woody from their owner, the duo eventually learns to put aside their differences.</td>\n",
       "      <td>...</td>\n",
       "      <td>1995-10-30</td>\n",
       "      <td>373554033.0</td>\n",
       "      <td>81.0</td>\n",
       "      <td>[{'iso_639_1': 'en', 'name': 'English'}]</td>\n",
       "      <td>Released</td>\n",
       "      <td>NaN</td>\n",
       "      <td>Toy Story</td>\n",
       "      <td>False</td>\n",
       "      <td>7.7</td>\n",
       "      <td>5415.0</td>\n",
       "    </tr>\n",
       "    <tr>\n",
       "      <th>1</th>\n",
       "      <td>False</td>\n",
       "      <td>NaN</td>\n",
       "      <td>65000000</td>\n",
       "      <td>Adventure Fantasy Family</td>\n",
       "      <td>NaN</td>\n",
       "      <td>8844</td>\n",
       "      <td>tt0113497</td>\n",
       "      <td>en</td>\n",
       "      <td>Jumanji</td>\n",
       "      <td>When siblings Judy and Peter discover an enchanted board game that opens the door to a magical world, they unwittingly invite Alan -- an adult who's been trapped inside the game for 26 years -- into their living room. Alan's only hope for freedom is to finish the game, which proves risky as all three find themselves running from giant rhinoceroses, evil monkeys and other terrifying creatures.</td>\n",
       "      <td>...</td>\n",
       "      <td>1995-12-15</td>\n",
       "      <td>262797249.0</td>\n",
       "      <td>104.0</td>\n",
       "      <td>[{'iso_639_1': 'en', 'name': 'English'}, {'iso_639_1': 'fr', 'name': 'Français'}]</td>\n",
       "      <td>Released</td>\n",
       "      <td>Roll the dice and unleash the excitement!</td>\n",
       "      <td>Jumanji</td>\n",
       "      <td>False</td>\n",
       "      <td>6.9</td>\n",
       "      <td>2413.0</td>\n",
       "    </tr>\n",
       "  </tbody>\n",
       "</table></div>"
      ],
      "text/plain": [
       "   adult                              belongs_to_collection    budget  \\\n",
       "0  False  {'id': 10194, 'name': 'Toy Story Collection', ...  30000000   \n",
       "1  False                                                NaN  65000000   \n",
       "\n",
       "                     genres                              homepage    id  \\\n",
       "0   Animation Comedy Family  http://toystory.disney.com/toy-story   862   \n",
       "1  Adventure Fantasy Family                                   NaN  8844   \n",
       "\n",
       "     imdb_id original_language original_title  \\\n",
       "0  tt0114709                en      Toy Story   \n",
       "1  tt0113497                en        Jumanji   \n",
       "\n",
       "                                            overview  ...  release_date  \\\n",
       "0  Led by Woody, Andy's toys live happily in his ...  ...    1995-10-30   \n",
       "1  When siblings Judy and Peter discover an encha...  ...    1995-12-15   \n",
       "\n",
       "       revenue runtime                                   spoken_languages  \\\n",
       "0  373554033.0    81.0           [{'iso_639_1': 'en', 'name': 'English'}]   \n",
       "1  262797249.0   104.0  [{'iso_639_1': 'en', 'name': 'English'}, {'iso...   \n",
       "\n",
       "     status                                    tagline      title  video  \\\n",
       "0  Released                                        NaN  Toy Story  False   \n",
       "1  Released  Roll the dice and unleash the excitement!    Jumanji  False   \n",
       "\n",
       "  vote_average vote_count  \n",
       "0          7.7     5415.0  \n",
       "1          6.9     2413.0  \n",
       "\n",
       "[2 rows x 24 columns]"
      ]
     },
     "execution_count": 77,
     "metadata": {},
     "output_type": "execute_result"
    }
   ],
   "source": [
    "df4.head(2)"
   ]
  },
  {
   "cell_type": "code",
   "execution_count": 81,
   "id": "c63f5cdc-e671-4470-93ed-39a11606c567",
   "metadata": {},
   "outputs": [
    {
     "data": {
      "text/plain": [
       "Index(['adult', 'belongs_to_collection', 'budget', 'genres', 'homepage', 'id',\n",
       "       'imdb_id', 'original_language', 'original_title', 'overview',\n",
       "       'popularity', 'poster_path', 'production_companies',\n",
       "       'production_countries', 'release_date', 'revenue', 'runtime',\n",
       "       'spoken_languages', 'status', 'tagline', 'title', 'video',\n",
       "       'vote_average', 'vote_count'],\n",
       "      dtype='object')"
      ]
     },
     "execution_count": 81,
     "metadata": {},
     "output_type": "execute_result"
    }
   ],
   "source": [
    "df4.columns"
   ]
  },
  {
   "cell_type": "code",
   "execution_count": 172,
   "id": "2f0bf899-b4dd-45ea-923e-a588ced3face",
   "metadata": {},
   "outputs": [
    {
     "data": {
      "text/plain": [
       "0                 [{'iso_639_1': 'en', 'name': 'English'}]\n",
       "1        [{'iso_639_1': 'en', 'name': 'English'}, {'iso...\n",
       "2                 [{'iso_639_1': 'en', 'name': 'English'}]\n",
       "3                 [{'iso_639_1': 'en', 'name': 'English'}]\n",
       "4                 [{'iso_639_1': 'en', 'name': 'English'}]\n",
       "                               ...                        \n",
       "45461               [{'iso_639_1': 'fa', 'name': 'فارسی'}]\n",
       "45462                    [{'iso_639_1': 'tl', 'name': ''}]\n",
       "45463             [{'iso_639_1': 'en', 'name': 'English'}]\n",
       "45464                                                   []\n",
       "45465             [{'iso_639_1': 'en', 'name': 'English'}]\n",
       "Name: spoken_languages, Length: 45460, dtype: object"
      ]
     },
     "execution_count": 172,
     "metadata": {},
     "output_type": "execute_result"
    }
   ],
   "source": [
    "df4.spoken_languages"
   ]
  },
  {
   "cell_type": "code",
   "execution_count": 93,
   "id": "22c57568-f7cb-49a4-b6f5-f32495000c14",
   "metadata": {},
   "outputs": [
    {
     "data": {
      "text/plain": [
       "0        7.7\n",
       "1        6.9\n",
       "2        6.5\n",
       "3        6.1\n",
       "4        5.7\n",
       "        ... \n",
       "45461    4.0\n",
       "45462    9.0\n",
       "45463    3.8\n",
       "45464    0.0\n",
       "45465    0.0\n",
       "Name: vote_average, Length: 45460, dtype: float64"
      ]
     },
     "execution_count": 93,
     "metadata": {},
     "output_type": "execute_result"
    }
   ],
   "source": [
    "df4.vote_average"
   ]
  },
  {
   "cell_type": "code",
   "execution_count": 94,
   "id": "b009df54-dcba-4a12-ba62-a06adcd707b0",
   "metadata": {},
   "outputs": [],
   "source": [
    "data = pd.merge(df5, df4[['id', 'title', 'genres', 'budget', 'overview', 'popularity', 'production_companies', 'production_countries',\n",
    "                          'revenue', 'runtime', 'vote_average', 'vote_count']], left_on='movieId', right_on='id')"
   ]
  },
  {
   "cell_type": "code",
   "execution_count": 104,
   "id": "06aa885e-594f-49bb-9dd0-40098410cd01",
   "metadata": {},
   "outputs": [
    {
     "data": {
      "text/plain": [
       "Index(['userId', 'movieId', 'rating', 'timestamp', 'id', 'title', 'genres',\n",
       "       'budget', 'overview', 'popularity', 'production_companies',\n",
       "       'production_countries', 'revenue', 'runtime', 'vote_average',\n",
       "       'vote_count'],\n",
       "      dtype='object')"
      ]
     },
     "execution_count": 104,
     "metadata": {},
     "output_type": "execute_result"
    }
   ],
   "source": [
    "data.columns"
   ]
  },
  {
   "cell_type": "code",
   "execution_count": 98,
   "id": "a6e71594-cdf7-4a01-bf43-f5271ded4fd6",
   "metadata": {},
   "outputs": [
    {
     "data": {
      "text/plain": [
       "45811     3594\n",
       "8659      3024\n",
       "179792    2578\n",
       "107720    2103\n",
       "270123    2040\n",
       "          ... \n",
       "139422       1\n",
       "146542       1\n",
       "147825       1\n",
       "22475        1\n",
       "217250       1\n",
       "Name: userId, Length: 265917, dtype: int64"
      ]
     },
     "execution_count": 98,
     "metadata": {},
     "output_type": "execute_result"
    }
   ],
   "source": [
    "data.userId.value_counts()"
   ]
  },
  {
   "cell_type": "code",
   "execution_count": 100,
   "id": "364bf3f5-6145-4848-ba75-8e8950ce30eb",
   "metadata": {},
   "outputs": [
    {
     "data": {
      "text/plain": [
       "318       91082\n",
       "296       87901\n",
       "593       84078\n",
       "260       77045\n",
       "480       74355\n",
       "          ...  \n",
       "112705        1\n",
       "32930         1\n",
       "142308        1\n",
       "173557        1\n",
       "136928        1\n",
       "Name: id, Length: 7565, dtype: int64"
      ]
     },
     "execution_count": 100,
     "metadata": {},
     "output_type": "execute_result"
    }
   ],
   "source": [
    "data.id.value_counts()"
   ]
  },
  {
   "cell_type": "code",
   "execution_count": 103,
   "id": "6915f58b-d44d-4cc1-a794-5fdf054d5bbb",
   "metadata": {},
   "outputs": [
    {
     "data": {
      "text/html": [
       "<div><div id=ec2397ae-c3e4-43e0-aa90-6408619fd6bb style=\"display:none; background-color:#9D6CFF; color:white; width:200px; height:30px; padding-left:5px; border-radius:4px; flex-direction:row; justify-content:space-around; align-items:center;\" onmouseover=\"this.style.backgroundColor='#BA9BF8'\" onmouseout=\"this.style.backgroundColor='#9D6CFF'\" onclick=\"window.commands?.execute('create-mitosheet-from-dataframe-output');\">See Full Dataframe in Mito</div> <script> if (window.commands?.hasCommand('create-mitosheet-from-dataframe-output')) document.getElementById('ec2397ae-c3e4-43e0-aa90-6408619fd6bb').style.display = 'flex' </script> <table border=\"1\" class=\"dataframe\">\n",
       "  <thead>\n",
       "    <tr style=\"text-align: right;\">\n",
       "      <th></th>\n",
       "      <th>userId</th>\n",
       "      <th>movieId</th>\n",
       "      <th>rating</th>\n",
       "      <th>timestamp</th>\n",
       "      <th>id</th>\n",
       "      <th>title</th>\n",
       "      <th>genres</th>\n",
       "      <th>budget</th>\n",
       "      <th>overview</th>\n",
       "      <th>popularity</th>\n",
       "      <th>production_companies</th>\n",
       "      <th>production_countries</th>\n",
       "      <th>revenue</th>\n",
       "      <th>runtime</th>\n",
       "      <th>vote_average</th>\n",
       "      <th>vote_count</th>\n",
       "    </tr>\n",
       "  </thead>\n",
       "  <tbody>\n",
       "    <tr>\n",
       "      <th>1565279</th>\n",
       "      <td>13147</td>\n",
       "      <td>318</td>\n",
       "      <td>5.0</td>\n",
       "      <td>901056118</td>\n",
       "      <td>318</td>\n",
       "      <td>The Million Dollar Hotel</td>\n",
       "      <td>Drama Thriller</td>\n",
       "      <td>8000000</td>\n",
       "      <td>The Million Dollar Hotel starts with a jump from a roof top that clears up a death in a hotel that was burning to the ground where a lot of strange people had been living.</td>\n",
       "      <td>4.938231</td>\n",
       "      <td>KintopPictures</td>\n",
       "      <td>UnitedStatesofAmerica Germany</td>\n",
       "      <td>0.0</td>\n",
       "      <td>122.0</td>\n",
       "      <td>5.9</td>\n",
       "      <td>76.0</td>\n",
       "    </tr>\n",
       "    <tr>\n",
       "      <th>1624115</th>\n",
       "      <td>187976</td>\n",
       "      <td>318</td>\n",
       "      <td>5.0</td>\n",
       "      <td>1451930310</td>\n",
       "      <td>318</td>\n",
       "      <td>The Million Dollar Hotel</td>\n",
       "      <td>Drama Thriller</td>\n",
       "      <td>8000000</td>\n",
       "      <td>The Million Dollar Hotel starts with a jump from a roof top that clears up a death in a hotel that was burning to the ground where a lot of strange people had been living.</td>\n",
       "      <td>4.938231</td>\n",
       "      <td>KintopPictures</td>\n",
       "      <td>UnitedStatesofAmerica Germany</td>\n",
       "      <td>0.0</td>\n",
       "      <td>122.0</td>\n",
       "      <td>5.9</td>\n",
       "      <td>76.0</td>\n",
       "    </tr>\n",
       "    <tr>\n",
       "      <th>1577993</th>\n",
       "      <td>50763</td>\n",
       "      <td>318</td>\n",
       "      <td>4.0</td>\n",
       "      <td>1447113546</td>\n",
       "      <td>318</td>\n",
       "      <td>The Million Dollar Hotel</td>\n",
       "      <td>Drama Thriller</td>\n",
       "      <td>8000000</td>\n",
       "      <td>The Million Dollar Hotel starts with a jump from a roof top that clears up a death in a hotel that was burning to the ground where a lot of strange people had been living.</td>\n",
       "      <td>4.938231</td>\n",
       "      <td>KintopPictures</td>\n",
       "      <td>UnitedStatesofAmerica Germany</td>\n",
       "      <td>0.0</td>\n",
       "      <td>122.0</td>\n",
       "      <td>5.9</td>\n",
       "      <td>76.0</td>\n",
       "    </tr>\n",
       "  </tbody>\n",
       "</table></div>"
      ],
      "text/plain": [
       "         userId  movieId  rating   timestamp   id                     title  \\\n",
       "1565279   13147      318     5.0   901056118  318  The Million Dollar Hotel   \n",
       "1624115  187976      318     5.0  1451930310  318  The Million Dollar Hotel   \n",
       "1577993   50763      318     4.0  1447113546  318  The Million Dollar Hotel   \n",
       "\n",
       "                 genres   budget  \\\n",
       "1565279  Drama Thriller  8000000   \n",
       "1624115  Drama Thriller  8000000   \n",
       "1577993  Drama Thriller  8000000   \n",
       "\n",
       "                                                  overview  popularity  \\\n",
       "1565279  The Million Dollar Hotel starts with a jump fr...    4.938231   \n",
       "1624115  The Million Dollar Hotel starts with a jump fr...    4.938231   \n",
       "1577993  The Million Dollar Hotel starts with a jump fr...    4.938231   \n",
       "\n",
       "        production_companies           production_countries  revenue  runtime  \\\n",
       "1565279       KintopPictures  UnitedStatesofAmerica Germany      0.0    122.0   \n",
       "1624115       KintopPictures  UnitedStatesofAmerica Germany      0.0    122.0   \n",
       "1577993       KintopPictures  UnitedStatesofAmerica Germany      0.0    122.0   \n",
       "\n",
       "         vote_average  vote_count  \n",
       "1565279           5.9        76.0  \n",
       "1624115           5.9        76.0  \n",
       "1577993           5.9        76.0  "
      ]
     },
     "execution_count": 103,
     "metadata": {},
     "output_type": "execute_result"
    }
   ],
   "source": [
    "data[data['id'] == 318].sample(3)"
   ]
  },
  {
   "cell_type": "markdown",
   "id": "0ad6e290-fd55-424d-a090-4edbc65f3b16",
   "metadata": {},
   "source": [
    "Ah, so similar to the last dataset, the userId (whereas last time the repeated instances of actors and actresses et cetera) is resulting in clones of the title. \n",
    "This is problematic. I do not see the value of the user ratings in particular versus the average; for right now, I will disregard the content."
   ]
  },
  {
   "cell_type": "code",
   "execution_count": 126,
   "id": "b8e5cbd7-2505-42a3-8f38-57b42251c259",
   "metadata": {},
   "outputs": [],
   "source": [
    "data = pd.merge(df2, df4[['id', 'title', 'genres', 'budget', 'overview', 'popularity', 'production_companies', 'production_countries',\n",
    "                          'revenue', 'runtime', 'vote_average', 'vote_count']], left_on='id', right_on='id')"
   ]
  },
  {
   "cell_type": "code",
   "execution_count": 128,
   "id": "f6a3f958-5e03-4f24-add6-2d8f3b367815",
   "metadata": {},
   "outputs": [
    {
     "data": {
      "text/html": [
       "<div><div id=fec80df1-e7d2-418c-a4d7-5fcd953619be style=\"display:none; background-color:#9D6CFF; color:white; width:200px; height:30px; padding-left:5px; border-radius:4px; flex-direction:row; justify-content:space-around; align-items:center;\" onmouseover=\"this.style.backgroundColor='#BA9BF8'\" onmouseout=\"this.style.backgroundColor='#9D6CFF'\" onclick=\"window.commands?.execute('create-mitosheet-from-dataframe-output');\">See Full Dataframe in Mito</div> <script> if (window.commands?.hasCommand('create-mitosheet-from-dataframe-output')) document.getElementById('fec80df1-e7d2-418c-a4d7-5fcd953619be').style.display = 'flex' </script> <table border=\"1\" class=\"dataframe\">\n",
       "  <thead>\n",
       "    <tr style=\"text-align: right;\">\n",
       "      <th></th>\n",
       "      <th>cast</th>\n",
       "      <th>crew</th>\n",
       "      <th>id</th>\n",
       "      <th>title</th>\n",
       "      <th>genres</th>\n",
       "      <th>budget</th>\n",
       "      <th>overview</th>\n",
       "      <th>popularity</th>\n",
       "      <th>production_companies</th>\n",
       "      <th>production_countries</th>\n",
       "      <th>revenue</th>\n",
       "      <th>runtime</th>\n",
       "      <th>vote_average</th>\n",
       "      <th>vote_count</th>\n",
       "    </tr>\n",
       "  </thead>\n",
       "  <tbody>\n",
       "    <tr>\n",
       "      <th>0</th>\n",
       "      <td>TomHanks TimAllen DonRickles JimVarney WallaceShawn JohnRatzenberger AnniePotts JohnMorris ErikvonDetten LaurieMetcalf R.LeeErmey SarahFreeman PennJillette</td>\n",
       "      <td>JohnLasseter JossWhedon AndrewStanton JoelCohen AlecSokolow BonnieArnold EdCatmull RalphGuggenheim SteveJobs LeeUnkrich RalphEggleston RobertGordon MaryHelenLeasman KimBlanchette MarilynMcCoppen RandyNewman DaleE.Grahn RobinCooper JohnLasseter PeteDocter JoeRanft PatsyBouge NormDeCarlo AshBrannon RandyNewman RomanFigun DonDavis JamesFlamberg MaryBethSmith RickMackay SusanBradley WilliamReeves RandyNewman AndrewStanton PeteDocter GaryRydstrom KarenRobertJackson ChrisMontan RichQuade MichaelBerenstein ColinBrady DaveyCrockettFeiten AngieGlocka RexGrignon TomK.Gurney JimmyHayward HalT.Hickel KarenKiser AnthonyB.LaMolinara GuionneLeroy BudLuckey LesMajor GlennMcQueen MarkOftedal JeffPidgeon JeffPratt SteveRabatich RogerRose SteveSegal DougSheppeck AlanSperling DougSweetland DavidTart KenWillard ThomasPorter MarkThomasHenne OrenJacob DarwynPeachey MitchPrater BrianM.Rosen SharonCalahan GalynSusman WilliamCone ShelleyDanielsLekven BobPauley BudLuckey AndrewStanton WilliamCone SteveJohnson DanHaskett TomHolloway JeanGillmore DesiréeMourad KellyO'Connell SonokoKonishi AnnM.Rockwell JulieM.McDonald RobinLee TomFreeman AdaCochavi DanaMulligan DeirdreMorrison LoriLombardo EllenDevine LaurenBethStrogoff GaryRydstrom GarySummers TimHolland PatJackson TomMyers J.R.Grubbs SusanSanford SusanPopovic DanEngstrom RuthLambert MickieMcGowan</td>\n",
       "      <td>862</td>\n",
       "      <td>Toy Story</td>\n",
       "      <td>Animation Comedy Family</td>\n",
       "      <td>30000000</td>\n",
       "      <td>Led by Woody, Andy's toys live happily in his room until Andy's birthday brings Buzz Lightyear onto the scene. Afraid of losing his place in Andy's heart, Woody plots against Buzz. But when circumstances separate Buzz and Woody from their owner, the duo eventually learns to put aside their differences.</td>\n",
       "      <td>21.946943</td>\n",
       "      <td>PixarAnimationStudios</td>\n",
       "      <td>UnitedStatesofAmerica</td>\n",
       "      <td>373554033.0</td>\n",
       "      <td>81.0</td>\n",
       "      <td>7.7</td>\n",
       "      <td>5415.0</td>\n",
       "    </tr>\n",
       "  </tbody>\n",
       "</table></div>"
      ],
      "text/plain": [
       "                                                cast  \\\n",
       "0  TomHanks TimAllen DonRickles JimVarney Wallace...   \n",
       "\n",
       "                                                crew   id      title  \\\n",
       "0  JohnLasseter JossWhedon AndrewStanton JoelCohe...  862  Toy Story   \n",
       "\n",
       "                    genres    budget  \\\n",
       "0  Animation Comedy Family  30000000   \n",
       "\n",
       "                                            overview  popularity  \\\n",
       "0  Led by Woody, Andy's toys live happily in his ...   21.946943   \n",
       "\n",
       "    production_companies   production_countries      revenue  runtime  \\\n",
       "0  PixarAnimationStudios  UnitedStatesofAmerica  373554033.0     81.0   \n",
       "\n",
       "   vote_average  vote_count  \n",
       "0           7.7      5415.0  "
      ]
     },
     "execution_count": 128,
     "metadata": {},
     "output_type": "execute_result"
    }
   ],
   "source": [
    "data.head(1)"
   ]
  },
  {
   "cell_type": "code",
   "execution_count": 129,
   "id": "0b87d02d-f830-4da8-9b01-49cd767a438c",
   "metadata": {},
   "outputs": [
    {
     "data": {
      "text/plain": [
       "False"
      ]
     },
     "execution_count": 129,
     "metadata": {},
     "output_type": "execute_result"
    }
   ],
   "source": [
    "data.id.is_unique"
   ]
  },
  {
   "cell_type": "code",
   "execution_count": 130,
   "id": "c7c0776d-af2c-42c7-9015-7eb92f7eae1c",
   "metadata": {},
   "outputs": [
    {
     "data": {
      "text/plain": [
       "141971    9\n",
       "298721    4\n",
       "5511      4\n",
       "15028     4\n",
       "13209     4\n",
       "         ..\n",
       "4180      1\n",
       "55135     1\n",
       "15877     1\n",
       "72272     1\n",
       "461257    1\n",
       "Name: id, Length: 45429, dtype: int64"
      ]
     },
     "execution_count": 130,
     "metadata": {},
     "output_type": "execute_result"
    }
   ],
   "source": [
    "data.id.value_counts()\n",
    "# at least now the number is substantially lower"
   ]
  },
  {
   "cell_type": "code",
   "execution_count": 131,
   "id": "7a5a7497-e525-450e-8f2a-bda6b924043f",
   "metadata": {},
   "outputs": [
    {
     "data": {
      "text/html": [
       "<div><div id=d7cb7ed2-2f17-41c0-832a-04adae7bacfd style=\"display:none; background-color:#9D6CFF; color:white; width:200px; height:30px; padding-left:5px; border-radius:4px; flex-direction:row; justify-content:space-around; align-items:center;\" onmouseover=\"this.style.backgroundColor='#BA9BF8'\" onmouseout=\"this.style.backgroundColor='#9D6CFF'\" onclick=\"window.commands?.execute('create-mitosheet-from-dataframe-output');\">See Full Dataframe in Mito</div> <script> if (window.commands?.hasCommand('create-mitosheet-from-dataframe-output')) document.getElementById('d7cb7ed2-2f17-41c0-832a-04adae7bacfd').style.display = 'flex' </script> <table border=\"1\" class=\"dataframe\">\n",
       "  <thead>\n",
       "    <tr style=\"text-align: right;\">\n",
       "      <th></th>\n",
       "      <th>cast</th>\n",
       "      <th>crew</th>\n",
       "      <th>id</th>\n",
       "      <th>title</th>\n",
       "      <th>genres</th>\n",
       "      <th>budget</th>\n",
       "      <th>overview</th>\n",
       "      <th>popularity</th>\n",
       "      <th>production_companies</th>\n",
       "      <th>production_countries</th>\n",
       "      <th>revenue</th>\n",
       "      <th>runtime</th>\n",
       "      <th>vote_average</th>\n",
       "      <th>vote_count</th>\n",
       "    </tr>\n",
       "  </thead>\n",
       "  <tbody>\n",
       "    <tr>\n",
       "      <th>13308</th>\n",
       "      <td>PetteriSummanen IsmoKallio EppuSalminen IrinaBjörklund Hannu-PekkaBjörkman JenniBanerjee MikkoLeppilampi LenaMeriläinen MariPerankoski RistoKaskilahti</td>\n",
       "      <td>JPSiili JPSiili</td>\n",
       "      <td>141971</td>\n",
       "      <td>Blackout</td>\n",
       "      <td>Thriller Mystery</td>\n",
       "      <td>0</td>\n",
       "      <td>Recovering from a nail gun shot to the head and 13 months of coma, doctor Pekka Valinta starts to unravel the mystery of his past, still suffering from total amnesia.</td>\n",
       "      <td>0.411949</td>\n",
       "      <td>FilmiteollisuusFine</td>\n",
       "      <td>Finland</td>\n",
       "      <td>0.0</td>\n",
       "      <td>108.0</td>\n",
       "      <td>6.7</td>\n",
       "      <td>3.0</td>\n",
       "    </tr>\n",
       "    <tr>\n",
       "      <th>13309</th>\n",
       "      <td>PetteriSummanen IsmoKallio EppuSalminen IrinaBjörklund Hannu-PekkaBjörkman JenniBanerjee MikkoLeppilampi LenaMeriläinen MariPerankoski RistoKaskilahti</td>\n",
       "      <td>JPSiili JPSiili</td>\n",
       "      <td>141971</td>\n",
       "      <td>Blackout</td>\n",
       "      <td>Thriller Mystery</td>\n",
       "      <td>0</td>\n",
       "      <td>Recovering from a nail gun shot to the head and 13 months of coma, doctor Pekka Valinta starts to unravel the mystery of his past, still suffering from total amnesia.</td>\n",
       "      <td>0.411949</td>\n",
       "      <td>FilmiteollisuusFine</td>\n",
       "      <td>Finland</td>\n",
       "      <td>0.0</td>\n",
       "      <td>108.0</td>\n",
       "      <td>6.7</td>\n",
       "      <td>3.0</td>\n",
       "    </tr>\n",
       "    <tr>\n",
       "      <th>13310</th>\n",
       "      <td>PetteriSummanen IsmoKallio EppuSalminen IrinaBjörklund Hannu-PekkaBjörkman JenniBanerjee MikkoLeppilampi LenaMeriläinen MariPerankoski RistoKaskilahti</td>\n",
       "      <td>JPSiili JPSiili</td>\n",
       "      <td>141971</td>\n",
       "      <td>Blackout</td>\n",
       "      <td>Thriller Mystery</td>\n",
       "      <td>0</td>\n",
       "      <td>Recovering from a nail gun shot to the head and 13 months of coma, doctor Pekka Valinta starts to unravel the mystery of his past, still suffering from total amnesia.</td>\n",
       "      <td>0.411949</td>\n",
       "      <td>FilmiteollisuusFine</td>\n",
       "      <td>Finland</td>\n",
       "      <td>0.0</td>\n",
       "      <td>108.0</td>\n",
       "      <td>6.7</td>\n",
       "      <td>3.0</td>\n",
       "    </tr>\n",
       "    <tr>\n",
       "      <th>13311</th>\n",
       "      <td>PetteriSummanen IsmoKallio EppuSalminen IrinaBjörklund Hannu-PekkaBjörkman JenniBanerjee MikkoLeppilampi LenaMeriläinen MariPerankoski RistoKaskilahti</td>\n",
       "      <td>JPSiili JPSiili</td>\n",
       "      <td>141971</td>\n",
       "      <td>Blackout</td>\n",
       "      <td>Thriller Mystery</td>\n",
       "      <td>0</td>\n",
       "      <td>Recovering from a nail gun shot to the head and 13 months of coma, doctor Pekka Valinta starts to unravel the mystery of his past, still suffering from total amnesia.</td>\n",
       "      <td>0.411949</td>\n",
       "      <td>FilmiteollisuusFine</td>\n",
       "      <td>Finland</td>\n",
       "      <td>0.0</td>\n",
       "      <td>108.0</td>\n",
       "      <td>6.7</td>\n",
       "      <td>3.0</td>\n",
       "    </tr>\n",
       "    <tr>\n",
       "      <th>13312</th>\n",
       "      <td>PetteriSummanen IsmoKallio EppuSalminen IrinaBjörklund Hannu-PekkaBjörkman JenniBanerjee MikkoLeppilampi LenaMeriläinen MariPerankoski RistoKaskilahti</td>\n",
       "      <td>JPSiili JPSiili</td>\n",
       "      <td>141971</td>\n",
       "      <td>Blackout</td>\n",
       "      <td>Thriller Mystery</td>\n",
       "      <td>0</td>\n",
       "      <td>Recovering from a nail gun shot to the head and 13 months of coma, doctor Pekka Valinta starts to unravel the mystery of his past, still suffering from total amnesia.</td>\n",
       "      <td>0.411949</td>\n",
       "      <td>FilmiteollisuusFine</td>\n",
       "      <td>Finland</td>\n",
       "      <td>0.0</td>\n",
       "      <td>108.0</td>\n",
       "      <td>6.7</td>\n",
       "      <td>3.0</td>\n",
       "    </tr>\n",
       "    <tr>\n",
       "      <th>13313</th>\n",
       "      <td>PetteriSummanen IsmoKallio EppuSalminen IrinaBjörklund Hannu-PekkaBjörkman JenniBanerjee MikkoLeppilampi LenaMeriläinen MariPerankoski RistoKaskilahti</td>\n",
       "      <td>JPSiili JPSiili</td>\n",
       "      <td>141971</td>\n",
       "      <td>Blackout</td>\n",
       "      <td>Thriller Mystery</td>\n",
       "      <td>0</td>\n",
       "      <td>Recovering from a nail gun shot to the head and 13 months of coma, doctor Pekka Valinta starts to unravel the mystery of his past, still suffering from total amnesia.</td>\n",
       "      <td>0.411949</td>\n",
       "      <td>FilmiteollisuusFine</td>\n",
       "      <td>Finland</td>\n",
       "      <td>0.0</td>\n",
       "      <td>108.0</td>\n",
       "      <td>6.7</td>\n",
       "      <td>3.0</td>\n",
       "    </tr>\n",
       "    <tr>\n",
       "      <th>13314</th>\n",
       "      <td>PetteriSummanen IsmoKallio EppuSalminen IrinaBjörklund Hannu-PekkaBjörkman JenniBanerjee MikkoLeppilampi LenaMeriläinen MariPerankoski RistoKaskilahti</td>\n",
       "      <td>JPSiili JPSiili</td>\n",
       "      <td>141971</td>\n",
       "      <td>Blackout</td>\n",
       "      <td>Thriller Mystery</td>\n",
       "      <td>0</td>\n",
       "      <td>Recovering from a nail gun shot to the head and 13 months of coma, doctor Pekka Valinta starts to unravel the mystery of his past, still suffering from total amnesia.</td>\n",
       "      <td>0.411949</td>\n",
       "      <td>FilmiteollisuusFine</td>\n",
       "      <td>Finland</td>\n",
       "      <td>0.0</td>\n",
       "      <td>108.0</td>\n",
       "      <td>6.7</td>\n",
       "      <td>3.0</td>\n",
       "    </tr>\n",
       "    <tr>\n",
       "      <th>13315</th>\n",
       "      <td>PetteriSummanen IsmoKallio EppuSalminen IrinaBjörklund Hannu-PekkaBjörkman JenniBanerjee MikkoLeppilampi LenaMeriläinen MariPerankoski RistoKaskilahti</td>\n",
       "      <td>JPSiili JPSiili</td>\n",
       "      <td>141971</td>\n",
       "      <td>Blackout</td>\n",
       "      <td>Thriller Mystery</td>\n",
       "      <td>0</td>\n",
       "      <td>Recovering from a nail gun shot to the head and 13 months of coma, doctor Pekka Valinta starts to unravel the mystery of his past, still suffering from total amnesia.</td>\n",
       "      <td>0.411949</td>\n",
       "      <td>FilmiteollisuusFine</td>\n",
       "      <td>Finland</td>\n",
       "      <td>0.0</td>\n",
       "      <td>108.0</td>\n",
       "      <td>6.7</td>\n",
       "      <td>3.0</td>\n",
       "    </tr>\n",
       "    <tr>\n",
       "      <th>13316</th>\n",
       "      <td>PetteriSummanen IsmoKallio EppuSalminen IrinaBjörklund Hannu-PekkaBjörkman JenniBanerjee MikkoLeppilampi LenaMeriläinen MariPerankoski RistoKaskilahti</td>\n",
       "      <td>JPSiili JPSiili</td>\n",
       "      <td>141971</td>\n",
       "      <td>Blackout</td>\n",
       "      <td>Thriller Mystery</td>\n",
       "      <td>0</td>\n",
       "      <td>Recovering from a nail gun shot to the head and 13 months of coma, doctor Pekka Valinta starts to unravel the mystery of his past, still suffering from total amnesia.</td>\n",
       "      <td>0.411949</td>\n",
       "      <td>FilmiteollisuusFine</td>\n",
       "      <td>Finland</td>\n",
       "      <td>0.0</td>\n",
       "      <td>108.0</td>\n",
       "      <td>6.7</td>\n",
       "      <td>3.0</td>\n",
       "    </tr>\n",
       "  </tbody>\n",
       "</table></div>"
      ],
      "text/plain": [
       "                                                    cast             crew  \\\n",
       "13308  PetteriSummanen IsmoKallio EppuSalminen IrinaB...  JPSiili JPSiili   \n",
       "13309  PetteriSummanen IsmoKallio EppuSalminen IrinaB...  JPSiili JPSiili   \n",
       "13310  PetteriSummanen IsmoKallio EppuSalminen IrinaB...  JPSiili JPSiili   \n",
       "13311  PetteriSummanen IsmoKallio EppuSalminen IrinaB...  JPSiili JPSiili   \n",
       "13312  PetteriSummanen IsmoKallio EppuSalminen IrinaB...  JPSiili JPSiili   \n",
       "13313  PetteriSummanen IsmoKallio EppuSalminen IrinaB...  JPSiili JPSiili   \n",
       "13314  PetteriSummanen IsmoKallio EppuSalminen IrinaB...  JPSiili JPSiili   \n",
       "13315  PetteriSummanen IsmoKallio EppuSalminen IrinaB...  JPSiili JPSiili   \n",
       "13316  PetteriSummanen IsmoKallio EppuSalminen IrinaB...  JPSiili JPSiili   \n",
       "\n",
       "           id     title            genres  budget  \\\n",
       "13308  141971  Blackout  Thriller Mystery       0   \n",
       "13309  141971  Blackout  Thriller Mystery       0   \n",
       "13310  141971  Blackout  Thriller Mystery       0   \n",
       "13311  141971  Blackout  Thriller Mystery       0   \n",
       "13312  141971  Blackout  Thriller Mystery       0   \n",
       "13313  141971  Blackout  Thriller Mystery       0   \n",
       "13314  141971  Blackout  Thriller Mystery       0   \n",
       "13315  141971  Blackout  Thriller Mystery       0   \n",
       "13316  141971  Blackout  Thriller Mystery       0   \n",
       "\n",
       "                                                overview  popularity  \\\n",
       "13308  Recovering from a nail gun shot to the head an...    0.411949   \n",
       "13309  Recovering from a nail gun shot to the head an...    0.411949   \n",
       "13310  Recovering from a nail gun shot to the head an...    0.411949   \n",
       "13311  Recovering from a nail gun shot to the head an...    0.411949   \n",
       "13312  Recovering from a nail gun shot to the head an...    0.411949   \n",
       "13313  Recovering from a nail gun shot to the head an...    0.411949   \n",
       "13314  Recovering from a nail gun shot to the head an...    0.411949   \n",
       "13315  Recovering from a nail gun shot to the head an...    0.411949   \n",
       "13316  Recovering from a nail gun shot to the head an...    0.411949   \n",
       "\n",
       "      production_companies production_countries  revenue  runtime  \\\n",
       "13308  FilmiteollisuusFine              Finland      0.0    108.0   \n",
       "13309  FilmiteollisuusFine              Finland      0.0    108.0   \n",
       "13310  FilmiteollisuusFine              Finland      0.0    108.0   \n",
       "13311  FilmiteollisuusFine              Finland      0.0    108.0   \n",
       "13312  FilmiteollisuusFine              Finland      0.0    108.0   \n",
       "13313  FilmiteollisuusFine              Finland      0.0    108.0   \n",
       "13314  FilmiteollisuusFine              Finland      0.0    108.0   \n",
       "13315  FilmiteollisuusFine              Finland      0.0    108.0   \n",
       "13316  FilmiteollisuusFine              Finland      0.0    108.0   \n",
       "\n",
       "       vote_average  vote_count  \n",
       "13308           6.7         3.0  \n",
       "13309           6.7         3.0  \n",
       "13310           6.7         3.0  \n",
       "13311           6.7         3.0  \n",
       "13312           6.7         3.0  \n",
       "13313           6.7         3.0  \n",
       "13314           6.7         3.0  \n",
       "13315           6.7         3.0  \n",
       "13316           6.7         3.0  "
      ]
     },
     "execution_count": 131,
     "metadata": {},
     "output_type": "execute_result"
    }
   ],
   "source": [
    "data[data['id'] == 141971]"
   ]
  },
  {
   "cell_type": "code",
   "execution_count": null,
   "id": "58c203ad-e16a-4038-8e92-d6884c13465f",
   "metadata": {},
   "outputs": [],
   "source": [
    "# this may be some error thrown by the revenue and budget being 0 as well as the obscurity/low rating ."
   ]
  },
  {
   "cell_type": "code",
   "execution_count": 150,
   "id": "a73131b7-cbed-4a4a-9da5-13a54e6acb77",
   "metadata": {},
   "outputs": [],
   "source": [
    "cnt = data.id.value_counts()\n",
    "cnt\n",
    "v = cnt[cnt == 1].index.values\n",
    "v\n",
    "\n",
    "test = data.query(\"id in @v\")\n",
    "test.id.is_unique\n",
    "# nailed it. "
   ]
  },
  {
   "cell_type": "code",
   "execution_count": 152,
   "id": "52c46973-a987-4ab4-ac83-897c217f694e",
   "metadata": {},
   "outputs": [],
   "source": [
    "data = test.copy()"
   ]
  },
  {
   "cell_type": "code",
   "execution_count": 153,
   "id": "ef00d136-f928-43c4-970d-b88c869298e8",
   "metadata": {},
   "outputs": [
    {
     "data": {
      "text/plain": [
       "Index(['cast', 'crew', 'id', 'title', 'genres', 'budget', 'overview',\n",
       "       'popularity', 'production_companies', 'production_countries', 'revenue',\n",
       "       'runtime', 'vote_average', 'vote_count'],\n",
       "      dtype='object')"
      ]
     },
     "execution_count": 153,
     "metadata": {},
     "output_type": "execute_result"
    }
   ],
   "source": [
    "data.columns"
   ]
  },
  {
   "cell_type": "code",
   "execution_count": 154,
   "id": "326e73d1-252f-4c78-8291-8b7179097837",
   "metadata": {},
   "outputs": [
    {
     "data": {
      "text/html": [
       "<div><div id=eec2ca8e-9bac-4742-a5ed-721d4ab6a817 style=\"display:none; background-color:#9D6CFF; color:white; width:200px; height:30px; padding-left:5px; border-radius:4px; flex-direction:row; justify-content:space-around; align-items:center;\" onmouseover=\"this.style.backgroundColor='#BA9BF8'\" onmouseout=\"this.style.backgroundColor='#9D6CFF'\" onclick=\"window.commands?.execute('create-mitosheet-from-dataframe-output');\">See Full Dataframe in Mito</div> <script> if (window.commands?.hasCommand('create-mitosheet-from-dataframe-output')) document.getElementById('eec2ca8e-9bac-4742-a5ed-721d4ab6a817').style.display = 'flex' </script> <table border=\"1\" class=\"dataframe\">\n",
       "  <thead>\n",
       "    <tr style=\"text-align: right;\">\n",
       "      <th></th>\n",
       "      <th>cast</th>\n",
       "      <th>crew</th>\n",
       "      <th>id</th>\n",
       "      <th>title</th>\n",
       "      <th>genres</th>\n",
       "      <th>budget</th>\n",
       "      <th>overview</th>\n",
       "      <th>popularity</th>\n",
       "      <th>production_companies</th>\n",
       "      <th>production_countries</th>\n",
       "      <th>revenue</th>\n",
       "      <th>runtime</th>\n",
       "      <th>vote_average</th>\n",
       "      <th>vote_count</th>\n",
       "    </tr>\n",
       "  </thead>\n",
       "  <tbody>\n",
       "    <tr>\n",
       "      <th>20777</th>\n",
       "      <td>JimCarrey AlanThicke RichardGautier ZiggyLorenc RodHebron JeanLaplac BruceCarr</td>\n",
       "      <td>DamianLee DavidMitchell</td>\n",
       "      <td>19809</td>\n",
       "      <td>Copper Mountain</td>\n",
       "      <td>Comedy Romance</td>\n",
       "      <td>0</td>\n",
       "      <td>Two friends travel to a ski resort, with one looking to hit the slopes, while the other spends time trying to pick up women.</td>\n",
       "      <td>2.089464</td>\n",
       "      <td>Rose&amp;RubyProductions</td>\n",
       "      <td>UnitedStatesofAmerica</td>\n",
       "      <td>0.0</td>\n",
       "      <td>60.0</td>\n",
       "      <td>2.9</td>\n",
       "      <td>8.0</td>\n",
       "    </tr>\n",
       "    <tr>\n",
       "      <th>9828</th>\n",
       "      <td>CarolLynley JeffChandler EleanorParker MaryAstor RobertSterling LucianaPaluzzi BrettHalsey GunnarHellström TuesdayWeld</td>\n",
       "      <td>FranzWaxman JackMartinSmith WalterM.Scott Donfeld JoséFerrer FredM.MacLean DavidBretherton JerryWald HansPeters CurtisHarrington CharlesG.Clarke RonaldAlexander GraceMetalious</td>\n",
       "      <td>111017</td>\n",
       "      <td>Return to Peyton Place</td>\n",
       "      <td>Drama Romance</td>\n",
       "      <td>0</td>\n",
       "      <td>More hubub in the little town full of secrets when a visiting author trys to pry loose some juicy scandals!</td>\n",
       "      <td>0.611692</td>\n",
       "      <td>JerryWaldProductions</td>\n",
       "      <td>UnitedStatesofAmerica</td>\n",
       "      <td>0.0</td>\n",
       "      <td>123.0</td>\n",
       "      <td>7.2</td>\n",
       "      <td>5.0</td>\n",
       "    </tr>\n",
       "  </tbody>\n",
       "</table></div>"
      ],
      "text/plain": [
       "                                                    cast  \\\n",
       "20777  JimCarrey AlanThicke RichardGautier ZiggyLoren...   \n",
       "9828   CarolLynley JeffChandler EleanorParker MaryAst...   \n",
       "\n",
       "                                                    crew      id  \\\n",
       "20777                            DamianLee DavidMitchell   19809   \n",
       "9828   FranzWaxman JackMartinSmith WalterM.Scott Donf...  111017   \n",
       "\n",
       "                        title          genres  budget  \\\n",
       "20777         Copper Mountain  Comedy Romance       0   \n",
       "9828   Return to Peyton Place   Drama Romance       0   \n",
       "\n",
       "                                                overview  popularity  \\\n",
       "20777  Two friends travel to a ski resort, with one l...    2.089464   \n",
       "9828   More hubub in the little town full of secrets ...    0.611692   \n",
       "\n",
       "       production_companies   production_countries  revenue  runtime  \\\n",
       "20777  Rose&RubyProductions  UnitedStatesofAmerica      0.0     60.0   \n",
       "9828   JerryWaldProductions  UnitedStatesofAmerica      0.0    123.0   \n",
       "\n",
       "       vote_average  vote_count  \n",
       "20777           2.9         8.0  \n",
       "9828            7.2         5.0  "
      ]
     },
     "execution_count": 154,
     "metadata": {},
     "output_type": "execute_result"
    }
   ],
   "source": [
    "data.sample(2)"
   ]
  },
  {
   "cell_type": "code",
   "execution_count": 157,
   "id": "53ade84d-e313-4514-9fd2-9b2af43d51b4",
   "metadata": {},
   "outputs": [
    {
     "data": {
      "text/html": [
       "<div><div id=3a97ba35-7dc8-4abb-be55-3e329741b8b8 style=\"display:none; background-color:#9D6CFF; color:white; width:200px; height:30px; padding-left:5px; border-radius:4px; flex-direction:row; justify-content:space-around; align-items:center;\" onmouseover=\"this.style.backgroundColor='#BA9BF8'\" onmouseout=\"this.style.backgroundColor='#9D6CFF'\" onclick=\"window.commands?.execute('create-mitosheet-from-dataframe-output');\">See Full Dataframe in Mito</div> <script> if (window.commands?.hasCommand('create-mitosheet-from-dataframe-output')) document.getElementById('3a97ba35-7dc8-4abb-be55-3e329741b8b8').style.display = 'flex' </script> <table border=\"1\" class=\"dataframe\">\n",
       "  <thead>\n",
       "    <tr style=\"text-align: right;\">\n",
       "      <th></th>\n",
       "      <th>id</th>\n",
       "      <th>keywords</th>\n",
       "    </tr>\n",
       "  </thead>\n",
       "  <tbody>\n",
       "    <tr>\n",
       "      <th>0</th>\n",
       "      <td>862</td>\n",
       "      <td>jealousy toy boy friendship friends rivalry boy next door new toy toy comes to life</td>\n",
       "    </tr>\n",
       "  </tbody>\n",
       "</table></div>"
      ],
      "text/plain": [
       "    id                                           keywords\n",
       "0  862  jealousy toy boy friendship friends rivalry bo..."
      ]
     },
     "execution_count": 157,
     "metadata": {},
     "output_type": "execute_result"
    }
   ],
   "source": [
    "df.head(1)"
   ]
  },
  {
   "cell_type": "code",
   "execution_count": 158,
   "id": "6fa3fe9a-22f0-4ec2-807e-cc972b7d7216",
   "metadata": {},
   "outputs": [],
   "source": [
    "# very simple merge\n",
    "data = data.merge(df, on='id')"
   ]
  },
  {
   "cell_type": "code",
   "execution_count": 160,
   "id": "c070b451-50c1-4083-b8c8-1320f97bc4c1",
   "metadata": {},
   "outputs": [
    {
     "data": {
      "text/plain": [
       "45811     18276\n",
       "8659       9279\n",
       "270123     7638\n",
       "179792     7515\n",
       "228291     7410\n",
       "          ...  \n",
       "30155         1\n",
       "9641          1\n",
       "164717        1\n",
       "243426        1\n",
       "234625        1\n",
       "Name: userId, Length: 270896, dtype: int64"
      ]
     },
     "execution_count": 160,
     "metadata": {},
     "output_type": "execute_result"
    }
   ],
   "source": [
    "# still stumped on what to do with df5\n",
    "df5.userId.value_counts()"
   ]
  },
  {
   "cell_type": "code",
   "execution_count": 165,
   "id": "d756dbdc-55f0-49e3-974f-d76602462b95",
   "metadata": {},
   "outputs": [
    {
     "data": {
      "text/plain": [
       "Cinderella                         13\n",
       "Alice in Wonderland                 9\n",
       "Hamlet                              9\n",
       "Beauty and the Beast                8\n",
       "The Forest                          8\n",
       "                                   ..\n",
       "I Killed My Mother                  1\n",
       "Life During Wartime                 1\n",
       "Lion's Den                          1\n",
       "That Most Important Thing: Love     1\n",
       "Queerama                            1\n",
       "Name: title, Length: 42241, dtype: int64"
      ]
     },
     "execution_count": 165,
     "metadata": {},
     "output_type": "execute_result"
    }
   ],
   "source": [
    "data.title.value_counts()"
   ]
  },
  {
   "cell_type": "code",
   "execution_count": 166,
   "id": "f0b57208-a85f-4094-b49f-e91cc0af53d7",
   "metadata": {},
   "outputs": [
    {
     "data": {
      "text/html": [
       "<div><div id=8aa37963-e514-4423-81ac-f31a6f788976 style=\"display:none; background-color:#9D6CFF; color:white; width:200px; height:30px; padding-left:5px; border-radius:4px; flex-direction:row; justify-content:space-around; align-items:center;\" onmouseover=\"this.style.backgroundColor='#BA9BF8'\" onmouseout=\"this.style.backgroundColor='#9D6CFF'\" onclick=\"window.commands?.execute('create-mitosheet-from-dataframe-output');\">See Full Dataframe in Mito</div> <script> if (window.commands?.hasCommand('create-mitosheet-from-dataframe-output')) document.getElementById('8aa37963-e514-4423-81ac-f31a6f788976').style.display = 'flex' </script> <table border=\"1\" class=\"dataframe\">\n",
       "  <thead>\n",
       "    <tr style=\"text-align: right;\">\n",
       "      <th></th>\n",
       "      <th>cast</th>\n",
       "      <th>crew</th>\n",
       "      <th>id</th>\n",
       "      <th>title</th>\n",
       "      <th>genres</th>\n",
       "      <th>budget</th>\n",
       "      <th>overview</th>\n",
       "      <th>popularity</th>\n",
       "      <th>production_companies</th>\n",
       "      <th>production_countries</th>\n",
       "      <th>revenue</th>\n",
       "      <th>runtime</th>\n",
       "      <th>vote_average</th>\n",
       "      <th>vote_count</th>\n",
       "      <th>keywords</th>\n",
       "    </tr>\n",
       "  </thead>\n",
       "  <tbody>\n",
       "    <tr>\n",
       "      <th>990</th>\n",
       "      <td>IleneWoods EleanorAudley LucilleBliss VernaFelton HeleneStanley JamesMacDonald LuisvanRooten DonBarclay ClaireDuBrey RhodaWilliams MarionDarlington</td>\n",
       "      <td>ClydeGeronimi WilfredJackson HamiltonLuske CharlesPerrault PaulJ.Smith OliverWallace DonaldHalliday WaltDisney BillPeed TedSears HomerBrightman KenAnderson ErdmanPenner WinstonHibler HarryReeves JoeRinaldi MerleCox McLarenStewart C.O.Slyfield HaroldJ.Steck RobertO.Cook AlTeeter MackDavid JerryLivingston AlHoffman JosephDubin TomCodrick LanceNolley DonGriffith KendallO'Connor HughHennesy CharlesPhilippi ThorPutnam BriceMack DickAnthony ThelmaWitmer ArtRiley RayHuffine EricLarson WardKimball MiltKahl OllieJohnston FrankThomas MarcDavis JohnLounsbery LesClark WolfgangReitherman NormanFerguson BenSharpsteen RalphHulett</td>\n",
       "      <td>11224</td>\n",
       "      <td>Cinderella</td>\n",
       "      <td>Family Fantasy Animation Romance</td>\n",
       "      <td>2900000</td>\n",
       "      <td>Cinderella has faith her dreams of a better life will come true. With help from her loyal mice friends and a wave of her Fairy Godmother's wand, Cinderella's rags are magically turned into a glorious gown and off she goes to the Royal Ball. But when the clock strikes midnight, the spell is broken, leaving a single glass slipper... the only key to the ultimate fairy-tale ending!</td>\n",
       "      <td>14.436858</td>\n",
       "      <td>RKORadioPictures WaltDisneyProductions</td>\n",
       "      <td>UnitedStatesofAmerica</td>\n",
       "      <td>263591415.0</td>\n",
       "      <td>74.0</td>\n",
       "      <td>6.8</td>\n",
       "      <td>1760.0</td>\n",
       "      <td>based on novel cinderella loss of parents mouse ball fairy prince musical midnight princess love orphan family evil stepmother fairy godmother glass slipper</td>\n",
       "    </tr>\n",
       "    <tr>\n",
       "      <th>13056</th>\n",
       "      <td>BrandyNorwood WhitneyHouston WhoopiGoldberg BernadettePeters JasonAlexander</td>\n",
       "      <td>RobertIscove</td>\n",
       "      <td>42884</td>\n",
       "      <td>Cinderella</td>\n",
       "      <td>TV Movie Family Fantasy Music Romance</td>\n",
       "      <td>0</td>\n",
       "      <td>Updated version of the classic Rodgers and Hammerstein musical of the classic fairy-tale, with an all-star, multi-racial cast.</td>\n",
       "      <td>2.102013</td>\n",
       "      <td>WaltDisneyTelevision CitadelEntertainment StorylineEntertainment BrownHouseProductions</td>\n",
       "      <td>UnitedStatesofAmerica</td>\n",
       "      <td>0.0</td>\n",
       "      <td>88.0</td>\n",
       "      <td>6.1</td>\n",
       "      <td>28.0</td>\n",
       "      <td>cinderella musical rodgers &amp; hammerstei</td>\n",
       "    </tr>\n",
       "    <tr>\n",
       "      <th>23463</th>\n",
       "      <td>MaryPickford OwenMoore IsabelVernon GeorgiaWilson LucilleCarney W.N.Cone InezMarcel</td>\n",
       "      <td>CharlesPerrault JamesKirkwood</td>\n",
       "      <td>92349</td>\n",
       "      <td>Cinderella</td>\n",
       "      <td>Fantasy Drama</td>\n",
       "      <td>0</td>\n",
       "      <td>Based on Charles Perrault's fairy tale: Cinderella is mistreated by her stepmother and stepsisters, but she is able to go to the Royal Ball with the help of the Fairy Godmother.</td>\n",
       "      <td>0.361288</td>\n",
       "      <td></td>\n",
       "      <td>UnitedStatesofAmerica</td>\n",
       "      <td>0.0</td>\n",
       "      <td>52.0</td>\n",
       "      <td>5.4</td>\n",
       "      <td>7.0</td>\n",
       "      <td></td>\n",
       "    </tr>\n",
       "    <tr>\n",
       "      <th>23474</th>\n",
       "      <td>TonyAil NathanAswell CheraBailey KathleenBarr GarryChalk LillianCarlson IanJamesCorlett</td>\n",
       "      <td>ToshiyukiHiruma CharlesPerrault GeorgeArthurBloom</td>\n",
       "      <td>105875</td>\n",
       "      <td>Cinderella</td>\n",
       "      <td>Animation Family Fantasy</td>\n",
       "      <td>0</td>\n",
       "      <td>Cinderella, the beautiful and kind-hearted ragamuffin who lives with her greedy stepmother and two selfish stepsisters, charms a handsome prince when her fairy godmother sends her to the royal ball. She must leave the ball by midnight before all the magic is gone, but Cinderella has so much fun that she forgets all about the warning, and when she flees the castle she leaves behind one glass slipper. Cinderella, originally released directly to video in 1994, is a 48-minute animated film adapted from the classic fairy tale, \"Cinderella\" by Charles Perrault. The movie was produced by Jetlag Productions and was distributed to DVD in 2002 by GoodTimes Entertainment as part of their \"Collectible Classics\" line.</td>\n",
       "      <td>2.154873</td>\n",
       "      <td>GoodTimesEntertainment</td>\n",
       "      <td>Japan UnitedStatesofAmerica</td>\n",
       "      <td>0.0</td>\n",
       "      <td>48.0</td>\n",
       "      <td>6.0</td>\n",
       "      <td>2.0</td>\n",
       "      <td></td>\n",
       "    </tr>\n",
       "    <tr>\n",
       "      <th>28329</th>\n",
       "      <td>VanessaHessler FlavioParenti NataliaWörner Ruth-MariaKubitschek HaryPrinz FrankCrudele RosabellLaurentiSellers CarlottaNatoli GiuliaAndò IlariaSpada MassimoPoggio MariellaValentini WanjaSellers UrbanoBarberini</td>\n",
       "      <td>DavidYardley LucaBernabei MonicaSallustio ChristianDuguay TeresaRazzauti AgathaDominik LeaTafuri MaurizioMillenotti FabrizioLucci AndreaGuerra CarmeloAgate</td>\n",
       "      <td>261985</td>\n",
       "      <td>Cinderella</td>\n",
       "      <td>Family TV Movie</td>\n",
       "      <td>0</td>\n",
       "      <td>Once upon a time in post-war Rome: 13-year old Aurora, a gifted pianist, is the daughter of Valerio, a brilliant conductor. After Aurora's mother died, Valerio hired Irene, a single mother of two girls, to run the household. To Aurora's regret he decides to marry Irene. One day, Aurora happens to meet the boys next door, Freddy and Sebastian, the sons of a wealthy Italo-Austrian family. Freddy is an easy-going chap, though sometimes a little bit arrogant. His brother Sebastian is kind and shy, with a great ability to listen to and understand people, which makes him win Aurora's heart.</td>\n",
       "      <td>0.987462</td>\n",
       "      <td>BetaFilm LuxVide ARD/DegetoFilmGmbH RaiFiction RaiTrade 13Productions</td>\n",
       "      <td>Italy</td>\n",
       "      <td>0.0</td>\n",
       "      <td>180.0</td>\n",
       "      <td>5.3</td>\n",
       "      <td>9.0</td>\n",
       "      <td></td>\n",
       "    </tr>\n",
       "    <tr>\n",
       "      <th>...</th>\n",
       "      <td>...</td>\n",
       "      <td>...</td>\n",
       "      <td>...</td>\n",
       "      <td>...</td>\n",
       "      <td>...</td>\n",
       "      <td>...</td>\n",
       "      <td>...</td>\n",
       "      <td>...</td>\n",
       "      <td>...</td>\n",
       "      <td>...</td>\n",
       "      <td>...</td>\n",
       "      <td>...</td>\n",
       "      <td>...</td>\n",
       "      <td>...</td>\n",
       "      <td>...</td>\n",
       "    </tr>\n",
       "    <tr>\n",
       "      <th>35726</th>\n",
       "      <td>JulieAndrews HowardLindsay HowardLindsay IlkaChase KayeBallard AliceGhostley EdieAdams JohnCypher DavidF.Perkins</td>\n",
       "      <td>AlfredoAntonini RalphNelson OscarHammersteinII RichardRodgers JonathanLucas RichardLewine WilliamEckart JeanEckart JeanEckart RobertRussellBennett</td>\n",
       "      <td>44459</td>\n",
       "      <td>Cinderella</td>\n",
       "      <td>Drama Romance</td>\n",
       "      <td>0</td>\n",
       "      <td>The first of three TV-versions of the classic fairy tale that featured a Rodgers and Hammerstein score and was performed in front of a live audience.</td>\n",
       "      <td>0.209552</td>\n",
       "      <td></td>\n",
       "      <td>UnitedStatesofAmerica</td>\n",
       "      <td>0.0</td>\n",
       "      <td>77.0</td>\n",
       "      <td>5.9</td>\n",
       "      <td>5.0</td>\n",
       "      <td></td>\n",
       "    </tr>\n",
       "    <tr>\n",
       "      <th>35729</th>\n",
       "      <td>KathleenTurner KatrinCartlidge DavidWarner JaneBirkin LucyPunch MarcellaPlunkett LesliePhillips SharonMaughan GideonTurner GrantIbbs</td>\n",
       "      <td>BeebanKidron TrevorEve AlekseiRodionov NickDear JazColeman SimonJohnson</td>\n",
       "      <td>289673</td>\n",
       "      <td>Cinderella</td>\n",
       "      <td></td>\n",
       "      <td>0</td>\n",
       "      <td>Cinderella (named Zezolla) and her family live mid 20th century, where fashion is practically everything. As her father is won over by a selfish woman named Claudette, Cinderella must keep her new step-mother from murdering the only family she has left. Add in an anti-social mermaid literally living in a cave, a bored prince with an ear for rock n' roll, and the glamour of the 1950's and one'll find that this story can't grow old</td>\n",
       "      <td>1.085134</td>\n",
       "      <td></td>\n",
       "      <td></td>\n",
       "      <td>0.0</td>\n",
       "      <td>90.0</td>\n",
       "      <td>5.6</td>\n",
       "      <td>5.0</td>\n",
       "      <td>woman director</td>\n",
       "    </tr>\n",
       "    <tr>\n",
       "      <th>35730</th>\n",
       "      <td>KathleenTurner KatrinCartlidge DavidWarner JaneBirkin LucyPunch MarcellaPlunkett LesliePhillips SharonMaughan GideonTurner GrantIbbs</td>\n",
       "      <td>BeebanKidron TrevorEve AlekseiRodionov NickDear JazColeman SimonJohnson</td>\n",
       "      <td>289673</td>\n",
       "      <td>Cinderella</td>\n",
       "      <td></td>\n",
       "      <td>0</td>\n",
       "      <td>Cinderella (named Zezolla) and her family live mid 20th century, where fashion is practically everything. As her father is won over by a selfish woman named Claudette, Cinderella must keep her new step-mother from murdering the only family she has left. Add in an anti-social mermaid literally living in a cave, a bored prince with an ear for rock n' roll, and the glamour of the 1950's and one'll find that this story can't grow old</td>\n",
       "      <td>1.085134</td>\n",
       "      <td></td>\n",
       "      <td></td>\n",
       "      <td>0.0</td>\n",
       "      <td>90.0</td>\n",
       "      <td>5.6</td>\n",
       "      <td>5.0</td>\n",
       "      <td>woman director</td>\n",
       "    </tr>\n",
       "    <tr>\n",
       "      <th>41953</th>\n",
       "      <td>GeorgesMéliès Barral BleuetteBernon Carmely Jeanned'Alcy Depeyrou</td>\n",
       "      <td>GeorgesMéliès CharlesPerrault</td>\n",
       "      <td>114108</td>\n",
       "      <td>Cinderella</td>\n",
       "      <td>Fantasy Horror Science Fiction Family</td>\n",
       "      <td>0</td>\n",
       "      <td>A fairy godmother magically turns Cinderella's rags to a beautiful dress, and a pumpkin into a coach. Cinderella goes to the ball, where she meets the Prince - but will she remember to leave before the magic runs out?  Méliès based the art direction on engravings by Gustave Doré. First known example of a fairy-tale adapted to film, and the first film to use dissolves to go from one scene to another.</td>\n",
       "      <td>1.301063</td>\n",
       "      <td>Star-Film GeorgesMéliès</td>\n",
       "      <td>France</td>\n",
       "      <td>0.0</td>\n",
       "      <td>5.0</td>\n",
       "      <td>5.5</td>\n",
       "      <td>19.0</td>\n",
       "      <td>fairy tale fairy godmother</td>\n",
       "    </tr>\n",
       "    <tr>\n",
       "      <th>46281</th>\n",
       "      <td>KristinaAsmus NikitaEfremov ArtyomTkachenko ElizavetaBoyarskaya NonnaGrishaeva YuriyStoyanov SergeyBurunov AleksandrTsekalo AnnaSherling AnnaArshava AnnaBagmet AleksandrBocharov MargaritaBychkova AleksandrKorchagin VsevolodMakarov AnnaMasalskaya AleksandrNikolskiy VyacheslavTitov</td>\n",
       "      <td>SergeyIvanov AleksandrTsekalo DmitriyZverkov MaksimTukhanin</td>\n",
       "      <td>98604</td>\n",
       "      <td>Cinderella</td>\n",
       "      <td>Comedy Romance</td>\n",
       "      <td>0</td>\n",
       "      <td>Masha Krapivina - is yet beautiful, and not that clever. She is just an ordinary girl, like thousands of her peers from different parts of the country, who risked to try to conquer Moscow and left their native country town.</td>\n",
       "      <td>0.803588</td>\n",
       "      <td>ChannelOneRussia CentralPartnership</td>\n",
       "      <td>Russia</td>\n",
       "      <td>0.0</td>\n",
       "      <td>91.0</td>\n",
       "      <td>4.6</td>\n",
       "      <td>6.0</td>\n",
       "      <td></td>\n",
       "    </tr>\n",
       "  </tbody>\n",
       "</table></div>"
      ],
      "text/plain": [
       "                                                    cast  \\\n",
       "990    IleneWoods EleanorAudley LucilleBliss VernaFel...   \n",
       "13056  BrandyNorwood WhitneyHouston WhoopiGoldberg Be...   \n",
       "23463  MaryPickford OwenMoore IsabelVernon GeorgiaWil...   \n",
       "23474  TonyAil NathanAswell CheraBailey KathleenBarr ...   \n",
       "28329  VanessaHessler FlavioParenti NataliaWörner Rut...   \n",
       "28602  LilyJames CateBlanchett RichardMadden HelenaBo...   \n",
       "34184  YaninaZhejmo AlekseiKonsovsky FainaRanevskaya ...   \n",
       "35725  JulieAndrews HowardLindsay HowardLindsay IlkaC...   \n",
       "35726  JulieAndrews HowardLindsay HowardLindsay IlkaC...   \n",
       "35729  KathleenTurner KatrinCartlidge DavidWarner Jan...   \n",
       "35730  KathleenTurner KatrinCartlidge DavidWarner Jan...   \n",
       "41953  GeorgesMéliès Barral BleuetteBernon Carmely Je...   \n",
       "46281  KristinaAsmus NikitaEfremov ArtyomTkachenko El...   \n",
       "\n",
       "                                                    crew      id       title  \\\n",
       "990    ClydeGeronimi WilfredJackson HamiltonLuske Cha...   11224  Cinderella   \n",
       "13056                                       RobertIscove   42884  Cinderella   \n",
       "23463                      CharlesPerrault JamesKirkwood   92349  Cinderella   \n",
       "23474  ToshiyukiHiruma CharlesPerrault GeorgeArthurBloom  105875  Cinderella   \n",
       "28329  DavidYardley LucaBernabei MonicaSallustio Chri...  261985  Cinderella   \n",
       "28602  DanteFerretti ChrisWeitz LeslieTomkins Frances...  150689  Cinderella   \n",
       "34184  NadezhdaKosheverova MikhailShapiro YevgeniShva...   42651  Cinderella   \n",
       "35725  AlfredoAntonini RalphNelson OscarHammersteinII...   44459  Cinderella   \n",
       "35726  AlfredoAntonini RalphNelson OscarHammersteinII...   44459  Cinderella   \n",
       "35729  BeebanKidron TrevorEve AlekseiRodionov NickDea...  289673  Cinderella   \n",
       "35730  BeebanKidron TrevorEve AlekseiRodionov NickDea...  289673  Cinderella   \n",
       "41953                      GeorgesMéliès CharlesPerrault  114108  Cinderella   \n",
       "46281  SergeyIvanov AleksandrTsekalo DmitriyZverkov M...   98604  Cinderella   \n",
       "\n",
       "                                      genres    budget  \\\n",
       "990         Family Fantasy Animation Romance   2900000   \n",
       "13056  TV Movie Family Fantasy Music Romance         0   \n",
       "23463                          Fantasy Drama         0   \n",
       "23474               Animation Family Fantasy         0   \n",
       "28329                        Family TV Movie         0   \n",
       "28602           Romance Fantasy Family Drama  95000000   \n",
       "34184                  Comedy Family Fantasy         0   \n",
       "35725                          Drama Romance         0   \n",
       "35726                          Drama Romance         0   \n",
       "35729                                                0   \n",
       "35730                                                0   \n",
       "41953  Fantasy Horror Science Fiction Family         0   \n",
       "46281                         Comedy Romance         0   \n",
       "\n",
       "                                                overview  popularity  \\\n",
       "990    Cinderella has faith her dreams of a better li...   14.436858   \n",
       "13056  Updated version of the classic Rodgers and Ham...    2.102013   \n",
       "23463  Based on Charles Perrault's fairy tale: Cinder...    0.361288   \n",
       "23474  Cinderella, the beautiful and kind-hearted rag...    2.154873   \n",
       "28329  Once upon a time in post-war Rome: 13-year old...    0.987462   \n",
       "28602  When her father unexpectedly passes away, youn...   19.801128   \n",
       "34184  Based on a classic fairytale \"Cinderella\" bril...    0.486073   \n",
       "35725  The first of three TV-versions of the classic ...    0.209552   \n",
       "35726  The first of three TV-versions of the classic ...    0.209552   \n",
       "35729  Cinderella (named Zezolla) and her family live...    1.085134   \n",
       "35730  Cinderella (named Zezolla) and her family live...    1.085134   \n",
       "41953  A fairy godmother magically turns Cinderella's...    1.301063   \n",
       "46281  Masha Krapivina - is yet beautiful, and not th...    0.803588   \n",
       "\n",
       "                                    production_companies  \\\n",
       "990               RKORadioPictures WaltDisneyProductions   \n",
       "13056  WaltDisneyTelevision CitadelEntertainment Stor...   \n",
       "23463                                                      \n",
       "23474                             GoodTimesEntertainment   \n",
       "28329  BetaFilm LuxVide ARD/DegetoFilmGmbH RaiFiction...   \n",
       "28602  WaltDisneyPictures GenreFilms BeaglePugFilms A...   \n",
       "34184                                            Lenfilm   \n",
       "35725                                                      \n",
       "35726                                                      \n",
       "35729                                                      \n",
       "35730                                                      \n",
       "41953                            Star-Film GeorgesMéliès   \n",
       "46281                ChannelOneRussia CentralPartnership   \n",
       "\n",
       "                      production_countries      revenue  runtime  \\\n",
       "990                  UnitedStatesofAmerica  263591415.0     74.0   \n",
       "13056                UnitedStatesofAmerica          0.0     88.0   \n",
       "23463                UnitedStatesofAmerica          0.0     52.0   \n",
       "23474          Japan UnitedStatesofAmerica          0.0     48.0   \n",
       "28329                                Italy          0.0    180.0   \n",
       "28602  UnitedKingdom UnitedStatesofAmerica  543514353.0    105.0   \n",
       "34184                               Russia          0.0     80.0   \n",
       "35725                UnitedStatesofAmerica          0.0     77.0   \n",
       "35726                UnitedStatesofAmerica          0.0     77.0   \n",
       "35729                                               0.0     90.0   \n",
       "35730                                               0.0     90.0   \n",
       "41953                               France          0.0      5.0   \n",
       "46281                               Russia          0.0     91.0   \n",
       "\n",
       "       vote_average  vote_count  \\\n",
       "990             6.8      1760.0   \n",
       "13056           6.1        28.0   \n",
       "23463           5.4         7.0   \n",
       "23474           6.0         2.0   \n",
       "28329           5.3         9.0   \n",
       "28602           6.7      2426.0   \n",
       "34184           4.8         5.0   \n",
       "35725           5.9         5.0   \n",
       "35726           5.9         5.0   \n",
       "35729           5.6         5.0   \n",
       "35730           5.6         5.0   \n",
       "41953           5.5        19.0   \n",
       "46281           4.6         6.0   \n",
       "\n",
       "                                                keywords  \n",
       "990    based on novel cinderella loss of parents mous...  \n",
       "13056            cinderella musical rodgers & hammerstei  \n",
       "23463                                                     \n",
       "23474                                                     \n",
       "28329                                                     \n",
       "28602  cinderella magic prince fairy tale kingdom roy...  \n",
       "34184                                                     \n",
       "35725                                                     \n",
       "35726                                                     \n",
       "35729                                     woman director  \n",
       "35730                                     woman director  \n",
       "41953                         fairy tale fairy godmother  \n",
       "46281                                                     "
      ]
     },
     "execution_count": 166,
     "metadata": {},
     "output_type": "execute_result"
    }
   ],
   "source": [
    "data[data['title'] == 'Cinderella']"
   ]
  },
  {
   "cell_type": "code",
   "execution_count": 175,
   "id": "03b00e4c-7f64-4d8b-a33c-b251124984de",
   "metadata": {},
   "outputs": [],
   "source": [
    "# AH HA, these are cases of re-releases, and are tv-movies. Getting rid of budgets and revenue where the case is zero should solve this problem\n",
    "data2 = data[data['revenue'] >=1]"
   ]
  },
  {
   "cell_type": "code",
   "execution_count": 176,
   "id": "ea743176-b2b0-4a6e-a334-722c9392753e",
   "metadata": {},
   "outputs": [
    {
     "data": {
      "text/plain": [
       "(46341, 15)"
      ]
     },
     "execution_count": 176,
     "metadata": {},
     "output_type": "execute_result"
    }
   ],
   "source": [
    "data.shape"
   ]
  },
  {
   "cell_type": "code",
   "execution_count": 177,
   "id": "b0d89013-8bc5-41b9-af8a-32374c4c6a4d",
   "metadata": {},
   "outputs": [
    {
     "data": {
      "text/plain": [
       "(7457, 15)"
      ]
     },
     "execution_count": 177,
     "metadata": {},
     "output_type": "execute_result"
    }
   ],
   "source": [
    "data2.shape"
   ]
  },
  {
   "cell_type": "code",
   "execution_count": 178,
   "id": "d0b6da8d-79e9-4e6d-b004-1931f6c69f59",
   "metadata": {},
   "outputs": [
    {
     "data": {
      "text/plain": [
       "False"
      ]
     },
     "execution_count": 178,
     "metadata": {},
     "output_type": "execute_result"
    }
   ],
   "source": [
    "data2.title.is_unique"
   ]
  },
  {
   "cell_type": "code",
   "execution_count": 179,
   "id": "fee2ab4b-6a68-47a7-888a-85e292856da9",
   "metadata": {},
   "outputs": [
    {
     "data": {
      "text/plain": [
       "Ghost                  4\n",
       "Mickey                 3\n",
       "Hercules               3\n",
       "Anna Karenina          3\n",
       "Captive                3\n",
       "                      ..\n",
       "All The Queen's Men    1\n",
       "Paid in Full           1\n",
       "Jackass: The Movie     1\n",
       "Ghost Ship             1\n",
       "Antidur                1\n",
       "Name: title, Length: 7232, dtype: int64"
      ]
     },
     "execution_count": 179,
     "metadata": {},
     "output_type": "execute_result"
    }
   ],
   "source": [
    "data2.title.value_counts()"
   ]
  },
  {
   "cell_type": "code",
   "execution_count": null,
   "id": "84f194f8-4fae-425e-8c05-49a6a8955f59",
   "metadata": {},
   "outputs": [],
   "source": [
    "cnt = data.id.value_counts()\n",
    "cnt\n",
    "v = cnt[cnt == 1].index.values\n",
    "v\n",
    "\n",
    "test = data.query(\"id in @v\")\n",
    "test.id.is_unique\n",
    "# nailed it. "
   ]
  },
  {
   "cell_type": "code",
   "execution_count": 181,
   "id": "b1c34b3a-6994-42ab-bd0f-26a16400bd37",
   "metadata": {},
   "outputs": [
    {
     "data": {
      "text/html": [
       "<div><div id=3c4bff62-8a0d-48db-864f-f1b4436a6d5f style=\"display:none; background-color:#9D6CFF; color:white; width:200px; height:30px; padding-left:5px; border-radius:4px; flex-direction:row; justify-content:space-around; align-items:center;\" onmouseover=\"this.style.backgroundColor='#BA9BF8'\" onmouseout=\"this.style.backgroundColor='#9D6CFF'\" onclick=\"window.commands?.execute('create-mitosheet-from-dataframe-output');\">See Full Dataframe in Mito</div> <script> if (window.commands?.hasCommand('create-mitosheet-from-dataframe-output')) document.getElementById('3c4bff62-8a0d-48db-864f-f1b4436a6d5f').style.display = 'flex' </script> <table border=\"1\" class=\"dataframe\">\n",
       "  <thead>\n",
       "    <tr style=\"text-align: right;\">\n",
       "      <th></th>\n",
       "      <th>cast</th>\n",
       "      <th>crew</th>\n",
       "      <th>id</th>\n",
       "      <th>title</th>\n",
       "      <th>genres</th>\n",
       "      <th>budget</th>\n",
       "      <th>overview</th>\n",
       "      <th>popularity</th>\n",
       "      <th>production_companies</th>\n",
       "      <th>production_countries</th>\n",
       "      <th>revenue</th>\n",
       "      <th>runtime</th>\n",
       "      <th>vote_average</th>\n",
       "      <th>vote_count</th>\n",
       "      <th>keywords</th>\n",
       "    </tr>\n",
       "  </thead>\n",
       "  <tbody>\n",
       "    <tr>\n",
       "      <th>580</th>\n",
       "      <td>PatrickSwayze DemiMoore WhoopiGoldberg TonyGoldwyn VincentSchiavelli GailBoggs StephenRoot RickAviles VivianBonnell ArmeliaMcQueen AngelinaEstrada AugieBlunt PhilLeeds AlmaBeltran</td>\n",
       "      <td>WalterMurch WalterMurch RuthMorley MauriceJarre AdamGreenberg JanetHirshenson JaneJenkins JerryZucker LisaWeinstein HowardW.Koch JaneMusky ClaytonCollins BruceJoelRubin MariettaCarter-Narcisse LeeHaxall JoeD.Mitchell MarkW.Mansbridge LeslieShatz RichardEdlund DougChiang BenNyeJr. AnthonyStacchi MikeBenson DioneTaylor CharliePicerni GaryDavis SteveMaslow DavidLeeFein KyleSweet MichaelMagill KenDufva StanTropp ThomasSaccio NedGorman ElizabethZiegler BruceNicholson JohnT.VanVliet MichaelGleason PeterSorel DouglasGreenfield DevenChierighino KatherineKean JuliaL.Walker ButchWest HorstGrandt GaryKudroff GaryRitchie KathyMcCart JeffHoward CandaceLewis MartineTomczyk SeanTurner JudithWeaver CharlieClavadetscher HowardStein CaryFisher DawnJ.Jackson GeneR.Johnson FayeBrenner EricKlosterman PattiHawn</td>\n",
       "      <td>251</td>\n",
       "      <td>Ghost</td>\n",
       "      <td>Fantasy Drama Thriller Mystery Romance</td>\n",
       "      <td>22000000</td>\n",
       "      <td>Sam Wheat is a banker, Molly Jensen is an artist, and the two are madly in love. However, when Sam is murdered by his friend and corrupt business partner Carl Bruner over a shady business deal, he is left to roam the earth as a powerless spirit. When he learns of Carl's betrayal, Sam must seek the help of psychic Oda Mae Brown to set things right and protect Molly from Carl and his goons.</td>\n",
       "      <td>11.945397</td>\n",
       "      <td>ParamountPictures</td>\n",
       "      <td>UnitedStatesofAmerica</td>\n",
       "      <td>505000000.0</td>\n",
       "      <td>127.0</td>\n",
       "      <td>6.9</td>\n",
       "      <td>1381.0</td>\n",
       "      <td>corruption fortune teller money transfer money laundering pottery afterlife spiritism</td>\n",
       "    </tr>\n",
       "    <tr>\n",
       "      <th>35363</th>\n",
       "      <td>NanakoMatsushima SongSeung-heon SawaSuzuki KirinKiki</td>\n",
       "      <td>TarôOhtani</td>\n",
       "      <td>138853</td>\n",
       "      <td>Ghost</td>\n",
       "      <td>Mystery Drama Fantasy</td>\n",
       "      <td>0</td>\n",
       "      <td>Nanami Hoshino, a wealthy entrepreneur, marries Korean potter Kim Jun-ho, and they both live a seemingly happy life. Then, one year after their marriage, Nanami is killed by a biker on her way home. This tragedy leaves Jun-ho completely devastated. At the hospital, Nanami's ghost arises from her body, and upon meeting a ghost child, she realizes that she is a ghost whose presence cannot be seen. She then realizes that her death was no coincidence and Jun-ho is in imminent danger. Unable to communicate with normal humans, Nanami seeks help from the elderly psychic Unten in hopes of saving Jun-ho's life.</td>\n",
       "      <td>0.215013</td>\n",
       "      <td></td>\n",
       "      <td>Japan SouthKorea</td>\n",
       "      <td>9833553.0</td>\n",
       "      <td>116.0</td>\n",
       "      <td>4.3</td>\n",
       "      <td>4.0</td>\n",
       "      <td></td>\n",
       "    </tr>\n",
       "    <tr>\n",
       "      <th>35364</th>\n",
       "      <td>NanakoMatsushima SongSeung-heon SawaSuzuki KirinKiki</td>\n",
       "      <td>TarôOhtani</td>\n",
       "      <td>138853</td>\n",
       "      <td>Ghost</td>\n",
       "      <td>Mystery Drama Fantasy</td>\n",
       "      <td>0</td>\n",
       "      <td>Nanami Hoshino, a wealthy entrepreneur, marries Korean potter Kim Jun-ho, and they both live a seemingly happy life. Then, one year after their marriage, Nanami is killed by a biker on her way home. This tragedy leaves Jun-ho completely devastated. At the hospital, Nanami's ghost arises from her body, and upon meeting a ghost child, she realizes that she is a ghost whose presence cannot be seen. She then realizes that her death was no coincidence and Jun-ho is in imminent danger. Unable to communicate with normal humans, Nanami seeks help from the elderly psychic Unten in hopes of saving Jun-ho's life.</td>\n",
       "      <td>0.215013</td>\n",
       "      <td></td>\n",
       "      <td>Japan SouthKorea</td>\n",
       "      <td>9833553.0</td>\n",
       "      <td>116.0</td>\n",
       "      <td>4.3</td>\n",
       "      <td>4.0</td>\n",
       "      <td></td>\n",
       "    </tr>\n",
       "    <tr>\n",
       "      <th>44825</th>\n",
       "      <td>FyodorBondarchuk YanTsapnik AnnaAntonova IgorUgolnikov SemyonTreskunov KseniyaLavrova-Glinka</td>\n",
       "      <td>AleksandrVoytinskiy OlegMalovichko</td>\n",
       "      <td>332512</td>\n",
       "      <td>Ghost</td>\n",
       "      <td>Family Comedy</td>\n",
       "      <td>0</td>\n",
       "      <td>An aircraft designer becomes a ghost after a sudden death. Now he needs to engage a help of seven-grader in order to finish all his unaccomplished tasks.</td>\n",
       "      <td>1.041195</td>\n",
       "      <td>CTBFilmCompany</td>\n",
       "      <td>Russia</td>\n",
       "      <td>3300000.0</td>\n",
       "      <td>90.0</td>\n",
       "      <td>6.0</td>\n",
       "      <td>12.0</td>\n",
       "      <td></td>\n",
       "    </tr>\n",
       "  </tbody>\n",
       "</table></div>"
      ],
      "text/plain": [
       "                                                    cast  \\\n",
       "580    PatrickSwayze DemiMoore WhoopiGoldberg TonyGol...   \n",
       "35363  NanakoMatsushima SongSeung-heon SawaSuzuki Kir...   \n",
       "35364  NanakoMatsushima SongSeung-heon SawaSuzuki Kir...   \n",
       "44825  FyodorBondarchuk YanTsapnik AnnaAntonova IgorU...   \n",
       "\n",
       "                                                    crew      id  title  \\\n",
       "580    WalterMurch WalterMurch RuthMorley MauriceJarr...     251  Ghost   \n",
       "35363                                         TarôOhtani  138853  Ghost   \n",
       "35364                                         TarôOhtani  138853  Ghost   \n",
       "44825                 AleksandrVoytinskiy OlegMalovichko  332512  Ghost   \n",
       "\n",
       "                                       genres    budget  \\\n",
       "580    Fantasy Drama Thriller Mystery Romance  22000000   \n",
       "35363                   Mystery Drama Fantasy         0   \n",
       "35364                   Mystery Drama Fantasy         0   \n",
       "44825                           Family Comedy         0   \n",
       "\n",
       "                                                overview  popularity  \\\n",
       "580    Sam Wheat is a banker, Molly Jensen is an arti...   11.945397   \n",
       "35363  Nanami Hoshino, a wealthy entrepreneur, marrie...    0.215013   \n",
       "35364  Nanami Hoshino, a wealthy entrepreneur, marrie...    0.215013   \n",
       "44825  An aircraft designer becomes a ghost after a s...    1.041195   \n",
       "\n",
       "      production_companies   production_countries      revenue  runtime  \\\n",
       "580      ParamountPictures  UnitedStatesofAmerica  505000000.0    127.0   \n",
       "35363                            Japan SouthKorea    9833553.0    116.0   \n",
       "35364                            Japan SouthKorea    9833553.0    116.0   \n",
       "44825       CTBFilmCompany                 Russia    3300000.0     90.0   \n",
       "\n",
       "       vote_average  vote_count  \\\n",
       "580             6.9      1381.0   \n",
       "35363           4.3         4.0   \n",
       "35364           4.3         4.0   \n",
       "44825           6.0        12.0   \n",
       "\n",
       "                                                keywords  \n",
       "580    corruption fortune teller money transfer money...  \n",
       "35363                                                     \n",
       "35364                                                     \n",
       "44825                                                     "
      ]
     },
     "execution_count": 181,
     "metadata": {},
     "output_type": "execute_result"
    }
   ],
   "source": [
    "data2[data2['title'] == 'Ghost']"
   ]
  },
  {
   "cell_type": "code",
   "execution_count": 173,
   "id": "c380c102-c65c-427a-ac67-d46a532fe319",
   "metadata": {},
   "outputs": [],
   "source": [
    "# data.to_csv('dirty_df_anew')"
   ]
  },
  {
   "cell_type": "code",
   "execution_count": 183,
   "id": "ef4a6b8c-f0fe-4187-9552-6ca977e7ffaf",
   "metadata": {},
   "outputs": [],
   "source": [
    "data2.to_csv('dirty_df.csv')"
   ]
  },
  {
   "cell_type": "code",
   "execution_count": 186,
   "id": "8fe8a179-ba59-4ce3-86f7-b32c299c4d6f",
   "metadata": {},
   "outputs": [],
   "source": [
    "release_date = df4[['release_date', 'id']]"
   ]
  },
  {
   "cell_type": "code",
   "execution_count": 187,
   "id": "ee0df7ac-36c4-428c-b5df-84bf8cb8f25e",
   "metadata": {},
   "outputs": [
    {
     "data": {
      "text/html": [
       "<div><div id=5a550e7c-c226-4a95-ba32-076f27047249 style=\"display:none; background-color:#9D6CFF; color:white; width:200px; height:30px; padding-left:5px; border-radius:4px; flex-direction:row; justify-content:space-around; align-items:center;\" onmouseover=\"this.style.backgroundColor='#BA9BF8'\" onmouseout=\"this.style.backgroundColor='#9D6CFF'\" onclick=\"window.commands?.execute('create-mitosheet-from-dataframe-output');\">See Full Dataframe in Mito</div> <script> if (window.commands?.hasCommand('create-mitosheet-from-dataframe-output')) document.getElementById('5a550e7c-c226-4a95-ba32-076f27047249').style.display = 'flex' </script> <table border=\"1\" class=\"dataframe\">\n",
       "  <thead>\n",
       "    <tr style=\"text-align: right;\">\n",
       "      <th></th>\n",
       "      <th>release_date</th>\n",
       "      <th>id</th>\n",
       "    </tr>\n",
       "  </thead>\n",
       "  <tbody>\n",
       "    <tr>\n",
       "      <th>0</th>\n",
       "      <td>1995-10-30</td>\n",
       "      <td>862</td>\n",
       "    </tr>\n",
       "    <tr>\n",
       "      <th>1</th>\n",
       "      <td>1995-12-15</td>\n",
       "      <td>8844</td>\n",
       "    </tr>\n",
       "    <tr>\n",
       "      <th>2</th>\n",
       "      <td>1995-12-22</td>\n",
       "      <td>15602</td>\n",
       "    </tr>\n",
       "    <tr>\n",
       "      <th>3</th>\n",
       "      <td>1995-12-22</td>\n",
       "      <td>31357</td>\n",
       "    </tr>\n",
       "    <tr>\n",
       "      <th>4</th>\n",
       "      <td>1995-02-10</td>\n",
       "      <td>11862</td>\n",
       "    </tr>\n",
       "    <tr>\n",
       "      <th>...</th>\n",
       "      <td>...</td>\n",
       "      <td>...</td>\n",
       "    </tr>\n",
       "    <tr>\n",
       "      <th>45461</th>\n",
       "      <td>NaN</td>\n",
       "      <td>439050</td>\n",
       "    </tr>\n",
       "    <tr>\n",
       "      <th>45462</th>\n",
       "      <td>2011-11-17</td>\n",
       "      <td>111109</td>\n",
       "    </tr>\n",
       "    <tr>\n",
       "      <th>45463</th>\n",
       "      <td>2003-08-01</td>\n",
       "      <td>67758</td>\n",
       "    </tr>\n",
       "    <tr>\n",
       "      <th>45464</th>\n",
       "      <td>1917-10-21</td>\n",
       "      <td>227506</td>\n",
       "    </tr>\n",
       "    <tr>\n",
       "      <th>45465</th>\n",
       "      <td>2017-06-09</td>\n",
       "      <td>461257</td>\n",
       "    </tr>\n",
       "  </tbody>\n",
       "</table></div>"
      ],
      "text/plain": [
       "      release_date      id\n",
       "0       1995-10-30     862\n",
       "1       1995-12-15    8844\n",
       "2       1995-12-22   15602\n",
       "3       1995-12-22   31357\n",
       "4       1995-02-10   11862\n",
       "...            ...     ...\n",
       "45461          NaN  439050\n",
       "45462   2011-11-17  111109\n",
       "45463   2003-08-01   67758\n",
       "45464   1917-10-21  227506\n",
       "45465   2017-06-09  461257\n",
       "\n",
       "[45460 rows x 2 columns]"
      ]
     },
     "execution_count": 187,
     "metadata": {},
     "output_type": "execute_result"
    }
   ],
   "source": [
    "release_date"
   ]
  },
  {
   "cell_type": "code",
   "execution_count": 189,
   "id": "90538c6a-2d0b-4784-a7c5-2639c8558d5d",
   "metadata": {},
   "outputs": [],
   "source": [
    "data2 = data2.merge(release_date, on='id')"
   ]
  },
  {
   "cell_type": "code",
   "execution_count": 190,
   "id": "fb7c3641-7857-402d-bcac-f4917d76fcbb",
   "metadata": {},
   "outputs": [],
   "source": [
    "data2.to_csv('dirty_df.csv')"
   ]
  },
  {
   "cell_type": "code",
   "execution_count": null,
   "id": "700ef8b7-0ac9-4fe6-91af-5921e27dc707",
   "metadata": {},
   "outputs": [],
   "source": []
  }
 ],
 "metadata": {
  "kernelspec": {
   "display_name": "Python 3 (ipykernel)",
   "language": "python",
   "name": "python3"
  },
  "language_info": {
   "codemirror_mode": {
    "name": "ipython",
    "version": 3
   },
   "file_extension": ".py",
   "mimetype": "text/x-python",
   "name": "python",
   "nbconvert_exporter": "python",
   "pygments_lexer": "ipython3",
   "version": "3.9.7"
  }
 },
 "nbformat": 4,
 "nbformat_minor": 5
}
