{
 "cells": [
  {
   "cell_type": "code",
   "execution_count": 1,
   "id": "ece4f04a-702e-4331-9534-326998b5c6ce",
   "metadata": {},
   "outputs": [],
   "source": [
    "import pandas as pd\n",
    "import numpy as np\n",
    "import os\n",
    "import acquire_nick as get\n",
    "import prepare_nick as prep\n",
    "import re\n",
    "import wrangle as w"
   ]
  },
  {
   "cell_type": "code",
   "execution_count": 5,
   "id": "fe084f1a-5783-4425-bfe8-2b170a84c281",
   "metadata": {},
   "outputs": [
    {
     "name": "stdout",
     "output_type": "stream",
     "text": [
      "Using cached CSV\n"
     ]
    }
   ],
   "source": [
    "df = w.wrangle_df()"
   ]
  },
  {
   "cell_type": "code",
   "execution_count": 7,
   "id": "b87a079e-1201-46a7-9465-f0f7842dfe4e",
   "metadata": {},
   "outputs": [
    {
     "data": {
      "text/plain": [
       "Index(['id', 'title', 'success', 'success_rating', 'genres', 'cast_actor_1',\n",
       "       'cast_actor_2', 'cast_actor_3', 'total_n_cast', 'budget', 'revenue',\n",
       "       'profit_amount', 'vote_average', 'vote_count', 'production_companies',\n",
       "       'production_countries', 'overview', 'popularity', 'runtime',\n",
       "       'profitable', 'release_date', 'release_year', 'runtime.1', 'imdb_id'],\n",
       "      dtype='object')"
      ]
     },
     "execution_count": 7,
     "metadata": {},
     "output_type": "execute_result"
    }
   ],
   "source": [
    "df.columns"
   ]
  },
  {
   "cell_type": "code",
   "execution_count": null,
   "id": "b133bba6-6de0-4bb5-98dd-636938b6c17c",
   "metadata": {},
   "outputs": [],
   "source": []
  }
 ],
 "metadata": {
  "kernelspec": {
   "display_name": "Python 3 (ipykernel)",
   "language": "python",
   "name": "python3"
  },
  "language_info": {
   "codemirror_mode": {
    "name": "ipython",
    "version": 3
   },
   "file_extension": ".py",
   "mimetype": "text/x-python",
   "name": "python",
   "nbconvert_exporter": "python",
   "pygments_lexer": "ipython3",
   "version": "3.9.7"
  }
 },
 "nbformat": 4,
 "nbformat_minor": 5
}
