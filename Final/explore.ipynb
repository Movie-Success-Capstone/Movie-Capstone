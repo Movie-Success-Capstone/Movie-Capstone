{
 "cells": [
  {
   "cell_type": "markdown",
   "id": "c2e4a2e8",
   "metadata": {},
   "source": [
    "# Finding the Hollywood Formula, Movie Dataset Analysis"
   ]
  },
  {
   "cell_type": "markdown",
   "id": "52c9d1ff",
   "metadata": {},
   "source": [
    "### Project Goal: \n",
    "\n",
    "What is the movie formula? A statistical analysis approach  to predicting successful movie.\n",
    "\n",
    "### Stakeholders: \n",
    "Movie directors and general public"
   ]
  },
  {
   "cell_type": "markdown",
   "id": "2fc3ca77",
   "metadata": {},
   "source": [
    "#### Get all import libraries"
   ]
  },
  {
   "cell_type": "code",
   "execution_count": 1,
   "id": "fd7c1ae2",
   "metadata": {},
   "outputs": [
    {
     "ename": "ModuleNotFoundError",
     "evalue": "No module named 'nick_mod'",
     "output_type": "error",
     "traceback": [
      "\u001b[0;31m---------------------------------------------------------------------------\u001b[0m",
      "\u001b[0;31mModuleNotFoundError\u001b[0m                       Traceback (most recent call last)",
      "\u001b[0;32m/var/folders/08/8cpsy8b90ddg4tfjy9502gzw0000gn/T/ipykernel_3533/1123038492.py\u001b[0m in \u001b[0;36m<module>\u001b[0;34m\u001b[0m\n\u001b[0;32m----> 1\u001b[0;31m \u001b[0;32mfrom\u001b[0m \u001b[0mlibraries\u001b[0m \u001b[0;32mimport\u001b[0m\u001b[0;34m*\u001b[0m\u001b[0;34m\u001b[0m\u001b[0;34m\u001b[0m\u001b[0m\n\u001b[0m",
      "\u001b[0;32m~/codeup-data-science/capstone-project/Final/libraries.py\u001b[0m in \u001b[0;36m<module>\u001b[0;34m\u001b[0m\n\u001b[1;32m     23\u001b[0m \u001b[0;32mfrom\u001b[0m \u001b[0mwrangle\u001b[0m \u001b[0;32mimport\u001b[0m\u001b[0;34m*\u001b[0m\u001b[0;34m\u001b[0m\u001b[0;34m\u001b[0m\u001b[0m\n\u001b[1;32m     24\u001b[0m \u001b[0;32mfrom\u001b[0m \u001b[0mmodeling\u001b[0m \u001b[0;32mimport\u001b[0m\u001b[0;34m*\u001b[0m\u001b[0;34m\u001b[0m\u001b[0;34m\u001b[0m\u001b[0m\n\u001b[0;32m---> 25\u001b[0;31m \u001b[0;32mfrom\u001b[0m \u001b[0mpre_processing\u001b[0m \u001b[0;32mimport\u001b[0m\u001b[0;34m*\u001b[0m\u001b[0;34m\u001b[0m\u001b[0;34m\u001b[0m\u001b[0m\n\u001b[0m\u001b[1;32m     26\u001b[0m \u001b[0;34m\u001b[0m\u001b[0m\n\u001b[1;32m     27\u001b[0m \u001b[0;34m\u001b[0m\u001b[0m\n",
      "\u001b[0;32m~/codeup-data-science/capstone-project/Final/pre_processing.py\u001b[0m in \u001b[0;36m<module>\u001b[0;34m\u001b[0m\n\u001b[1;32m     30\u001b[0m \u001b[0;32mimport\u001b[0m \u001b[0mseaborn\u001b[0m \u001b[0;32mas\u001b[0m \u001b[0msns\u001b[0m\u001b[0;34m\u001b[0m\u001b[0;34m\u001b[0m\u001b[0m\n\u001b[1;32m     31\u001b[0m \u001b[0;32mimport\u001b[0m \u001b[0mmatplotlib\u001b[0m\u001b[0;34m.\u001b[0m\u001b[0mpyplot\u001b[0m \u001b[0;32mas\u001b[0m \u001b[0mplt\u001b[0m\u001b[0;34m\u001b[0m\u001b[0;34m\u001b[0m\u001b[0m\n\u001b[0;32m---> 32\u001b[0;31m \u001b[0;32mimport\u001b[0m \u001b[0mnick_mod\u001b[0m \u001b[0;32mas\u001b[0m \u001b[0mmod\u001b[0m\u001b[0;34m\u001b[0m\u001b[0;34m\u001b[0m\u001b[0m\n\u001b[0m\u001b[1;32m     33\u001b[0m \u001b[0;32mfrom\u001b[0m \u001b[0msklearn\u001b[0m\u001b[0;34m.\u001b[0m\u001b[0mmodel_selection\u001b[0m \u001b[0;32mimport\u001b[0m \u001b[0mGridSearchCV\u001b[0m\u001b[0;34m\u001b[0m\u001b[0;34m\u001b[0m\u001b[0m\n\u001b[1;32m     34\u001b[0m \u001b[0;31m#----------------------------------------------------------------------------------------------------------|\u001b[0m\u001b[0;34m\u001b[0m\u001b[0;34m\u001b[0m\u001b[0m\n",
      "\u001b[0;31mModuleNotFoundError\u001b[0m: No module named 'nick_mod'"
     ]
    }
   ],
   "source": [
    "from libraries import*"
   ]
  },
  {
   "cell_type": "markdown",
   "id": "a7ac7002",
   "metadata": {},
   "source": [
    "# Planning \n",
    "See planning section of the final_report.py\n",
    "https://github.com/Movie-Success-Capstone/Movie-Capstone/blob/main/Final/final_report.ipynb"
   ]
  },
  {
   "cell_type": "markdown",
   "id": "1a0ab2c3",
   "metadata": {},
   "source": [
    "# Data Acquisition"
   ]
  },
  {
   "cell_type": "code",
   "execution_count": null,
   "id": "65d997fe",
   "metadata": {},
   "outputs": [],
   "source": [
    "# Call the acquire function & cache the files locally\n",
    "df = wrangle_df()"
   ]
  },
  {
   "cell_type": "markdown",
   "id": "161ce6eb",
   "metadata": {},
   "source": [
    "# Data Preparation\n",
    "\n",
    "The parent module for both data acquisition and preparation are included in the final)acquire module. Within the same module file, specific tasts are divided by individualized function to better enhance readability. Wrangle_df function is the resultant that collectively hosts calls to the main prep_data function function for the our data preparation. This function uses local data caching method to enhance data loading speeds.\n",
    "\n",
    "##### Prep_data function\n",
    "Drops unnecessary columns\n",
    "\n",
    "Drops individual row nulls and any duplicated values\n",
    "\n",
    "Applies median budget values for budget between 0 to 1,000,000\n",
    "\n",
    "Appends names(with whitespace) on genres columns\n",
    "\n",
    "Returns profitable as type bool for explorations\n",
    "\n",
    "Extracts nested dictionary data from columns production_company and cast\n",
    "\n",
    "One hot ecode data for modeling\n",
    "\n",
    "Feature engineer columns:\n",
    "\n",
    "Release_year\n",
    "Release_date\n",
    "Profitable\n",
    "Success\n",
    "Profit_amount {revenue - budget}\n",
    "Success_rating {(revenue / budget) * 2] * vote_average}\n",
    "Sets dataframe index as id\n",
    "\n",
    "Saved a clean.csv file for explorations.\n",
    "\n",
    "Explain variables as defined in the project through graphical data dictionary representation\n",
    "\n",
    "Train_validate_test_split function\n",
    "Splits the dataset into train, validate, and test sets for exploration and modeling.\n",
    "\n",
    "\n"
   ]
  },
  {
   "cell_type": "code",
   "execution_count": null,
   "id": "eb1486ea",
   "metadata": {},
   "outputs": [],
   "source": [
    "# Check for overall nulls\n",
    "\n",
    "df.isna().sum()"
   ]
  },
  {
   "cell_type": "code",
   "execution_count": null,
   "id": "bda10fa4",
   "metadata": {},
   "outputs": [],
   "source": [
    "# Nulls by cols \n",
    "\n",
    "nulls_by_col(df)"
   ]
  },
  {
   "cell_type": "code",
   "execution_count": null,
   "id": "794a84dd",
   "metadata": {},
   "outputs": [],
   "source": [
    "# Nulls by rows \n",
    "\n",
    "nulls_by_row(df)"
   ]
  },
  {
   "cell_type": "code",
   "execution_count": null,
   "id": "ebd4d1db",
   "metadata": {
    "scrolled": false
   },
   "outputs": [],
   "source": [
    "# Examine the nulls in the genres columns\n",
    "\n",
    "df.genres.isna().value_counts()"
   ]
  },
  {
   "cell_type": "code",
   "execution_count": null,
   "id": "0910f95c",
   "metadata": {},
   "outputs": [],
   "source": [
    "# Drop the 2 rows missing values in the genres column\n",
    "\n",
    "df = df.dropna(subset=['genres'])"
   ]
  },
  {
   "cell_type": "code",
   "execution_count": null,
   "id": "2fd6c947",
   "metadata": {},
   "outputs": [],
   "source": [
    "# Examine the nulls again in the genres columns\n",
    "\n",
    "df.genres.isna().value_counts()"
   ]
  },
  {
   "cell_type": "code",
   "execution_count": null,
   "id": "499e7932",
   "metadata": {},
   "outputs": [],
   "source": [
    "# Dataframe display\n",
    "\n",
    "df.head(3)"
   ]
  },
  {
   "cell_type": "code",
   "execution_count": null,
   "id": "2a57aa17",
   "metadata": {},
   "outputs": [],
   "source": [
    "# Get the population dataframe shape\n",
    "df.shape"
   ]
  },
  {
   "cell_type": "code",
   "execution_count": null,
   "id": "f2a94704",
   "metadata": {},
   "outputs": [],
   "source": [
    "# Set release_date columns to date time formart before splitting\n",
    "df['release_date'] = pd.to_datetime(df['release_date'])"
   ]
  },
  {
   "cell_type": "markdown",
   "id": "4c9cc97f",
   "metadata": {},
   "source": [
    "### Split the data into train, validate, test"
   ]
  },
  {
   "cell_type": "code",
   "execution_count": null,
   "id": "d73f7b66",
   "metadata": {},
   "outputs": [],
   "source": [
    "# Spit dataframe into train, validate & test\n",
    "\n",
    "train, validate, test = train_validate_test_split(df)\n",
    "train.shape, validate.shape, test.shape"
   ]
  },
  {
   "cell_type": "markdown",
   "id": "b7ff6673",
   "metadata": {},
   "source": [
    "## Explore\n",
    "\n",
    "With the project goal in consideration, the project asks the following initial questions to guide our understanding of the features and their correlations. \n",
    "\n",
    "### Initial Questions:\n",
    "- 1. Is there a relationship between budget and profit?\n",
    "- 2. What are the top 5 highest voted movies?\n",
    "- 3. Top 5 Movies with the largest return on investment(ROI)?\n",
    "- 4. Which top 5 genres have the lease return on investment(ROI)?\n",
    "- 5. Are there production studios that are more likely to succeed than others?\n",
    "- 6. What are the drivers for less successive movies categories?\n",
    "- 7. Is there a correlations between runtime for successful movies vs unsuccessful movies\n",
    "- 8. Are long movies (runtime > 120 min) likely to have more success than short movies \n",
    "- 9. Which release months, days are movies likely to be successful?\n",
    "- 10. Is there a relationship of profit amount with release month and day of the week?\n",
    " "
   ]
  },
  {
   "cell_type": "code",
   "execution_count": null,
   "id": "08a87421",
   "metadata": {},
   "outputs": [],
   "source": [
    "# Set visualizations default colors\n",
    "\n",
    "bar_color = 'chocolate'\n",
    "background_color = 'bar_color'"
   ]
  },
  {
   "cell_type": "markdown",
   "id": "bc340896",
   "metadata": {},
   "source": [
    "> ## (a). Univariate Exploration"
   ]
  },
  {
   "cell_type": "code",
   "execution_count": null,
   "id": "7387993f",
   "metadata": {},
   "outputs": [],
   "source": [
    "# Target variable mean\n",
    "\n",
    "print(f'Overall success mean {(train.success.mean()) * 100}')"
   ]
  },
  {
   "cell_type": "code",
   "execution_count": null,
   "id": "132e51e0",
   "metadata": {},
   "outputs": [],
   "source": [
    "# Target variable \n",
    "\n",
    "train.success.hist(grid = False, \n",
    "                   cumulative= False, \n",
    "                   edgecolor = 'black', \n",
    "                   fill = True,\n",
    "                   density=True, \n",
    "                   bins = 5,\n",
    "                   facecolor = bar_color)\n",
    "plt.title('Target Variable Distribution', size = 16)\n",
    "plt.xlabel('Success == 1, Un-successful == 0', size = 16)\n",
    "plt.ylabel('Count #', size = 16)\n",
    "plt.show()\n"
   ]
  },
  {
   "cell_type": "code",
   "execution_count": null,
   "id": "82d1f91a",
   "metadata": {},
   "outputs": [],
   "source": [
    "# Other univariate features\n",
    "\n",
    "train.hist(figsize = (20, 15), grid = False, \n",
    "                   cumulative= False, \n",
    "                   edgecolor = 'black', \n",
    "                   fill = True,\n",
    "                   density=True, \n",
    "                   bins = 5,\n",
    "                   facecolor = bar_color)\n",
    "plt.show()"
   ]
  },
  {
   "cell_type": "code",
   "execution_count": null,
   "id": "af9499b7",
   "metadata": {},
   "outputs": [],
   "source": [
    "# Mean average for all successful movies\n",
    "\n",
    "success_movies_subset = train[train.success == 1]\n",
    "success_movies_subset.mean()"
   ]
  },
  {
   "cell_type": "code",
   "execution_count": null,
   "id": "d9cabe8e",
   "metadata": {
    "scrolled": false
   },
   "outputs": [],
   "source": [
    "# Overall successful movies overtime\n",
    "\n",
    "train.release_year.hist(grid = False, \n",
    "                   cumulative= False, \n",
    "                   edgecolor = 'black', \n",
    "                   fill = True,\n",
    "                   density = True, \n",
    "                   bins = 5,\n",
    "                   facecolor = bar_color)\n",
    "plt.show()"
   ]
  },
  {
   "cell_type": "code",
   "execution_count": null,
   "id": "581e2ecd",
   "metadata": {},
   "outputs": [],
   "source": [
    "# Successful movies by year\n",
    "\n",
    "success_movies_subset.release_year.hist(grid = False, \n",
    "                   cumulative= False, \n",
    "                   edgecolor = 'black', \n",
    "                   fill = True,\n",
    "                   density=True, \n",
    "                   bins = 5,\n",
    "                   facecolor = bar_color)\n",
    "plt.show()"
   ]
  },
  {
   "cell_type": "code",
   "execution_count": null,
   "id": "58932acf",
   "metadata": {},
   "outputs": [],
   "source": [
    "# Profits by adventure genre\n",
    "\n",
    "ax = sns.barplot(x=\"is_genre_adventure\", \n",
    "                     y = 'success', \n",
    "                     data=train, \n",
    "                     hue = 'profitable')\n",
    "plt.title('Adventure Profit Distribution', size = 16)\n",
    "plt.xlabel('Genre: Adventure', size = 16)\n",
    "plt.ylabel('Success Measure', size = 16)\n",
    "plt.show()"
   ]
  },
  {
   "cell_type": "code",
   "execution_count": null,
   "id": "23219b2d",
   "metadata": {},
   "outputs": [],
   "source": [
    "# Create list of genres\n",
    "\n",
    "genres_list = ['is_genre_adventure',\n",
    "              'is_genre_horror',\n",
    "               'is_genre_drama',\n",
    "               'is_genre_scifi',\n",
    "               'is_genre_romance',\n",
    "               'is_genre_thriller',\n",
    "               'is_genre_crime',\n",
    "               'is_genre_comedy',\n",
    "               'is_genre_animation',\n",
    "               'is_genre_action',\n",
    "               'is_genre_mystery',\n",
    "               'is_genre_fantasy',\n",
    "               'is_genre_documentary']"
   ]
  },
  {
   "cell_type": "markdown",
   "id": "88205023",
   "metadata": {},
   "source": [
    "### Univariate takeaways\n",
    "\n",
    "- 38.9% of movies in the dataset succeeded and 61.1% less likely to succeed\n",
    "- Vote average and runtime appears normally distributed"
   ]
  },
  {
   "cell_type": "markdown",
   "id": "f1e8ec24",
   "metadata": {},
   "source": [
    "> ## (b). Bi-variate Exploration"
   ]
  },
  {
   "cell_type": "markdown",
   "id": "2b3ec79e",
   "metadata": {},
   "source": [
    "### 1.  Is there a relationship between budget and profit?\n"
   ]
  },
  {
   "cell_type": "code",
   "execution_count": null,
   "id": "60d55ecc",
   "metadata": {},
   "outputs": [],
   "source": [
    "# Budget vs profit relationship\n",
    "\n",
    "ax = sns.lineplot(data = train, \n",
    "                x = 'budget', \n",
    "                y = 'ROI', \n",
    "                hue='success')\n",
    "plt.title('Movie Budget vs Profit Distribution (Low Budget)', size = 16)\n",
    "plt.xlabel('Budget(USD * 1 Million)', size = 16)\n",
    "plt.ylabel('Return on Investment(%)', size = 16)\n",
    "plt.xlim(1_000_000, 8_000_000)\n",
    "plt.show()"
   ]
  },
  {
   "cell_type": "code",
   "execution_count": null,
   "id": "9a8500db",
   "metadata": {},
   "outputs": [],
   "source": [
    "# Budget vs profit relationship\n",
    "\n",
    "ax = sns.lineplot(data = train, \n",
    "                x = 'budget', \n",
    "                y = 'ROI', \n",
    "                hue='success')\n",
    "plt.title('Movie Budget vs Profit Distribution (Avg Budget)', size = 16)\n",
    "plt.xlabel('Budget(USD * 10 Million)', size = 16)\n",
    "plt.ylabel('Return on Investment(%)', size = 16)\n",
    "plt.ylim(0,17 )\n",
    "plt.xlim(8_000_000, 15_000_000)\n",
    "plt.show()"
   ]
  },
  {
   "cell_type": "code",
   "execution_count": null,
   "id": "29dc92bc",
   "metadata": {},
   "outputs": [],
   "source": [
    "# Budget vs profit relationship\n",
    "\n",
    "ax = sns.lineplot(data = train, \n",
    "                x = 'budget', \n",
    "                y = 'ROI', \n",
    "                hue='success')\n",
    "plt.title('Movie Budget vs Profit Distribution (High Budget)', size = 16)\n",
    "plt.xlabel('Budget(USD * 10 Million)', size = 16)\n",
    "plt.ylabel('Return on Investment(%)', size = 16)\n",
    "plt.ylim(0,15 )\n",
    "plt.xlim(15_000_000, 36_000_000)\n",
    "plt.show()"
   ]
  },
  {
   "cell_type": "code",
   "execution_count": null,
   "id": "5ffb491a",
   "metadata": {},
   "outputs": [],
   "source": [
    "# Budget vs profit relationship\n",
    "\n",
    "ax = sns.lineplot(data = train, \n",
    "                x = 'budget', \n",
    "                y = 'ROI', \n",
    "                hue='success')\n",
    "plt.title('Movie Budget vs Profit Distribution (Very High Budget)', size = 16)\n",
    "plt.xlabel('Budget(USD * 100 Million)', size = 16)\n",
    "plt.ylabel('Return on Investment(%)', size = 16)\n",
    "plt.ylim(0,17 )\n",
    "plt.xlim(36_000_000, )\n",
    "plt.show()"
   ]
  },
  {
   "cell_type": "markdown",
   "id": "0c8a9a6c",
   "metadata": {},
   "source": [
    "__Interpretation:__ For movies with budget slightly above 3 million, return on investment appears  "
   ]
  },
  {
   "cell_type": "markdown",
   "id": "01a64802",
   "metadata": {},
   "source": [
    "### 2. What are the top 5 highest voted movies?"
   ]
  },
  {
   "cell_type": "code",
   "execution_count": null,
   "id": "a021f26b",
   "metadata": {},
   "outputs": [],
   "source": [
    "# 5 Highly rated movies\n",
    "cols = ['title', 'success_rating']\n",
    "movie_ratings_df = train.sort_values('success_rating', ascending = False)[cols].set_index('title')\n",
    "\n",
    "# Create top five movies objects\n",
    "top_5_rated_movies = movie_ratings_df.head(5)\n",
    "\n",
    "# Plot the plots \n",
    "sns.barplot(data = top_5_rated_movies, x = top_5_rated_movies.index, y = 'success_rating');\n",
    "plt.xticks(ha = 'left', rotation = -20, fontsize = 16); plt.yticks(fontsize = 16)\n",
    "plt.title('Top 5 Highly Rated Movies', fontsize = 16)\n",
    "plt.ylabel('Ratings Count', size = 16)\n",
    "plt.xlabel('Movie Title', size = 16)\n",
    "plt.show()"
   ]
  },
  {
   "cell_type": "markdown",
   "id": "60104f50",
   "metadata": {},
   "source": [
    "__Interpretation:__ Highly rated movie is the Alice in the Wonderland. This is received almost twice the ratings amount than the fifth movie"
   ]
  },
  {
   "cell_type": "markdown",
   "id": "f6febfed",
   "metadata": {},
   "source": [
    "### 3. What are the least 5 rated movies?"
   ]
  },
  {
   "cell_type": "code",
   "execution_count": null,
   "id": "7aec38e7",
   "metadata": {},
   "outputs": [],
   "source": [
    "# Bottom 5 least voted movies\n",
    "cols = ['title', 'success_rating']\n",
    "movie_ratings_df = train.sort_values('success_rating', ascending = True)[cols].set_index('title')\n",
    "\n",
    "# Create bottom 5 object\n",
    "bottom_5 = movie_ratings_df.tail(5)\n",
    "\n",
    "# Plot the visuals \n",
    "sns.barplot(data = bottom_5, \n",
    "                x = bottom_5.index, \n",
    "                y = 'success_rating');\n",
    "\n",
    "plt.xticks(ha = 'left', rotation = -20, fontsize = 16); plt.yticks(fontsize = 16)\n",
    "plt.title('Least 5 Rated Movies', fontsize = 16)\n",
    "plt.ylabel('Ratings Count', size = 16)\n",
    "plt.xlabel('Movie Title', size = 16)\n",
    "plt.show()"
   ]
  },
  {
   "cell_type": "markdown",
   "id": "8467c203",
   "metadata": {},
   "source": [
    "__Interpretation:__ Overall, least rated movie is the \"Teddy Bear's Picnic\""
   ]
  },
  {
   "cell_type": "markdown",
   "id": "6dbf244f",
   "metadata": {},
   "source": [
    "### 4. Top 5 Movies with the largest Return On Investment(ROI)?\n",
    "\n",
    "\n",
    "Return on investment (ROI) is a business-focused interpretation for movie financial gain over the initial monetary investment.  In this dataset, ROI is calculated by:\n",
    "\n",
    "`ROI = (df.revenue - df.budget)`"
   ]
  },
  {
   "cell_type": "code",
   "execution_count": null,
   "id": "bac78765",
   "metadata": {},
   "outputs": [],
   "source": [
    "# Top 5 least profitable movies\n",
    "cols = ['title', 'ROI']\n",
    "\n",
    "revenue_df = train.sort_values('ROI', ascending = False)[cols].set_index('title')\n",
    "\n",
    "# Create top 5 movies subsets\n",
    "top_5 = revenue_df.head(5)\n",
    "\n",
    "# Plot the visuals \n",
    "sns.barplot(data = top_5, x = top_5.index, y = 'ROI');\n",
    "plt.xticks(ha = 'left', rotation = -20, fontsize = 16); plt.yticks(fontsize = 16)\n",
    "plt.title('Top 5 Movie With The Highest ROI', fontsize = 16)\n",
    "plt.ylabel('Return on Investment (ROI)', size = 16)\n",
    "plt.xlabel('Movie Title', size = 16)\n",
    "plt.show()"
   ]
  },
  {
   "cell_type": "markdown",
   "id": "6ed3cdd8",
   "metadata": {},
   "source": [
    "> What characteristics do successful movies have?"
   ]
  },
  {
   "cell_type": "code",
   "execution_count": null,
   "id": "fce4395c",
   "metadata": {},
   "outputs": [],
   "source": [
    "# ROI success\n",
    "\n",
    "train.groupby('success')['ROI'].mean()"
   ]
  },
  {
   "cell_type": "code",
   "execution_count": null,
   "id": "86965bdb",
   "metadata": {
    "run_control": {
     "marked": false
    }
   },
   "outputs": [],
   "source": [
    "# Return on investments for top performing movies\n",
    "\n",
    "lost_in_thailand = train[train.title == 'Lost in Thailand']\n",
    "the_full_monty = train[train.title == 'The Full Monty']\n",
    "jaws = train[train.title == 'Jaws']\n",
    "crocodile_dundee = train[train.title == 'Crocodile Dundee']\n",
    "insidious = train[train.title == 'Insidious']\n",
    "\n",
    "print('--------Return on Investment---------\\n')\n",
    "print(f'Lost in Thailand: {lost_in_thailand.ROI}\\n---------')\n",
    "print(f': The Full Misty: {the_full_monty.ROI}\\n---------')\n",
    "print(f'Jaws: {jaws.ROI}\\n---------')\n",
    "print(f'Crocodile Dundee: {crocodile_dundee.ROI}\\n---------')\n",
    "print(f'Insidious: {insidious.ROI}')\n",
    "print('-----------------------')\n",
    "\n",
    "None"
   ]
  },
  {
   "cell_type": "markdown",
   "id": "2dc37f7f",
   "metadata": {},
   "source": [
    "__Interpretation:__ `Alice in the Wonderland` is the most successful movie in this exploration. Follow up questions:\n",
    " - Why is `Alice in the Wonderland` more successful than all the other movies? \n",
    " - What genres are these successful movies in?"
   ]
  },
  {
   "cell_type": "markdown",
   "id": "d69355ca",
   "metadata": {},
   "source": [
    "### 4. Top 5 Movies with the least Return On Investment (ROI)?\n"
   ]
  },
  {
   "cell_type": "code",
   "execution_count": null,
   "id": "7dc54e26",
   "metadata": {},
   "outputs": [],
   "source": [
    "# Top 5 least profitable movies\n",
    "cols = ['title', 'ROI']\n",
    "\n",
    "revenue_df = train.sort_values('ROI', ascending = True)[cols].set_index('title')\n",
    "\n",
    "# Create top 5 movies subsets\n",
    "bottom_5 = revenue_df.head(5)\n",
    "\n",
    "# Plot the visuals \n",
    "sns.barplot(data = bottom_5, x = bottom_5.index, y = 'ROI');\n",
    "plt.xticks(ha = 'left', rotation = -20, fontsize = 16); plt.yticks(fontsize = 16)\n",
    "plt.title('Top 5 Movie With The Highest ROI', fontsize = 16)\n",
    "# plt.ylim(-0.50_000_000,0)\n",
    "plt.ylabel('Return on Investment (ROI)', size = 16)\n",
    "plt.xlabel('Movie Title', size = 16)\n",
    "plt.show()"
   ]
  },
  {
   "cell_type": "code",
   "execution_count": null,
   "id": "fadb2f9f",
   "metadata": {},
   "outputs": [],
   "source": [
    "# Return on investments for top performing movies\n",
    "\n",
    "the_wind_in_the_willows = train[train.title == 'The Wind in the Willows']\n",
    "washington_sqaure = train[train.title == 'Washington Square']\n",
    "the_letters = train[train.title == 'The Letters']\n",
    "belizaire_the_cajun = train[train.title == 'Belizaire the Cajun']\n",
    "mute_witness = train[train.title == 'Mute Witness']\n",
    "\n",
    "print('--------Return on Investment (Least Performing Movies)---------\\n')\n",
    "print(f'The Wind in the Willows: {the_wind_in_the_willows.ROI}\\n---------')\n",
    "print(f': Washington Square: {washington_sqaure.ROI}\\n---------')\n",
    "print(f'The Letters: {the_letters.ROI}\\n---------')\n",
    "print(f'Belizaire the Cajun Dundee: {belizaire_the_cajun.ROI}\\n---------')\n",
    "print(f'Mute Witness: {mute_witness.ROI}')\n",
    "print('-----------------------')\n",
    "\n",
    "None"
   ]
  },
  {
   "cell_type": "code",
   "execution_count": null,
   "id": "4e14eb15",
   "metadata": {
    "run_control": {
     "marked": false
    }
   },
   "outputs": [],
   "source": [
    "# TOP ROI\n",
    "revenue_df = train.sort_values('ROI', ascending = False)[cols].set_index('title')\n",
    "revenue_df.head()"
   ]
  },
  {
   "cell_type": "code",
   "execution_count": null,
   "id": "cb53a108",
   "metadata": {},
   "outputs": [],
   "source": [
    "# LEAST ROI\n",
    "revenue_df = train.sort_values('ROI', ascending = True)[cols].set_index('title')\n",
    "revenue_df.head()"
   ]
  },
  {
   "cell_type": "markdown",
   "id": "a11f5d92",
   "metadata": {},
   "source": [
    "### 5. Which top 5 genres have the highest return on investment (ROI)?"
   ]
  },
  {
   "cell_type": "code",
   "execution_count": null,
   "id": "2a400005",
   "metadata": {},
   "outputs": [],
   "source": [
    "# Create top 5 most profitable subset\n",
    "top_5_most_profitable_movies = train.nlargest(n = 5, columns = ['ROI'])\n",
    "\n",
    "plt.title('Top 5 Successful Movie Genres', c = 'black', size = 16)\n",
    "\n",
    "ax = sns.barplot(x = 'genres',  y = 'ROI', data = top_5_most_profitable_movies)\n",
    "\n",
    "ax.bar_label(ax.containers[0])  \n",
    "# overall_movie_profit_mean = df.ROI.mean()\n",
    "plt.xticks(ha = 'left', rotation = -20, fontsize = 16); plt.yticks(fontsize = 16)\n",
    "# lib.plt.axhline(overall_movie_profit_mean, label=\"Overall Average ROI\", color = 'g')\n",
    "plt.ylabel('Return on Investment (ROI)', c = 'black', size = 16)\n",
    "plt.xlabel('Movie Genres', c = 'black', size = 16)\n",
    "# lib.plt.legend()\n",
    "plt.show()"
   ]
  },
  {
   "cell_type": "markdown",
   "id": "892ecb88",
   "metadata": {},
   "source": [
    "__Interpretation:__ Comedy appears to have highest profit. \n",
    "\n",
    "    - Why comedy and not action movies as previuosly discovered?"
   ]
  },
  {
   "cell_type": "markdown",
   "id": "534b9030",
   "metadata": {},
   "source": [
    "### 6. Which  5 genres have the least return on investment(ROI)?"
   ]
  },
  {
   "cell_type": "code",
   "execution_count": null,
   "id": "9e0b5315",
   "metadata": {},
   "outputs": [],
   "source": [
    "# Bottom 5 least profitable movies\n",
    "cols = ['title', 'ROI']\n",
    "movie_ratings_df = train.sort_values('ROI', ascending = False)[cols].set_index('title')\n",
    "\n",
    "# Create bottom 5 object\n",
    "bottom_5 = movie_ratings_df.tail(5)\n",
    "\n",
    "# Plot the visuals \n",
    "sns.barplot(data = top_5, \n",
    "                x = bottom_5.index, \n",
    "                y = 'ROI');\n",
    "\n",
    "plt.xticks(ha = 'left', rotation = -20, fontsize = 16); plt.yticks(fontsize = 16)\n",
    "plt.title('Least Return on Investment(ROI)', fontsize = 16)\n",
    "plt.ylabel('Return on Investment (ROI)', size = 16)\n",
    "plt.xlabel('Movie Title', size = 16)\n",
    "plt.show()"
   ]
  },
  {
   "cell_type": "markdown",
   "id": "0a1f76bd",
   "metadata": {},
   "source": [
    "__Interpretation:__ Least profitable movie is the `Belizaire the Cajun`."
   ]
  },
  {
   "cell_type": "markdown",
   "id": "05d84691",
   "metadata": {},
   "source": [
    "### 7. Which are the least 5 genres have the lowest profit?"
   ]
  },
  {
   "cell_type": "code",
   "execution_count": null,
   "id": "b52a1a83",
   "metadata": {
    "scrolled": false
   },
   "outputs": [],
   "source": [
    "# Create top 5 most profitable subset\n",
    "bottom_5_most_profitable_movies = train.nsmallest(n = 5, columns = ['profit_amount'])\n",
    "\n",
    "plt.title('Bottom 5 Successful Movie Genres', c = 'black', size = 16)\n",
    "\n",
    "ax = sns.barplot(x = 'genres',  y = 'profit_amount', data = bottom_5_most_profitable_movies)\n",
    "\n",
    "ax.bar_label(ax.containers[0])  \n",
    "overall_movie_profit_mean = df.profit_amount.mean()\n",
    "plt.xticks(ha = 'left', rotation = -20, fontsize = 16); plt.yticks(fontsize = 16)\n",
    "plt.axhline(overall_movie_profit_mean, label= 'Average Population Movie Success ', color = 'r')\n",
    "plt.ylabel('Profit Amount (x 10^9)', c = 'black', size = 16)\n",
    "plt.xlabel('Movie Genres', c = 'black', size = 16)\n",
    "\n",
    "plt.legend()\n",
    "plt.show()"
   ]
  },
  {
   "cell_type": "markdown",
   "id": "b5ca97f8",
   "metadata": {},
   "source": [
    "__Interpretation:__ Movies genres grouped in genres (Regex split**)"
   ]
  },
  {
   "cell_type": "markdown",
   "id": "a12fdaa4",
   "metadata": {},
   "source": [
    "### 8. Are there production studios that are more likely to succeed than others?\n"
   ]
  },
  {
   "cell_type": "code",
   "execution_count": null,
   "id": "63b3161f",
   "metadata": {},
   "outputs": [],
   "source": [
    "print(f'Number of unique production companies: {train.production_company.nunique()}')"
   ]
  },
  {
   "cell_type": "code",
   "execution_count": null,
   "id": "28db91dd",
   "metadata": {
    "scrolled": false
   },
   "outputs": [],
   "source": [
    "# Percentile success by production country\n",
    "\n",
    "train.groupby(['production_countries']).success.quantile().sort_values(ascending = False)"
   ]
  },
  {
   "cell_type": "code",
   "execution_count": null,
   "id": "ec653373",
   "metadata": {},
   "outputs": [],
   "source": [
    "us_production_companies = train[train.production_countries == 'UnitedStatesofAmerica']\n",
    "\n",
    "us_production_companies.groupby('production_countries').success.mean()"
   ]
  },
  {
   "cell_type": "markdown",
   "id": "aad3356b",
   "metadata": {},
   "source": [
    "__Interpretation:__ \n",
    "- There are 1316 unique production companies\n",
    "- Production countries needs a little more data prepation....... (Break by specific country)"
   ]
  },
  {
   "cell_type": "markdown",
   "id": "ad57e845",
   "metadata": {},
   "source": [
    "### 9. What are the drivers for less successive movies categories?\n"
   ]
  },
  {
   "cell_type": "code",
   "execution_count": null,
   "id": "5f183bf9",
   "metadata": {},
   "outputs": [],
   "source": [
    "# Get least successive movie subset\n",
    "\n",
    "cols = ['vote_average','profit_amount',\n",
    "        'vote_count','total_n_cast',\n",
    "        'budget','revenue','popularity',\n",
    "        'runtime','profitable',\n",
    "        'release_year','is_genre_adventure',\n",
    "        'is_genre_horror','is_genre_drama',\n",
    "        'is_genre_scifi','is_genre_romance',\n",
    "        'is_genre_thriller','is_genre_crime',\n",
    "        'is_genre_comedy','is_genre_animation',\n",
    "        'is_genre_action','is_genre_mystery',\n",
    "        'is_genre_fantasy','is_genre_documentary',\n",
    "        'release_month','release_day',\n",
    "        'is_long_movie','ROI']\n",
    "\n",
    "X_train = train[cols]\n",
    "Y_train = train.success\n",
    "\n",
    "X_validate = validate[cols]\n",
    "Y_validate = validate.success\n",
    "\n",
    "X_validate = test[cols]\n",
    "Y_validate = test.success"
   ]
  },
  {
   "cell_type": "markdown",
   "id": "7c3482da",
   "metadata": {},
   "source": [
    "> #### Using SelectKBest to find drivers for success"
   ]
  },
  {
   "cell_type": "code",
   "execution_count": null,
   "id": "1559df3a",
   "metadata": {},
   "outputs": [],
   "source": [
    "from sklearn.feature_selection import SelectKBest, f_regression, RFE, SequentialFeatureSelector\n",
    "\n",
    "## SelectKBest lib' already imported above. continuing....\n",
    "\n",
    "f_selector = SelectKBest(f_regression, k = 8)\n",
    "\n",
    "f_selector.fit(X_train, Y_train)\n",
    "\n",
    "feature_mask = f_selector.get_support()\n",
    "\n",
    "# get list of top K features. \n",
    "f_feature = X_train.iloc[:,feature_mask].columns.tolist()\n",
    "print(f'Key drivers for successful movies:\\n\\n {f_feature}')"
   ]
  },
  {
   "cell_type": "code",
   "execution_count": null,
   "id": "808de943",
   "metadata": {},
   "outputs": [],
   "source": [
    "f_selector_results = pd.DataFrame(dict(p = f_selector.pvalues_, \n",
    "                                  f = f_selector.scores_), \n",
    "                             index = X_train.columns)\n",
    "f_selector_results"
   ]
  },
  {
   "cell_type": "code",
   "execution_count": null,
   "id": "fa6fd050",
   "metadata": {},
   "outputs": [],
   "source": [
    "top_drivers = ['vote_average', 'profit_amount', \n",
    "               'vote_count', 'total_n_cast', \n",
    "               'revenue', 'popularity', \n",
    "               'profitable', 'ROI']\n",
    "\n",
    "corr_matrix = df[top_drivers].corr()\n",
    " \n",
    "# Plots\n",
    "sns.heatmap(corr_matrix, cmap='PuOr', annot = True)\n",
    "plt.title('Correlation of Key Drivers for Success', size = 16)\n",
    "plt.show()"
   ]
  },
  {
   "cell_type": "markdown",
   "id": "f5747899",
   "metadata": {},
   "source": [
    "__Interpretations:__ Features with highest drive for success are:\n",
    "\n",
    "- Vote Average\n",
    "- Profit Amount\n",
    "- Vote Count\n",
    "- Total in Cast\n",
    "- Revenue\n",
    "- Popularity\n",
    "- Profitable\n",
    "- Return on Investment(ROI)\n"
   ]
  },
  {
   "cell_type": "markdown",
   "id": "49b23ccd",
   "metadata": {},
   "source": [
    "### 10. Are long movies (runtime > 120 min) likely to have more success than short movies "
   ]
  },
  {
   "cell_type": "code",
   "execution_count": null,
   "id": "62071c0f",
   "metadata": {},
   "outputs": [],
   "source": [
    "# Movie success by runtime \n",
    "\n",
    "sns.countplot(data = train, y = 'is_long_movie', hue = 'success')\n",
    "plt.title('Movie Success vs Movie Length', size = 16)\n",
    "plt.xlabel('Success Counts #', size = 16)\n",
    "plt.ylabel('Is the Movie Long?', size = 16)\n",
    "plt.show()"
   ]
  },
  {
   "cell_type": "markdown",
   "id": "5c9294c2",
   "metadata": {},
   "source": [
    "__Interpretation:__ Longer movies tend to have more success than shorter movies"
   ]
  },
  {
   "cell_type": "markdown",
   "id": "82c5e91e",
   "metadata": {},
   "source": [
    "> ## (c). Multi-variate exploration"
   ]
  },
  {
   "cell_type": "markdown",
   "id": "b61e7883",
   "metadata": {},
   "source": [
    "### 7. Is there a correlations between runtime for successful movies vs unsuccessful movies\n"
   ]
  },
  {
   "cell_type": "code",
   "execution_count": null,
   "id": "d9d3f0d0",
   "metadata": {},
   "outputs": [],
   "source": [
    "# No discernable relationship between age and fare, but the pclass relates to survival\n",
    "rel = sns.relplot(x='runtime', y='success', data=train, col=\"runtime\", hue=\"success\")\n",
    "rel.fig.suptitle('Age to Fare, colum by pclass') # One way to title a relplot\n",
    "plt.tight_layout()"
   ]
  },
  {
   "cell_type": "markdown",
   "id": "8c8ee346",
   "metadata": {},
   "source": [
    "> ## Time Series Analysis on the movies dataset"
   ]
  },
  {
   "cell_type": "markdown",
   "id": "fa273205",
   "metadata": {},
   "source": [
    "### 9. Which release years, months, days are movies likely to be successful?\n"
   ]
  },
  {
   "cell_type": "markdown",
   "id": "5cf41fbf",
   "metadata": {},
   "source": [
    "##### (i). Release Year Movie Success "
   ]
  },
  {
   "cell_type": "code",
   "execution_count": null,
   "id": "ec5eeafa",
   "metadata": {},
   "outputs": [],
   "source": [
    "# Copy df for time series analysis\n",
    "\n",
    "train_ts_df = train.copy()\n",
    "\n",
    "# Set release_date as index\n",
    "train_ts_df = train_ts_df.set_index('release_date').sort_index()"
   ]
  },
  {
   "cell_type": "code",
   "execution_count": null,
   "id": "ade642ce",
   "metadata": {},
   "outputs": [],
   "source": [
    "# Examine new dataset format\n",
    "\n",
    "train_ts_df.head(2)"
   ]
  },
  {
   "cell_type": "code",
   "execution_count": null,
   "id": "e79effa3",
   "metadata": {},
   "outputs": [],
   "source": [
    "# Set target variable\n",
    "y_target = train_ts_df.success\n",
    "\n",
    "# Create subset of year \n",
    "released_after_2000 = train_ts_df[train_ts_df.release_year >= 2000]\n",
    "released_between_1980_2000 = train_ts_df[(train_ts_df.release_year >= 1980) & (train_ts_df.release_year < 2000)]\n",
    "released_before_1980 = train_ts_df[train_ts_df.release_year < 1980]"
   ]
  },
  {
   "cell_type": "code",
   "execution_count": null,
   "id": "ca251565",
   "metadata": {},
   "outputs": [],
   "source": [
    "# Success resmapled ever 3 years  for movie set\n",
    "\n",
    "y_target.resample('Y').mean().plot()\n",
    "plt.title('Yearly Movie Success', size = 16)\n",
    "plt.ylabel('Average Success', size = 16)\n",
    "plt.xlabel('Movie Release Date (Resampled every 6 months) ', size = 16)\n",
    "plt.show()"
   ]
  },
  {
   "cell_type": "markdown",
   "id": "90ddde72",
   "metadata": {},
   "source": [
    "##### (ii). Release Month Movie Success"
   ]
  },
  {
   "cell_type": "code",
   "execution_count": null,
   "id": "d5c27c7b",
   "metadata": {},
   "outputs": [],
   "source": [
    "# Success resmapled ever 3 years  for movie set\n",
    "\n",
    "y_target.resample('6M').mean().plot()\n",
    "plt.title('Every 6 Months Movie Success', size = 16)\n",
    "plt.ylabel('Average Success', size = 16)\n",
    "plt.xlabel('Movie Release Date (Resampled every 6 months) ', size = 16)\n",
    "plt.show()"
   ]
  },
  {
   "cell_type": "markdown",
   "id": "d8f02cc1",
   "metadata": {},
   "source": [
    "##### (ii). Release Days Movie Success"
   ]
  },
  {
   "cell_type": "code",
   "execution_count": null,
   "id": "0e4a041b",
   "metadata": {},
   "outputs": [],
   "source": [
    "# Success resmapled ever 3 years  for movie set\n",
    "\n",
    "y_target.resample('D').mean().plot()\n",
    "plt.title('Every 6 Months Movie Success', size = 16)\n",
    "plt.ylabel('Average Success', size = 16)\n",
    "plt.xlabel('Movie Release Date (Resampled every 6 months) ', size = 16)\n",
    "plt.show()"
   ]
  },
  {
   "cell_type": "markdown",
   "id": "d9451499",
   "metadata": {},
   "source": [
    "### 12. What movies are long and successful?"
   ]
  },
  {
   "cell_type": "code",
   "execution_count": null,
   "id": "96fdb587",
   "metadata": {},
   "outputs": [],
   "source": [
    "# Movies that are long  \n",
    "\n",
    "sns.countplot(x='success', hue='is_long_movie',\n",
    "                data = train);\n",
    "plt.title('Successful Movies Globally', size = 16)\n",
    "plt.ylabel('Count #', size = 16)\n",
    "plt.xlabel('Success', size = 16)\n",
    "plt.show()"
   ]
  },
  {
   "cell_type": "code",
   "execution_count": null,
   "id": "e9da8608",
   "metadata": {},
   "outputs": [],
   "source": [
    "# Create united states movies subset \n",
    "us_movies = train[train.production_countries == 'UnitedStatesofAmerica']\n",
    "\n",
    "# United Movies \n",
    "sns.countplot(x='success', hue='is_long_movie',data = us_movies);\n",
    "plt.title('Successful Movies In The United States', size = 16)\n",
    "plt.ylabel('Count #', size = 16)\n",
    "plt.xlabel('Success', size = 16)\n",
    "plt.show()"
   ]
  },
  {
   "cell_type": "markdown",
   "id": "6431a5f6",
   "metadata": {},
   "source": [
    "__Interpretation:__ Similar pattern for successful vs unsuccessful movies within America as compared globally"
   ]
  },
  {
   "cell_type": "markdown",
   "id": "608c489c",
   "metadata": {},
   "source": [
    "### Exploration Key Takeaways\n",
    "\n",
    "- Overall movie success baseline is `38.9%`\n",
    "- Lower budget movies will more often have higher return on investement\n",
    "- Very high budget movies are more stable investment and almost guaranteee return on investement \n",
    "- Longer movies tend to have more success proportionally than shorter movies\n",
    "- Lower budget has no huge effect on profit, however as the budget increases profit increases. A spike in the success could be investigated further\n",
    "- Highly rated movie is the `Alice in the Wonderland`. This is received almost twice the ratings amount than the fifth movie\n",
    "- Overall, least rated movie is the \"Teddy Bear's Picnic\"\n",
    "- `Alice in the Wonderland` is the most successful movie in this exploration. Follow up questions:\n",
    " - Why is `Alice in the Wonderland` more successful than all the other movies? \n",
    " - What genres are these successful movies in?\n",
    "- Least profitable movie is the `Belizaire the Cajun`.\n",
    "\n",
    "- `38.9%` of movies in the dataset succeeded and `61.1%` less likely to succeed\n",
    "- Vote average and runtime appears normally distributed\n",
    "\n",
    "\n",
    "\n",
    "- successful movies characteristics\n",
    "    - \n",
    "    - \n",
    "\n",
    "- less successful movies characteristics\n",
    "    -\n",
    "    -\n",
    "    -\n"
   ]
  },
  {
   "cell_type": "code",
   "execution_count": null,
   "id": "676b68f7",
   "metadata": {},
   "outputs": [],
   "source": [
    "# Create success subset\n",
    "success_movies = train[train.success == 1]\n",
    "\n",
    "# Get respective distribution \n",
    "success_movies.is_genre_adventure.value_counts()"
   ]
  },
  {
   "cell_type": "markdown",
   "id": "eee681c6",
   "metadata": {},
   "source": [
    "## Modeling"
   ]
  },
  {
   "cell_type": "code",
   "execution_count": null,
   "id": "7ac438ec",
   "metadata": {},
   "outputs": [],
   "source": [
    "# Get modeling data\n",
    "modeling_df = create_modeling_df()"
   ]
  },
  {
   "cell_type": "code",
   "execution_count": null,
   "id": "4fa0a004",
   "metadata": {},
   "outputs": [],
   "source": [
    "# Create x & y train, validate and test sets\n",
    "X_train, X_validate, X_test,\\\n",
    "y_train, y_validate, y_test = split_and_scale(modeling_df)"
   ]
  },
  {
   "cell_type": "code",
   "execution_count": null,
   "id": "495673f0",
   "metadata": {},
   "outputs": [],
   "source": [
    "print('X_train:', X_train.shape)\n",
    "print('X_validate:', X_validate.shape)\n",
    "print('X_test:', X_test.shape)"
   ]
  },
  {
   "cell_type": "markdown",
   "id": "19aa3039",
   "metadata": {},
   "source": [
    "## Feature Selection\n",
    "Trying a new approach to feature selection using one of Scikitlearn's transformers. \n",
    "This Sequential Feature Selector adds (forward selection) or removes (backward selection) features to form a feature subset in a greedy fashion. At each stage, this estimator chooses the best feature to add or remove based on the cross-validation score of an estimator. The following features were selected through this process, in three separate iterations. "
   ]
  },
  {
   "cell_type": "code",
   "execution_count": null,
   "id": "bc6e5b81",
   "metadata": {},
   "outputs": [],
   "source": [
    "# Create precision features\n",
    "precision_features = ['production_company_Metro-Goldwyn-Mayer(MGM)','production_company_other_company',\n",
    "                      'cast_actor_1_Tom Cruise', 'cast_actor_1_Robert De Niro','vote_count',\n",
    "                      'is_genre_scifi','production_company_NewLineCinema', 'budget',\n",
    "                      'is_genre_thriller', 'cast_actor_1_Nicolas Cage']\n",
    "\n",
    "# Create precision rows for train, validate, and test\n",
    "X_train = X_train.loc[:, precision_features]\n",
    "X_validate = X_validate.loc[:, precision_features]\n",
    "X_test = X_test.loc[:, precision_features]"
   ]
  },
  {
   "cell_type": "code",
   "execution_count": null,
   "id": "5495a752",
   "metadata": {
    "scrolled": false
   },
   "outputs": [],
   "source": [
    "# Precision models\n",
    "\n",
    "precision_models(X_train, y_train)"
   ]
  },
  {
   "cell_type": "code",
   "execution_count": null,
   "id": "8cf05216",
   "metadata": {
    "scrolled": false
   },
   "outputs": [],
   "source": [
    "# Equally stellar results on validate. Unhash to expand.\n",
    "precision_models(X_validate, y_validate)"
   ]
  },
  {
   "cell_type": "code",
   "execution_count": null,
   "id": "46b414fd",
   "metadata": {},
   "outputs": [],
   "source": [
    "# Predicting best model on test set\n",
    "predict_on_test(X_train, y_train, X_test, y_test)"
   ]
  },
  {
   "cell_type": "markdown",
   "id": "8f4006ba",
   "metadata": {},
   "source": [
    "## Exploration Summarized Results\n",
    "\n",
    "We choose to use precision as out metric because `the cost of mis-labeling a negative movie classifier as positive is costly` than otherwise."
   ]
  },
  {
   "cell_type": "markdown",
   "id": "6ed388ed",
   "metadata": {},
   "source": [
    "> ### (a). Modeling on X_train set"
   ]
  },
  {
   "cell_type": "markdown",
   "id": "7e63480f",
   "metadata": {},
   "source": [
    "<style>\n",
    "    table {\n",
    "        display: inline-block\n",
    "    }\n",
    "</style>\n",
    "\n",
    "| Model  | Acuracy | Precison | Recall |\n",
    "| :------ | :------ | :------ | |\n",
    "| Baseline  | 0.6209 |  0.6209 |0.6209 |\n",
    "| Decision Tree  | 0.7631  | 0.7644  | 0.5929 |\n",
    "| Logistic Regression  | 07784 | 0.8327  | 0.5630 |\n",
    "| K-Nearest Neighbor  | 07595  | 0.7662  | 0.5936 |\n",
    "\n",
    "\n",
    "> ### (b). Modeling on X_validate set\n",
    "\n",
    "<style>\n",
    "    table {\n",
    "        display: inline-block\n",
    "    }\n",
    "</style>\n",
    "\n",
    "| Model  | Acuracy | Precison | Recall |\n",
    "| :------ | :------ | :------ | |\n",
    "| Baseline  | 0.6209 |  0.6209 |0.6209 |\n",
    "| Decision Tree  | 0.7601  | 0.7170  | 0.6703 |\n",
    "| Logistic Regression  | 0.7589 | 0.8093  | 0.4952 |\n",
    "| K-Nearest Neighbor  | 07674  | 0.7405  | 0.6325|\n",
    "\n",
    "\n",
    "> ### (b). Modeling on X_validate set\n",
    "\n",
    "<style>\n",
    "    table {\n",
    "        display: inline-block\n",
    "    }\n",
    "</style>\n",
    "\n",
    "| Model  | Acuracy | Precison | Recall |\n",
    "| :------ | :------ | :------ | |\n",
    "| Baseline  | 0.6209 |  0.6209 |0.6209 |\n",
    "| Logistic Regression   | 0.7454  | 0.7736  | 0.4982|"
   ]
  },
  {
   "cell_type": "markdown",
   "id": "c8b1e8b5",
   "metadata": {},
   "source": [
    "### Best model Logistic regression"
   ]
  },
  {
   "cell_type": "markdown",
   "id": "7d33141c",
   "metadata": {},
   "source": [
    "## Future Exploration"
   ]
  },
  {
   "cell_type": "markdown",
   "id": "ad763395",
   "metadata": {},
   "source": [
    "- Compare movie success by continents \n",
    "- Time series analysis for successful movies:\n",
    "    - Is there a relationship of profit amount with release month and day of the week?\n",
    "\n",
    "\n"
   ]
  }
 ],
 "metadata": {
  "kernelspec": {
   "display_name": "Python 3 (ipykernel)",
   "language": "python",
   "name": "python3"
  },
  "language_info": {
   "codemirror_mode": {
    "name": "ipython",
    "version": 3
   },
   "file_extension": ".py",
   "mimetype": "text/x-python",
   "name": "python",
   "nbconvert_exporter": "python",
   "pygments_lexer": "ipython3",
   "version": "3.9.7"
  }
 },
 "nbformat": 4,
 "nbformat_minor": 5
}
