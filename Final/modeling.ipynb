{
 "cells": [
  {
   "cell_type": "code",
   "execution_count": 1,
   "id": "042b8b70-0258-4df7-923b-ffe65ef40f55",
   "metadata": {},
   "outputs": [],
   "source": [
    "import pandas as pd\n",
    "import numpy as np\n",
    "import scipy as sc\n",
    "import seaborn as sns\n",
    "import matplotlib.pyplot as plt\n",
    "import math\n",
    "\n",
    "import modeling as mod\n",
    "import wrangle as w"
   ]
  },
  {
   "cell_type": "code",
   "execution_count": 2,
   "id": "cbc5d36f-8a0a-4d88-99fa-aaf5f3162f10",
   "metadata": {},
   "outputs": [
    {
     "name": "stdout",
     "output_type": "stream",
     "text": [
      "modeling.csv not detected.\n",
      "initiating acquisiton and preparation\n",
      "Using cached CSV\n",
      "the current shape is (6893, 58)\n",
      "please split and then scale this dataframe\n",
      "modeling.csv ready for future use\n"
     ]
    }
   ],
   "source": [
    "df = mod.create_modeling_df()"
   ]
  },
  {
   "cell_type": "code",
   "execution_count": 4,
   "id": "e16750b5-0093-4ebe-bda5-3f62f21f5b50",
   "metadata": {},
   "outputs": [
    {
     "name": "stdout",
     "output_type": "stream",
     "text": [
      "X_train: (3859, 60)\n",
      "X_validate: (1655, 60)\n",
      "X_test: (1379, 60)\n"
     ]
    }
   ],
   "source": [
    "X_train, X_validate, X_test,\\\n",
    "y_train, y_validate, y_test = mod.split_and_scale(df)\n",
    "\n",
    "print('X_train:', X_train.shape)\n",
    "print('X_validate:', X_validate.shape)\n",
    "print('X_test:', X_test.shape)"
   ]
  },
  {
   "cell_type": "code",
   "execution_count": 5,
   "id": "7249aa4e-8769-4463-9759-07b3dfb69b32",
   "metadata": {},
   "outputs": [
    {
     "data": {
      "text/plain": [
       "Index(['budget', 'runtime', 'vote_average', 'vote_count', 'release_year',\n",
       "       'is_genre_adventure', 'is_genre_horror', 'is_genre_drama',\n",
       "       'is_genre_scifi', 'is_genre_romance', 'is_genre_thriller',\n",
       "       'is_genre_crime', 'is_genre_comedy', 'is_genre_animation',\n",
       "       'is_genre_action', 'is_genre_mystery', 'is_genre_fantasy',\n",
       "       'is_genre_documentary', 'total_n_cast', 'is_long_movie', 'ROI',\n",
       "       'cast_actor_1_Arnold Schwarzenegger', 'cast_actor_1_Bruce Willis',\n",
       "       'cast_actor_1_Clint Eastwood', 'cast_actor_1_Denzel Washington',\n",
       "       'cast_actor_1_John Travolta', 'cast_actor_1_Johnny Depp',\n",
       "       'cast_actor_1_Kevin Costner', 'cast_actor_1_Nicolas Cage',\n",
       "       'cast_actor_1_Robert De Niro', 'cast_actor_1_Robin Williams',\n",
       "       'cast_actor_1_Sylvester Stallone', 'cast_actor_1_Tom Cruise',\n",
       "       'cast_actor_1_Tom Hanks', 'cast_actor_1_other_actor',\n",
       "       'production_company_ColumbiaPicturesCorporation',\n",
       "       'production_company_Metro-Goldwyn-Mayer(MGM)',\n",
       "       'production_company_NewLineCinema',\n",
       "       'production_company_ParamountPictures',\n",
       "       'production_company_TwentiethCenturyFoxFilmCorporation',\n",
       "       'production_company_UnitedArtists',\n",
       "       'production_company_UniversalPictures',\n",
       "       'production_company_WaltDisneyPictures',\n",
       "       'production_company_WarnerBros.', 'production_company_other_company',\n",
       "       'returns_high', 'returns_low', 'returns_very high', 'budget_range_high',\n",
       "       'budget_range_low', 'budget_range_very high', 'release_weekday_Monday',\n",
       "       'release_weekday_Saturday', 'release_weekday_Sunday',\n",
       "       'release_weekday_Thursday', 'release_weekday_Tuesday',\n",
       "       'release_weekday_Wednesday', 'baseline', 'baseline_accuracy',\n",
       "       'baseline_prediction'],\n",
       "      dtype='object')"
      ]
     },
     "execution_count": 5,
     "metadata": {},
     "output_type": "execute_result"
    }
   ],
   "source": [
    "X_train.columns"
   ]
  },
  {
   "cell_type": "code",
   "execution_count": null,
   "id": "1cfa0620-2206-49ea-8911-7dcf249a73bd",
   "metadata": {},
   "outputs": [],
   "source": []
  }
 ],
 "metadata": {
  "kernelspec": {
   "display_name": "Python 3 (ipykernel)",
   "language": "python",
   "name": "python3"
  },
  "language_info": {
   "codemirror_mode": {
    "name": "ipython",
    "version": 3
   },
   "file_extension": ".py",
   "mimetype": "text/x-python",
   "name": "python",
   "nbconvert_exporter": "python",
   "pygments_lexer": "ipython3",
   "version": "3.9.7"
  }
 },
 "nbformat": 4,
 "nbformat_minor": 5
}
