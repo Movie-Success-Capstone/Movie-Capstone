{
 "cells": [
  {
   "cell_type": "code",
   "execution_count": 5,
   "id": "042b8b70-0258-4df7-923b-ffe65ef40f55",
   "metadata": {},
   "outputs": [],
   "source": [
    "import pandas as pd\n",
    "import numpy as np\n",
    "import scipy as sc\n",
    "import seaborn as sns\n",
    "import matplotlib.pyplot as plt\n",
    "import math\n",
    "\n",
    "import modeling as mod\n",
    "import wrangle as w\n",
    "from modeling import *"
   ]
  },
  {
   "cell_type": "code",
   "execution_count": 40,
   "id": "cbc5d36f-8a0a-4d88-99fa-aaf5f3162f10",
   "metadata": {},
   "outputs": [
    {
     "name": "stdout",
     "output_type": "stream",
     "text": [
      "modeling.csv detected. \n",
      " Dataframe available.\n"
     ]
    }
   ],
   "source": [
    "df = mod.create_modeling_df()"
   ]
  },
  {
   "cell_type": "code",
   "execution_count": 41,
   "id": "e16750b5-0093-4ebe-bda5-3f62f21f5b50",
   "metadata": {},
   "outputs": [
    {
     "name": "stdout",
     "output_type": "stream",
     "text": [
      "X_train: (3859, 60)\n",
      "X_validate: (1655, 60)\n",
      "X_test: (1379, 60)\n"
     ]
    }
   ],
   "source": [
    "X_train, X_validate, X_test,\\\n",
    "y_train, y_validate, y_test = mod.split_and_scale(df)\n",
    "\n",
    "print('X_train:', X_train.shape)\n",
    "print('X_validate:', X_validate.shape)\n",
    "print('X_test:', X_test.shape)"
   ]
  },
  {
   "cell_type": "code",
   "execution_count": 8,
   "id": "06724809-65cf-472b-bca9-7eb0773e148b",
   "metadata": {},
   "outputs": [
    {
     "name": "stderr",
     "output_type": "stream",
     "text": [
      "/usr/local/anaconda3/lib/python3.9/site-packages/sklearn/linear_model/_sag.py:328: ConvergenceWarning: The max_iter was reached which means the coef_ did not converge\n",
      "  warnings.warn(\"The max_iter was reached which means \"\n",
      "/usr/local/anaconda3/lib/python3.9/site-packages/sklearn/linear_model/_sag.py:328: ConvergenceWarning: The max_iter was reached which means the coef_ did not converge\n",
      "  warnings.warn(\"The max_iter was reached which means \"\n",
      "/usr/local/anaconda3/lib/python3.9/site-packages/sklearn/linear_model/_sag.py:328: ConvergenceWarning: The max_iter was reached which means the coef_ did not converge\n",
      "  warnings.warn(\"The max_iter was reached which means \"\n",
      "/usr/local/anaconda3/lib/python3.9/site-packages/sklearn/linear_model/_sag.py:328: ConvergenceWarning: The max_iter was reached which means the coef_ did not converge\n",
      "  warnings.warn(\"The max_iter was reached which means \"\n",
      "/usr/local/anaconda3/lib/python3.9/site-packages/sklearn/linear_model/_sag.py:328: ConvergenceWarning: The max_iter was reached which means the coef_ did not converge\n",
      "  warnings.warn(\"The max_iter was reached which means \"\n",
      "/usr/local/anaconda3/lib/python3.9/site-packages/sklearn/linear_model/_sag.py:328: ConvergenceWarning: The max_iter was reached which means the coef_ did not converge\n",
      "  warnings.warn(\"The max_iter was reached which means \"\n",
      "/usr/local/anaconda3/lib/python3.9/site-packages/sklearn/linear_model/_logistic.py:763: ConvergenceWarning: lbfgs failed to converge (status=1):\n",
      "STOP: TOTAL NO. of ITERATIONS REACHED LIMIT.\n",
      "\n",
      "Increase the number of iterations (max_iter) or scale the data as shown in:\n",
      "    https://scikit-learn.org/stable/modules/preprocessing.html\n",
      "Please also refer to the documentation for alternative solver options:\n",
      "    https://scikit-learn.org/stable/modules/linear_model.html#logistic-regression\n",
      "  n_iter_i = _check_optimize_result(\n",
      "/usr/local/anaconda3/lib/python3.9/site-packages/sklearn/linear_model/_sag.py:328: ConvergenceWarning: The max_iter was reached which means the coef_ did not converge\n",
      "  warnings.warn(\"The max_iter was reached which means \"\n",
      "/usr/local/anaconda3/lib/python3.9/site-packages/sklearn/linear_model/_sag.py:328: ConvergenceWarning: The max_iter was reached which means the coef_ did not converge\n",
      "  warnings.warn(\"The max_iter was reached which means \"\n",
      "/usr/local/anaconda3/lib/python3.9/site-packages/sklearn/linear_model/_sag.py:328: ConvergenceWarning: The max_iter was reached which means the coef_ did not converge\n",
      "  warnings.warn(\"The max_iter was reached which means \"\n",
      "/usr/local/anaconda3/lib/python3.9/site-packages/sklearn/linear_model/_sag.py:328: ConvergenceWarning: The max_iter was reached which means the coef_ did not converge\n",
      "  warnings.warn(\"The max_iter was reached which means \"\n",
      "/usr/local/anaconda3/lib/python3.9/site-packages/sklearn/linear_model/_sag.py:328: ConvergenceWarning: The max_iter was reached which means the coef_ did not converge\n",
      "  warnings.warn(\"The max_iter was reached which means \"\n",
      "/usr/local/anaconda3/lib/python3.9/site-packages/sklearn/linear_model/_sag.py:328: ConvergenceWarning: The max_iter was reached which means the coef_ did not converge\n",
      "  warnings.warn(\"The max_iter was reached which means \"\n"
     ]
    },
    {
     "name": "stdout",
     "output_type": "stream",
     "text": [
      "\n",
      " -----------------------------------------\n",
      "Logistic Regression Precision\n",
      "Best Score = 0.9628\n",
      "Best Hyper-parameters = {'C': 1000, 'solver': 'lbfgs'}\n",
      "\n",
      "Test Scores:\n",
      "0.8486 (+/-0.013) for {'C': 1, 'solver': 'newton-cg'}\n",
      "0.8486 (+/-0.013) for {'C': 1, 'solver': 'lbfgs'}\n",
      "0.8486 (+/-0.013) for {'C': 1, 'solver': 'sag'}\n",
      "0.8486 (+/-0.013) for {'C': 1, 'solver': 'saga'}\n",
      "0.8647 (+/-0.011) for {'C': 10, 'solver': 'newton-cg'}\n",
      "0.8647 (+/-0.011) for {'C': 10, 'solver': 'lbfgs'}\n",
      "0.8647 (+/-0.011) for {'C': 10, 'solver': 'sag'}\n",
      "0.8647 (+/-0.011) for {'C': 10, 'solver': 'saga'}\n",
      "0.9015 (+/-0.012) for {'C': 100, 'solver': 'newton-cg'}\n",
      "0.9015 (+/-0.012) for {'C': 100, 'solver': 'lbfgs'}\n",
      "0.9009 (+/-0.011) for {'C': 100, 'solver': 'sag'}\n",
      "0.8966 (+/-0.012) for {'C': 100, 'solver': 'saga'}\n",
      "0.9628 (+/-0.006) for {'C': 1000, 'solver': 'newton-cg'}\n",
      "0.9628 (+/-0.006) for {'C': 1000, 'solver': 'lbfgs'}\n",
      "0.9390 (+/-0.008) for {'C': 1000, 'solver': 'sag'}\n",
      "0.9123 (+/-0.012) for {'C': 1000, 'solver': 'saga'}\n",
      "\n",
      "Training Scores:\n",
      "0.8738 (+/-0.006) for {'C': 1, 'solver': 'newton-cg'}\n",
      "0.8738 (+/-0.006) for {'C': 1, 'solver': 'lbfgs'}\n",
      "0.8738 (+/-0.006) for {'C': 1, 'solver': 'sag'}\n",
      "0.8738 (+/-0.006) for {'C': 1, 'solver': 'saga'}\n",
      "0.8899 (+/-0.007) for {'C': 10, 'solver': 'newton-cg'}\n",
      "0.8899 (+/-0.007) for {'C': 10, 'solver': 'lbfgs'}\n",
      "0.8899 (+/-0.007) for {'C': 10, 'solver': 'sag'}\n",
      "0.8899 (+/-0.007) for {'C': 10, 'solver': 'saga'}\n",
      "0.9270 (+/-0.001) for {'C': 100, 'solver': 'newton-cg'}\n",
      "0.9270 (+/-0.001) for {'C': 100, 'solver': 'lbfgs'}\n",
      "0.9254 (+/-0.001) for {'C': 100, 'solver': 'sag'}\n",
      "0.9189 (+/-0.002) for {'C': 100, 'solver': 'saga'}\n",
      "0.9856 (+/-0.002) for {'C': 1000, 'solver': 'newton-cg'}\n",
      "0.9856 (+/-0.002) for {'C': 1000, 'solver': 'lbfgs'}\n",
      "0.9609 (+/-0.002) for {'C': 1000, 'solver': 'sag'}\n",
      "0.9343 (+/-0.002) for {'C': 1000, 'solver': 'saga'}\n",
      "\n",
      " -----------------------------------------\n",
      "------------------------------------------------\n",
      "\n",
      " -----------------------------------------\n",
      "KNN Precision\n",
      "Best Score = 0.9059\n",
      "Best Hyper-parameters = {'n_neighbors': 25}\n",
      "\n",
      "Test Scores:\n",
      "0.7857 (+/-0.017) for {'n_neighbors': 1}\n",
      "0.8194 (+/-0.024) for {'n_neighbors': 3}\n",
      "0.8417 (+/-0.019) for {'n_neighbors': 5}\n",
      "0.8429 (+/-0.019) for {'n_neighbors': 7}\n",
      "0.8524 (+/-0.019) for {'n_neighbors': 9}\n",
      "0.8614 (+/-0.016) for {'n_neighbors': 11}\n",
      "0.8689 (+/-0.013) for {'n_neighbors': 13}\n",
      "0.8693 (+/-0.013) for {'n_neighbors': 15}\n",
      "0.8834 (+/-0.011) for {'n_neighbors': 17}\n",
      "0.8959 (+/-0.007) for {'n_neighbors': 19}\n",
      "0.8981 (+/-0.012) for {'n_neighbors': 21}\n",
      "0.8957 (+/-0.002) for {'n_neighbors': 23}\n",
      "0.9059 (+/-0.009) for {'n_neighbors': 25}\n",
      "\n",
      "Training Scores:\n",
      "1.0000 (+/-0.000) for {'n_neighbors': 1}\n",
      "0.9212 (+/-0.006) for {'n_neighbors': 3}\n",
      "0.9049 (+/-0.009) for {'n_neighbors': 5}\n",
      "0.9019 (+/-0.014) for {'n_neighbors': 7}\n",
      "0.9057 (+/-0.008) for {'n_neighbors': 9}\n",
      "0.9059 (+/-0.009) for {'n_neighbors': 11}\n",
      "0.9080 (+/-0.010) for {'n_neighbors': 13}\n",
      "0.9126 (+/-0.013) for {'n_neighbors': 15}\n",
      "0.9187 (+/-0.010) for {'n_neighbors': 17}\n",
      "0.9215 (+/-0.013) for {'n_neighbors': 19}\n",
      "0.9195 (+/-0.012) for {'n_neighbors': 21}\n",
      "0.9246 (+/-0.005) for {'n_neighbors': 23}\n",
      "0.9295 (+/-0.007) for {'n_neighbors': 25}\n",
      "\n",
      " -----------------------------------------\n"
     ]
    },
    {
     "data": {
      "image/png": "[encoded data removed]",
      "text/plain": [
       "<Figure size 432x288 with 1 Axes>"
      ]
     },
     "metadata": {
      "needs_background": "light"
     },
     "output_type": "display_data"
    },
    {
     "name": "stdout",
     "output_type": "stream",
     "text": [
      "------------------------------------------------\n",
      "\n",
      " -----------------------------------------\n",
      "Decision Tree Regression Precision\n",
      "Best Score = 0.9946\n",
      "Best Hyper-parameters = {'max_depth': 11}\n",
      "\n",
      "Test Scores:\n",
      "0.9483 (+/-0.008) for {'max_depth': 1}\n",
      "0.9483 (+/-0.008) for {'max_depth': 2}\n",
      "0.9855 (+/-0.004) for {'max_depth': 3}\n",
      "0.9828 (+/-0.003) for {'max_depth': 4}\n",
      "0.9887 (+/-0.003) for {'max_depth': 5}\n",
      "0.9920 (+/-0.003) for {'max_depth': 6}\n",
      "0.9913 (+/-0.005) for {'max_depth': 7}\n",
      "0.9900 (+/-0.002) for {'max_depth': 8}\n",
      "0.9933 (+/-0.003) for {'max_depth': 9}\n",
      "0.9926 (+/-0.001) for {'max_depth': 10}\n",
      "0.9946 (+/-0.003) for {'max_depth': 11}\n",
      "0.9920 (+/-0.003) for {'max_depth': 12}\n",
      "0.9926 (+/-0.004) for {'max_depth': 13}\n",
      "0.9933 (+/-0.003) for {'max_depth': 14}\n",
      "0.9913 (+/-0.002) for {'max_depth': 15}\n",
      "0.9920 (+/-0.003) for {'max_depth': 16}\n",
      "\n",
      "Training Scores:\n",
      "0.9493 (+/-0.002) for {'max_depth': 1}\n",
      "0.9493 (+/-0.002) for {'max_depth': 2}\n",
      "0.9881 (+/-0.002) for {'max_depth': 3}\n",
      "0.9894 (+/-0.002) for {'max_depth': 4}\n",
      "0.9970 (+/-0.002) for {'max_depth': 5}\n",
      "0.9983 (+/-0.001) for {'max_depth': 6}\n",
      "0.9995 (+/-0.000) for {'max_depth': 7}\n",
      "1.0000 (+/-0.000) for {'max_depth': 8}\n",
      "1.0000 (+/-0.000) for {'max_depth': 9}\n",
      "1.0000 (+/-0.000) for {'max_depth': 10}\n",
      "1.0000 (+/-0.000) for {'max_depth': 11}\n",
      "1.0000 (+/-0.000) for {'max_depth': 12}\n",
      "1.0000 (+/-0.000) for {'max_depth': 13}\n",
      "1.0000 (+/-0.000) for {'max_depth': 14}\n",
      "1.0000 (+/-0.000) for {'max_depth': 15}\n",
      "1.0000 (+/-0.000) for {'max_depth': 16}\n",
      "\n",
      " -----------------------------------------\n",
      "\n",
      " -----------------------------------------\n",
      "Decision Tree Regression Precision\n",
      "Best Score = 0.9920\n",
      "Best Hyper-parameters = {'max_depth': 11}\n",
      "\n",
      "Test Scores:\n",
      "0.9371 (+/-0.022) for {'max_depth': 1}\n",
      "0.9371 (+/-0.022) for {'max_depth': 2}\n",
      "0.9874 (+/-0.010) for {'max_depth': 3}\n",
      "0.9835 (+/-0.005) for {'max_depth': 4}\n",
      "0.9901 (+/-0.009) for {'max_depth': 5}\n",
      "0.9901 (+/-0.009) for {'max_depth': 6}\n",
      "0.9894 (+/-0.005) for {'max_depth': 7}\n",
      "0.9894 (+/-0.006) for {'max_depth': 8}\n",
      "0.9901 (+/-0.007) for {'max_depth': 9}\n",
      "0.9920 (+/-0.006) for {'max_depth': 10}\n",
      "0.9920 (+/-0.006) for {'max_depth': 11}\n",
      "0.9894 (+/-0.006) for {'max_depth': 12}\n",
      "0.9875 (+/-0.007) for {'max_depth': 13}\n",
      "0.9901 (+/-0.005) for {'max_depth': 14}\n",
      "0.9908 (+/-0.008) for {'max_depth': 15}\n",
      "0.9894 (+/-0.005) for {'max_depth': 16}\n",
      "\n",
      "Training Scores:\n",
      "0.9450 (+/-0.009) for {'max_depth': 1}\n",
      "0.9450 (+/-0.009) for {'max_depth': 2}\n",
      "0.9917 (+/-0.008) for {'max_depth': 3}\n",
      "0.9870 (+/-0.002) for {'max_depth': 4}\n",
      "0.9969 (+/-0.003) for {'max_depth': 5}\n",
      "0.9980 (+/-0.001) for {'max_depth': 6}\n",
      "0.9998 (+/-0.000) for {'max_depth': 7}\n",
      "0.9998 (+/-0.000) for {'max_depth': 8}\n",
      "1.0000 (+/-0.000) for {'max_depth': 9}\n",
      "1.0000 (+/-0.000) for {'max_depth': 10}\n",
      "1.0000 (+/-0.000) for {'max_depth': 11}\n",
      "1.0000 (+/-0.000) for {'max_depth': 12}\n",
      "1.0000 (+/-0.000) for {'max_depth': 13}\n",
      "1.0000 (+/-0.000) for {'max_depth': 14}\n",
      "1.0000 (+/-0.000) for {'max_depth': 15}\n",
      "1.0000 (+/-0.000) for {'max_depth': 16}\n",
      "\n",
      " -----------------------------------------\n"
     ]
    },
    {
     "data": {
      "image/png": "[encoded data removed]",
      "text/plain": [
       "<Figure size 432x288 with 1 Axes>"
      ]
     },
     "metadata": {
      "needs_background": "light"
     },
     "output_type": "display_data"
    },
    {
     "name": "stdout",
     "output_type": "stream",
     "text": [
      "------------------------------------------------\n",
      "------------------------------------------------\n"
     ]
    }
   ],
   "source": [
    "mod.precision_models(X_train, y_train)"
   ]
  },
  {
   "cell_type": "code",
   "execution_count": 10,
   "id": "2655a478-be62-4cc9-b794-103d7a328b24",
   "metadata": {},
   "outputs": [],
   "source": [
    "# Initial catch-all set, before deciding on precision\n",
    "# starting forward\n",
    "tree = DecisionTreeClassifier(max_depth=11,\n",
    "                               criterion='gini')\n",
    "sfs = SequentialFeatureSelector(tree, n_features_to_select=8)\n",
    "sfs1 = sfs.fit(X_train, y_train)"
   ]
  },
  {
   "cell_type": "code",
   "execution_count": 34,
   "id": "f093b84b-3f5b-422c-8de2-8c4d8d391033",
   "metadata": {},
   "outputs": [
    {
     "data": {
      "text/html": [
       "<div><div id=878c28fd-34b6-4793-9fe4-b97a7c026de8 style=\"display:none; background-color:#9D6CFF; color:white; width:200px; height:30px; padding-left:5px; border-radius:4px; flex-direction:row; justify-content:space-around; align-items:center;\" onmouseover=\"this.style.backgroundColor='#BA9BF8'\" onmouseout=\"this.style.backgroundColor='#9D6CFF'\" onclick=\"window.commands?.execute('create-mitosheet-from-dataframe-output');\">See Full Dataframe in Mito</div> <script> if (window.commands?.hasCommand('create-mitosheet-from-dataframe-output')) document.getElementById('878c28fd-34b6-4793-9fe4-b97a7c026de8').style.display = 'flex' </script> <table border=\"1\" class=\"dataframe\">\n",
       "  <thead>\n",
       "    <tr style=\"text-align: right;\">\n",
       "      <th></th>\n",
       "      <th>is_genre_crime</th>\n",
       "    </tr>\n",
       "  </thead>\n",
       "  <tbody>\n",
       "    <tr>\n",
       "      <th>46</th>\n",
       "      <td>1.0</td>\n",
       "    </tr>\n",
       "  </tbody>\n",
       "</table></div>"
      ],
      "text/plain": [
       "    is_genre_crime\n",
       "46             1.0"
      ]
     },
     "execution_count": 34,
     "metadata": {},
     "output_type": "execute_result"
    }
   ],
   "source": [
    "X_train.iloc[:, [12]].head(1)"
   ]
  },
  {
   "cell_type": "code",
   "execution_count": 76,
   "id": "f476b415-7d56-4791-84f4-02db67e689d5",
   "metadata": {},
   "outputs": [],
   "source": [
    "forward_features = ['vote_average', 'is_genre_adventure', 'is_genre_thriller',\n",
    "                    'is_long_movie', 'ROI', 'cast_actor_1_Arnold Schwarzenegger',\n",
    "                    'production_company_UnitedArtists', 'is_genre_crime']"
   ]
  },
  {
   "cell_type": "code",
   "execution_count": 77,
   "id": "7630fff0-94ea-499b-8cfe-8d8102e21be0",
   "metadata": {},
   "outputs": [],
   "source": [
    "X_train_f = X_train.loc[:, forward_features]\n",
    "X_validate_f = X_validate.loc[:, forward_features]\n",
    "X_test_f = X_test.loc[:, forward_features]"
   ]
  },
  {
   "cell_type": "code",
   "execution_count": 44,
   "id": "ee045364-deda-4d51-ad81-2bfcd13e7b33",
   "metadata": {},
   "outputs": [],
   "source": [
    "#mod.precision_models(X_train, y_train)"
   ]
  },
  {
   "cell_type": "code",
   "execution_count": 42,
   "id": "9339b320-3b00-4f27-8453-0174a97dd210",
   "metadata": {},
   "outputs": [],
   "source": [
    "tree = DecisionTreeClassifier(max_depth=11,\n",
    "                               criterion='gini')\n",
    "sfs = SequentialFeatureSelector(tree, n_features_to_select=8, direction = 'backward')\n",
    "sfs1 = sfs.fit(X_train, y_train)"
   ]
  },
  {
   "cell_type": "code",
   "execution_count": 65,
   "id": "fb0cd726-78cb-45d8-8db3-6e9e473304dc",
   "metadata": {},
   "outputs": [],
   "source": [
    "#sfs1.get_support()"
   ]
  },
  {
   "cell_type": "code",
   "execution_count": 63,
   "id": "08cc9e30-291e-4a08-bf92-6360be321080",
   "metadata": {},
   "outputs": [],
   "source": [
    "backward_features = ['vote_average', 'ROI', 'production_company_WarnerBros.',\n",
    "                    'budget_range_low', 'budget_range_very high',\n",
    "                     'release_weekday_Saturday', 'release_weekday_Sunday',\n",
    "                    'release_weekday_Wednesday']"
   ]
  },
  {
   "cell_type": "code",
   "execution_count": 64,
   "id": "c074db6e-c1f0-4db1-858e-116b74764d1c",
   "metadata": {},
   "outputs": [],
   "source": [
    "X_train_b = X_train.loc[:, backward_features]\n",
    "X_validate_b = X_validate.loc[:, backward_features]\n",
    "X_test_b = X_test.loc[:, backward_features]"
   ]
  },
  {
   "cell_type": "code",
   "execution_count": 68,
   "id": "b5d358ed-6013-408f-8531-f8fd65b738fc",
   "metadata": {},
   "outputs": [],
   "source": [
    "#mod.precision_models(X_train_b, y_train)"
   ]
  },
  {
   "cell_type": "code",
   "execution_count": 72,
   "id": "f73f8435-ab7a-467f-b6cd-9a845a713c18",
   "metadata": {},
   "outputs": [],
   "source": [
    "exploration_features = ['is_genre_comedy', 'is_genre_adventure', 'is_genre_action',\n",
    "                        'is_genre_drama', 'is_long_movie', 'ROI',\n",
    "                        'cast_actor_1_Clint Eastwood', \n",
    "                        'production_company_Metro-Goldwyn-Mayer(MGM)']\n",
    "                        \n",
    "X_train_e = X_train.loc[:, exploration_features]\n",
    "X_validate_e = X_validate.loc[:, exploration_features]\n",
    "X_test_e = X_test.loc[:, exploration_features]                        "
   ]
  },
  {
   "cell_type": "code",
   "execution_count": 79,
   "id": "97a0a741-9167-4f30-8859-f0f9b7468ec3",
   "metadata": {},
   "outputs": [
    {
     "name": "stdout",
     "output_type": "stream",
     "text": [
      "------------------\n",
      "Number of records:  1379\n",
      "------------------\n",
      "Confusion Matrix:\n",
      "[['tn: 837' 'fp: 0']\n",
      " ['fn: 35' 'tp: 507']]\n",
      "------------------\n",
      "Accuracy: 97.461928934 %\n",
      "------------------\n",
      "TPR: 93.5424 %\n",
      "TNR: 100.0000 %\n",
      "FPR: 0.0000 %\n",
      "FNR: 6.4576 %\n",
      "------------------\n",
      "Precision: 1.0000\n",
      "Recall: 0.9354\n",
      "------------------\n",
      "F1-Measure: 0.9666\n"
     ]
    },
    {
     "data": {
      "image/png": "[encoded data removed]",
      "text/plain": [
       "<Figure size 432x288 with 1 Axes>"
      ]
     },
     "metadata": {
      "needs_background": "light"
     },
     "output_type": "display_data"
    }
   ],
   "source": [
    "mod.predict_on_test(X_train_f, y_train, X_test_f, y_test)"
   ]
  },
  {
   "cell_type": "code",
   "execution_count": 75,
   "id": "23e516aa-697f-4fbb-b01a-4b44ae968835",
   "metadata": {},
   "outputs": [],
   "source": [
    "#mod.precision_models(X_train_e, y_train)"
   ]
  },
  {
   "cell_type": "code",
   "execution_count": null,
   "id": "620a9f9a-bbd9-4ec6-88de-04dc774a9359",
   "metadata": {},
   "outputs": [],
   "source": [
    "#Logistic Regression Precision\n",
    "#Best Score = 0.9993\n",
    "#Best Hyper-parameters = {'C': 100, 'solver': 'newton-cg'}\n",
    "\n",
    "#Decision Tree Regression Precision\n",
    "#Best Score = 0.9967\n",
    "#Best Hyper-parameters = {'max_depth': 13}"
   ]
  },
  {
   "cell_type": "code",
   "execution_count": null,
   "id": "d32fdf5b-5630-4ff7-b5cf-356bf46832c8",
   "metadata": {},
   "outputs": [],
   "source": [
    "#logReg = LogisticRegression(C= 10, solver = 'lbfgs', max_iter=1000)\n",
    "#sfs2 = SequentialFeatureSelector(logReg, n_features_to_select=10)\n",
    "#sfs3 = sfs2.fit(X_train, y_train)"
   ]
  },
  {
   "cell_type": "code",
   "execution_count": null,
   "id": "1cfa0620-2206-49ea-8911-7dcf249a73bd",
   "metadata": {},
   "outputs": [],
   "source": [
    "#precision_features = ['production_company_Metro-Goldwyn-Mayer(MGM)','production_company_other_company',\n",
    "#                      'cast_actor_1_Tom Cruise', 'cast_actor_1_Robert De Niro','vote_count',\n",
    "#                      'is_genre_scifi','production_company_NewLineCinema', 'budget',\n",
    "#                      'is_genre_thriller', 'cast_actor_1_Nicolas Cage']\n",
    "#\n",
    "#X_train = X_train.loc[:, precision_features]\n",
    "#X_validate = X_validate.loc[:, precision_features]\n",
    "#X_test = X_test.loc[:, precision_features]"
   ]
  },
  {
   "cell_type": "code",
   "execution_count": null,
   "id": "2ab6714f-b93c-467f-916e-94bdf0badc46",
   "metadata": {},
   "outputs": [],
   "source": []
  }
 ],
 "metadata": {
  "kernelspec": {
   "display_name": "Python 3 (ipykernel)",
   "language": "python",
   "name": "python3"
  },
  "language_info": {
   "codemirror_mode": {
    "name": "ipython",
    "version": 3
   },
   "file_extension": ".py",
   "mimetype": "text/x-python",
   "name": "python",
   "nbconvert_exporter": "python",
   "pygments_lexer": "ipython3",
   "version": "3.9.7"
  }
 },
 "nbformat": 4,
 "nbformat_minor": 5
}
