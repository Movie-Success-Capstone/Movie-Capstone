{
 "cells": [
  {
   "cell_type": "code",
   "execution_count": 16,
   "id": "03b137da-b44a-46e9-951f-811a5261b4d3",
   "metadata": {},
   "outputs": [],
   "source": [
    "import wrangle as w \n",
    "import pandas as pd\n",
    "import numpy as np\n",
    "import scipy as sc\n",
    "import seaborn as sns\n",
    "import matplotlib.pyplot as plt\n",
    "from sklearn.tree import DecisionTreeClassifier\n",
    "from sklearn.model_selection import train_test_split\n",
    "from sklearn.tree import export_text\n",
    "from sklearn.metrics import classification_report\n",
    "from sklearn.metrics import confusion_matrix\n",
    "from sklearn.metrics import recall_score, precision_score, f1_score, accuracy_score\n",
    "from sklearn.ensemble import RandomForestClassifier\n",
    "from sklearn.neighbors import KNeighborsClassifier\n",
    "from sklearn.linear_model import LogisticRegression"
   ]
  },
  {
   "cell_type": "code",
   "execution_count": 17,
   "id": "d81dc246-7953-46ab-9192-b756c9bf890f",
   "metadata": {},
   "outputs": [
    {
     "name": "stdout",
     "output_type": "stream",
     "text": [
      "Using cached CSV\n"
     ]
    }
   ],
   "source": [
    "df = w.wrangle_df()"
   ]
  },
  {
   "cell_type": "code",
   "execution_count": null,
   "id": "fc12d4d4-f59a-43fd-b469-50683d14806d",
   "metadata": {},
   "outputs": [],
   "source": [
    "df"
   ]
  },
  {
   "cell_type": "code",
   "execution_count": 27,
   "id": "64ab214b-4c8a-48c9-8390-c94bcf9b4664",
   "metadata": {},
   "outputs": [],
   "source": [
    "excess = df[df['success_rating'] >= 10]"
   ]
  },
  {
   "cell_type": "code",
   "execution_count": 28,
   "id": "d0af4aff-2158-4ef0-9bc6-508b0ee370e5",
   "metadata": {},
   "outputs": [
    {
     "data": {
      "text/plain": [
       "(1916, 22)"
      ]
     },
     "execution_count": 28,
     "metadata": {},
     "output_type": "execute_result"
    }
   ],
   "source": [
    "excess.shape"
   ]
  },
  {
   "cell_type": "code",
   "execution_count": 29,
   "id": "7353d576-df3d-430c-a0a2-278caa40ae53",
   "metadata": {},
   "outputs": [
    {
     "data": {
      "text/plain": [
       "(7282, 22)"
      ]
     },
     "execution_count": 29,
     "metadata": {},
     "output_type": "execute_result"
    }
   ],
   "source": [
    "df.shape"
   ]
  },
  {
   "cell_type": "code",
   "execution_count": 30,
   "id": "b304ecd2-be00-4fed-b5cc-0e62c0627f79",
   "metadata": {},
   "outputs": [
    {
     "data": {
      "text/plain": [
       "0.26311452897555615"
      ]
     },
     "execution_count": 30,
     "metadata": {},
     "output_type": "execute_result"
    }
   ],
   "source": [
    "1916/7282"
   ]
  },
  {
   "cell_type": "code",
   "execution_count": 32,
   "id": "b2a8a2e1-b8f1-47a3-a387-c6f778839d06",
   "metadata": {},
   "outputs": [
    {
     "data": {
      "text/plain": [
       "id\n",
       "18402      18.130332\n",
       "923        25.437500\n",
       "5780       13.866667\n",
       "32275      10.540000\n",
       "9036       10.088189\n",
       "105        80.233634\n",
       "19114      10.153961\n",
       "19997      22.780000\n",
       "10414      16.240748\n",
       "124905     10.085513\n",
       "11862      27.281237\n",
       "1597       19.826643\n",
       "388        14.954963\n",
       "14412      10.676109\n",
       "874        27.259615\n",
       "16804      33.654961\n",
       "8408       33.514286\n",
       "7300       37.183141\n",
       "381284     35.989011\n",
       "9569       13.274800\n",
       "869        10.141929\n",
       "72570      22.880033\n",
       "299245     13.065976\n",
       "9470       18.164600\n",
       "329865     15.578670\n",
       "31357      15.526817\n",
       "297761     12.568687\n",
       "85038      16.333333\n",
       "251        79.193182\n",
       "1687       15.559620\n",
       "10693      76.479070\n",
       "12919      58.855467\n",
       "7942       10.230000\n",
       "11449      33.492400\n",
       "954        19.166035\n",
       "9816       22.059275\n",
       "435        13.497956\n",
       "16620      28.358833\n",
       "40807      17.144655\n",
       "114       115.750000\n",
       "10222      30.863710\n",
       "97630      11.123735\n",
       "76338      12.891428\n",
       "3981       16.300582\n",
       "6844       35.394231\n",
       "2928       41.153132\n",
       "156022     12.414075\n",
       "9062      204.600000\n",
       "11646      13.892333\n",
       "68721      20.662480\n",
       "9659       41.250000\n",
       "11686      25.217177\n",
       "9340       11.976942\n",
       "27932      43.083333\n",
       "7979       13.372879\n",
       "1051       84.604112\n",
       "7326      107.992073\n",
       "378        17.508168\n",
       "679        38.149641\n",
       "224141     11.922533\n",
       "Name: success_rating, dtype: float64"
      ]
     },
     "execution_count": 32,
     "metadata": {},
     "output_type": "execute_result"
    }
   ],
   "source": [
    "excess['success_rating'].sample(60)"
   ]
  },
  {
   "cell_type": "code",
   "execution_count": 50,
   "id": "45798b78-38bb-4fc4-baf6-f49ab2223f3d",
   "metadata": {},
   "outputs": [],
   "source": [
    "df['success_rating4'] = (df['revenue']/(df['budget'] * 1.2)) * (df['vote_average']/10)"
   ]
  },
  {
   "cell_type": "code",
   "execution_count": null,
   "id": "db2fd5cd-7896-4b89-bc9a-d9760450b778",
   "metadata": {},
   "outputs": [],
   "source": [
    "for index, row in df.iterrows():\n",
    "        try:\n",
    "            budget = df.at[index, 'budget']\n",
    "            revenue = df.at[index, 'revenue']\n",
    "            if (revenue >= budget * 2):\n",
    "                profitable = True\n",
    "            else:\n",
    "                profitable = False\n",
    "        except:     # if budget or revenue is empty\n",
    "            profitable = np.nan"
   ]
  },
  {
   "cell_type": "code",
   "execution_count": 37,
   "id": "48d9cd3c-ec06-4af3-af11-6069b3980f1f",
   "metadata": {},
   "outputs": [],
   "source": [
    "df['success'] = df['success_rating'] > 6.5"
   ]
  },
  {
   "cell_type": "code",
   "execution_count": 41,
   "id": "bc410cf7-8295-442e-9a4a-5926cbc4eba2",
   "metadata": {},
   "outputs": [
    {
     "data": {
      "text/plain": [
       "6.673333333333334"
      ]
     },
     "execution_count": 41,
     "metadata": {},
     "output_type": "execute_result"
    }
   ],
   "source": [
    "df.success_rating2.max()"
   ]
  },
  {
   "cell_type": "code",
   "execution_count": 43,
   "id": "1c5f4bf5-2c44-4f9c-8829-0497d9f63709",
   "metadata": {},
   "outputs": [
    {
     "data": {
      "text/plain": [
       "0.0"
      ]
     },
     "execution_count": 43,
     "metadata": {},
     "output_type": "execute_result"
    }
   ],
   "source": [
    "df.success_rating3.min()"
   ]
  },
  {
   "cell_type": "code",
   "execution_count": 44,
   "id": "b9352cf0-2f18-4d25-9497-b6a93dd4f54a",
   "metadata": {},
   "outputs": [
    {
     "data": {
      "text/plain": [
       "6.673333333333334"
      ]
     },
     "execution_count": 44,
     "metadata": {},
     "output_type": "execute_result"
    }
   ],
   "source": [
    "df.success_rating3.max()"
   ]
  },
  {
   "cell_type": "code",
   "execution_count": 45,
   "id": "85ca62cc-138d-42d0-ae40-9cdedb457c55",
   "metadata": {},
   "outputs": [
    {
     "data": {
      "text/plain": [
       "False    4351\n",
       "True     2931\n",
       "Name: profitable, dtype: int64"
      ]
     },
     "execution_count": 45,
     "metadata": {},
     "output_type": "execute_result"
    }
   ],
   "source": [
    "df.profitable.value_counts()"
   ]
  },
  {
   "cell_type": "code",
   "execution_count": 51,
   "id": "5bf728b8-ea48-4685-98dc-330ec3c67ed9",
   "metadata": {},
   "outputs": [
    {
     "data": {
      "text/plain": [
       "0.000000     22\n",
       "1.200000      4\n",
       "0.800000      4\n",
       "0.500000      3\n",
       "0.155556      2\n",
       "             ..\n",
       "4.417106      1\n",
       "18.643269     1\n",
       "0.009862      1\n",
       "4.620417      1\n",
       "0.610714      1\n",
       "Name: success_rating4, Length: 7217, dtype: int64"
      ]
     },
     "execution_count": 51,
     "metadata": {},
     "output_type": "execute_result"
    }
   ],
   "source": [
    "df.success_rating4.value_counts()"
   ]
  },
  {
   "cell_type": "code",
   "execution_count": 52,
   "id": "e1aee2a0-ff0f-4327-98c4-44a67288b2bb",
   "metadata": {},
   "outputs": [
    {
     "data": {
      "text/plain": [
       "count    7282.000000\n",
       "mean        9.566970\n",
       "std        21.569372\n",
       "min         0.000000\n",
       "25%         0.875969\n",
       "50%         4.133958\n",
       "75%        10.483487\n",
       "max       667.333333\n",
       "Name: success_rating, dtype: float64"
      ]
     },
     "execution_count": 52,
     "metadata": {},
     "output_type": "execute_result"
    }
   ],
   "source": [
    "df.success_rating.describe()"
   ]
  },
  {
   "cell_type": "code",
   "execution_count": 54,
   "id": "c46de54a-9875-463e-94ba-93081de979ac",
   "metadata": {},
   "outputs": [
    {
     "data": {
      "text/plain": [
       "False    4482\n",
       "True     2800\n",
       "Name: success, dtype: int64"
      ]
     },
     "execution_count": 54,
     "metadata": {},
     "output_type": "execute_result"
    }
   ],
   "source": [
    "success.value_counts()"
   ]
  },
  {
   "cell_type": "code",
   "execution_count": 60,
   "id": "adfa2229-61da-4d37-9ccf-d99862652e94",
   "metadata": {},
   "outputs": [],
   "source": [
    "df['success'] = df['success']*1"
   ]
  },
  {
   "cell_type": "code",
   "execution_count": 62,
   "id": "811a2b8b-ca7b-4c7b-b972-df4a0b535db3",
   "metadata": {},
   "outputs": [],
   "source": [
    "df['profitable'] = df['profitable']*1"
   ]
  },
  {
   "cell_type": "code",
   "execution_count": 63,
   "id": "a140c8a8-644a-46de-9f50-ea714ded89fe",
   "metadata": {},
   "outputs": [
    {
     "data": {
      "text/plain": [
       "0    4351\n",
       "1    2931\n",
       "Name: profitable, dtype: int64"
      ]
     },
     "execution_count": 63,
     "metadata": {},
     "output_type": "execute_result"
    }
   ],
   "source": [
    "df.profitable.value_counts()"
   ]
  },
  {
   "cell_type": "code",
   "execution_count": 57,
   "id": "6592e970-3af1-415f-9cbe-de6dc7977cae",
   "metadata": {},
   "outputs": [],
   "source": [
    "success = success*1"
   ]
  },
  {
   "cell_type": "code",
   "execution_count": 58,
   "id": "61611fa4-23ad-4b8d-9b0b-837347f92dd1",
   "metadata": {},
   "outputs": [
    {
     "data": {
      "text/plain": [
       "id\n",
       "5         0\n",
       "6         0\n",
       "11        1\n",
       "12        1\n",
       "13        1\n",
       "         ..\n",
       "433356    0\n",
       "434119    1\n",
       "437031    0\n",
       "440642    0\n",
       "443319    0\n",
       "Name: success, Length: 7282, dtype: int64"
      ]
     },
     "execution_count": 58,
     "metadata": {},
     "output_type": "execute_result"
    }
   ],
   "source": [
    "success"
   ]
  },
  {
   "cell_type": "code",
   "execution_count": 59,
   "id": "23b713b9-14be-4c4f-8de5-df8689ec63f8",
   "metadata": {},
   "outputs": [
    {
     "data": {
      "text/html": [
       "<div><div id=f4d07b67-df12-410d-8910-43bcbaa65469 style=\"display:none; background-color:#9D6CFF; color:white; width:200px; height:30px; padding-left:5px; border-radius:4px; flex-direction:row; justify-content:space-around; align-items:center;\" onmouseover=\"this.style.backgroundColor='#BA9BF8'\" onmouseout=\"this.style.backgroundColor='#9D6CFF'\" onclick=\"window.commands?.execute('create-mitosheet-from-dataframe-output');\">See Full Dataframe in Mito</div> <script> if (window.commands?.hasCommand('create-mitosheet-from-dataframe-output')) document.getElementById('f4d07b67-df12-410d-8910-43bcbaa65469').style.display = 'flex' </script> <table border=\"1\" class=\"dataframe\">\n",
       "  <thead>\n",
       "    <tr style=\"text-align: right;\">\n",
       "      <th></th>\n",
       "      <th>title</th>\n",
       "      <th>success</th>\n",
       "      <th>success_rating</th>\n",
       "      <th>genres</th>\n",
       "      <th>cast_actor_1</th>\n",
       "      <th>cast_actor_2</th>\n",
       "      <th>cast_actor_3</th>\n",
       "      <th>total_n_cast</th>\n",
       "      <th>budget</th>\n",
       "      <th>revenue</th>\n",
       "      <th>...</th>\n",
       "      <th>overview</th>\n",
       "      <th>popularity</th>\n",
       "      <th>runtime</th>\n",
       "      <th>profitable</th>\n",
       "      <th>release_date</th>\n",
       "      <th>release_year</th>\n",
       "      <th>imdb_id</th>\n",
       "      <th>success_rating2</th>\n",
       "      <th>success_rating3</th>\n",
       "      <th>success_rating4</th>\n",
       "    </tr>\n",
       "    <tr>\n",
       "      <th>id</th>\n",
       "      <th></th>\n",
       "      <th></th>\n",
       "      <th></th>\n",
       "      <th></th>\n",
       "      <th></th>\n",
       "      <th></th>\n",
       "      <th></th>\n",
       "      <th></th>\n",
       "      <th></th>\n",
       "      <th></th>\n",
       "      <th></th>\n",
       "      <th></th>\n",
       "      <th></th>\n",
       "      <th></th>\n",
       "      <th></th>\n",
       "      <th></th>\n",
       "      <th></th>\n",
       "      <th></th>\n",
       "      <th></th>\n",
       "      <th></th>\n",
       "      <th></th>\n",
       "    </tr>\n",
       "  </thead>\n",
       "  <tbody>\n",
       "    <tr>\n",
       "      <th>5</th>\n",
       "      <td>Four Rooms</td>\n",
       "      <td>False</td>\n",
       "      <td>3.493750</td>\n",
       "      <td>Crime Comedy</td>\n",
       "      <td>Tim Roth</td>\n",
       "      <td>Antonio Banderas</td>\n",
       "      <td>Jennifer Beals</td>\n",
       "      <td>24.0</td>\n",
       "      <td>4000000.0</td>\n",
       "      <td>4300000.0</td>\n",
       "      <td>...</td>\n",
       "      <td>It's Ted the Bellhop's first night on the job...and the hotel's very unusual guests are about to place him in some outrageous predicaments. It seems that this evening's room service is serving up one unbelievable happening after another.</td>\n",
       "      <td>9.026586</td>\n",
       "      <td>98.0</td>\n",
       "      <td>False</td>\n",
       "      <td>1995-12-09</td>\n",
       "      <td>1995</td>\n",
       "      <td>tt0113101</td>\n",
       "      <td>0.034937</td>\n",
       "      <td>0.034937</td>\n",
       "      <td>0.582292</td>\n",
       "    </tr>\n",
       "    <tr>\n",
       "      <th>6</th>\n",
       "      <td>Judgment Night</td>\n",
       "      <td>False</td>\n",
       "      <td>4.854775</td>\n",
       "      <td>Action Thriller Crime</td>\n",
       "      <td>Emilio Estevez</td>\n",
       "      <td>Cuba Gooding Jr.</td>\n",
       "      <td>Denis Leary</td>\n",
       "      <td>15.0</td>\n",
       "      <td>8000000.0</td>\n",
       "      <td>12136938.0</td>\n",
       "      <td>...</td>\n",
       "      <td>While racing to a boxing match, Frank, Mike, John and Rey get more than they bargained for. A wrong turn lands them directly in the path of Fallon, a vicious, wise-cracking drug lord. After accidentally witnessing Fallon murder a disloyal henchman, the four become his unwilling prey in a savage game of cat &amp;amp; mouse as they are mercilessly stalked through the urban jungle in this taut suspense drama</td>\n",
       "      <td>5.538671</td>\n",
       "      <td>110.0</td>\n",
       "      <td>False</td>\n",
       "      <td>1993-10-15</td>\n",
       "      <td>1993</td>\n",
       "      <td>tt0107286</td>\n",
       "      <td>0.048548</td>\n",
       "      <td>0.048548</td>\n",
       "      <td>0.809129</td>\n",
       "    </tr>\n",
       "    <tr>\n",
       "      <th>11</th>\n",
       "      <td>Star Wars</td>\n",
       "      <td>True</td>\n",
       "      <td>285.487448</td>\n",
       "      <td>Adventure Action Science Fiction</td>\n",
       "      <td>Mark Hamill</td>\n",
       "      <td>Harrison Ford</td>\n",
       "      <td>Carrie Fisher</td>\n",
       "      <td>106.0</td>\n",
       "      <td>11000000.0</td>\n",
       "      <td>775398007.0</td>\n",
       "      <td>...</td>\n",
       "      <td>Princess Leia is captured and held hostage by the evil Imperial forces in their effort to take over the galactic Empire. Venturesome Luke Skywalker and dashing captain Han Solo team together with the loveable robot duo R2-D2 and C-3PO to rescue the beautiful princess and restore peace and justice in the Empire.</td>\n",
       "      <td>42.149697</td>\n",
       "      <td>121.0</td>\n",
       "      <td>True</td>\n",
       "      <td>1977-05-25</td>\n",
       "      <td>1977</td>\n",
       "      <td>tt0076759</td>\n",
       "      <td>2.854874</td>\n",
       "      <td>2.854874</td>\n",
       "      <td>47.581241</td>\n",
       "    </tr>\n",
       "    <tr>\n",
       "      <th>12</th>\n",
       "      <td>Finding Nemo</td>\n",
       "      <td>True</td>\n",
       "      <td>38.013564</td>\n",
       "      <td>Animation Family</td>\n",
       "      <td>Albert Brooks</td>\n",
       "      <td>Ellen DeGeneres</td>\n",
       "      <td>Alexander Gould</td>\n",
       "      <td>24.0</td>\n",
       "      <td>94000000.0</td>\n",
       "      <td>940335536.0</td>\n",
       "      <td>...</td>\n",
       "      <td>Nemo, an adventurous young clownfish, is unexpectedly taken from his Great Barrier Reef home to a dentist's office aquarium. It's up to his worrisome father Marlin and a friendly but forgetful fish Dory to bring Nemo home -- meeting vegetarian sharks, surfer dude turtles, hypnotic jellyfish, hungry seagulls, and more along the way.</td>\n",
       "      <td>25.497794</td>\n",
       "      <td>100.0</td>\n",
       "      <td>True</td>\n",
       "      <td>2003-05-30</td>\n",
       "      <td>2003</td>\n",
       "      <td>tt0266543</td>\n",
       "      <td>0.380136</td>\n",
       "      <td>0.380136</td>\n",
       "      <td>6.335594</td>\n",
       "    </tr>\n",
       "    <tr>\n",
       "      <th>13</th>\n",
       "      <td>Forrest Gump</td>\n",
       "      <td>True</td>\n",
       "      <td>50.537748</td>\n",
       "      <td>Comedy Drama Romance</td>\n",
       "      <td>Tom Hanks</td>\n",
       "      <td>Robin Wright</td>\n",
       "      <td>Gary Sinise</td>\n",
       "      <td>66.0</td>\n",
       "      <td>55000000.0</td>\n",
       "      <td>677945399.0</td>\n",
       "      <td>...</td>\n",
       "      <td>A man with a low IQ has accomplished great things in his life and been present during significant historic events - in each case, far exceeding what anyone imagined he could do. Yet, despite all the things he has attained, his one true love eludes him. 'Forrest Gump' is the story of a man who rose above his challenges, and who proved that determination, courage, and love are more important than ability.</td>\n",
       "      <td>48.307194</td>\n",
       "      <td>142.0</td>\n",
       "      <td>True</td>\n",
       "      <td>1994-07-06</td>\n",
       "      <td>1994</td>\n",
       "      <td>tt0109830</td>\n",
       "      <td>0.505377</td>\n",
       "      <td>0.505377</td>\n",
       "      <td>8.422958</td>\n",
       "    </tr>\n",
       "    <tr>\n",
       "      <th>...</th>\n",
       "      <td>...</td>\n",
       "      <td>...</td>\n",
       "      <td>...</td>\n",
       "      <td>...</td>\n",
       "      <td>...</td>\n",
       "      <td>...</td>\n",
       "      <td>...</td>\n",
       "      <td>...</td>\n",
       "      <td>...</td>\n",
       "      <td>...</td>\n",
       "      <td>...</td>\n",
       "      <td>...</td>\n",
       "      <td>...</td>\n",
       "      <td>...</td>\n",
       "      <td>...</td>\n",
       "      <td>...</td>\n",
       "      <td>...</td>\n",
       "      <td>...</td>\n",
       "      <td>...</td>\n",
       "      <td>...</td>\n",
       "      <td>...</td>\n",
       "    </tr>\n",
       "    <tr>\n",
       "      <th>433356</th>\n",
       "      <td>The Ottoman Lieutenant</td>\n",
       "      <td>False</td>\n",
       "      <td>0.019579</td>\n",
       "      <td>Romance Drama War</td>\n",
       "      <td>Michiel Huisman</td>\n",
       "      <td>Hera Hilmar</td>\n",
       "      <td>Josh Hartnett</td>\n",
       "      <td>24.0</td>\n",
       "      <td>40000000.0</td>\n",
       "      <td>240978.0</td>\n",
       "      <td>...</td>\n",
       "      <td>Lillie, a determined American woman, ventures overseas to join Dr. Jude at a remote medical mission in the Ottoman Empire (now Turkey). However, Lillie soon finds herself at odds with Jude and the mission’s founder, Woodruff, when she falls for the titular military man, Ismail, just as the war is about to erupt.</td>\n",
       "      <td>13.256679</td>\n",
       "      <td>111.0</td>\n",
       "      <td>False</td>\n",
       "      <td>2017-03-10</td>\n",
       "      <td>2017</td>\n",
       "      <td>tt4943322</td>\n",
       "      <td>0.000196</td>\n",
       "      <td>0.000196</td>\n",
       "      <td>0.003263</td>\n",
       "    </tr>\n",
       "    <tr>\n",
       "      <th>434119</th>\n",
       "      <td>Confidential Assignment</td>\n",
       "      <td>True</td>\n",
       "      <td>20.411972</td>\n",
       "      <td>Action Drama Comedy</td>\n",
       "      <td>Hyun Bin</td>\n",
       "      <td>Yoo Hae-jin</td>\n",
       "      <td>Kim Joo-hyuk</td>\n",
       "      <td>7.0</td>\n",
       "      <td>8520000.0</td>\n",
       "      <td>56100000.0</td>\n",
       "      <td>...</td>\n",
       "      <td>When a crime organization from North Korea crosses borders and enters South Korean soil, a South Korean detective must cooperate with a North Korean detective to investigate their whereabouts.</td>\n",
       "      <td>1.758590</td>\n",
       "      <td>125.0</td>\n",
       "      <td>True</td>\n",
       "      <td>2017-01-18</td>\n",
       "      <td>2017</td>\n",
       "      <td>tt5606538</td>\n",
       "      <td>0.204120</td>\n",
       "      <td>0.204120</td>\n",
       "      <td>3.401995</td>\n",
       "    </tr>\n",
       "    <tr>\n",
       "      <th>437031</th>\n",
       "      <td>Rescue Under Fire</td>\n",
       "      <td>False</td>\n",
       "      <td>1.906250</td>\n",
       "      <td>War</td>\n",
       "      <td>Ariadna Gil</td>\n",
       "      <td>Roberto Álamo</td>\n",
       "      <td>Antonio Garrido</td>\n",
       "      <td>13.0</td>\n",
       "      <td>8000000.0</td>\n",
       "      <td>5000000.0</td>\n",
       "      <td>...</td>\n",
       "      <td>The crew of a medical helicopter suffers an accident when helping a joint force of USA and United Nations troops under Spanish command division in Afghanistan. The Spanish army has only one night to organize the rescue of the crew and injured, but what seems routine turns into hell once they receive the order to rescue the helicopter as well. Things only get worse when during the night a huge a concentration of Talibans begin surround them.</td>\n",
       "      <td>33.536359</td>\n",
       "      <td>93.0</td>\n",
       "      <td>False</td>\n",
       "      <td>2017-03-10</td>\n",
       "      <td>2017</td>\n",
       "      <td>tt5456104</td>\n",
       "      <td>0.019062</td>\n",
       "      <td>0.019062</td>\n",
       "      <td>0.317708</td>\n",
       "    </tr>\n",
       "    <tr>\n",
       "      <th>440642</th>\n",
       "      <td>The Spacewalker</td>\n",
       "      <td>False</td>\n",
       "      <td>5.161115</td>\n",
       "      <td>Adventure Drama History</td>\n",
       "      <td>Evgeny Mironov</td>\n",
       "      <td>Konstantin Khabenskiy</td>\n",
       "      <td>Vladimir Ilin</td>\n",
       "      <td>5.0</td>\n",
       "      <td>7075038.0</td>\n",
       "      <td>9868942.0</td>\n",
       "      <td>...</td>\n",
       "      <td>March 1965. In the heat of the Cold War, the USA and the USSR are competing for supremacy in space. What both superpowers aim for in this race, is to be the first to have a man walk in outer space. To accomplish that, no price is too high and no risk is too great.  Now it’s up to the unlikely duo of a seasoned war veteran and a hot-headed test-pilot to fulfill this mission. Two men in a tiny spaceship, without proper testing, facing the complete unknown…  They were supposed to do what no man has done before – and no man imagined what would happen next…</td>\n",
       "      <td>10.181000</td>\n",
       "      <td>140.0</td>\n",
       "      <td>False</td>\n",
       "      <td>2017-04-12</td>\n",
       "      <td>2017</td>\n",
       "      <td>tt6673840</td>\n",
       "      <td>0.051611</td>\n",
       "      <td>0.051611</td>\n",
       "      <td>0.860186</td>\n",
       "    </tr>\n",
       "    <tr>\n",
       "      <th>443319</th>\n",
       "      <td>Phoenix Forgotten</td>\n",
       "      <td>False</td>\n",
       "      <td>3.664286</td>\n",
       "      <td>Horror Mystery Science Fiction</td>\n",
       "      <td>Florence Hartigan</td>\n",
       "      <td>Jeanine Jackson</td>\n",
       "      <td>Chelsea Lopez</td>\n",
       "      <td>10.0</td>\n",
       "      <td>2800000.0</td>\n",
       "      <td>3600000.0</td>\n",
       "      <td>...</td>\n",
       "      <td>20 years after three teenagers disappeared in the wake of mysterious lights appearing above Phoenix, Arizona, unseen footage from that night has been discovered, chronicling the final hours of their fateful expedition.</td>\n",
       "      <td>12.560942</td>\n",
       "      <td>80.0</td>\n",
       "      <td>False</td>\n",
       "      <td>2017-04-21</td>\n",
       "      <td>2017</td>\n",
       "      <td>tt6574272</td>\n",
       "      <td>0.036643</td>\n",
       "      <td>0.036643</td>\n",
       "      <td>0.610714</td>\n",
       "    </tr>\n",
       "  </tbody>\n",
       "</table></div>"
      ],
      "text/plain": [
       "                          title  success  success_rating  \\\n",
       "id                                                         \n",
       "5                    Four Rooms    False        3.493750   \n",
       "6                Judgment Night    False        4.854775   \n",
       "11                    Star Wars     True      285.487448   \n",
       "12                 Finding Nemo     True       38.013564   \n",
       "13                 Forrest Gump     True       50.537748   \n",
       "...                         ...      ...             ...   \n",
       "433356   The Ottoman Lieutenant    False        0.019579   \n",
       "434119  Confidential Assignment     True       20.411972   \n",
       "437031        Rescue Under Fire    False        1.906250   \n",
       "440642          The Spacewalker    False        5.161115   \n",
       "443319        Phoenix Forgotten    False        3.664286   \n",
       "\n",
       "                                  genres       cast_actor_1  \\\n",
       "id                                                            \n",
       "5                           Crime Comedy           Tim Roth   \n",
       "6                  Action Thriller Crime     Emilio Estevez   \n",
       "11      Adventure Action Science Fiction        Mark Hamill   \n",
       "12                      Animation Family      Albert Brooks   \n",
       "13                  Comedy Drama Romance          Tom Hanks   \n",
       "...                                  ...                ...   \n",
       "433356                 Romance Drama War    Michiel Huisman   \n",
       "434119               Action Drama Comedy           Hyun Bin   \n",
       "437031                               War        Ariadna Gil   \n",
       "440642           Adventure Drama History     Evgeny Mironov   \n",
       "443319    Horror Mystery Science Fiction  Florence Hartigan   \n",
       "\n",
       "                 cast_actor_2     cast_actor_3  total_n_cast      budget  \\\n",
       "id                                                                         \n",
       "5            Antonio Banderas   Jennifer Beals          24.0   4000000.0   \n",
       "6            Cuba Gooding Jr.      Denis Leary          15.0   8000000.0   \n",
       "11              Harrison Ford    Carrie Fisher         106.0  11000000.0   \n",
       "12            Ellen DeGeneres  Alexander Gould          24.0  94000000.0   \n",
       "13               Robin Wright      Gary Sinise          66.0  55000000.0   \n",
       "...                       ...              ...           ...         ...   \n",
       "433356            Hera Hilmar    Josh Hartnett          24.0  40000000.0   \n",
       "434119            Yoo Hae-jin     Kim Joo-hyuk           7.0   8520000.0   \n",
       "437031          Roberto Álamo  Antonio Garrido          13.0   8000000.0   \n",
       "440642  Konstantin Khabenskiy    Vladimir Ilin           5.0   7075038.0   \n",
       "443319        Jeanine Jackson    Chelsea Lopez          10.0   2800000.0   \n",
       "\n",
       "            revenue  ...                                           overview  \\\n",
       "id                   ...                                                      \n",
       "5         4300000.0  ...  It's Ted the Bellhop's first night on the job....   \n",
       "6        12136938.0  ...  While racing to a boxing match, Frank, Mike, J...   \n",
       "11      775398007.0  ...  Princess Leia is captured and held hostage by ...   \n",
       "12      940335536.0  ...  Nemo, an adventurous young clownfish, is unexp...   \n",
       "13      677945399.0  ...  A man with a low IQ has accomplished great thi...   \n",
       "...             ...  ...                                                ...   \n",
       "433356     240978.0  ...  Lillie, a determined American woman, ventures ...   \n",
       "434119   56100000.0  ...  When a crime organization from North Korea cro...   \n",
       "437031    5000000.0  ...  The crew of a medical helicopter suffers an ac...   \n",
       "440642    9868942.0  ...  March 1965. In the heat of the Cold War, the U...   \n",
       "443319    3600000.0  ...  20 years after three teenagers disappeared in ...   \n",
       "\n",
       "        popularity  runtime profitable release_date release_year    imdb_id  \\\n",
       "id                                                                            \n",
       "5         9.026586     98.0      False   1995-12-09         1995  tt0113101   \n",
       "6         5.538671    110.0      False   1993-10-15         1993  tt0107286   \n",
       "11       42.149697    121.0       True   1977-05-25         1977  tt0076759   \n",
       "12       25.497794    100.0       True   2003-05-30         2003  tt0266543   \n",
       "13       48.307194    142.0       True   1994-07-06         1994  tt0109830   \n",
       "...            ...      ...        ...          ...          ...        ...   \n",
       "433356   13.256679    111.0      False   2017-03-10         2017  tt4943322   \n",
       "434119    1.758590    125.0       True   2017-01-18         2017  tt5606538   \n",
       "437031   33.536359     93.0      False   2017-03-10         2017  tt5456104   \n",
       "440642   10.181000    140.0      False   2017-04-12         2017  tt6673840   \n",
       "443319   12.560942     80.0      False   2017-04-21         2017  tt6574272   \n",
       "\n",
       "        success_rating2  success_rating3 success_rating4  \n",
       "id                                                        \n",
       "5              0.034937         0.034937        0.582292  \n",
       "6              0.048548         0.048548        0.809129  \n",
       "11             2.854874         2.854874       47.581241  \n",
       "12             0.380136         0.380136        6.335594  \n",
       "13             0.505377         0.505377        8.422958  \n",
       "...                 ...              ...             ...  \n",
       "433356         0.000196         0.000196        0.003263  \n",
       "434119         0.204120         0.204120        3.401995  \n",
       "437031         0.019062         0.019062        0.317708  \n",
       "440642         0.051611         0.051611        0.860186  \n",
       "443319         0.036643         0.036643        0.610714  \n",
       "\n",
       "[7282 rows x 25 columns]"
      ]
     },
     "execution_count": 59,
     "metadata": {},
     "output_type": "execute_result"
    }
   ],
   "source": [
    "df"
   ]
  },
  {
   "cell_type": "code",
   "execution_count": null,
   "id": "559097ea-47e3-4b0a-bbcd-8b62122ad896",
   "metadata": {},
   "outputs": [],
   "source": []
  }
 ],
 "metadata": {
  "kernelspec": {
   "display_name": "Python 3 (ipykernel)",
   "language": "python",
   "name": "python3"
  },
  "language_info": {
   "codemirror_mode": {
    "name": "ipython",
    "version": 3
   },
   "file_extension": ".py",
   "mimetype": "text/x-python",
   "name": "python",
   "nbconvert_exporter": "python",
   "pygments_lexer": "ipython3",
   "version": "3.9.7"
  }
 },
 "nbformat": 4,
 "nbformat_minor": 5
}
