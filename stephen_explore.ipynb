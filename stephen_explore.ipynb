{
 "cells": [
  {
   "cell_type": "markdown",
   "id": "40bfeef5",
   "metadata": {},
   "source": [
    "# Movie Ratings Capstome"
   ]
  },
  {
   "cell_type": "markdown",
   "id": "eaed70f9",
   "metadata": {},
   "source": [
    "#### Import Libraries"
   ]
  },
  {
   "cell_type": "code",
   "execution_count": 2,
   "id": "f4d2a701",
   "metadata": {},
   "outputs": [],
   "source": [
    "import pandas as pd\n",
    "import numpy as np\n",
    "import matplotlib.pyplot as plt\n",
    "import os\n",
    "\n",
    "import warnings\n",
    "warnings.filterwarnings('ignore')"
   ]
  },
  {
   "cell_type": "markdown",
   "id": "f67e74fd",
   "metadata": {},
   "source": [
    "### Acquire the Data from  https://www.imdb.com/interfaces/"
   ]
  },
  {
   "cell_type": "code",
   "execution_count": 9,
   "id": "9e62c8c2",
   "metadata": {},
   "outputs": [],
   "source": [
    "# (def get_data(use_cache = True):\n",
    "    \n",
    "#     titles_ratings = 'movie_ratings.csv'\n",
    "#     name_basic = 'name_basic.csv'\n",
    "#     titles_basics = 'titles_basics.csv'\n",
    "#     titles_crew = 'titles_crew.csv'\n",
    "#     titles_principals = 'titles_principals.csv'\n",
    "#     titles_akas = 'titles_akas.csv'\n",
    "\n",
    "#     if os.path.exists([['titles_ratings', 'name_basic',\n",
    "#                        'titles_basics','titles_crew',\n",
    "#                        'titles_principals', 'titles_akas']]) and use_cache:\n",
    "#  print('Getting csv file..')\n",
    " \n",
    "#  pd.read_csv()\n",
    "         \n",
    "# )"
   ]
  },
  {
   "cell_type": "markdown",
   "id": "6aa09e93",
   "metadata": {},
   "source": [
    "#### Initial read of the tsv.gz file"
   ]
  },
  {
   "cell_type": "code",
   "execution_count": 8,
   "id": "6f894a55",
   "metadata": {},
   "outputs": [],
   "source": [
    "titles_ratings = pd.read_csv('title.ratings.tsv.gz', sep = '\\t')\n",
    "name_basic = pd.read_csv('name.basics.tsv.gz', sep = '\\t')\n",
    "titles_basics = pd.read_csv('title.basics.tsv.gz', sep = '\\t')\n",
    "titles_crew = pd.read_csv('title.crew.tsv.gz', sep = '\\t')\n",
    "titles_principals = pd.read_csv('title.principals.tsv.gz', sep = '\\t')\n",
    "titles_akas = pd.read_csv('title.akas.tsv.gz', sep = '\\t')\n",
    "\n",
    "\n",
    "# episode = pd.read_csv('title.episode.tsv.gz', sep = '\\t')# Agreed to drop"
   ]
  },
  {
   "cell_type": "markdown",
   "id": "7fc553b8",
   "metadata": {},
   "source": [
    "#### Save to local csv file (add function to skip this step if already performed)"
   ]
  },
  {
   "cell_type": "code",
   "execution_count": 7,
   "id": "fed835ce",
   "metadata": {},
   "outputs": [],
   "source": [
    "# titles_ratings.to_csv('titles_ratings.csv', index=False)\n",
    "# name_basic.to_csv('name_basic.csv', index=False)\n",
    "# titles_basics.to_csv('titles_basics.csv', index=False)\n",
    "# titles_crew.to_csv('titles_crew.csv', index=False)\n",
    "# titles_principals.to_csv('titles_principals.csv', index=False)\n",
    "# titles_akas.to_csv('titles_akas.csv', index=False)"
   ]
  },
  {
   "cell_type": "markdown",
   "id": "cb2125c7",
   "metadata": {},
   "source": [
    "#### Read locally cached files"
   ]
  },
  {
   "cell_type": "code",
   "execution_count": 9,
   "id": "d2014c8c",
   "metadata": {},
   "outputs": [],
   "source": [
    "titles_ratings = pd.read_csv('titles_ratings.csv')\n",
    "name_basic = pd.read_csv('name_basic.csv')\n",
    "titles_basics = pd.read_csv('titles_basics.csv')\n",
    "titles_crew = pd.read_csv('titles_crew.csv')\n",
    "titles_principals = pd.read_csv('titles_principals.csv')\n",
    "titles_akas = pd.read_csv('titles_akas.csv')"
   ]
  },
  {
   "cell_type": "code",
   "execution_count": 12,
   "id": "a25c07be",
   "metadata": {},
   "outputs": [
    {
     "data": {
      "text/html": [
       "<div>\n",
       "<style scoped>\n",
       "    .dataframe tbody tr th:only-of-type {\n",
       "        vertical-align: middle;\n",
       "    }\n",
       "\n",
       "    .dataframe tbody tr th {\n",
       "        vertical-align: top;\n",
       "    }\n",
       "\n",
       "    .dataframe thead th {\n",
       "        text-align: right;\n",
       "    }\n",
       "</style>\n",
       "<table border=\"1\" class=\"dataframe\">\n",
       "  <thead>\n",
       "    <tr style=\"text-align: right;\">\n",
       "      <th></th>\n",
       "      <th>tconst</th>\n",
       "      <th>averageRating</th>\n",
       "      <th>numVotes</th>\n",
       "    </tr>\n",
       "  </thead>\n",
       "  <tbody>\n",
       "    <tr>\n",
       "      <th>0</th>\n",
       "      <td>tt0000001</td>\n",
       "      <td>5.7</td>\n",
       "      <td>1882</td>\n",
       "    </tr>\n",
       "  </tbody>\n",
       "</table>\n",
       "</div>"
      ],
      "text/plain": [
       "      tconst  averageRating  numVotes\n",
       "0  tt0000001            5.7      1882"
      ]
     },
     "execution_count": 12,
     "metadata": {},
     "output_type": "execute_result"
    }
   ],
   "source": [
    "titles_ratings.head(1)"
   ]
  },
  {
   "cell_type": "code",
   "execution_count": 13,
   "id": "f7c8f115",
   "metadata": {},
   "outputs": [
    {
     "data": {
      "text/plain": [
       "(1247233, 3)"
      ]
     },
     "execution_count": 13,
     "metadata": {},
     "output_type": "execute_result"
    }
   ],
   "source": [
    "titles_ratings.shape"
   ]
  },
  {
   "cell_type": "code",
   "execution_count": 14,
   "id": "37b41f41",
   "metadata": {},
   "outputs": [
    {
     "data": {
      "text/html": [
       "<div>\n",
       "<style scoped>\n",
       "    .dataframe tbody tr th:only-of-type {\n",
       "        vertical-align: middle;\n",
       "    }\n",
       "\n",
       "    .dataframe tbody tr th {\n",
       "        vertical-align: top;\n",
       "    }\n",
       "\n",
       "    .dataframe thead th {\n",
       "        text-align: right;\n",
       "    }\n",
       "</style>\n",
       "<table border=\"1\" class=\"dataframe\">\n",
       "  <thead>\n",
       "    <tr style=\"text-align: right;\">\n",
       "      <th></th>\n",
       "      <th>nconst</th>\n",
       "      <th>primaryName</th>\n",
       "      <th>birthYear</th>\n",
       "      <th>deathYear</th>\n",
       "      <th>primaryProfession</th>\n",
       "      <th>knownForTitles</th>\n",
       "    </tr>\n",
       "  </thead>\n",
       "  <tbody>\n",
       "    <tr>\n",
       "      <th>0</th>\n",
       "      <td>nm0000001</td>\n",
       "      <td>Fred Astaire</td>\n",
       "      <td>1899</td>\n",
       "      <td>1987</td>\n",
       "      <td>soundtrack,actor,miscellaneous</td>\n",
       "      <td>tt0031983,tt0053137,tt0072308,tt0050419</td>\n",
       "    </tr>\n",
       "  </tbody>\n",
       "</table>\n",
       "</div>"
      ],
      "text/plain": [
       "      nconst   primaryName birthYear deathYear  \\\n",
       "0  nm0000001  Fred Astaire      1899      1987   \n",
       "\n",
       "                primaryProfession                           knownForTitles  \n",
       "0  soundtrack,actor,miscellaneous  tt0031983,tt0053137,tt0072308,tt0050419  "
      ]
     },
     "execution_count": 14,
     "metadata": {},
     "output_type": "execute_result"
    }
   ],
   "source": [
    "name_basic.head(1)"
   ]
  },
  {
   "cell_type": "code",
   "execution_count": 15,
   "id": "d07ec64b",
   "metadata": {},
   "outputs": [
    {
     "data": {
      "text/plain": [
       "(11654331, 6)"
      ]
     },
     "execution_count": 15,
     "metadata": {},
     "output_type": "execute_result"
    }
   ],
   "source": [
    "name_basic.shape"
   ]
  },
  {
   "cell_type": "code",
   "execution_count": 16,
   "id": "dec0e451",
   "metadata": {},
   "outputs": [
    {
     "data": {
      "text/html": [
       "<div>\n",
       "<style scoped>\n",
       "    .dataframe tbody tr th:only-of-type {\n",
       "        vertical-align: middle;\n",
       "    }\n",
       "\n",
       "    .dataframe tbody tr th {\n",
       "        vertical-align: top;\n",
       "    }\n",
       "\n",
       "    .dataframe thead th {\n",
       "        text-align: right;\n",
       "    }\n",
       "</style>\n",
       "<table border=\"1\" class=\"dataframe\">\n",
       "  <thead>\n",
       "    <tr style=\"text-align: right;\">\n",
       "      <th></th>\n",
       "      <th>tconst</th>\n",
       "      <th>titleType</th>\n",
       "      <th>primaryTitle</th>\n",
       "      <th>originalTitle</th>\n",
       "      <th>isAdult</th>\n",
       "      <th>startYear</th>\n",
       "      <th>endYear</th>\n",
       "      <th>runtimeMinutes</th>\n",
       "      <th>genres</th>\n",
       "    </tr>\n",
       "  </thead>\n",
       "  <tbody>\n",
       "    <tr>\n",
       "      <th>0</th>\n",
       "      <td>tt0000001</td>\n",
       "      <td>short</td>\n",
       "      <td>Carmencita</td>\n",
       "      <td>Carmencita</td>\n",
       "      <td>0</td>\n",
       "      <td>1894</td>\n",
       "      <td>\\N</td>\n",
       "      <td>1</td>\n",
       "      <td>Documentary,Short</td>\n",
       "    </tr>\n",
       "  </tbody>\n",
       "</table>\n",
       "</div>"
      ],
      "text/plain": [
       "      tconst titleType primaryTitle originalTitle isAdult startYear endYear  \\\n",
       "0  tt0000001     short   Carmencita    Carmencita       0      1894      \\N   \n",
       "\n",
       "  runtimeMinutes             genres  \n",
       "0              1  Documentary,Short  "
      ]
     },
     "execution_count": 16,
     "metadata": {},
     "output_type": "execute_result"
    }
   ],
   "source": [
    "titles_basics.head(1)"
   ]
  },
  {
   "cell_type": "code",
   "execution_count": 17,
   "id": "36af81ea",
   "metadata": {},
   "outputs": [
    {
     "data": {
      "text/plain": [
       "(8946058, 9)"
      ]
     },
     "execution_count": 17,
     "metadata": {},
     "output_type": "execute_result"
    }
   ],
   "source": [
    "titles_basics.shape"
   ]
  },
  {
   "cell_type": "code",
   "execution_count": 19,
   "id": "5cf77691",
   "metadata": {},
   "outputs": [
    {
     "data": {
      "text/html": [
       "<div>\n",
       "<style scoped>\n",
       "    .dataframe tbody tr th:only-of-type {\n",
       "        vertical-align: middle;\n",
       "    }\n",
       "\n",
       "    .dataframe tbody tr th {\n",
       "        vertical-align: top;\n",
       "    }\n",
       "\n",
       "    .dataframe thead th {\n",
       "        text-align: right;\n",
       "    }\n",
       "</style>\n",
       "<table border=\"1\" class=\"dataframe\">\n",
       "  <thead>\n",
       "    <tr style=\"text-align: right;\">\n",
       "      <th></th>\n",
       "      <th>tconst</th>\n",
       "      <th>directors</th>\n",
       "      <th>writers</th>\n",
       "    </tr>\n",
       "  </thead>\n",
       "  <tbody>\n",
       "    <tr>\n",
       "      <th>0</th>\n",
       "      <td>tt0000001</td>\n",
       "      <td>nm0005690</td>\n",
       "      <td>\\N</td>\n",
       "    </tr>\n",
       "  </tbody>\n",
       "</table>\n",
       "</div>"
      ],
      "text/plain": [
       "      tconst  directors writers\n",
       "0  tt0000001  nm0005690      \\N"
      ]
     },
     "execution_count": 19,
     "metadata": {},
     "output_type": "execute_result"
    }
   ],
   "source": [
    "titles_crew.head(1)"
   ]
  },
  {
   "cell_type": "code",
   "execution_count": 20,
   "id": "9bc18271",
   "metadata": {},
   "outputs": [
    {
     "data": {
      "text/plain": [
       "(8946058, 3)"
      ]
     },
     "execution_count": 20,
     "metadata": {},
     "output_type": "execute_result"
    }
   ],
   "source": [
    "titles_crew.shape"
   ]
  },
  {
   "cell_type": "code",
   "execution_count": 21,
   "id": "6e3c42e2",
   "metadata": {},
   "outputs": [
    {
     "data": {
      "text/html": [
       "<div>\n",
       "<style scoped>\n",
       "    .dataframe tbody tr th:only-of-type {\n",
       "        vertical-align: middle;\n",
       "    }\n",
       "\n",
       "    .dataframe tbody tr th {\n",
       "        vertical-align: top;\n",
       "    }\n",
       "\n",
       "    .dataframe thead th {\n",
       "        text-align: right;\n",
       "    }\n",
       "</style>\n",
       "<table border=\"1\" class=\"dataframe\">\n",
       "  <thead>\n",
       "    <tr style=\"text-align: right;\">\n",
       "      <th></th>\n",
       "      <th>tconst</th>\n",
       "      <th>ordering</th>\n",
       "      <th>nconst</th>\n",
       "      <th>category</th>\n",
       "      <th>job</th>\n",
       "      <th>characters</th>\n",
       "    </tr>\n",
       "  </thead>\n",
       "  <tbody>\n",
       "    <tr>\n",
       "      <th>0</th>\n",
       "      <td>tt0000001</td>\n",
       "      <td>1</td>\n",
       "      <td>nm1588970</td>\n",
       "      <td>self</td>\n",
       "      <td>\\N</td>\n",
       "      <td>[\"Self\"]</td>\n",
       "    </tr>\n",
       "  </tbody>\n",
       "</table>\n",
       "</div>"
      ],
      "text/plain": [
       "      tconst  ordering     nconst category job characters\n",
       "0  tt0000001         1  nm1588970     self  \\N   [\"Self\"]"
      ]
     },
     "execution_count": 21,
     "metadata": {},
     "output_type": "execute_result"
    }
   ],
   "source": [
    "titles_principals.head(1)"
   ]
  },
  {
   "cell_type": "code",
   "execution_count": 22,
   "id": "e81bc442",
   "metadata": {},
   "outputs": [
    {
     "data": {
      "text/plain": [
       "(50453291, 6)"
      ]
     },
     "execution_count": 22,
     "metadata": {},
     "output_type": "execute_result"
    }
   ],
   "source": [
    "titles_principals.shape"
   ]
  },
  {
   "cell_type": "code",
   "execution_count": 33,
   "id": "e2bef8ac",
   "metadata": {},
   "outputs": [
    {
     "data": {
      "text/html": [
       "<div>\n",
       "<style scoped>\n",
       "    .dataframe tbody tr th:only-of-type {\n",
       "        vertical-align: middle;\n",
       "    }\n",
       "\n",
       "    .dataframe tbody tr th {\n",
       "        vertical-align: top;\n",
       "    }\n",
       "\n",
       "    .dataframe thead th {\n",
       "        text-align: right;\n",
       "    }\n",
       "</style>\n",
       "<table border=\"1\" class=\"dataframe\">\n",
       "  <thead>\n",
       "    <tr style=\"text-align: right;\">\n",
       "      <th></th>\n",
       "      <th>tconst</th>\n",
       "      <th>ordering</th>\n",
       "      <th>title</th>\n",
       "      <th>region</th>\n",
       "      <th>language</th>\n",
       "      <th>types</th>\n",
       "      <th>attributes</th>\n",
       "      <th>isOriginalTitle</th>\n",
       "    </tr>\n",
       "  </thead>\n",
       "  <tbody>\n",
       "    <tr>\n",
       "      <th>0</th>\n",
       "      <td>tt0000001</td>\n",
       "      <td>1</td>\n",
       "      <td>Карменсіта</td>\n",
       "      <td>UA</td>\n",
       "      <td>\\N</td>\n",
       "      <td>imdbDisplay</td>\n",
       "      <td>\\N</td>\n",
       "      <td>0</td>\n",
       "    </tr>\n",
       "  </tbody>\n",
       "</table>\n",
       "</div>"
      ],
      "text/plain": [
       "      tconst  ordering       title region language        types attributes  \\\n",
       "0  tt0000001         1  Карменсіта     UA       \\N  imdbDisplay         \\N   \n",
       "\n",
       "  isOriginalTitle  \n",
       "0               0  "
      ]
     },
     "execution_count": 33,
     "metadata": {},
     "output_type": "execute_result"
    }
   ],
   "source": [
    "titles_akas.head(1)"
   ]
  },
  {
   "cell_type": "code",
   "execution_count": 24,
   "id": "4d065801",
   "metadata": {},
   "outputs": [
    {
     "data": {
      "text/plain": [
       "(32079668, 8)"
      ]
     },
     "execution_count": 24,
     "metadata": {},
     "output_type": "execute_result"
    }
   ],
   "source": [
    "titles_akas.shape"
   ]
  },
  {
   "cell_type": "markdown",
   "id": "ccc89d83",
   "metadata": {},
   "source": [
    "### Join the tables\n",
    "\n",
    "- join='outer' - 0 information loss, all union\n",
    "\n",
    "- join='inner' - intersection "
   ]
  },
  {
   "cell_type": "code",
   "execution_count": 25,
   "id": "64e03d35",
   "metadata": {},
   "outputs": [],
   "source": [
    "# Rename columns in akas set\n",
    "\n",
    "titles_akas = titles_akas.rename(columns = {'titleId': 'tconst'})"
   ]
  },
  {
   "cell_type": "code",
   "execution_count": 31,
   "id": "6c51716b",
   "metadata": {},
   "outputs": [],
   "source": [
    "# Reset index on titles_basics\n",
    "\n",
    "titles_basics = titles_basics.reset_index(drop = True) "
   ]
  },
  {
   "cell_type": "code",
   "execution_count": 38,
   "id": "240c5e66",
   "metadata": {},
   "outputs": [
    {
     "data": {
      "text/html": [
       "<div>\n",
       "<style scoped>\n",
       "    .dataframe tbody tr th:only-of-type {\n",
       "        vertical-align: middle;\n",
       "    }\n",
       "\n",
       "    .dataframe tbody tr th {\n",
       "        vertical-align: top;\n",
       "    }\n",
       "\n",
       "    .dataframe thead th {\n",
       "        text-align: right;\n",
       "    }\n",
       "</style>\n",
       "<table border=\"1\" class=\"dataframe\">\n",
       "  <thead>\n",
       "    <tr style=\"text-align: right;\">\n",
       "      <th></th>\n",
       "      <th>tconst</th>\n",
       "      <th>titleType</th>\n",
       "      <th>primaryTitle</th>\n",
       "      <th>originalTitle</th>\n",
       "      <th>isAdult</th>\n",
       "      <th>startYear</th>\n",
       "      <th>endYear</th>\n",
       "      <th>runtimeMinutes</th>\n",
       "      <th>genres</th>\n",
       "    </tr>\n",
       "  </thead>\n",
       "  <tbody>\n",
       "    <tr>\n",
       "      <th>0</th>\n",
       "      <td>tt0000001</td>\n",
       "      <td>short</td>\n",
       "      <td>Carmencita</td>\n",
       "      <td>Carmencita</td>\n",
       "      <td>0</td>\n",
       "      <td>1894</td>\n",
       "      <td>\\N</td>\n",
       "      <td>1</td>\n",
       "      <td>Documentary,Short</td>\n",
       "    </tr>\n",
       "    <tr>\n",
       "      <th>1</th>\n",
       "      <td>tt0000002</td>\n",
       "      <td>short</td>\n",
       "      <td>Le clown et ses chiens</td>\n",
       "      <td>Le clown et ses chiens</td>\n",
       "      <td>0</td>\n",
       "      <td>1892</td>\n",
       "      <td>\\N</td>\n",
       "      <td>5</td>\n",
       "      <td>Animation,Short</td>\n",
       "    </tr>\n",
       "    <tr>\n",
       "      <th>2</th>\n",
       "      <td>tt0000003</td>\n",
       "      <td>short</td>\n",
       "      <td>Pauvre Pierrot</td>\n",
       "      <td>Pauvre Pierrot</td>\n",
       "      <td>0</td>\n",
       "      <td>1892</td>\n",
       "      <td>\\N</td>\n",
       "      <td>4</td>\n",
       "      <td>Animation,Comedy,Romance</td>\n",
       "    </tr>\n",
       "    <tr>\n",
       "      <th>3</th>\n",
       "      <td>tt0000004</td>\n",
       "      <td>short</td>\n",
       "      <td>Un bon bock</td>\n",
       "      <td>Un bon bock</td>\n",
       "      <td>0</td>\n",
       "      <td>1892</td>\n",
       "      <td>\\N</td>\n",
       "      <td>12</td>\n",
       "      <td>Animation,Short</td>\n",
       "    </tr>\n",
       "    <tr>\n",
       "      <th>4</th>\n",
       "      <td>tt0000005</td>\n",
       "      <td>short</td>\n",
       "      <td>Blacksmith Scene</td>\n",
       "      <td>Blacksmith Scene</td>\n",
       "      <td>0</td>\n",
       "      <td>1893</td>\n",
       "      <td>\\N</td>\n",
       "      <td>1</td>\n",
       "      <td>Comedy,Short</td>\n",
       "    </tr>\n",
       "  </tbody>\n",
       "</table>\n",
       "</div>"
      ],
      "text/plain": [
       "      tconst titleType            primaryTitle           originalTitle  \\\n",
       "0  tt0000001     short              Carmencita              Carmencita   \n",
       "1  tt0000002     short  Le clown et ses chiens  Le clown et ses chiens   \n",
       "2  tt0000003     short          Pauvre Pierrot          Pauvre Pierrot   \n",
       "3  tt0000004     short             Un bon bock             Un bon bock   \n",
       "4  tt0000005     short        Blacksmith Scene        Blacksmith Scene   \n",
       "\n",
       "  isAdult startYear endYear runtimeMinutes                    genres  \n",
       "0       0      1894      \\N              1         Documentary,Short  \n",
       "1       0      1892      \\N              5           Animation,Short  \n",
       "2       0      1892      \\N              4  Animation,Comedy,Romance  \n",
       "3       0      1892      \\N             12           Animation,Short  \n",
       "4       0      1893      \\N              1              Comedy,Short  "
      ]
     },
     "execution_count": 38,
     "metadata": {},
     "output_type": "execute_result"
    }
   ],
   "source": [
    "titles_basics.head()"
   ]
  },
  {
   "cell_type": "markdown",
   "id": "f9eb9c08",
   "metadata": {},
   "source": [
    "#### Concat titles_basic with titles_akas"
   ]
  },
  {
   "cell_type": "code",
   "execution_count": 46,
   "id": "108ca3db",
   "metadata": {},
   "outputs": [],
   "source": [
    "akas_titles_basics = pd.merge(titles_basics,titles_akas, on = 'tconst' , sort=False)"
   ]
  },
  {
   "cell_type": "code",
   "execution_count": 48,
   "id": "cd75887e",
   "metadata": {},
   "outputs": [
    {
     "data": {
      "text/html": [
       "<div>\n",
       "<style scoped>\n",
       "    .dataframe tbody tr th:only-of-type {\n",
       "        vertical-align: middle;\n",
       "    }\n",
       "\n",
       "    .dataframe tbody tr th {\n",
       "        vertical-align: top;\n",
       "    }\n",
       "\n",
       "    .dataframe thead th {\n",
       "        text-align: right;\n",
       "    }\n",
       "</style>\n",
       "<table border=\"1\" class=\"dataframe\">\n",
       "  <thead>\n",
       "    <tr style=\"text-align: right;\">\n",
       "      <th></th>\n",
       "      <th>tconst</th>\n",
       "      <th>titleType</th>\n",
       "      <th>primaryTitle</th>\n",
       "      <th>originalTitle</th>\n",
       "      <th>isAdult</th>\n",
       "      <th>startYear</th>\n",
       "      <th>endYear</th>\n",
       "      <th>runtimeMinutes</th>\n",
       "      <th>genres</th>\n",
       "      <th>ordering</th>\n",
       "      <th>title</th>\n",
       "      <th>region</th>\n",
       "      <th>language</th>\n",
       "      <th>types</th>\n",
       "      <th>attributes</th>\n",
       "      <th>isOriginalTitle</th>\n",
       "    </tr>\n",
       "  </thead>\n",
       "  <tbody>\n",
       "    <tr>\n",
       "      <th>0</th>\n",
       "      <td>tt0000001</td>\n",
       "      <td>short</td>\n",
       "      <td>Carmencita</td>\n",
       "      <td>Carmencita</td>\n",
       "      <td>0</td>\n",
       "      <td>1894</td>\n",
       "      <td>\\N</td>\n",
       "      <td>1</td>\n",
       "      <td>Documentary,Short</td>\n",
       "      <td>1</td>\n",
       "      <td>Карменсіта</td>\n",
       "      <td>UA</td>\n",
       "      <td>\\N</td>\n",
       "      <td>imdbDisplay</td>\n",
       "      <td>\\N</td>\n",
       "      <td>0</td>\n",
       "    </tr>\n",
       "    <tr>\n",
       "      <th>1</th>\n",
       "      <td>tt0000001</td>\n",
       "      <td>short</td>\n",
       "      <td>Carmencita</td>\n",
       "      <td>Carmencita</td>\n",
       "      <td>0</td>\n",
       "      <td>1894</td>\n",
       "      <td>\\N</td>\n",
       "      <td>1</td>\n",
       "      <td>Documentary,Short</td>\n",
       "      <td>2</td>\n",
       "      <td>Carmencita</td>\n",
       "      <td>DE</td>\n",
       "      <td>\\N</td>\n",
       "      <td>\\N</td>\n",
       "      <td>literal title</td>\n",
       "      <td>0</td>\n",
       "    </tr>\n",
       "    <tr>\n",
       "      <th>2</th>\n",
       "      <td>tt0000001</td>\n",
       "      <td>short</td>\n",
       "      <td>Carmencita</td>\n",
       "      <td>Carmencita</td>\n",
       "      <td>0</td>\n",
       "      <td>1894</td>\n",
       "      <td>\\N</td>\n",
       "      <td>1</td>\n",
       "      <td>Documentary,Short</td>\n",
       "      <td>3</td>\n",
       "      <td>Carmencita - spanyol tánc</td>\n",
       "      <td>HU</td>\n",
       "      <td>\\N</td>\n",
       "      <td>imdbDisplay</td>\n",
       "      <td>\\N</td>\n",
       "      <td>0</td>\n",
       "    </tr>\n",
       "    <tr>\n",
       "      <th>3</th>\n",
       "      <td>tt0000001</td>\n",
       "      <td>short</td>\n",
       "      <td>Carmencita</td>\n",
       "      <td>Carmencita</td>\n",
       "      <td>0</td>\n",
       "      <td>1894</td>\n",
       "      <td>\\N</td>\n",
       "      <td>1</td>\n",
       "      <td>Documentary,Short</td>\n",
       "      <td>4</td>\n",
       "      <td>Καρμενσίτα</td>\n",
       "      <td>GR</td>\n",
       "      <td>\\N</td>\n",
       "      <td>imdbDisplay</td>\n",
       "      <td>\\N</td>\n",
       "      <td>0</td>\n",
       "    </tr>\n",
       "    <tr>\n",
       "      <th>4</th>\n",
       "      <td>tt0000001</td>\n",
       "      <td>short</td>\n",
       "      <td>Carmencita</td>\n",
       "      <td>Carmencita</td>\n",
       "      <td>0</td>\n",
       "      <td>1894</td>\n",
       "      <td>\\N</td>\n",
       "      <td>1</td>\n",
       "      <td>Documentary,Short</td>\n",
       "      <td>5</td>\n",
       "      <td>Карменсита</td>\n",
       "      <td>RU</td>\n",
       "      <td>\\N</td>\n",
       "      <td>imdbDisplay</td>\n",
       "      <td>\\N</td>\n",
       "      <td>0</td>\n",
       "    </tr>\n",
       "    <tr>\n",
       "      <th>...</th>\n",
       "      <td>...</td>\n",
       "      <td>...</td>\n",
       "      <td>...</td>\n",
       "      <td>...</td>\n",
       "      <td>...</td>\n",
       "      <td>...</td>\n",
       "      <td>...</td>\n",
       "      <td>...</td>\n",
       "      <td>...</td>\n",
       "      <td>...</td>\n",
       "      <td>...</td>\n",
       "      <td>...</td>\n",
       "      <td>...</td>\n",
       "      <td>...</td>\n",
       "      <td>...</td>\n",
       "      <td>...</td>\n",
       "    </tr>\n",
       "    <tr>\n",
       "      <th>32074449</th>\n",
       "      <td>tt9916852</td>\n",
       "      <td>tvEpisode</td>\n",
       "      <td>Episode #3.20</td>\n",
       "      <td>Episode #3.20</td>\n",
       "      <td>0</td>\n",
       "      <td>2010</td>\n",
       "      <td>\\N</td>\n",
       "      <td>\\N</td>\n",
       "      <td>Action,Drama,Family</td>\n",
       "      <td>5</td>\n",
       "      <td>Episódio #3.20</td>\n",
       "      <td>PT</td>\n",
       "      <td>pt</td>\n",
       "      <td>\\N</td>\n",
       "      <td>\\N</td>\n",
       "      <td>0</td>\n",
       "    </tr>\n",
       "    <tr>\n",
       "      <th>32074450</th>\n",
       "      <td>tt9916852</td>\n",
       "      <td>tvEpisode</td>\n",
       "      <td>Episode #3.20</td>\n",
       "      <td>Episode #3.20</td>\n",
       "      <td>0</td>\n",
       "      <td>2010</td>\n",
       "      <td>\\N</td>\n",
       "      <td>\\N</td>\n",
       "      <td>Action,Drama,Family</td>\n",
       "      <td>6</td>\n",
       "      <td>Episodio #3.20</td>\n",
       "      <td>IT</td>\n",
       "      <td>it</td>\n",
       "      <td>\\N</td>\n",
       "      <td>\\N</td>\n",
       "      <td>0</td>\n",
       "    </tr>\n",
       "    <tr>\n",
       "      <th>32074451</th>\n",
       "      <td>tt9916852</td>\n",
       "      <td>tvEpisode</td>\n",
       "      <td>Episode #3.20</td>\n",
       "      <td>Episode #3.20</td>\n",
       "      <td>0</td>\n",
       "      <td>2010</td>\n",
       "      <td>\\N</td>\n",
       "      <td>\\N</td>\n",
       "      <td>Action,Drama,Family</td>\n",
       "      <td>7</td>\n",
       "      <td>एपिसोड #3.20</td>\n",
       "      <td>IN</td>\n",
       "      <td>hi</td>\n",
       "      <td>\\N</td>\n",
       "      <td>\\N</td>\n",
       "      <td>0</td>\n",
       "    </tr>\n",
       "    <tr>\n",
       "      <th>32074452</th>\n",
       "      <td>tt9916856</td>\n",
       "      <td>short</td>\n",
       "      <td>The Wind</td>\n",
       "      <td>The Wind</td>\n",
       "      <td>0</td>\n",
       "      <td>2015</td>\n",
       "      <td>\\N</td>\n",
       "      <td>27</td>\n",
       "      <td>Short</td>\n",
       "      <td>1</td>\n",
       "      <td>The Wind</td>\n",
       "      <td>DE</td>\n",
       "      <td>\\N</td>\n",
       "      <td>imdbDisplay</td>\n",
       "      <td>\\N</td>\n",
       "      <td>0</td>\n",
       "    </tr>\n",
       "    <tr>\n",
       "      <th>32074453</th>\n",
       "      <td>tt9916856</td>\n",
       "      <td>short</td>\n",
       "      <td>The Wind</td>\n",
       "      <td>The Wind</td>\n",
       "      <td>0</td>\n",
       "      <td>2015</td>\n",
       "      <td>\\N</td>\n",
       "      <td>27</td>\n",
       "      <td>Short</td>\n",
       "      <td>2</td>\n",
       "      <td>The Wind</td>\n",
       "      <td>\\N</td>\n",
       "      <td>\\N</td>\n",
       "      <td>original</td>\n",
       "      <td>\\N</td>\n",
       "      <td>1</td>\n",
       "    </tr>\n",
       "  </tbody>\n",
       "</table>\n",
       "<p>32074454 rows × 16 columns</p>\n",
       "</div>"
      ],
      "text/plain": [
       "             tconst  titleType   primaryTitle  originalTitle isAdult  \\\n",
       "0         tt0000001      short     Carmencita     Carmencita       0   \n",
       "1         tt0000001      short     Carmencita     Carmencita       0   \n",
       "2         tt0000001      short     Carmencita     Carmencita       0   \n",
       "3         tt0000001      short     Carmencita     Carmencita       0   \n",
       "4         tt0000001      short     Carmencita     Carmencita       0   \n",
       "...             ...        ...            ...            ...     ...   \n",
       "32074449  tt9916852  tvEpisode  Episode #3.20  Episode #3.20       0   \n",
       "32074450  tt9916852  tvEpisode  Episode #3.20  Episode #3.20       0   \n",
       "32074451  tt9916852  tvEpisode  Episode #3.20  Episode #3.20       0   \n",
       "32074452  tt9916856      short       The Wind       The Wind       0   \n",
       "32074453  tt9916856      short       The Wind       The Wind       0   \n",
       "\n",
       "         startYear endYear runtimeMinutes               genres  ordering  \\\n",
       "0             1894      \\N              1    Documentary,Short         1   \n",
       "1             1894      \\N              1    Documentary,Short         2   \n",
       "2             1894      \\N              1    Documentary,Short         3   \n",
       "3             1894      \\N              1    Documentary,Short         4   \n",
       "4             1894      \\N              1    Documentary,Short         5   \n",
       "...            ...     ...            ...                  ...       ...   \n",
       "32074449      2010      \\N             \\N  Action,Drama,Family         5   \n",
       "32074450      2010      \\N             \\N  Action,Drama,Family         6   \n",
       "32074451      2010      \\N             \\N  Action,Drama,Family         7   \n",
       "32074452      2015      \\N             27                Short         1   \n",
       "32074453      2015      \\N             27                Short         2   \n",
       "\n",
       "                              title region language        types  \\\n",
       "0                        Карменсіта     UA       \\N  imdbDisplay   \n",
       "1                        Carmencita     DE       \\N           \\N   \n",
       "2         Carmencita - spanyol tánc     HU       \\N  imdbDisplay   \n",
       "3                        Καρμενσίτα     GR       \\N  imdbDisplay   \n",
       "4                        Карменсита     RU       \\N  imdbDisplay   \n",
       "...                             ...    ...      ...          ...   \n",
       "32074449             Episódio #3.20     PT       pt           \\N   \n",
       "32074450             Episodio #3.20     IT       it           \\N   \n",
       "32074451               एपिसोड #3.20     IN       hi           \\N   \n",
       "32074452                   The Wind     DE       \\N  imdbDisplay   \n",
       "32074453                   The Wind     \\N       \\N     original   \n",
       "\n",
       "             attributes isOriginalTitle  \n",
       "0                    \\N               0  \n",
       "1         literal title               0  \n",
       "2                    \\N               0  \n",
       "3                    \\N               0  \n",
       "4                    \\N               0  \n",
       "...                 ...             ...  \n",
       "32074449             \\N               0  \n",
       "32074450             \\N               0  \n",
       "32074451             \\N               0  \n",
       "32074452             \\N               0  \n",
       "32074453             \\N               1  \n",
       "\n",
       "[32074454 rows x 16 columns]"
      ]
     },
     "execution_count": 48,
     "metadata": {},
     "output_type": "execute_result"
    }
   ],
   "source": [
    "akas_titles_basics"
   ]
  },
  {
   "cell_type": "code",
   "execution_count": null,
   "id": "5ba69ac8",
   "metadata": {},
   "outputs": [],
   "source": []
  },
  {
   "cell_type": "code",
   "execution_count": null,
   "id": "b1625cf2",
   "metadata": {},
   "outputs": [],
   "source": []
  },
  {
   "cell_type": "code",
   "execution_count": null,
   "id": "4ba2ed0a",
   "metadata": {},
   "outputs": [],
   "source": []
  },
  {
   "cell_type": "code",
   "execution_count": null,
   "id": "edc0d13d",
   "metadata": {},
   "outputs": [],
   "source": []
  },
  {
   "cell_type": "code",
   "execution_count": null,
   "id": "270a0ddb",
   "metadata": {},
   "outputs": [],
   "source": []
  },
  {
   "cell_type": "code",
   "execution_count": null,
   "id": "7082bb10",
   "metadata": {},
   "outputs": [],
   "source": [
    "# Join all tables \n",
    "\n",
    "(titles_basics.set_index('tconst')\\\n",
    "            .join(titles_akas.set_index('tconst'),how ='left', on = 'tconst', rsuffix = '2')\n",
    "            .join(titles_crew.set_index('tconst'),how ='left', on = 'tconst', rsuffix = '2')\n",
    "            .join(titles_principals.set_index('tconst'),how ='left', on = 'tconst', rsuffix = '2')\n",
    "            .join(titles_ratings.set_index('tconst'),how ='left', on = 'tconst', rsuffix = '2')\n",
    ")"
   ]
  },
  {
   "cell_type": "code",
   "execution_count": null,
   "id": "32528eea",
   "metadata": {},
   "outputs": [],
   "source": []
  },
  {
   "cell_type": "code",
   "execution_count": null,
   "id": "3ea827c2",
   "metadata": {},
   "outputs": [],
   "source": []
  }
 ],
 "metadata": {
  "kernelspec": {
   "display_name": "Python 3 (ipykernel)",
   "language": "python",
   "name": "python3"
  },
  "language_info": {
   "codemirror_mode": {
    "name": "ipython",
    "version": 3
   },
   "file_extension": ".py",
   "mimetype": "text/x-python",
   "name": "python",
   "nbconvert_exporter": "python",
   "pygments_lexer": "ipython3",
   "version": "3.9.7"
  }
 },
 "nbformat": 4,
 "nbformat_minor": 5
}
