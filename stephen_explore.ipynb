{
 "cells": [
  {
   "cell_type": "markdown",
   "id": "03ee2606",
   "metadata": {},
   "source": [
    "# Movie Ratings Capstome"
   ]
  },
  {
   "cell_type": "markdown",
   "id": "9a8f10bd",
   "metadata": {},
   "source": [
    "#### Import Libraries"
   ]
  },
  {
   "cell_type": "code",
   "execution_count": 2,
   "id": "f4d2a701",
   "metadata": {},
   "outputs": [],
   "source": [
    "import pandas as pd\n",
    "import numpy as np\n",
    "import matplotlib.pyplot as plt\n",
    "import os\n",
    "\n",
    "import warnings\n",
    "warnings.filterwarnings('ignore')"
   ]
  },
  {
   "cell_type": "markdown",
   "id": "f38add1b",
   "metadata": {},
   "source": [
    "### Acquire the Data from  https://www.imdb.com/interfaces/"
   ]
  },
  {
   "cell_type": "code",
   "execution_count": 9,
   "id": "59b718a6",
   "metadata": {},
   "outputs": [],
   "source": [
    "# (def get_data(use_cache = True):\n",
    "    \n",
    "#     titles_ratings = 'movie_ratings.csv'\n",
    "#     name_basic = 'name_basic.csv'\n",
    "#     titles_basics = 'titles_basics.csv'\n",
    "#     titles_crew = 'titles_crew.csv'\n",
    "#     titles_principals = 'titles_principals.csv'\n",
    "#     titles_akas = 'titles_akas.csv'\n",
    "\n",
    "#     if os.path.exists([['titles_ratings', 'name_basic',\n",
    "#                        'titles_basics','titles_crew',\n",
    "#                        'titles_principals', 'titles_akas']]) and use_cache:\n",
    "#  print('Getting csv file..')\n",
    " \n",
    "#  pd.read_csv()\n",
    "         \n",
    "# )"
   ]
  },
  {
   "cell_type": "markdown",
   "id": "0d788481",
   "metadata": {},
   "source": [
    "#### Initial read of the tsv.gz file"
   ]
  },
  {
   "cell_type": "code",
   "execution_count": 8,
   "id": "4fee678c",
   "metadata": {},
   "outputs": [],
   "source": [
    "titles_ratings = pd.read_csv('title.ratings.tsv.gz', sep = '\\t')\n",
    "name_basic = pd.read_csv('name.basics.tsv.gz', sep = '\\t')\n",
    "titles_basics = pd.read_csv('title.basics.tsv.gz', sep = '\\t')\n",
    "titles_crew = pd.read_csv('title.crew.tsv.gz', sep = '\\t')\n",
    "titles_principals = pd.read_csv('title.principals.tsv.gz', sep = '\\t')\n",
    "titles_akas = pd.read_csv('title.akas.tsv.gz', sep = '\\t')\n",
    "\n",
    "\n",
    "# episode = pd.read_csv('title.episode.tsv.gz', sep = '\\t')# Agreed to drop"
   ]
  },
  {
   "cell_type": "markdown",
   "id": "b6234010",
   "metadata": {},
   "source": [
    "#### Save to local csv file (add function to skip this step if already performed)"
   ]
  },
  {
   "cell_type": "code",
   "execution_count": 7,
   "id": "bcfb0e6a",
   "metadata": {},
   "outputs": [],
   "source": [
    "# titles_ratings.to_csv('titles_ratings.csv', index=False)\n",
    "# name_basic.to_csv('name_basic.csv', index=False)\n",
    "# titles_basics.to_csv('titles_basics.csv', index=False)\n",
    "# titles_crew.to_csv('titles_crew.csv', index=False)\n",
    "# titles_principals.to_csv('titles_principals.csv', index=False)\n",
    "# titles_akas.to_csv('titles_akas.csv', index=False)"
   ]
  },
  {
   "cell_type": "markdown",
   "id": "7183206f",
   "metadata": {},
   "source": [
    "#### Read locally cached files"
   ]
  },
  {
   "cell_type": "code",
   "execution_count": 9,
   "id": "563b2e78",
   "metadata": {},
   "outputs": [],
   "source": [
    "titles_ratings = pd.read_csv('titles_ratings.csv')\n",
    "name_basic = pd.read_csv('name_basic.csv')\n",
    "titles_basics = pd.read_csv('titles_basics.csv')\n",
    "titles_crew = pd.read_csv('titles_crew.csv')\n",
    "titles_principals = pd.read_csv('titles_principals.csv')\n",
    "titles_akas = pd.read_csv('titles_akas.csv')"
   ]
  },
  {
   "cell_type": "code",
   "execution_count": 12,
   "id": "9a85d99a",
   "metadata": {},
   "outputs": [
    {
     "data": {
      "text/html": [
       "<div>\n",
       "<style scoped>\n",
       "    .dataframe tbody tr th:only-of-type {\n",
       "        vertical-align: middle;\n",
       "    }\n",
       "\n",
       "    .dataframe tbody tr th {\n",
       "        vertical-align: top;\n",
       "    }\n",
       "\n",
       "    .dataframe thead th {\n",
       "        text-align: right;\n",
       "    }\n",
       "</style>\n",
       "<table border=\"1\" class=\"dataframe\">\n",
       "  <thead>\n",
       "    <tr style=\"text-align: right;\">\n",
       "      <th></th>\n",
       "      <th>tconst</th>\n",
       "      <th>averageRating</th>\n",
       "      <th>numVotes</th>\n",
       "    </tr>\n",
       "  </thead>\n",
       "  <tbody>\n",
       "    <tr>\n",
       "      <th>0</th>\n",
       "      <td>tt0000001</td>\n",
       "      <td>5.7</td>\n",
       "      <td>1882</td>\n",
       "    </tr>\n",
       "  </tbody>\n",
       "</table>\n",
       "</div>"
      ],
      "text/plain": [
       "      tconst  averageRating  numVotes\n",
       "0  tt0000001            5.7      1882"
      ]
     },
     "execution_count": 12,
     "metadata": {},
     "output_type": "execute_result"
    }
   ],
   "source": [
    "titles_ratings.head(1)"
   ]
  },
  {
   "cell_type": "code",
   "execution_count": 13,
   "id": "11cda8a8",
   "metadata": {},
   "outputs": [
    {
     "data": {
      "text/plain": [
       "(1247233, 3)"
      ]
     },
     "execution_count": 13,
     "metadata": {},
     "output_type": "execute_result"
    }
   ],
   "source": [
    "titles_ratings.shape"
   ]
  },
  {
   "cell_type": "code",
   "execution_count": 14,
   "id": "ab3cf038",
   "metadata": {},
   "outputs": [
    {
     "data": {
      "text/html": [
       "<div>\n",
       "<style scoped>\n",
       "    .dataframe tbody tr th:only-of-type {\n",
       "        vertical-align: middle;\n",
       "    }\n",
       "\n",
       "    .dataframe tbody tr th {\n",
       "        vertical-align: top;\n",
       "    }\n",
       "\n",
       "    .dataframe thead th {\n",
       "        text-align: right;\n",
       "    }\n",
       "</style>\n",
       "<table border=\"1\" class=\"dataframe\">\n",
       "  <thead>\n",
       "    <tr style=\"text-align: right;\">\n",
       "      <th></th>\n",
       "      <th>nconst</th>\n",
       "      <th>primaryName</th>\n",
       "      <th>birthYear</th>\n",
       "      <th>deathYear</th>\n",
       "      <th>primaryProfession</th>\n",
       "      <th>knownForTitles</th>\n",
       "    </tr>\n",
       "  </thead>\n",
       "  <tbody>\n",
       "    <tr>\n",
       "      <th>0</th>\n",
       "      <td>nm0000001</td>\n",
       "      <td>Fred Astaire</td>\n",
       "      <td>1899</td>\n",
       "      <td>1987</td>\n",
       "      <td>soundtrack,actor,miscellaneous</td>\n",
       "      <td>tt0031983,tt0053137,tt0072308,tt0050419</td>\n",
       "    </tr>\n",
       "  </tbody>\n",
       "</table>\n",
       "</div>"
      ],
      "text/plain": [
       "      nconst   primaryName birthYear deathYear  \\\n",
       "0  nm0000001  Fred Astaire      1899      1987   \n",
       "\n",
       "                primaryProfession                           knownForTitles  \n",
       "0  soundtrack,actor,miscellaneous  tt0031983,tt0053137,tt0072308,tt0050419  "
      ]
     },
     "execution_count": 14,
     "metadata": {},
     "output_type": "execute_result"
    }
   ],
   "source": [
    "name_basic.head(1)"
   ]
  },
  {
   "cell_type": "code",
   "execution_count": 15,
   "id": "2f3374ea",
   "metadata": {},
   "outputs": [
    {
     "data": {
      "text/plain": [
       "(11654331, 6)"
      ]
     },
     "execution_count": 15,
     "metadata": {},
     "output_type": "execute_result"
    }
   ],
   "source": [
    "name_basic.shape"
   ]
  },
  {
   "cell_type": "code",
   "execution_count": 16,
   "id": "ae6ad495",
   "metadata": {},
   "outputs": [
    {
     "data": {
      "text/html": [
       "<div>\n",
       "<style scoped>\n",
       "    .dataframe tbody tr th:only-of-type {\n",
       "        vertical-align: middle;\n",
       "    }\n",
       "\n",
       "    .dataframe tbody tr th {\n",
       "        vertical-align: top;\n",
       "    }\n",
       "\n",
       "    .dataframe thead th {\n",
       "        text-align: right;\n",
       "    }\n",
       "</style>\n",
       "<table border=\"1\" class=\"dataframe\">\n",
       "  <thead>\n",
       "    <tr style=\"text-align: right;\">\n",
       "      <th></th>\n",
       "      <th>tconst</th>\n",
       "      <th>titleType</th>\n",
       "      <th>primaryTitle</th>\n",
       "      <th>originalTitle</th>\n",
       "      <th>isAdult</th>\n",
       "      <th>startYear</th>\n",
       "      <th>endYear</th>\n",
       "      <th>runtimeMinutes</th>\n",
       "      <th>genres</th>\n",
       "    </tr>\n",
       "  </thead>\n",
       "  <tbody>\n",
       "    <tr>\n",
       "      <th>0</th>\n",
       "      <td>tt0000001</td>\n",
       "      <td>short</td>\n",
       "      <td>Carmencita</td>\n",
       "      <td>Carmencita</td>\n",
       "      <td>0</td>\n",
       "      <td>1894</td>\n",
       "      <td>\\N</td>\n",
       "      <td>1</td>\n",
       "      <td>Documentary,Short</td>\n",
       "    </tr>\n",
       "  </tbody>\n",
       "</table>\n",
       "</div>"
      ],
      "text/plain": [
       "      tconst titleType primaryTitle originalTitle isAdult startYear endYear  \\\n",
       "0  tt0000001     short   Carmencita    Carmencita       0      1894      \\N   \n",
       "\n",
       "  runtimeMinutes             genres  \n",
       "0              1  Documentary,Short  "
      ]
     },
     "execution_count": 16,
     "metadata": {},
     "output_type": "execute_result"
    }
   ],
   "source": [
    "titles_basics.head(1)"
   ]
  },
  {
   "cell_type": "code",
   "execution_count": 17,
   "id": "98dd97c8",
   "metadata": {},
   "outputs": [
    {
     "data": {
      "text/plain": [
       "(8946058, 9)"
      ]
     },
     "execution_count": 17,
     "metadata": {},
     "output_type": "execute_result"
    }
   ],
   "source": [
    "titles_basics.shape"
   ]
  },
  {
   "cell_type": "code",
   "execution_count": 19,
   "id": "14202aaf",
   "metadata": {},
   "outputs": [
    {
     "data": {
      "text/html": [
       "<div>\n",
       "<style scoped>\n",
       "    .dataframe tbody tr th:only-of-type {\n",
       "        vertical-align: middle;\n",
       "    }\n",
       "\n",
       "    .dataframe tbody tr th {\n",
       "        vertical-align: top;\n",
       "    }\n",
       "\n",
       "    .dataframe thead th {\n",
       "        text-align: right;\n",
       "    }\n",
       "</style>\n",
       "<table border=\"1\" class=\"dataframe\">\n",
       "  <thead>\n",
       "    <tr style=\"text-align: right;\">\n",
       "      <th></th>\n",
       "      <th>tconst</th>\n",
       "      <th>directors</th>\n",
       "      <th>writers</th>\n",
       "    </tr>\n",
       "  </thead>\n",
       "  <tbody>\n",
       "    <tr>\n",
       "      <th>0</th>\n",
       "      <td>tt0000001</td>\n",
       "      <td>nm0005690</td>\n",
       "      <td>\\N</td>\n",
       "    </tr>\n",
       "  </tbody>\n",
       "</table>\n",
       "</div>"
      ],
      "text/plain": [
       "      tconst  directors writers\n",
       "0  tt0000001  nm0005690      \\N"
      ]
     },
     "execution_count": 19,
     "metadata": {},
     "output_type": "execute_result"
    }
   ],
   "source": [
    "titles_crew.head(1)"
   ]
  },
  {
   "cell_type": "code",
   "execution_count": 20,
   "id": "d59540a2",
   "metadata": {},
   "outputs": [
    {
     "data": {
      "text/plain": [
       "(8946058, 3)"
      ]
     },
     "execution_count": 20,
     "metadata": {},
     "output_type": "execute_result"
    }
   ],
   "source": [
    "titles_crew.shape"
   ]
  },
  {
   "cell_type": "code",
   "execution_count": 21,
   "id": "9f968613",
   "metadata": {},
   "outputs": [
    {
     "data": {
      "text/html": [
       "<div>\n",
       "<style scoped>\n",
       "    .dataframe tbody tr th:only-of-type {\n",
       "        vertical-align: middle;\n",
       "    }\n",
       "\n",
       "    .dataframe tbody tr th {\n",
       "        vertical-align: top;\n",
       "    }\n",
       "\n",
       "    .dataframe thead th {\n",
       "        text-align: right;\n",
       "    }\n",
       "</style>\n",
       "<table border=\"1\" class=\"dataframe\">\n",
       "  <thead>\n",
       "    <tr style=\"text-align: right;\">\n",
       "      <th></th>\n",
       "      <th>tconst</th>\n",
       "      <th>ordering</th>\n",
       "      <th>nconst</th>\n",
       "      <th>category</th>\n",
       "      <th>job</th>\n",
       "      <th>characters</th>\n",
       "    </tr>\n",
       "  </thead>\n",
       "  <tbody>\n",
       "    <tr>\n",
       "      <th>0</th>\n",
       "      <td>tt0000001</td>\n",
       "      <td>1</td>\n",
       "      <td>nm1588970</td>\n",
       "      <td>self</td>\n",
       "      <td>\\N</td>\n",
       "      <td>[\"Self\"]</td>\n",
       "    </tr>\n",
       "  </tbody>\n",
       "</table>\n",
       "</div>"
      ],
      "text/plain": [
       "      tconst  ordering     nconst category job characters\n",
       "0  tt0000001         1  nm1588970     self  \\N   [\"Self\"]"
      ]
     },
     "execution_count": 21,
     "metadata": {},
     "output_type": "execute_result"
    }
   ],
   "source": [
    "titles_principals.head(1)"
   ]
  },
  {
   "cell_type": "code",
   "execution_count": 22,
   "id": "be55f5dc",
   "metadata": {},
   "outputs": [
    {
     "data": {
      "text/plain": [
       "(50453291, 6)"
      ]
     },
     "execution_count": 22,
     "metadata": {},
     "output_type": "execute_result"
    }
   ],
   "source": [
    "titles_principals.shape"
   ]
  },
  {
   "cell_type": "code",
   "execution_count": 33,
   "id": "54992bd5",
   "metadata": {},
   "outputs": [
    {
     "data": {
      "text/html": [
       "<div>\n",
       "<style scoped>\n",
       "    .dataframe tbody tr th:only-of-type {\n",
       "        vertical-align: middle;\n",
       "    }\n",
       "\n",
       "    .dataframe tbody tr th {\n",
       "        vertical-align: top;\n",
       "    }\n",
       "\n",
       "    .dataframe thead th {\n",
       "        text-align: right;\n",
       "    }\n",
       "</style>\n",
       "<table border=\"1\" class=\"dataframe\">\n",
       "  <thead>\n",
       "    <tr style=\"text-align: right;\">\n",
       "      <th></th>\n",
       "      <th>tconst</th>\n",
       "      <th>ordering</th>\n",
       "      <th>title</th>\n",
       "      <th>region</th>\n",
       "      <th>language</th>\n",
       "      <th>types</th>\n",
       "      <th>attributes</th>\n",
       "      <th>isOriginalTitle</th>\n",
       "    </tr>\n",
       "  </thead>\n",
       "  <tbody>\n",
       "    <tr>\n",
       "      <th>0</th>\n",
       "      <td>tt0000001</td>\n",
       "      <td>1</td>\n",
       "      <td>Карменсіта</td>\n",
       "      <td>UA</td>\n",
       "      <td>\\N</td>\n",
       "      <td>imdbDisplay</td>\n",
       "      <td>\\N</td>\n",
       "      <td>0</td>\n",
       "    </tr>\n",
       "  </tbody>\n",
       "</table>\n",
       "</div>"
      ],
      "text/plain": [
       "      tconst  ordering       title region language        types attributes  \\\n",
       "0  tt0000001         1  Карменсіта     UA       \\N  imdbDisplay         \\N   \n",
       "\n",
       "  isOriginalTitle  \n",
       "0               0  "
      ]
     },
     "execution_count": 33,
     "metadata": {},
     "output_type": "execute_result"
    }
   ],
   "source": [
    "titles_akas.head(1)"
   ]
  },
  {
   "cell_type": "code",
   "execution_count": 24,
   "id": "c1ed9cba",
   "metadata": {},
   "outputs": [
    {
     "data": {
      "text/plain": [
       "(32079668, 8)"
      ]
     },
     "execution_count": 24,
     "metadata": {},
     "output_type": "execute_result"
    }
   ],
   "source": [
    "titles_akas.shape"
   ]
  },
  {
   "cell_type": "markdown",
   "id": "86aa0a3b",
   "metadata": {},
   "source": [
    "### Merge the tables\n",
    "\n",
    "- __join='outer'__ - 0 information loss, all union\n",
    "\n",
    "- __join='inner'__ - intersection \n",
    "\n",
    "- __one-to-one joins:__ for example when joining two DataFrame objects on their indexes (which must contain unique values).\n",
    "\n",
    "- __many-to-one joins:__ for example when joining an index (unique) to one or more columns in a different DataFrame.\n",
    "\n",
    "- __many-to-many joins:__ joining columns on columns."
   ]
  },
  {
   "cell_type": "code",
   "execution_count": 25,
   "id": "0137a178",
   "metadata": {},
   "outputs": [],
   "source": [
    "# Rename columns in akas set\n",
    "\n",
    "titles_akas = titles_akas.rename(columns = {'titleId': 'tconst'})"
   ]
  },
  {
   "cell_type": "code",
   "execution_count": 31,
   "id": "5a60aa85",
   "metadata": {},
   "outputs": [],
   "source": [
    "# Reset index on titles_basics\n",
    "\n",
    "titles_basics = titles_basics.reset_index(drop = True) "
   ]
  },
  {
   "cell_type": "code",
   "execution_count": 38,
   "id": "02f1fa66",
   "metadata": {},
   "outputs": [
    {
     "data": {
      "text/html": [
       "<div>\n",
       "<style scoped>\n",
       "    .dataframe tbody tr th:only-of-type {\n",
       "        vertical-align: middle;\n",
       "    }\n",
       "\n",
       "    .dataframe tbody tr th {\n",
       "        vertical-align: top;\n",
       "    }\n",
       "\n",
       "    .dataframe thead th {\n",
       "        text-align: right;\n",
       "    }\n",
       "</style>\n",
       "<table border=\"1\" class=\"dataframe\">\n",
       "  <thead>\n",
       "    <tr style=\"text-align: right;\">\n",
       "      <th></th>\n",
       "      <th>tconst</th>\n",
       "      <th>titleType</th>\n",
       "      <th>primaryTitle</th>\n",
       "      <th>originalTitle</th>\n",
       "      <th>isAdult</th>\n",
       "      <th>startYear</th>\n",
       "      <th>endYear</th>\n",
       "      <th>runtimeMinutes</th>\n",
       "      <th>genres</th>\n",
       "    </tr>\n",
       "  </thead>\n",
       "  <tbody>\n",
       "    <tr>\n",
       "      <th>0</th>\n",
       "      <td>tt0000001</td>\n",
       "      <td>short</td>\n",
       "      <td>Carmencita</td>\n",
       "      <td>Carmencita</td>\n",
       "      <td>0</td>\n",
       "      <td>1894</td>\n",
       "      <td>\\N</td>\n",
       "      <td>1</td>\n",
       "      <td>Documentary,Short</td>\n",
       "    </tr>\n",
       "    <tr>\n",
       "      <th>1</th>\n",
       "      <td>tt0000002</td>\n",
       "      <td>short</td>\n",
       "      <td>Le clown et ses chiens</td>\n",
       "      <td>Le clown et ses chiens</td>\n",
       "      <td>0</td>\n",
       "      <td>1892</td>\n",
       "      <td>\\N</td>\n",
       "      <td>5</td>\n",
       "      <td>Animation,Short</td>\n",
       "    </tr>\n",
       "    <tr>\n",
       "      <th>2</th>\n",
       "      <td>tt0000003</td>\n",
       "      <td>short</td>\n",
       "      <td>Pauvre Pierrot</td>\n",
       "      <td>Pauvre Pierrot</td>\n",
       "      <td>0</td>\n",
       "      <td>1892</td>\n",
       "      <td>\\N</td>\n",
       "      <td>4</td>\n",
       "      <td>Animation,Comedy,Romance</td>\n",
       "    </tr>\n",
       "    <tr>\n",
       "      <th>3</th>\n",
       "      <td>tt0000004</td>\n",
       "      <td>short</td>\n",
       "      <td>Un bon bock</td>\n",
       "      <td>Un bon bock</td>\n",
       "      <td>0</td>\n",
       "      <td>1892</td>\n",
       "      <td>\\N</td>\n",
       "      <td>12</td>\n",
       "      <td>Animation,Short</td>\n",
       "    </tr>\n",
       "    <tr>\n",
       "      <th>4</th>\n",
       "      <td>tt0000005</td>\n",
       "      <td>short</td>\n",
       "      <td>Blacksmith Scene</td>\n",
       "      <td>Blacksmith Scene</td>\n",
       "      <td>0</td>\n",
       "      <td>1893</td>\n",
       "      <td>\\N</td>\n",
       "      <td>1</td>\n",
       "      <td>Comedy,Short</td>\n",
       "    </tr>\n",
       "  </tbody>\n",
       "</table>\n",
       "</div>"
      ],
      "text/plain": [
       "      tconst titleType            primaryTitle           originalTitle  \\\n",
       "0  tt0000001     short              Carmencita              Carmencita   \n",
       "1  tt0000002     short  Le clown et ses chiens  Le clown et ses chiens   \n",
       "2  tt0000003     short          Pauvre Pierrot          Pauvre Pierrot   \n",
       "3  tt0000004     short             Un bon bock             Un bon bock   \n",
       "4  tt0000005     short        Blacksmith Scene        Blacksmith Scene   \n",
       "\n",
       "  isAdult startYear endYear runtimeMinutes                    genres  \n",
       "0       0      1894      \\N              1         Documentary,Short  \n",
       "1       0      1892      \\N              5           Animation,Short  \n",
       "2       0      1892      \\N              4  Animation,Comedy,Romance  \n",
       "3       0      1892      \\N             12           Animation,Short  \n",
       "4       0      1893      \\N              1              Comedy,Short  "
      ]
     },
     "execution_count": 38,
     "metadata": {},
     "output_type": "execute_result"
    }
   ],
   "source": [
    "titles_basics.head()"
   ]
  },
  {
   "cell_type": "markdown",
   "id": "06b9f4b0",
   "metadata": {},
   "source": [
    "> #### (A). Merge titles_basic with titles_akas (on tconst)"
   ]
  },
  {
   "cell_type": "code",
   "execution_count": 50,
   "id": "0a68724b",
   "metadata": {},
   "outputs": [
    {
     "data": {
      "text/html": [
       "<div>\n",
       "<style scoped>\n",
       "    .dataframe tbody tr th:only-of-type {\n",
       "        vertical-align: middle;\n",
       "    }\n",
       "\n",
       "    .dataframe tbody tr th {\n",
       "        vertical-align: top;\n",
       "    }\n",
       "\n",
       "    .dataframe thead th {\n",
       "        text-align: right;\n",
       "    }\n",
       "</style>\n",
       "<table border=\"1\" class=\"dataframe\">\n",
       "  <thead>\n",
       "    <tr style=\"text-align: right;\">\n",
       "      <th></th>\n",
       "      <th>tconst</th>\n",
       "      <th>titleType</th>\n",
       "      <th>primaryTitle</th>\n",
       "      <th>originalTitle</th>\n",
       "      <th>isAdult</th>\n",
       "      <th>startYear</th>\n",
       "      <th>endYear</th>\n",
       "      <th>runtimeMinutes</th>\n",
       "      <th>genres</th>\n",
       "      <th>ordering</th>\n",
       "      <th>title</th>\n",
       "      <th>region</th>\n",
       "      <th>language</th>\n",
       "      <th>types</th>\n",
       "      <th>attributes</th>\n",
       "      <th>isOriginalTitle</th>\n",
       "    </tr>\n",
       "  </thead>\n",
       "  <tbody>\n",
       "    <tr>\n",
       "      <th>0</th>\n",
       "      <td>tt0000001</td>\n",
       "      <td>short</td>\n",
       "      <td>Carmencita</td>\n",
       "      <td>Carmencita</td>\n",
       "      <td>0</td>\n",
       "      <td>1894</td>\n",
       "      <td>\\N</td>\n",
       "      <td>1</td>\n",
       "      <td>Documentary,Short</td>\n",
       "      <td>1</td>\n",
       "      <td>Карменсіта</td>\n",
       "      <td>UA</td>\n",
       "      <td>\\N</td>\n",
       "      <td>imdbDisplay</td>\n",
       "      <td>\\N</td>\n",
       "      <td>0</td>\n",
       "    </tr>\n",
       "    <tr>\n",
       "      <th>1</th>\n",
       "      <td>tt0000001</td>\n",
       "      <td>short</td>\n",
       "      <td>Carmencita</td>\n",
       "      <td>Carmencita</td>\n",
       "      <td>0</td>\n",
       "      <td>1894</td>\n",
       "      <td>\\N</td>\n",
       "      <td>1</td>\n",
       "      <td>Documentary,Short</td>\n",
       "      <td>2</td>\n",
       "      <td>Carmencita</td>\n",
       "      <td>DE</td>\n",
       "      <td>\\N</td>\n",
       "      <td>\\N</td>\n",
       "      <td>literal title</td>\n",
       "      <td>0</td>\n",
       "    </tr>\n",
       "    <tr>\n",
       "      <th>2</th>\n",
       "      <td>tt0000001</td>\n",
       "      <td>short</td>\n",
       "      <td>Carmencita</td>\n",
       "      <td>Carmencita</td>\n",
       "      <td>0</td>\n",
       "      <td>1894</td>\n",
       "      <td>\\N</td>\n",
       "      <td>1</td>\n",
       "      <td>Documentary,Short</td>\n",
       "      <td>3</td>\n",
       "      <td>Carmencita - spanyol tánc</td>\n",
       "      <td>HU</td>\n",
       "      <td>\\N</td>\n",
       "      <td>imdbDisplay</td>\n",
       "      <td>\\N</td>\n",
       "      <td>0</td>\n",
       "    </tr>\n",
       "    <tr>\n",
       "      <th>3</th>\n",
       "      <td>tt0000001</td>\n",
       "      <td>short</td>\n",
       "      <td>Carmencita</td>\n",
       "      <td>Carmencita</td>\n",
       "      <td>0</td>\n",
       "      <td>1894</td>\n",
       "      <td>\\N</td>\n",
       "      <td>1</td>\n",
       "      <td>Documentary,Short</td>\n",
       "      <td>4</td>\n",
       "      <td>Καρμενσίτα</td>\n",
       "      <td>GR</td>\n",
       "      <td>\\N</td>\n",
       "      <td>imdbDisplay</td>\n",
       "      <td>\\N</td>\n",
       "      <td>0</td>\n",
       "    </tr>\n",
       "    <tr>\n",
       "      <th>4</th>\n",
       "      <td>tt0000001</td>\n",
       "      <td>short</td>\n",
       "      <td>Carmencita</td>\n",
       "      <td>Carmencita</td>\n",
       "      <td>0</td>\n",
       "      <td>1894</td>\n",
       "      <td>\\N</td>\n",
       "      <td>1</td>\n",
       "      <td>Documentary,Short</td>\n",
       "      <td>5</td>\n",
       "      <td>Карменсита</td>\n",
       "      <td>RU</td>\n",
       "      <td>\\N</td>\n",
       "      <td>imdbDisplay</td>\n",
       "      <td>\\N</td>\n",
       "      <td>0</td>\n",
       "    </tr>\n",
       "  </tbody>\n",
       "</table>\n",
       "</div>"
      ],
      "text/plain": [
       "      tconst titleType primaryTitle originalTitle isAdult startYear endYear  \\\n",
       "0  tt0000001     short   Carmencita    Carmencita       0      1894      \\N   \n",
       "1  tt0000001     short   Carmencita    Carmencita       0      1894      \\N   \n",
       "2  tt0000001     short   Carmencita    Carmencita       0      1894      \\N   \n",
       "3  tt0000001     short   Carmencita    Carmencita       0      1894      \\N   \n",
       "4  tt0000001     short   Carmencita    Carmencita       0      1894      \\N   \n",
       "\n",
       "  runtimeMinutes             genres  ordering                      title  \\\n",
       "0              1  Documentary,Short         1                 Карменсіта   \n",
       "1              1  Documentary,Short         2                 Carmencita   \n",
       "2              1  Documentary,Short         3  Carmencita - spanyol tánc   \n",
       "3              1  Documentary,Short         4                 Καρμενσίτα   \n",
       "4              1  Documentary,Short         5                 Карменсита   \n",
       "\n",
       "  region language        types     attributes isOriginalTitle  \n",
       "0     UA       \\N  imdbDisplay             \\N               0  \n",
       "1     DE       \\N           \\N  literal title               0  \n",
       "2     HU       \\N  imdbDisplay             \\N               0  \n",
       "3     GR       \\N  imdbDisplay             \\N               0  \n",
       "4     RU       \\N  imdbDisplay             \\N               0  "
      ]
     },
     "execution_count": 50,
     "metadata": {},
     "output_type": "execute_result"
    }
   ],
   "source": [
    "akas_titles_basics = pd.merge(titles_basics,titles_akas, on = 'tconst' , sort=False)\n",
    "akas_titles_basics.head()"
   ]
  },
  {
   "cell_type": "markdown",
   "id": "a326430a",
   "metadata": {},
   "source": [
    "> #### (B). Merge titles_basic, titles_akas with title_ratings (on tconst)"
   ]
  },
  {
   "cell_type": "code",
   "execution_count": 53,
   "id": "bfa1f2d0",
   "metadata": {},
   "outputs": [
    {
     "data": {
      "text/html": [
       "<div>\n",
       "<style scoped>\n",
       "    .dataframe tbody tr th:only-of-type {\n",
       "        vertical-align: middle;\n",
       "    }\n",
       "\n",
       "    .dataframe tbody tr th {\n",
       "        vertical-align: top;\n",
       "    }\n",
       "\n",
       "    .dataframe thead th {\n",
       "        text-align: right;\n",
       "    }\n",
       "</style>\n",
       "<table border=\"1\" class=\"dataframe\">\n",
       "  <thead>\n",
       "    <tr style=\"text-align: right;\">\n",
       "      <th></th>\n",
       "      <th>tconst</th>\n",
       "      <th>titleType</th>\n",
       "      <th>primaryTitle</th>\n",
       "      <th>originalTitle</th>\n",
       "      <th>isAdult</th>\n",
       "      <th>startYear</th>\n",
       "      <th>endYear</th>\n",
       "      <th>runtimeMinutes</th>\n",
       "      <th>genres</th>\n",
       "      <th>ordering</th>\n",
       "      <th>title</th>\n",
       "      <th>region</th>\n",
       "      <th>language</th>\n",
       "      <th>types</th>\n",
       "      <th>attributes</th>\n",
       "      <th>isOriginalTitle</th>\n",
       "      <th>averageRating</th>\n",
       "      <th>numVotes</th>\n",
       "    </tr>\n",
       "  </thead>\n",
       "  <tbody>\n",
       "    <tr>\n",
       "      <th>0</th>\n",
       "      <td>tt0000001</td>\n",
       "      <td>short</td>\n",
       "      <td>Carmencita</td>\n",
       "      <td>Carmencita</td>\n",
       "      <td>0</td>\n",
       "      <td>1894</td>\n",
       "      <td>\\N</td>\n",
       "      <td>1</td>\n",
       "      <td>Documentary,Short</td>\n",
       "      <td>1</td>\n",
       "      <td>Карменсіта</td>\n",
       "      <td>UA</td>\n",
       "      <td>\\N</td>\n",
       "      <td>imdbDisplay</td>\n",
       "      <td>\\N</td>\n",
       "      <td>0</td>\n",
       "      <td>5.7</td>\n",
       "      <td>1882</td>\n",
       "    </tr>\n",
       "    <tr>\n",
       "      <th>1</th>\n",
       "      <td>tt0000001</td>\n",
       "      <td>short</td>\n",
       "      <td>Carmencita</td>\n",
       "      <td>Carmencita</td>\n",
       "      <td>0</td>\n",
       "      <td>1894</td>\n",
       "      <td>\\N</td>\n",
       "      <td>1</td>\n",
       "      <td>Documentary,Short</td>\n",
       "      <td>2</td>\n",
       "      <td>Carmencita</td>\n",
       "      <td>DE</td>\n",
       "      <td>\\N</td>\n",
       "      <td>\\N</td>\n",
       "      <td>literal title</td>\n",
       "      <td>0</td>\n",
       "      <td>5.7</td>\n",
       "      <td>1882</td>\n",
       "    </tr>\n",
       "    <tr>\n",
       "      <th>2</th>\n",
       "      <td>tt0000001</td>\n",
       "      <td>short</td>\n",
       "      <td>Carmencita</td>\n",
       "      <td>Carmencita</td>\n",
       "      <td>0</td>\n",
       "      <td>1894</td>\n",
       "      <td>\\N</td>\n",
       "      <td>1</td>\n",
       "      <td>Documentary,Short</td>\n",
       "      <td>3</td>\n",
       "      <td>Carmencita - spanyol tánc</td>\n",
       "      <td>HU</td>\n",
       "      <td>\\N</td>\n",
       "      <td>imdbDisplay</td>\n",
       "      <td>\\N</td>\n",
       "      <td>0</td>\n",
       "      <td>5.7</td>\n",
       "      <td>1882</td>\n",
       "    </tr>\n",
       "    <tr>\n",
       "      <th>3</th>\n",
       "      <td>tt0000001</td>\n",
       "      <td>short</td>\n",
       "      <td>Carmencita</td>\n",
       "      <td>Carmencita</td>\n",
       "      <td>0</td>\n",
       "      <td>1894</td>\n",
       "      <td>\\N</td>\n",
       "      <td>1</td>\n",
       "      <td>Documentary,Short</td>\n",
       "      <td>4</td>\n",
       "      <td>Καρμενσίτα</td>\n",
       "      <td>GR</td>\n",
       "      <td>\\N</td>\n",
       "      <td>imdbDisplay</td>\n",
       "      <td>\\N</td>\n",
       "      <td>0</td>\n",
       "      <td>5.7</td>\n",
       "      <td>1882</td>\n",
       "    </tr>\n",
       "    <tr>\n",
       "      <th>4</th>\n",
       "      <td>tt0000001</td>\n",
       "      <td>short</td>\n",
       "      <td>Carmencita</td>\n",
       "      <td>Carmencita</td>\n",
       "      <td>0</td>\n",
       "      <td>1894</td>\n",
       "      <td>\\N</td>\n",
       "      <td>1</td>\n",
       "      <td>Documentary,Short</td>\n",
       "      <td>5</td>\n",
       "      <td>Карменсита</td>\n",
       "      <td>RU</td>\n",
       "      <td>\\N</td>\n",
       "      <td>imdbDisplay</td>\n",
       "      <td>\\N</td>\n",
       "      <td>0</td>\n",
       "      <td>5.7</td>\n",
       "      <td>1882</td>\n",
       "    </tr>\n",
       "  </tbody>\n",
       "</table>\n",
       "</div>"
      ],
      "text/plain": [
       "      tconst titleType primaryTitle originalTitle isAdult startYear endYear  \\\n",
       "0  tt0000001     short   Carmencita    Carmencita       0      1894      \\N   \n",
       "1  tt0000001     short   Carmencita    Carmencita       0      1894      \\N   \n",
       "2  tt0000001     short   Carmencita    Carmencita       0      1894      \\N   \n",
       "3  tt0000001     short   Carmencita    Carmencita       0      1894      \\N   \n",
       "4  tt0000001     short   Carmencita    Carmencita       0      1894      \\N   \n",
       "\n",
       "  runtimeMinutes             genres  ordering                      title  \\\n",
       "0              1  Documentary,Short         1                 Карменсіта   \n",
       "1              1  Documentary,Short         2                 Carmencita   \n",
       "2              1  Documentary,Short         3  Carmencita - spanyol tánc   \n",
       "3              1  Documentary,Short         4                 Καρμενσίτα   \n",
       "4              1  Documentary,Short         5                 Карменсита   \n",
       "\n",
       "  region language        types     attributes isOriginalTitle  averageRating  \\\n",
       "0     UA       \\N  imdbDisplay             \\N               0            5.7   \n",
       "1     DE       \\N           \\N  literal title               0            5.7   \n",
       "2     HU       \\N  imdbDisplay             \\N               0            5.7   \n",
       "3     GR       \\N  imdbDisplay             \\N               0            5.7   \n",
       "4     RU       \\N  imdbDisplay             \\N               0            5.7   \n",
       "\n",
       "   numVotes  \n",
       "0      1882  \n",
       "1      1882  \n",
       "2      1882  \n",
       "3      1882  \n",
       "4      1882  "
      ]
     },
     "execution_count": 53,
     "metadata": {},
     "output_type": "execute_result"
    }
   ],
   "source": [
    "ratings_akas_titles_basics= pd.merge(akas_titles_basics, titles_ratings, on = 'tconst' , sort=False)\n",
    "ratings_akas_titles_basics.head()"
   ]
  },
  {
   "cell_type": "markdown",
   "id": "ef9e682d",
   "metadata": {},
   "source": [
    "> #### (C). Merge titles_basic, titles_akas, title ratings with titles_principals (on tconst)"
   ]
  },
  {
   "cell_type": "code",
   "execution_count": 55,
   "id": "71846125",
   "metadata": {},
   "outputs": [
    {
     "data": {
      "text/html": [
       "<div>\n",
       "<style scoped>\n",
       "    .dataframe tbody tr th:only-of-type {\n",
       "        vertical-align: middle;\n",
       "    }\n",
       "\n",
       "    .dataframe tbody tr th {\n",
       "        vertical-align: top;\n",
       "    }\n",
       "\n",
       "    .dataframe thead th {\n",
       "        text-align: right;\n",
       "    }\n",
       "</style>\n",
       "<table border=\"1\" class=\"dataframe\">\n",
       "  <thead>\n",
       "    <tr style=\"text-align: right;\">\n",
       "      <th></th>\n",
       "      <th>tconst</th>\n",
       "      <th>titleType</th>\n",
       "      <th>primaryTitle</th>\n",
       "      <th>originalTitle</th>\n",
       "      <th>isAdult</th>\n",
       "      <th>startYear</th>\n",
       "      <th>endYear</th>\n",
       "      <th>runtimeMinutes</th>\n",
       "      <th>genres</th>\n",
       "      <th>ordering_x</th>\n",
       "      <th>...</th>\n",
       "      <th>types</th>\n",
       "      <th>attributes</th>\n",
       "      <th>isOriginalTitle</th>\n",
       "      <th>averageRating</th>\n",
       "      <th>numVotes</th>\n",
       "      <th>ordering_y</th>\n",
       "      <th>nconst</th>\n",
       "      <th>category</th>\n",
       "      <th>job</th>\n",
       "      <th>characters</th>\n",
       "    </tr>\n",
       "  </thead>\n",
       "  <tbody>\n",
       "    <tr>\n",
       "      <th>0</th>\n",
       "      <td>tt0000001</td>\n",
       "      <td>short</td>\n",
       "      <td>Carmencita</td>\n",
       "      <td>Carmencita</td>\n",
       "      <td>0</td>\n",
       "      <td>1894</td>\n",
       "      <td>\\N</td>\n",
       "      <td>1</td>\n",
       "      <td>Documentary,Short</td>\n",
       "      <td>1</td>\n",
       "      <td>...</td>\n",
       "      <td>imdbDisplay</td>\n",
       "      <td>\\N</td>\n",
       "      <td>0</td>\n",
       "      <td>5.7</td>\n",
       "      <td>1882</td>\n",
       "      <td>1</td>\n",
       "      <td>nm1588970</td>\n",
       "      <td>self</td>\n",
       "      <td>\\N</td>\n",
       "      <td>[\"Self\"]</td>\n",
       "    </tr>\n",
       "    <tr>\n",
       "      <th>1</th>\n",
       "      <td>tt0000001</td>\n",
       "      <td>short</td>\n",
       "      <td>Carmencita</td>\n",
       "      <td>Carmencita</td>\n",
       "      <td>0</td>\n",
       "      <td>1894</td>\n",
       "      <td>\\N</td>\n",
       "      <td>1</td>\n",
       "      <td>Documentary,Short</td>\n",
       "      <td>1</td>\n",
       "      <td>...</td>\n",
       "      <td>imdbDisplay</td>\n",
       "      <td>\\N</td>\n",
       "      <td>0</td>\n",
       "      <td>5.7</td>\n",
       "      <td>1882</td>\n",
       "      <td>2</td>\n",
       "      <td>nm0005690</td>\n",
       "      <td>director</td>\n",
       "      <td>\\N</td>\n",
       "      <td>\\N</td>\n",
       "    </tr>\n",
       "    <tr>\n",
       "      <th>2</th>\n",
       "      <td>tt0000001</td>\n",
       "      <td>short</td>\n",
       "      <td>Carmencita</td>\n",
       "      <td>Carmencita</td>\n",
       "      <td>0</td>\n",
       "      <td>1894</td>\n",
       "      <td>\\N</td>\n",
       "      <td>1</td>\n",
       "      <td>Documentary,Short</td>\n",
       "      <td>1</td>\n",
       "      <td>...</td>\n",
       "      <td>imdbDisplay</td>\n",
       "      <td>\\N</td>\n",
       "      <td>0</td>\n",
       "      <td>5.7</td>\n",
       "      <td>1882</td>\n",
       "      <td>3</td>\n",
       "      <td>nm0374658</td>\n",
       "      <td>cinematographer</td>\n",
       "      <td>director of photography</td>\n",
       "      <td>\\N</td>\n",
       "    </tr>\n",
       "    <tr>\n",
       "      <th>3</th>\n",
       "      <td>tt0000001</td>\n",
       "      <td>short</td>\n",
       "      <td>Carmencita</td>\n",
       "      <td>Carmencita</td>\n",
       "      <td>0</td>\n",
       "      <td>1894</td>\n",
       "      <td>\\N</td>\n",
       "      <td>1</td>\n",
       "      <td>Documentary,Short</td>\n",
       "      <td>2</td>\n",
       "      <td>...</td>\n",
       "      <td>\\N</td>\n",
       "      <td>literal title</td>\n",
       "      <td>0</td>\n",
       "      <td>5.7</td>\n",
       "      <td>1882</td>\n",
       "      <td>1</td>\n",
       "      <td>nm1588970</td>\n",
       "      <td>self</td>\n",
       "      <td>\\N</td>\n",
       "      <td>[\"Self\"]</td>\n",
       "    </tr>\n",
       "    <tr>\n",
       "      <th>4</th>\n",
       "      <td>tt0000001</td>\n",
       "      <td>short</td>\n",
       "      <td>Carmencita</td>\n",
       "      <td>Carmencita</td>\n",
       "      <td>0</td>\n",
       "      <td>1894</td>\n",
       "      <td>\\N</td>\n",
       "      <td>1</td>\n",
       "      <td>Documentary,Short</td>\n",
       "      <td>2</td>\n",
       "      <td>...</td>\n",
       "      <td>\\N</td>\n",
       "      <td>literal title</td>\n",
       "      <td>0</td>\n",
       "      <td>5.7</td>\n",
       "      <td>1882</td>\n",
       "      <td>2</td>\n",
       "      <td>nm0005690</td>\n",
       "      <td>director</td>\n",
       "      <td>\\N</td>\n",
       "      <td>\\N</td>\n",
       "    </tr>\n",
       "  </tbody>\n",
       "</table>\n",
       "<p>5 rows × 23 columns</p>\n",
       "</div>"
      ],
      "text/plain": [
       "      tconst titleType primaryTitle originalTitle isAdult startYear endYear  \\\n",
       "0  tt0000001     short   Carmencita    Carmencita       0      1894      \\N   \n",
       "1  tt0000001     short   Carmencita    Carmencita       0      1894      \\N   \n",
       "2  tt0000001     short   Carmencita    Carmencita       0      1894      \\N   \n",
       "3  tt0000001     short   Carmencita    Carmencita       0      1894      \\N   \n",
       "4  tt0000001     short   Carmencita    Carmencita       0      1894      \\N   \n",
       "\n",
       "  runtimeMinutes             genres  ordering_x  ...        types  \\\n",
       "0              1  Documentary,Short           1  ...  imdbDisplay   \n",
       "1              1  Documentary,Short           1  ...  imdbDisplay   \n",
       "2              1  Documentary,Short           1  ...  imdbDisplay   \n",
       "3              1  Documentary,Short           2  ...           \\N   \n",
       "4              1  Documentary,Short           2  ...           \\N   \n",
       "\n",
       "      attributes isOriginalTitle averageRating numVotes ordering_y     nconst  \\\n",
       "0             \\N               0           5.7     1882          1  nm1588970   \n",
       "1             \\N               0           5.7     1882          2  nm0005690   \n",
       "2             \\N               0           5.7     1882          3  nm0374658   \n",
       "3  literal title               0           5.7     1882          1  nm1588970   \n",
       "4  literal title               0           5.7     1882          2  nm0005690   \n",
       "\n",
       "          category                      job characters  \n",
       "0             self                       \\N   [\"Self\"]  \n",
       "1         director                       \\N         \\N  \n",
       "2  cinematographer  director of photography         \\N  \n",
       "3             self                       \\N   [\"Self\"]  \n",
       "4         director                       \\N         \\N  \n",
       "\n",
       "[5 rows x 23 columns]"
      ]
     },
     "execution_count": 55,
     "metadata": {},
     "output_type": "execute_result"
    }
   ],
   "source": [
    "ratings_akas_titles_basics_principals = pd.merge(ratings_akas_titles_basics, titles_principals, on = 'tconst' , sort=False)\n",
    "ratings_akas_titles_basics_principals.head()"
   ]
  },
  {
   "cell_type": "markdown",
   "id": "77659cb4",
   "metadata": {},
   "source": [
    "> #### (D). Merge titles_basic, titles_akas, title ratings, titles_principals with _________ (on tconst)"
   ]
  },
  {
   "cell_type": "code",
   "execution_count": null,
   "id": "dde0d8b6",
   "metadata": {},
   "outputs": [],
   "source": []
  },
  {
   "cell_type": "code",
   "execution_count": null,
   "id": "ad418d88",
   "metadata": {},
   "outputs": [],
   "source": []
  },
  {
   "cell_type": "code",
   "execution_count": null,
   "id": "dc44e2ea",
   "metadata": {},
   "outputs": [],
   "source": []
  },
  {
   "cell_type": "code",
   "execution_count": null,
   "id": "d5f0ef85",
   "metadata": {},
   "outputs": [],
   "source": [
    "# # Join all tables \n",
    "\n",
    "# (titles_basics.set_index('tconst')\\\n",
    "#             .join(titles_akas.set_index('tconst'),how ='left', on = 'tconst', rsuffix = '2')\n",
    "#             .join(titles_crew.set_index('tconst'),how ='left', on = 'tconst', rsuffix = '2')\n",
    "#             .join(titles_principals.set_index('tconst'),how ='left', on = 'tconst', rsuffix = '2')\n",
    "#             .join(titles_ratings.set_index('tconst'),how ='left', on = 'tconst', rsuffix = '2')\n",
    "# )"
   ]
  },
  {
   "cell_type": "code",
   "execution_count": null,
   "id": "2d3f54ef",
   "metadata": {},
   "outputs": [],
   "source": []
  },
  {
   "cell_type": "code",
   "execution_count": null,
   "id": "7270547b",
   "metadata": {},
   "outputs": [],
   "source": []
  }
 ],
 "metadata": {
  "kernelspec": {
   "display_name": "Python 3 (ipykernel)",
   "language": "python",
   "name": "python3"
  },
  "language_info": {
   "codemirror_mode": {
    "name": "ipython",
    "version": 3
   },
   "file_extension": ".py",
   "mimetype": "text/x-python",
   "name": "python",
   "nbconvert_exporter": "python",
   "pygments_lexer": "ipython3",
   "version": "3.9.7"
  }
 },
 "nbformat": 4,
 "nbformat_minor": 5
}
