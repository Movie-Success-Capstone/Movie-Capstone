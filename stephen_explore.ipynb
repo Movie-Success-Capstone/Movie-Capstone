{
 "cells": [
  {
   "cell_type": "markdown",
   "id": "03ee2606",
   "metadata": {},
   "source": [
    "# Movie Ratings Capstome"
   ]
  },
  {
   "cell_type": "markdown",
   "id": "9a8f10bd",
   "metadata": {},
   "source": [
    "#### Import Libraries"
   ]
  },
  {
   "cell_type": "code",
   "execution_count": 1,
   "id": "f4d2a701",
   "metadata": {},
   "outputs": [],
   "source": [
    "import pandas as pd\n",
    "import numpy as np\n",
    "import matplotlib.pyplot as plt\n",
    "import seaborn as sns\n",
    "import os\n",
    "import prepare_stephen\n",
    "import datetime\n",
    "\n",
    "from sklearn.model_selection import train_test_split\n",
    "from sklearn.impute import SimpleImputer\n",
    "from sklearn.preprocessing import MinMaxScaler, StandardScaler, RobustScaler\n",
    "\n",
    "import warnings\n",
    "warnings.filterwarnings('ignore')"
   ]
  },
  {
   "cell_type": "markdown",
   "id": "a5022bbd",
   "metadata": {},
   "source": [
    "### Get Raw dirty data https://www.kaggle.com/datasets/rounakbanik/the-movies-dataset?select=links.csv"
   ]
  },
  {
   "cell_type": "code",
   "execution_count": 2,
   "id": "6f85265f",
   "metadata": {},
   "outputs": [
    {
     "name": "stdout",
     "output_type": "stream",
     "text": [
      "Using cached CSV\n"
     ]
    }
   ],
   "source": [
    "raw = prepare_stephen.get_dirty_data()"
   ]
  },
  {
   "cell_type": "code",
   "execution_count": 3,
   "id": "b4246014",
   "metadata": {},
   "outputs": [
    {
     "data": {
      "text/html": [
       "<div>\n",
       "<style scoped>\n",
       "    .dataframe tbody tr th:only-of-type {\n",
       "        vertical-align: middle;\n",
       "    }\n",
       "\n",
       "    .dataframe tbody tr th {\n",
       "        vertical-align: top;\n",
       "    }\n",
       "\n",
       "    .dataframe thead th {\n",
       "        text-align: right;\n",
       "    }\n",
       "</style>\n",
       "<table border=\"1\" class=\"dataframe\">\n",
       "  <thead>\n",
       "    <tr style=\"text-align: right;\">\n",
       "      <th></th>\n",
       "      <th>Unnamed: 0</th>\n",
       "      <th>cast</th>\n",
       "      <th>crew</th>\n",
       "      <th>id</th>\n",
       "      <th>title</th>\n",
       "      <th>genres</th>\n",
       "      <th>budget</th>\n",
       "      <th>overview</th>\n",
       "      <th>popularity</th>\n",
       "      <th>production_companies</th>\n",
       "      <th>production_countries</th>\n",
       "      <th>revenue</th>\n",
       "      <th>runtime</th>\n",
       "      <th>vote_average</th>\n",
       "      <th>vote_count</th>\n",
       "      <th>keywords</th>\n",
       "      <th>release_date</th>\n",
       "    </tr>\n",
       "  </thead>\n",
       "  <tbody>\n",
       "    <tr>\n",
       "      <th>0</th>\n",
       "      <td>0</td>\n",
       "      <td>TomHanks TimAllen DonRickles JimVarney Wallace...</td>\n",
       "      <td>JohnLasseter JossWhedon AndrewStanton JoelCohe...</td>\n",
       "      <td>862</td>\n",
       "      <td>Toy Story</td>\n",
       "      <td>Animation Comedy Family</td>\n",
       "      <td>30000000</td>\n",
       "      <td>Led by Woody, Andy's toys live happily in his ...</td>\n",
       "      <td>21.946943</td>\n",
       "      <td>PixarAnimationStudios</td>\n",
       "      <td>UnitedStatesofAmerica</td>\n",
       "      <td>373554033.0</td>\n",
       "      <td>81.0</td>\n",
       "      <td>7.7</td>\n",
       "      <td>5415.0</td>\n",
       "      <td>jealousy toy boy friendship friends rivalry bo...</td>\n",
       "      <td>1995-10-30</td>\n",
       "    </tr>\n",
       "    <tr>\n",
       "      <th>1</th>\n",
       "      <td>1</td>\n",
       "      <td>RobinWilliams JonathanHyde KirstenDunst Bradle...</td>\n",
       "      <td>LarryJ.Franco JonathanHensleigh JamesHorner Jo...</td>\n",
       "      <td>8844</td>\n",
       "      <td>Jumanji</td>\n",
       "      <td>Adventure Fantasy Family</td>\n",
       "      <td>65000000</td>\n",
       "      <td>When siblings Judy and Peter discover an encha...</td>\n",
       "      <td>17.015539</td>\n",
       "      <td>TriStarPictures TeitlerFilm InterscopeCommunic...</td>\n",
       "      <td>UnitedStatesofAmerica</td>\n",
       "      <td>262797249.0</td>\n",
       "      <td>104.0</td>\n",
       "      <td>6.9</td>\n",
       "      <td>2413.0</td>\n",
       "      <td>board game disappearance based on children's b...</td>\n",
       "      <td>1995-12-15</td>\n",
       "    </tr>\n",
       "  </tbody>\n",
       "</table>\n",
       "</div>"
      ],
      "text/plain": [
       "   Unnamed: 0                                               cast  \\\n",
       "0           0  TomHanks TimAllen DonRickles JimVarney Wallace...   \n",
       "1           1  RobinWilliams JonathanHyde KirstenDunst Bradle...   \n",
       "\n",
       "                                                crew    id      title  \\\n",
       "0  JohnLasseter JossWhedon AndrewStanton JoelCohe...   862  Toy Story   \n",
       "1  LarryJ.Franco JonathanHensleigh JamesHorner Jo...  8844    Jumanji   \n",
       "\n",
       "                     genres    budget  \\\n",
       "0   Animation Comedy Family  30000000   \n",
       "1  Adventure Fantasy Family  65000000   \n",
       "\n",
       "                                            overview  popularity  \\\n",
       "0  Led by Woody, Andy's toys live happily in his ...   21.946943   \n",
       "1  When siblings Judy and Peter discover an encha...   17.015539   \n",
       "\n",
       "                                production_companies   production_countries  \\\n",
       "0                              PixarAnimationStudios  UnitedStatesofAmerica   \n",
       "1  TriStarPictures TeitlerFilm InterscopeCommunic...  UnitedStatesofAmerica   \n",
       "\n",
       "       revenue  runtime  vote_average  vote_count  \\\n",
       "0  373554033.0     81.0           7.7      5415.0   \n",
       "1  262797249.0    104.0           6.9      2413.0   \n",
       "\n",
       "                                            keywords release_date  \n",
       "0  jealousy toy boy friendship friends rivalry bo...   1995-10-30  \n",
       "1  board game disappearance based on children's b...   1995-12-15  "
      ]
     },
     "execution_count": 3,
     "metadata": {},
     "output_type": "execute_result"
    }
   ],
   "source": [
    "raw.head(2)"
   ]
  },
  {
   "cell_type": "code",
   "execution_count": 4,
   "id": "3d56170c",
   "metadata": {},
   "outputs": [
    {
     "data": {
      "text/plain": [
       "(7457, 17)"
      ]
     },
     "execution_count": 4,
     "metadata": {},
     "output_type": "execute_result"
    }
   ],
   "source": [
    "raw.shape"
   ]
  },
  {
   "cell_type": "code",
   "execution_count": 5,
   "id": "73115541",
   "metadata": {},
   "outputs": [],
   "source": [
    "after_2000 = raw[raw.release_date > '2000-01-01']"
   ]
  },
  {
   "cell_type": "code",
   "execution_count": 6,
   "id": "5b063ad6",
   "metadata": {},
   "outputs": [
    {
     "data": {
      "text/plain": [
       "(4586, 17)"
      ]
     },
     "execution_count": 6,
     "metadata": {},
     "output_type": "execute_result"
    }
   ],
   "source": [
    "after_2000.shape"
   ]
  },
  {
   "cell_type": "markdown",
   "id": "3df97782",
   "metadata": {},
   "source": [
    "#### Initial Data Check"
   ]
  },
  {
   "cell_type": "code",
   "execution_count": 7,
   "id": "ab3f4789",
   "metadata": {},
   "outputs": [
    {
     "data": {
      "text/html": [
       "<div>\n",
       "<style scoped>\n",
       "    .dataframe tbody tr th:only-of-type {\n",
       "        vertical-align: middle;\n",
       "    }\n",
       "\n",
       "    .dataframe tbody tr th {\n",
       "        vertical-align: top;\n",
       "    }\n",
       "\n",
       "    .dataframe thead th {\n",
       "        text-align: right;\n",
       "    }\n",
       "</style>\n",
       "<table border=\"1\" class=\"dataframe\">\n",
       "  <thead>\n",
       "    <tr style=\"text-align: right;\">\n",
       "      <th></th>\n",
       "      <th>count</th>\n",
       "      <th>percent</th>\n",
       "    </tr>\n",
       "  </thead>\n",
       "  <tbody>\n",
       "    <tr>\n",
       "      <th>Unnamed: 0</th>\n",
       "      <td>0</td>\n",
       "      <td>0.000000</td>\n",
       "    </tr>\n",
       "    <tr>\n",
       "      <th>cast</th>\n",
       "      <td>34</td>\n",
       "      <td>0.004559</td>\n",
       "    </tr>\n",
       "    <tr>\n",
       "      <th>crew</th>\n",
       "      <td>13</td>\n",
       "      <td>0.001743</td>\n",
       "    </tr>\n",
       "    <tr>\n",
       "      <th>id</th>\n",
       "      <td>0</td>\n",
       "      <td>0.000000</td>\n",
       "    </tr>\n",
       "    <tr>\n",
       "      <th>title</th>\n",
       "      <td>0</td>\n",
       "      <td>0.000000</td>\n",
       "    </tr>\n",
       "    <tr>\n",
       "      <th>genres</th>\n",
       "      <td>23</td>\n",
       "      <td>0.003084</td>\n",
       "    </tr>\n",
       "    <tr>\n",
       "      <th>budget</th>\n",
       "      <td>0</td>\n",
       "      <td>0.000000</td>\n",
       "    </tr>\n",
       "    <tr>\n",
       "      <th>overview</th>\n",
       "      <td>22</td>\n",
       "      <td>0.002950</td>\n",
       "    </tr>\n",
       "    <tr>\n",
       "      <th>popularity</th>\n",
       "      <td>0</td>\n",
       "      <td>0.000000</td>\n",
       "    </tr>\n",
       "    <tr>\n",
       "      <th>production_companies</th>\n",
       "      <td>418</td>\n",
       "      <td>0.056055</td>\n",
       "    </tr>\n",
       "    <tr>\n",
       "      <th>production_countries</th>\n",
       "      <td>156</td>\n",
       "      <td>0.020920</td>\n",
       "    </tr>\n",
       "    <tr>\n",
       "      <th>revenue</th>\n",
       "      <td>0</td>\n",
       "      <td>0.000000</td>\n",
       "    </tr>\n",
       "    <tr>\n",
       "      <th>runtime</th>\n",
       "      <td>6</td>\n",
       "      <td>0.000805</td>\n",
       "    </tr>\n",
       "    <tr>\n",
       "      <th>vote_average</th>\n",
       "      <td>0</td>\n",
       "      <td>0.000000</td>\n",
       "    </tr>\n",
       "    <tr>\n",
       "      <th>vote_count</th>\n",
       "      <td>0</td>\n",
       "      <td>0.000000</td>\n",
       "    </tr>\n",
       "    <tr>\n",
       "      <th>keywords</th>\n",
       "      <td>683</td>\n",
       "      <td>0.091592</td>\n",
       "    </tr>\n",
       "    <tr>\n",
       "      <th>release_date</th>\n",
       "      <td>1</td>\n",
       "      <td>0.000134</td>\n",
       "    </tr>\n",
       "  </tbody>\n",
       "</table>\n",
       "</div>"
      ],
      "text/plain": [
       "                      count   percent\n",
       "Unnamed: 0                0  0.000000\n",
       "cast                     34  0.004559\n",
       "crew                     13  0.001743\n",
       "id                        0  0.000000\n",
       "title                     0  0.000000\n",
       "genres                   23  0.003084\n",
       "budget                    0  0.000000\n",
       "overview                 22  0.002950\n",
       "popularity                0  0.000000\n",
       "production_companies    418  0.056055\n",
       "production_countries    156  0.020920\n",
       "revenue                   0  0.000000\n",
       "runtime                   6  0.000805\n",
       "vote_average              0  0.000000\n",
       "vote_count                0  0.000000\n",
       "keywords                683  0.091592\n",
       "release_date              1  0.000134"
      ]
     },
     "execution_count": 7,
     "metadata": {},
     "output_type": "execute_result"
    }
   ],
   "source": [
    "# Nulls by Column\n",
    "\n",
    "prepare_stephen.nulls_by_columns(raw)"
   ]
  },
  {
   "cell_type": "code",
   "execution_count": 8,
   "id": "62deff04",
   "metadata": {},
   "outputs": [
    {
     "data": {
      "text/plain": [
       "n_missing  percent_missing\n",
       "0          0.000000           6502\n",
       "1          0.058824            684\n",
       "2          0.117647            175\n",
       "3          0.176471             73\n",
       "4          0.235294             16\n",
       "5          0.294118              3\n",
       "6          0.352941              4\n",
       "dtype: int64"
      ]
     },
     "execution_count": 8,
     "metadata": {},
     "output_type": "execute_result"
    }
   ],
   "source": [
    "# nulls by Rows\n",
    "\n",
    "prepare_stephen.nulls_by_rows(raw)"
   ]
  },
  {
   "cell_type": "code",
   "execution_count": 9,
   "id": "0544de56",
   "metadata": {},
   "outputs": [
    {
     "name": "stdout",
     "output_type": "stream",
     "text": [
      "--- Shape: (7457, 17)\n",
      "--- Info\n",
      "<class 'pandas.core.frame.DataFrame'>\n",
      "RangeIndex: 7457 entries, 0 to 7456\n",
      "Data columns (total 17 columns):\n",
      " #   Column                Non-Null Count  Dtype  \n",
      "---  ------                --------------  -----  \n",
      " 0   Unnamed: 0            7457 non-null   int64  \n",
      " 1   cast                  7423 non-null   object \n",
      " 2   crew                  7444 non-null   object \n",
      " 3   id                    7457 non-null   int64  \n",
      " 4   title                 7457 non-null   object \n",
      " 5   genres                7434 non-null   object \n",
      " 6   budget                7457 non-null   int64  \n",
      " 7   overview              7435 non-null   object \n",
      " 8   popularity            7457 non-null   float64\n",
      " 9   production_companies  7039 non-null   object \n",
      " 10  production_countries  7301 non-null   object \n",
      " 11  revenue               7457 non-null   float64\n",
      " 12  runtime               7451 non-null   float64\n",
      " 13  vote_average          7457 non-null   float64\n",
      " 14  vote_count            7457 non-null   float64\n",
      " 15  keywords              6774 non-null   object \n",
      " 16  release_date          7456 non-null   object \n",
      "dtypes: float64(5), int64(3), object(9)\n",
      "memory usage: 990.5+ KB\n",
      "--- Column Descriptions\n",
      "         Unnamed: 0                                               cast  \\\n",
      "count   7457.000000                                               7423   \n",
      "unique          NaN                                               7352   \n",
      "top             NaN  AbhishekBachchan AishwaryaRaiBachchan Govinda ...   \n",
      "freq            NaN                                                  2   \n",
      "mean    3728.000000                                                NaN   \n",
      "std     2152.794811                                                NaN   \n",
      "min        0.000000                                                NaN   \n",
      "25%     1864.000000                                                NaN   \n",
      "50%     3728.000000                                                NaN   \n",
      "75%     5592.000000                                                NaN   \n",
      "max     7456.000000                                                NaN   \n",
      "\n",
      "               crew             id  title genres        budget  \\\n",
      "count          7444    7457.000000   7457   7434  7.457000e+03   \n",
      "unique         7358            NaN   7232   1516           NaN   \n",
      "top     JanVerheyen            NaN  Ghost  Drama           NaN   \n",
      "freq              3            NaN      4    620           NaN   \n",
      "mean            NaN   68737.286710    NaN    NaN  2.255199e+07   \n",
      "std             NaN  100784.924482    NaN    NaN  3.692549e+07   \n",
      "min             NaN       5.000000    NaN    NaN  0.000000e+00   \n",
      "25%             NaN    9631.000000    NaN    NaN  0.000000e+00   \n",
      "50%             NaN   19877.000000    NaN    NaN  7.500000e+06   \n",
      "75%             NaN   73686.000000    NaN    NaN  2.800000e+07   \n",
      "max             NaN  443319.000000    NaN    NaN  3.800000e+08   \n",
      "\n",
      "                                                 overview   popularity  \\\n",
      "count                                                7435  7457.000000   \n",
      "unique                                               7365          NaN   \n",
      "top     This thrilling, allegorical drama follows the ...          NaN   \n",
      "freq                                                    2          NaN   \n",
      "mean                                                  NaN     8.492053   \n",
      "std                                                   NaN    12.134233   \n",
      "min                                                   NaN     0.000001   \n",
      "25%                                                   NaN     3.902990   \n",
      "50%                                                   NaN     7.412826   \n",
      "75%                                                   NaN    10.901355   \n",
      "max                                                   NaN   547.488298   \n",
      "\n",
      "       production_companies   production_countries       revenue      runtime  \\\n",
      "count                  7039                   7301  7.457000e+03  7451.000000   \n",
      "unique                 5537                    651           NaN          NaN   \n",
      "top       ParamountPictures  UnitedStatesofAmerica           NaN          NaN   \n",
      "freq                    122                   4366           NaN          NaN   \n",
      "mean                    NaN                    NaN  6.876058e+07   107.790498   \n",
      "std                     NaN                    NaN  1.465610e+08    21.491162   \n",
      "min                     NaN                    NaN  1.000000e+00     0.000000   \n",
      "25%                     NaN                    NaN  2.395231e+06    94.000000   \n",
      "50%                     NaN                    NaN  1.668084e+07   104.000000   \n",
      "75%                     NaN                    NaN  6.700000e+07   118.000000   \n",
      "max                     NaN                    NaN  2.787965e+09   338.000000   \n",
      "\n",
      "        vote_average    vote_count          keywords release_date  \n",
      "count    7457.000000   7457.000000              6774         7456  \n",
      "unique           NaN           NaN              6488         4698  \n",
      "top              NaN           NaN  independent film   2010-09-10  \n",
      "freq             NaN           NaN                56           10  \n",
      "mean        6.216428    558.732064               NaN          NaN  \n",
      "std         1.028610   1104.858712               NaN          NaN  \n",
      "min         0.000000      0.000000               NaN          NaN  \n",
      "25%         5.700000     40.000000               NaN          NaN  \n",
      "50%         6.300000    159.000000               NaN          NaN  \n",
      "75%         6.900000    542.000000               NaN          NaN  \n",
      "max        10.000000  14075.000000               NaN          NaN  \n"
     ]
    }
   ],
   "source": [
    "# Summary \n",
    "\n",
    "prepare_stephen.data_summary(raw)"
   ]
  },
  {
   "cell_type": "markdown",
   "id": "30e186cc",
   "metadata": {},
   "source": [
    "# Prepare Data"
   ]
  },
  {
   "cell_type": "markdown",
   "id": "ee3386db",
   "metadata": {},
   "source": [
    "> ### Get prepared data\n",
    "> - Handle missing values (Drop / fill by mean|mode)\n",
    "> - Encode categorical data\n",
    "> - Columns content split required:\n",
    "    - cast\n",
    "    - crew\n",
    "    - production_companies\n",
    "    - production_countries\n",
    "> - Rename columns to ease readability\n",
    "> - Drop duplicates & unnecessary columns\n",
    "> - Convert release_date column from object data type to datetime format and index date\n",
    "> - Data scaling\n",
    "> - Feature engineering\n",
    "> - Split the data into train, validate, test\n",
    "> - \n",
    "> - "
   ]
  },
  {
   "cell_type": "code",
   "execution_count": null,
   "id": "3cfb69ce",
   "metadata": {},
   "outputs": [],
   "source": []
  },
  {
   "cell_type": "markdown",
   "id": "86e0df79",
   "metadata": {},
   "source": [
    "> ### Split the data"
   ]
  },
  {
   "cell_type": "code",
   "execution_count": 10,
   "id": "2c6db6fa",
   "metadata": {},
   "outputs": [],
   "source": [
    "train, validate, test = prepare_stephen.wrangle_movies_data(raw)"
   ]
  },
  {
   "cell_type": "code",
   "execution_count": 11,
   "id": "82ed37cd",
   "metadata": {},
   "outputs": [
    {
     "name": "stdout",
     "output_type": "stream",
     "text": [
      "DataFrame Shapes\n",
      "\tTrain (2568, 15), Validate: (1101, 15), Test: (918, 15)\n"
     ]
    }
   ],
   "source": [
    "print(f'DataFrame Shapes\\n\\tTrain {train.shape}, Validate: {validate.shape}, Test: {test.shape}')"
   ]
  },
  {
   "cell_type": "code",
   "execution_count": null,
   "id": "94250982",
   "metadata": {},
   "outputs": [],
   "source": []
  },
  {
   "cell_type": "markdown",
   "id": "15ddf0fc",
   "metadata": {},
   "source": [
    "# Explore Data"
   ]
  },
  {
   "cell_type": "markdown",
   "id": "4b90bb6e",
   "metadata": {},
   "source": [
    "> ### Use train set"
   ]
  },
  {
   "cell_type": "code",
   "execution_count": 12,
   "id": "4a2e159d",
   "metadata": {},
   "outputs": [
    {
     "data": {
      "text/html": [
       "<div>\n",
       "<style scoped>\n",
       "    .dataframe tbody tr th:only-of-type {\n",
       "        vertical-align: middle;\n",
       "    }\n",
       "\n",
       "    .dataframe tbody tr th {\n",
       "        vertical-align: top;\n",
       "    }\n",
       "\n",
       "    .dataframe thead th {\n",
       "        text-align: right;\n",
       "    }\n",
       "</style>\n",
       "<table border=\"1\" class=\"dataframe\">\n",
       "  <thead>\n",
       "    <tr style=\"text-align: right;\">\n",
       "      <th></th>\n",
       "      <th>id</th>\n",
       "      <th>cast</th>\n",
       "      <th>crew</th>\n",
       "      <th>title</th>\n",
       "      <th>genres</th>\n",
       "      <th>budget</th>\n",
       "      <th>overview</th>\n",
       "      <th>popularity</th>\n",
       "      <th>production_companies</th>\n",
       "      <th>production_countries</th>\n",
       "      <th>revenue</th>\n",
       "      <th>runtime</th>\n",
       "      <th>vote_average</th>\n",
       "      <th>vote_count</th>\n",
       "      <th>keywords</th>\n",
       "    </tr>\n",
       "    <tr>\n",
       "      <th>release_date</th>\n",
       "      <th></th>\n",
       "      <th></th>\n",
       "      <th></th>\n",
       "      <th></th>\n",
       "      <th></th>\n",
       "      <th></th>\n",
       "      <th></th>\n",
       "      <th></th>\n",
       "      <th></th>\n",
       "      <th></th>\n",
       "      <th></th>\n",
       "      <th></th>\n",
       "      <th></th>\n",
       "      <th></th>\n",
       "      <th></th>\n",
       "    </tr>\n",
       "  </thead>\n",
       "  <tbody>\n",
       "    <tr>\n",
       "      <th>2017-06-01</th>\n",
       "      <td>268531</td>\n",
       "      <td>kevinhart edhelms thomasmiddleditch nickkroll ...</td>\n",
       "      <td>nicholasstoller davpilkey davidsoren robletterman</td>\n",
       "      <td>captain underpants: the first epic movie</td>\n",
       "      <td>action animation comedy family</td>\n",
       "      <td>38000000</td>\n",
       "      <td>two mischievous kids hypnotize their mean elem...</td>\n",
       "      <td>88.561239</td>\n",
       "      <td>dreamworksanimation scholasticentertainment</td>\n",
       "      <td>unitedstatesofamerica</td>\n",
       "      <td>110824373.0</td>\n",
       "      <td>89.0</td>\n",
       "      <td>6.5</td>\n",
       "      <td>159.0</td>\n",
       "      <td>underwear school principal grade school</td>\n",
       "    </tr>\n",
       "    <tr>\n",
       "      <th>2016-10-21</th>\n",
       "      <td>374473</td>\n",
       "      <td>davejohns hayleysquires dylanmckiernan brianas...</td>\n",
       "      <td>kenloach robbieryan jonathanmorris philippelog...</td>\n",
       "      <td>i, daniel blake</td>\n",
       "      <td>drama</td>\n",
       "      <td>0</td>\n",
       "      <td>a middle aged carpenter, who requires state we...</td>\n",
       "      <td>18.577504</td>\n",
       "      <td>whynotproductions wildbunch lesfilmsdufleuve b...</td>\n",
       "      <td>belgium france unitedkingdom</td>\n",
       "      <td>260354.0</td>\n",
       "      <td>100.0</td>\n",
       "      <td>7.7</td>\n",
       "      <td>264.0</td>\n",
       "      <td>heart attack single mother compassion carpente...</td>\n",
       "    </tr>\n",
       "  </tbody>\n",
       "</table>\n",
       "</div>"
      ],
      "text/plain": [
       "                  id                                               cast  \\\n",
       "release_date                                                              \n",
       "2017-06-01    268531  kevinhart edhelms thomasmiddleditch nickkroll ...   \n",
       "2016-10-21    374473  davejohns hayleysquires dylanmckiernan brianas...   \n",
       "\n",
       "                                                           crew  \\\n",
       "release_date                                                      \n",
       "2017-06-01    nicholasstoller davpilkey davidsoren robletterman   \n",
       "2016-10-21    kenloach robbieryan jonathanmorris philippelog...   \n",
       "\n",
       "                                                 title  \\\n",
       "release_date                                             \n",
       "2017-06-01    captain underpants: the first epic movie   \n",
       "2016-10-21                             i, daniel blake   \n",
       "\n",
       "                                      genres    budget  \\\n",
       "release_date                                             \n",
       "2017-06-01    action animation comedy family  38000000   \n",
       "2016-10-21                             drama         0   \n",
       "\n",
       "                                                       overview  popularity  \\\n",
       "release_date                                                                  \n",
       "2017-06-01    two mischievous kids hypnotize their mean elem...   88.561239   \n",
       "2016-10-21    a middle aged carpenter, who requires state we...   18.577504   \n",
       "\n",
       "                                           production_companies  \\\n",
       "release_date                                                      \n",
       "2017-06-01          dreamworksanimation scholasticentertainment   \n",
       "2016-10-21    whynotproductions wildbunch lesfilmsdufleuve b...   \n",
       "\n",
       "                      production_countries      revenue  runtime  \\\n",
       "release_date                                                       \n",
       "2017-06-01           unitedstatesofamerica  110824373.0     89.0   \n",
       "2016-10-21    belgium france unitedkingdom     260354.0    100.0   \n",
       "\n",
       "              vote_average  vote_count  \\\n",
       "release_date                             \n",
       "2017-06-01             6.5       159.0   \n",
       "2016-10-21             7.7       264.0   \n",
       "\n",
       "                                                       keywords  \n",
       "release_date                                                     \n",
       "2017-06-01              underwear school principal grade school  \n",
       "2016-10-21    heart attack single mother compassion carpente...  "
      ]
     },
     "execution_count": 12,
     "metadata": {},
     "output_type": "execute_result"
    }
   ],
   "source": [
    "train.head(2)"
   ]
  },
  {
   "cell_type": "code",
   "execution_count": 13,
   "id": "6a1c7985",
   "metadata": {},
   "outputs": [
    {
     "data": {
      "text/plain": [
       "release_date\n",
       "2017-06-01                   unitedstatesofamerica\n",
       "2016-10-21            belgium france unitedkingdom\n",
       "2012-07-03                                 germany\n",
       "2009-09-09                   unitedstatesofamerica\n",
       "2013-03-01                   unitedstatesofamerica\n",
       "                              ...                 \n",
       "2008-04-30                   unitedstatesofamerica\n",
       "2013-01-18                   unitedstatesofamerica\n",
       "2009-10-15    hongkong japan unitedstatesofamerica\n",
       "2004-10-22     unitedkingdom unitedstatesofamerica\n",
       "2014-08-29                                   india\n",
       "Name: production_countries, Length: 2568, dtype: object"
      ]
     },
     "execution_count": 13,
     "metadata": {},
     "output_type": "execute_result"
    }
   ],
   "source": [
    "train.production_countries"
   ]
  },
  {
   "cell_type": "markdown",
   "id": "edbf262c",
   "metadata": {},
   "source": [
    "> ### Univariate Exploration"
   ]
  },
  {
   "cell_type": "code",
   "execution_count": null,
   "id": "bc0bc626",
   "metadata": {},
   "outputs": [],
   "source": []
  },
  {
   "cell_type": "code",
   "execution_count": null,
   "id": "d9e4eb67",
   "metadata": {},
   "outputs": [],
   "source": []
  },
  {
   "cell_type": "markdown",
   "id": "aabfbd10",
   "metadata": {},
   "source": [
    "> ### Bi-Variate Exploration"
   ]
  },
  {
   "cell_type": "code",
   "execution_count": null,
   "id": "7550f9e6",
   "metadata": {},
   "outputs": [],
   "source": []
  },
  {
   "cell_type": "code",
   "execution_count": null,
   "id": "1f472654",
   "metadata": {},
   "outputs": [],
   "source": []
  },
  {
   "cell_type": "markdown",
   "id": "fe3c4cea",
   "metadata": {},
   "source": [
    "> ### Multi-Variate Exploration"
   ]
  },
  {
   "cell_type": "code",
   "execution_count": null,
   "id": "82a1d90c",
   "metadata": {},
   "outputs": [],
   "source": []
  },
  {
   "cell_type": "code",
   "execution_count": null,
   "id": "7280bb05",
   "metadata": {},
   "outputs": [],
   "source": []
  },
  {
   "cell_type": "markdown",
   "id": "17e53c5e",
   "metadata": {},
   "source": [
    "> ### Visualizations"
   ]
  },
  {
   "cell_type": "code",
   "execution_count": null,
   "id": "435abb1c",
   "metadata": {},
   "outputs": [],
   "source": []
  },
  {
   "cell_type": "code",
   "execution_count": null,
   "id": "d2b3933f",
   "metadata": {},
   "outputs": [],
   "source": []
  },
  {
   "cell_type": "markdown",
   "id": "91c8e68d",
   "metadata": {},
   "source": [
    "> ### Hypothesis testing"
   ]
  },
  {
   "cell_type": "code",
   "execution_count": null,
   "id": "762e7cf3",
   "metadata": {},
   "outputs": [],
   "source": []
  },
  {
   "cell_type": "code",
   "execution_count": null,
   "id": "add1256d",
   "metadata": {},
   "outputs": [],
   "source": []
  },
  {
   "cell_type": "markdown",
   "id": "0be0d312",
   "metadata": {},
   "source": [
    "> ### Key exploration take-aways"
   ]
  },
  {
   "cell_type": "code",
   "execution_count": null,
   "id": "730dde7d",
   "metadata": {},
   "outputs": [],
   "source": []
  },
  {
   "cell_type": "code",
   "execution_count": null,
   "id": "ec724b3e",
   "metadata": {},
   "outputs": [],
   "source": []
  },
  {
   "cell_type": "markdown",
   "id": "142fd5a5",
   "metadata": {},
   "source": [
    "# Modeling"
   ]
  },
  {
   "cell_type": "code",
   "execution_count": null,
   "id": "5b101642",
   "metadata": {},
   "outputs": [],
   "source": []
  },
  {
   "cell_type": "code",
   "execution_count": null,
   "id": "07042a24",
   "metadata": {},
   "outputs": [],
   "source": []
  },
  {
   "cell_type": "code",
   "execution_count": null,
   "id": "5ebe7316",
   "metadata": {},
   "outputs": [],
   "source": []
  },
  {
   "cell_type": "code",
   "execution_count": null,
   "id": "1804a72a",
   "metadata": {},
   "outputs": [],
   "source": []
  },
  {
   "cell_type": "code",
   "execution_count": null,
   "id": "2ef8073a",
   "metadata": {},
   "outputs": [],
   "source": []
  },
  {
   "cell_type": "code",
   "execution_count": null,
   "id": "208ee8e0",
   "metadata": {},
   "outputs": [],
   "source": []
  },
  {
   "cell_type": "code",
   "execution_count": null,
   "id": "f058415a",
   "metadata": {},
   "outputs": [],
   "source": []
  },
  {
   "cell_type": "code",
   "execution_count": null,
   "id": "e343bc92",
   "metadata": {},
   "outputs": [],
   "source": []
  },
  {
   "cell_type": "markdown",
   "id": "93254409",
   "metadata": {},
   "source": [
    "### Test Model"
   ]
  },
  {
   "cell_type": "code",
   "execution_count": null,
   "id": "4cb5b480",
   "metadata": {},
   "outputs": [],
   "source": []
  },
  {
   "cell_type": "code",
   "execution_count": null,
   "id": "442b7156",
   "metadata": {},
   "outputs": [],
   "source": []
  },
  {
   "cell_type": "code",
   "execution_count": null,
   "id": "63626255",
   "metadata": {},
   "outputs": [],
   "source": []
  },
  {
   "cell_type": "code",
   "execution_count": null,
   "id": "69f573fd",
   "metadata": {},
   "outputs": [],
   "source": []
  },
  {
   "cell_type": "code",
   "execution_count": null,
   "id": "ebda3b8e",
   "metadata": {},
   "outputs": [],
   "source": []
  },
  {
   "cell_type": "code",
   "execution_count": null,
   "id": "454e3f35",
   "metadata": {},
   "outputs": [],
   "source": []
  },
  {
   "cell_type": "code",
   "execution_count": null,
   "id": "46f1d2ee",
   "metadata": {},
   "outputs": [],
   "source": []
  },
  {
   "cell_type": "markdown",
   "id": "68a62f2b",
   "metadata": {},
   "source": [
    "## Conclusion & Recommendations"
   ]
  },
  {
   "cell_type": "code",
   "execution_count": null,
   "id": "ef1cc30f",
   "metadata": {},
   "outputs": [],
   "source": []
  },
  {
   "cell_type": "code",
   "execution_count": null,
   "id": "7270547b",
   "metadata": {},
   "outputs": [],
   "source": []
  }
 ],
 "metadata": {
  "kernelspec": {
   "display_name": "Python 3 (ipykernel)",
   "language": "python",
   "name": "python3"
  },
  "language_info": {
   "codemirror_mode": {
    "name": "ipython",
    "version": 3
   },
   "file_extension": ".py",
   "mimetype": "text/x-python",
   "name": "python",
   "nbconvert_exporter": "python",
   "pygments_lexer": "ipython3",
   "version": "3.9.7"
  }
 },
 "nbformat": 4,
 "nbformat_minor": 5
}
