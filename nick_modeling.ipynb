{
 "cells": [
  {
   "cell_type": "code",
   "execution_count": 47,
   "id": "806e7d3a-140b-4d3a-ad98-376c35c56f78",
   "metadata": {},
   "outputs": [],
   "source": [
    "import wrangle as w \n",
    "import pandas as pd\n",
    "import numpy as np\n",
    "import scipy as sc\n",
    "import seaborn as sns\n",
    "import matplotlib.pyplot as plt\n",
    "import regex as re\n",
    "from time import time\n",
    "\n",
    "import pre_processing_nick as pp\n",
    "\n",
    "from sklearn.tree import DecisionTreeClassifier\n",
    "from sklearn.model_selection import train_test_split\n",
    "from sklearn.tree import export_text\n",
    "from sklearn.metrics import classification_report\n",
    "from sklearn.metrics import confusion_matrix\n",
    "from sklearn.metrics import recall_score, precision_score, f1_score, accuracy_score\n",
    "from sklearn.ensemble import RandomForestClassifier\n",
    "from sklearn.neighbors import KNeighborsClassifier\n",
    "from sklearn.linear_model import LogisticRegression\n",
    "from matplotlib.ticker import ScalarFormatter\n",
    "from sklearn.model_selection import GridSearchCV\n",
    "from sklearn.tree import DecisionTreeClassifier\n",
    "from sklearn.ensemble import RandomForestClassifier\n",
    "from sklearn.preprocessing import MinMaxScaler\n",
    "from sklearn.model_selection import StratifiedKFold\n",
    "from sklearn.feature_selection import SequentialFeatureSelector"
   ]
  },
  {
   "cell_type": "code",
   "execution_count": 2,
   "id": "e398ad6b-6a1a-4c02-9054-810679956621",
   "metadata": {},
   "outputs": [
    {
     "name": "stdout",
     "output_type": "stream",
     "text": [
      "Using cached CSV\n",
      "the shape of this modeling df should be (6893, 46)\n",
      "the current shape is (6893, 46)\n",
      "please split and then scale this dataframe\n"
     ]
    }
   ],
   "source": [
    "df = pp.create_modeling_df()"
   ]
  },
  {
   "cell_type": "code",
   "execution_count": 3,
   "id": "ba6040cb-ac89-4095-a2d8-9c5c4705d8d0",
   "metadata": {},
   "outputs": [],
   "source": [
    "X_train, X_validate, X_test,\\\n",
    "y_train, y_validate, y_test = pp.split_and_scale(df)"
   ]
  },
  {
   "cell_type": "code",
   "execution_count": 4,
   "id": "7812a928-cdf0-4cc3-a1dd-3504d79c94de",
   "metadata": {},
   "outputs": [
    {
     "name": "stdout",
     "output_type": "stream",
     "text": [
      "X_train: (3859, 46)\n",
      "X_validate: (1655, 46)\n",
      "X_test: (1379, 46)\n"
     ]
    }
   ],
   "source": [
    "print('X_train:', X_train.shape)\n",
    "print('X_validate:', X_validate.shape)\n",
    "print('X_test:', X_test.shape)"
   ]
  },
  {
   "cell_type": "markdown",
   "id": "2024d6a5-2e28-4886-8a2b-e75e2ff5b533",
   "metadata": {},
   "source": [
    "## Feature Selection\n",
    "Trying a new approach to feature selection using one of Scikitlearn's transformers. \n",
    "This Sequential Feature Selector adds (forward selection) or removes (backward selection) features to form a feature subset in a greedy fashion. At each stage, this estimator chooses the best feature to add or remove based on the cross-validation score of an estimator."
   ]
  },
  {
   "cell_type": "code",
   "execution_count": 49,
   "id": "3d99d697-24e5-4a9e-81dc-142d386768a6",
   "metadata": {},
   "outputs": [],
   "source": [
    "forest = RandomForestClassifier(n_estimators=8,\n",
    "                               criterion='entropy')\n",
    "sfs = SequentialFeatureSelector(forest, n_features_to_select=8)\n",
    "sfs1 = sfs.fit(X_train, y_train)\n",
    "\n"
   ]
  },
  {
   "cell_type": "code",
   "execution_count": 39,
   "id": "9857cfe5-9074-4442-b0bf-8a44ba6de374",
   "metadata": {},
   "outputs": [
    {
     "data": {
      "text/plain": [
       "array([ True, False,  True,  True,  True, False, False, False, False,\n",
       "       False, False, False,  True, False, False, False, False, False,\n",
       "       False, False, False, False, False, False, False, False, False,\n",
       "       False, False,  True, False, False, False, False, False, False,\n",
       "       False, False, False,  True, False, False, False, False,  True,\n",
       "       False])"
      ]
     },
     "execution_count": 39,
     "metadata": {},
     "output_type": "execute_result"
    }
   ],
   "source": [
    "sfs.get_support()"
   ]
  },
  {
   "cell_type": "code",
   "execution_count": null,
   "id": "667f2f9b-195c-4930-9cef-e2336a6c295e",
   "metadata": {},
   "outputs": [],
   "source": [
    "# which gives the following best features.\n",
    "sfs_features = ['budget', 'vote_average', 'vote_count', 'release_year',\n",
    "                'is_genre_comedy', 'cast_actor_1_Robin Williams',\n",
    "                'production_company_TwentiethCenturyFoxFilmCorporation',\n",
    "                'production_company_other_company']    "
   ]
  }
 ],
 "metadata": {
  "kernelspec": {
   "display_name": "Python 3 (ipykernel)",
   "language": "python",
   "name": "python3"
  },
  "language_info": {
   "codemirror_mode": {
    "name": "ipython",
    "version": 3
   },
   "file_extension": ".py",
   "mimetype": "text/x-python",
   "name": "python",
   "nbconvert_exporter": "python",
   "pygments_lexer": "ipython3",
   "version": "3.9.7"
  }
 },
 "nbformat": 4,
 "nbformat_minor": 5
}
