{
 "cells": [
  {
   "cell_type": "code",
   "execution_count": 1,
   "id": "806e7d3a-140b-4d3a-ad98-376c35c56f78",
   "metadata": {},
   "outputs": [],
   "source": [
    "import wrangle as w \n",
    "import pandas as pd\n",
    "import numpy as np\n",
    "import scipy as sc\n",
    "import seaborn as sns\n",
    "import matplotlib.pyplot as plt\n",
    "import regex as re\n",
    "\n",
    "import pre_processing_nick as pp\n",
    "\n",
    "from sklearn.tree import DecisionTreeClassifier\n",
    "from sklearn.model_selection import train_test_split\n",
    "from sklearn.tree import export_text\n",
    "from sklearn.metrics import classification_report\n",
    "from sklearn.metrics import confusion_matrix\n",
    "from sklearn.metrics import recall_score, precision_score, f1_score, accuracy_score\n",
    "from sklearn.ensemble import RandomForestClassifier\n",
    "from sklearn.neighbors import KNeighborsClassifier\n",
    "from sklearn.linear_model import LogisticRegression\n",
    "from matplotlib.ticker import ScalarFormatter\n",
    "from sklearn.model_selection import GridSearchCV\n",
    "from sklearn.tree import DecisionTreeClassifier\n",
    "from sklearn.ensemble import RandomForestClassifier\n",
    "from sklearn.preprocessing import MinMaxScaler\n",
    "from sklearn.model_selection import StratifiedKFold"
   ]
  },
  {
   "cell_type": "code",
   "execution_count": 2,
   "id": "e398ad6b-6a1a-4c02-9054-810679956621",
   "metadata": {},
   "outputs": [
    {
     "name": "stdout",
     "output_type": "stream",
     "text": [
      "Using cached CSV\n",
      "the shape of this modeling df should be (6893, 46)\n",
      "the current shape is (6893, 46)\n",
      "please split and then scale this dataframe\n"
     ]
    }
   ],
   "source": [
    "df = pp.create_modeling_df()"
   ]
  },
  {
   "cell_type": "code",
   "execution_count": 3,
   "id": "ba6040cb-ac89-4095-a2d8-9c5c4705d8d0",
   "metadata": {},
   "outputs": [],
   "source": [
    "X_train, X_validate, X_test,\\\n",
    "y_train, y_validate, y_test = pp.split_and_scale(df)"
   ]
  },
  {
   "cell_type": "code",
   "execution_count": 4,
   "id": "7812a928-cdf0-4cc3-a1dd-3504d79c94de",
   "metadata": {},
   "outputs": [
    {
     "name": "stdout",
     "output_type": "stream",
     "text": [
      "X_train: (3859, 46)\n",
      "X_validate: (1655, 46)\n",
      "X_test: (1379, 46)\n"
     ]
    }
   ],
   "source": [
    "print('X_train:', X_train.shape)\n",
    "print('X_validate:', X_validate.shape)\n",
    "print('X_test:', X_test.shape)"
   ]
  },
  {
   "cell_type": "markdown",
   "id": "2024d6a5-2e28-4886-8a2b-e75e2ff5b533",
   "metadata": {},
   "source": [
    "Using "
   ]
  }
 ],
 "metadata": {
  "kernelspec": {
   "display_name": "Python 3 (ipykernel)",
   "language": "python",
   "name": "python3"
  },
  "language_info": {
   "codemirror_mode": {
    "name": "ipython",
    "version": 3
   },
   "file_extension": ".py",
   "mimetype": "text/x-python",
   "name": "python",
   "nbconvert_exporter": "python",
   "pygments_lexer": "ipython3",
   "version": "3.9.7"
  }
 },
 "nbformat": 4,
 "nbformat_minor": 5
}
